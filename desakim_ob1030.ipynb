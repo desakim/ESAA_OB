{
  "nbformat": 4,
  "nbformat_minor": 0,
  "metadata": {
    "colab": {
      "provenance": [],
      "authorship_tag": "ABX9TyObEEKenpUww0Mz9O17P+Nf",
      "include_colab_link": true
    },
    "kernelspec": {
      "name": "python3",
      "display_name": "Python 3"
    },
    "language_info": {
      "name": "python"
    }
  },
  "cells": [
    {
      "cell_type": "markdown",
      "metadata": {
        "id": "view-in-github",
        "colab_type": "text"
      },
      "source": [
        "<a href=\"https://colab.research.google.com/github/desakim/ESAA_OB/blob/main/desakim_ob1030.ipynb\" target=\"_parent\"><img src=\"https://colab.research.google.com/assets/colab-badge.svg\" alt=\"Open In Colab\"/></a>"
      ]
    },
    {
      "cell_type": "markdown",
      "source": [
        "기한: 11월 3일 (금) 18:30\n",
        "\n",
        "과제: 파이썬 머신러닝 완벽 가이드 ch8. 6~9 (7 제외)\n",
        "\n",
        "pg. 512~516, 529~543 필사하여 깃허브에 업로드한 뒤, 깃허브 링크를 댓글로 달아주세요."
      ],
      "metadata": {
        "id": "aysNvuq8Hl1O"
      }
    }
  ]
}