{
  "cells": [
    {
      "cell_type": "markdown",
      "metadata": {
        "id": "view-in-github",
        "colab_type": "text"
      },
      "source": [
        "<a href=\"https://colab.research.google.com/github/desakim/ESAA_OB/blob/main/desakim_ob1110_kaggle.ipynb\" target=\"_parent\"><img src=\"https://colab.research.google.com/assets/colab-badge.svg\" alt=\"Open In Colab\"/></a>"
      ]
    },
    {
      "cell_type": "markdown",
      "metadata": {
        "id": "bbNRc4XcWtwV"
      },
      "source": [
        "# Import Libraries"
      ]
    },
    {
      "cell_type": "code",
      "execution_count": 1,
      "metadata": {
        "_cell_guid": "b1076dfc-b9ad-4769-8c92-a6c4dae69d19",
        "_uuid": "8f2839f25d086af736a60e9eeb907d3b93b6e0e5",
        "id": "UV8a997eWtwW"
      },
      "outputs": [],
      "source": [
        "import numpy as np # linear algebra\n",
        "import pandas as pd # data processing, CSV file I/O (e.g. pd.read_csv)\n",
        "import os\n",
        "from IPython.core.interactiveshell import InteractiveShell\n",
        "InteractiveShell.ast_node_interactivity = \"all\"\n",
        "import math\n",
        "import json\n",
        "import time\n",
        "import matplotlib.pyplot as plt\n",
        "import seaborn as sns\n",
        "from sklearn.metrics.pairwise import cosine_similarity\n",
        "from sklearn.model_selection import train_test_split\n",
        "from sklearn.neighbors import NearestNeighbors\n",
        "import joblib\n",
        "import scipy.sparse\n",
        "from scipy.sparse import csr_matrix\n",
        "from scipy.sparse.linalg import svds\n",
        "import warnings; warnings.simplefilter('ignore')\n",
        "%matplotlib inline\n",
        "\n",
        "for dirname, _, filenames in os.walk('/kaggle/input'):\n",
        "    for filename in filenames:\n",
        "        print(os.path.join(dirname, filename))\n",
        "\n",
        "# Any results you write to the current directory are saved as output."
      ]
    },
    {
      "cell_type": "markdown",
      "metadata": {
        "id": "RwKCbvzoWtwX"
      },
      "source": [
        "# Load the Dataset and Add headers"
      ]
    },
    {
      "cell_type": "code",
      "execution_count": 2,
      "metadata": {
        "id": "SxPizsPgWtwX"
      },
      "outputs": [],
      "source": [
        "electronics_data=pd.read_csv(\"ratings_Electronics.csv\",names=['userId', 'productId','Rating','timestamp'])"
      ]
    },
    {
      "cell_type": "code",
      "execution_count": 3,
      "metadata": {
        "colab": {
          "base_uri": "https://localhost:8080/",
          "height": 206
        },
        "id": "bBDqXBSKWtwY",
        "outputId": "1e9a029b-61ac-4502-c559-bd65e494afd9"
      },
      "outputs": [
        {
          "output_type": "execute_result",
          "data": {
            "text/plain": [
              "           userId   productId  Rating     timestamp\n",
              "0   AKM1MP6P0OYPR  0132793040     5.0  1.365811e+09\n",
              "1  A2CX7LUOHB2NDG  0321732944     5.0  1.341101e+09\n",
              "2  A2NWSAGRHCP8N5  0439886341     1.0  1.367194e+09\n",
              "3  A2WNBOD3WNDNKT  0439886341     3.0  1.374451e+09\n",
              "4  A1GI0U4ZRJA8WN  0439886341     1.0  1.334707e+09"
            ],
            "text/html": [
              "\n",
              "  <div id=\"df-5ed03666-e05e-4eb3-9a60-5529d0e20038\" class=\"colab-df-container\">\n",
              "    <div>\n",
              "<style scoped>\n",
              "    .dataframe tbody tr th:only-of-type {\n",
              "        vertical-align: middle;\n",
              "    }\n",
              "\n",
              "    .dataframe tbody tr th {\n",
              "        vertical-align: top;\n",
              "    }\n",
              "\n",
              "    .dataframe thead th {\n",
              "        text-align: right;\n",
              "    }\n",
              "</style>\n",
              "<table border=\"1\" class=\"dataframe\">\n",
              "  <thead>\n",
              "    <tr style=\"text-align: right;\">\n",
              "      <th></th>\n",
              "      <th>userId</th>\n",
              "      <th>productId</th>\n",
              "      <th>Rating</th>\n",
              "      <th>timestamp</th>\n",
              "    </tr>\n",
              "  </thead>\n",
              "  <tbody>\n",
              "    <tr>\n",
              "      <th>0</th>\n",
              "      <td>AKM1MP6P0OYPR</td>\n",
              "      <td>0132793040</td>\n",
              "      <td>5.0</td>\n",
              "      <td>1.365811e+09</td>\n",
              "    </tr>\n",
              "    <tr>\n",
              "      <th>1</th>\n",
              "      <td>A2CX7LUOHB2NDG</td>\n",
              "      <td>0321732944</td>\n",
              "      <td>5.0</td>\n",
              "      <td>1.341101e+09</td>\n",
              "    </tr>\n",
              "    <tr>\n",
              "      <th>2</th>\n",
              "      <td>A2NWSAGRHCP8N5</td>\n",
              "      <td>0439886341</td>\n",
              "      <td>1.0</td>\n",
              "      <td>1.367194e+09</td>\n",
              "    </tr>\n",
              "    <tr>\n",
              "      <th>3</th>\n",
              "      <td>A2WNBOD3WNDNKT</td>\n",
              "      <td>0439886341</td>\n",
              "      <td>3.0</td>\n",
              "      <td>1.374451e+09</td>\n",
              "    </tr>\n",
              "    <tr>\n",
              "      <th>4</th>\n",
              "      <td>A1GI0U4ZRJA8WN</td>\n",
              "      <td>0439886341</td>\n",
              "      <td>1.0</td>\n",
              "      <td>1.334707e+09</td>\n",
              "    </tr>\n",
              "  </tbody>\n",
              "</table>\n",
              "</div>\n",
              "    <div class=\"colab-df-buttons\">\n",
              "\n",
              "  <div class=\"colab-df-container\">\n",
              "    <button class=\"colab-df-convert\" onclick=\"convertToInteractive('df-5ed03666-e05e-4eb3-9a60-5529d0e20038')\"\n",
              "            title=\"Convert this dataframe to an interactive table.\"\n",
              "            style=\"display:none;\">\n",
              "\n",
              "  <svg xmlns=\"http://www.w3.org/2000/svg\" height=\"24px\" viewBox=\"0 -960 960 960\">\n",
              "    <path d=\"M120-120v-720h720v720H120Zm60-500h600v-160H180v160Zm220 220h160v-160H400v160Zm0 220h160v-160H400v160ZM180-400h160v-160H180v160Zm440 0h160v-160H620v160ZM180-180h160v-160H180v160Zm440 0h160v-160H620v160Z\"/>\n",
              "  </svg>\n",
              "    </button>\n",
              "\n",
              "  <style>\n",
              "    .colab-df-container {\n",
              "      display:flex;\n",
              "      gap: 12px;\n",
              "    }\n",
              "\n",
              "    .colab-df-convert {\n",
              "      background-color: #E8F0FE;\n",
              "      border: none;\n",
              "      border-radius: 50%;\n",
              "      cursor: pointer;\n",
              "      display: none;\n",
              "      fill: #1967D2;\n",
              "      height: 32px;\n",
              "      padding: 0 0 0 0;\n",
              "      width: 32px;\n",
              "    }\n",
              "\n",
              "    .colab-df-convert:hover {\n",
              "      background-color: #E2EBFA;\n",
              "      box-shadow: 0px 1px 2px rgba(60, 64, 67, 0.3), 0px 1px 3px 1px rgba(60, 64, 67, 0.15);\n",
              "      fill: #174EA6;\n",
              "    }\n",
              "\n",
              "    .colab-df-buttons div {\n",
              "      margin-bottom: 4px;\n",
              "    }\n",
              "\n",
              "    [theme=dark] .colab-df-convert {\n",
              "      background-color: #3B4455;\n",
              "      fill: #D2E3FC;\n",
              "    }\n",
              "\n",
              "    [theme=dark] .colab-df-convert:hover {\n",
              "      background-color: #434B5C;\n",
              "      box-shadow: 0px 1px 3px 1px rgba(0, 0, 0, 0.15);\n",
              "      filter: drop-shadow(0px 1px 2px rgba(0, 0, 0, 0.3));\n",
              "      fill: #FFFFFF;\n",
              "    }\n",
              "  </style>\n",
              "\n",
              "    <script>\n",
              "      const buttonEl =\n",
              "        document.querySelector('#df-5ed03666-e05e-4eb3-9a60-5529d0e20038 button.colab-df-convert');\n",
              "      buttonEl.style.display =\n",
              "        google.colab.kernel.accessAllowed ? 'block' : 'none';\n",
              "\n",
              "      async function convertToInteractive(key) {\n",
              "        const element = document.querySelector('#df-5ed03666-e05e-4eb3-9a60-5529d0e20038');\n",
              "        const dataTable =\n",
              "          await google.colab.kernel.invokeFunction('convertToInteractive',\n",
              "                                                    [key], {});\n",
              "        if (!dataTable) return;\n",
              "\n",
              "        const docLinkHtml = 'Like what you see? Visit the ' +\n",
              "          '<a target=\"_blank\" href=https://colab.research.google.com/notebooks/data_table.ipynb>data table notebook</a>'\n",
              "          + ' to learn more about interactive tables.';\n",
              "        element.innerHTML = '';\n",
              "        dataTable['output_type'] = 'display_data';\n",
              "        await google.colab.output.renderOutput(dataTable, element);\n",
              "        const docLink = document.createElement('div');\n",
              "        docLink.innerHTML = docLinkHtml;\n",
              "        element.appendChild(docLink);\n",
              "      }\n",
              "    </script>\n",
              "  </div>\n",
              "\n",
              "\n",
              "<div id=\"df-f922f3f4-d924-4f24-b1e7-1b1f96ecd094\">\n",
              "  <button class=\"colab-df-quickchart\" onclick=\"quickchart('df-f922f3f4-d924-4f24-b1e7-1b1f96ecd094')\"\n",
              "            title=\"Suggest charts\"\n",
              "            style=\"display:none;\">\n",
              "\n",
              "<svg xmlns=\"http://www.w3.org/2000/svg\" height=\"24px\"viewBox=\"0 0 24 24\"\n",
              "     width=\"24px\">\n",
              "    <g>\n",
              "        <path d=\"M19 3H5c-1.1 0-2 .9-2 2v14c0 1.1.9 2 2 2h14c1.1 0 2-.9 2-2V5c0-1.1-.9-2-2-2zM9 17H7v-7h2v7zm4 0h-2V7h2v10zm4 0h-2v-4h2v4z\"/>\n",
              "    </g>\n",
              "</svg>\n",
              "  </button>\n",
              "\n",
              "<style>\n",
              "  .colab-df-quickchart {\n",
              "      --bg-color: #E8F0FE;\n",
              "      --fill-color: #1967D2;\n",
              "      --hover-bg-color: #E2EBFA;\n",
              "      --hover-fill-color: #174EA6;\n",
              "      --disabled-fill-color: #AAA;\n",
              "      --disabled-bg-color: #DDD;\n",
              "  }\n",
              "\n",
              "  [theme=dark] .colab-df-quickchart {\n",
              "      --bg-color: #3B4455;\n",
              "      --fill-color: #D2E3FC;\n",
              "      --hover-bg-color: #434B5C;\n",
              "      --hover-fill-color: #FFFFFF;\n",
              "      --disabled-bg-color: #3B4455;\n",
              "      --disabled-fill-color: #666;\n",
              "  }\n",
              "\n",
              "  .colab-df-quickchart {\n",
              "    background-color: var(--bg-color);\n",
              "    border: none;\n",
              "    border-radius: 50%;\n",
              "    cursor: pointer;\n",
              "    display: none;\n",
              "    fill: var(--fill-color);\n",
              "    height: 32px;\n",
              "    padding: 0;\n",
              "    width: 32px;\n",
              "  }\n",
              "\n",
              "  .colab-df-quickchart:hover {\n",
              "    background-color: var(--hover-bg-color);\n",
              "    box-shadow: 0 1px 2px rgba(60, 64, 67, 0.3), 0 1px 3px 1px rgba(60, 64, 67, 0.15);\n",
              "    fill: var(--button-hover-fill-color);\n",
              "  }\n",
              "\n",
              "  .colab-df-quickchart-complete:disabled,\n",
              "  .colab-df-quickchart-complete:disabled:hover {\n",
              "    background-color: var(--disabled-bg-color);\n",
              "    fill: var(--disabled-fill-color);\n",
              "    box-shadow: none;\n",
              "  }\n",
              "\n",
              "  .colab-df-spinner {\n",
              "    border: 2px solid var(--fill-color);\n",
              "    border-color: transparent;\n",
              "    border-bottom-color: var(--fill-color);\n",
              "    animation:\n",
              "      spin 1s steps(1) infinite;\n",
              "  }\n",
              "\n",
              "  @keyframes spin {\n",
              "    0% {\n",
              "      border-color: transparent;\n",
              "      border-bottom-color: var(--fill-color);\n",
              "      border-left-color: var(--fill-color);\n",
              "    }\n",
              "    20% {\n",
              "      border-color: transparent;\n",
              "      border-left-color: var(--fill-color);\n",
              "      border-top-color: var(--fill-color);\n",
              "    }\n",
              "    30% {\n",
              "      border-color: transparent;\n",
              "      border-left-color: var(--fill-color);\n",
              "      border-top-color: var(--fill-color);\n",
              "      border-right-color: var(--fill-color);\n",
              "    }\n",
              "    40% {\n",
              "      border-color: transparent;\n",
              "      border-right-color: var(--fill-color);\n",
              "      border-top-color: var(--fill-color);\n",
              "    }\n",
              "    60% {\n",
              "      border-color: transparent;\n",
              "      border-right-color: var(--fill-color);\n",
              "    }\n",
              "    80% {\n",
              "      border-color: transparent;\n",
              "      border-right-color: var(--fill-color);\n",
              "      border-bottom-color: var(--fill-color);\n",
              "    }\n",
              "    90% {\n",
              "      border-color: transparent;\n",
              "      border-bottom-color: var(--fill-color);\n",
              "    }\n",
              "  }\n",
              "</style>\n",
              "\n",
              "  <script>\n",
              "    async function quickchart(key) {\n",
              "      const quickchartButtonEl =\n",
              "        document.querySelector('#' + key + ' button');\n",
              "      quickchartButtonEl.disabled = true;  // To prevent multiple clicks.\n",
              "      quickchartButtonEl.classList.add('colab-df-spinner');\n",
              "      try {\n",
              "        const charts = await google.colab.kernel.invokeFunction(\n",
              "            'suggestCharts', [key], {});\n",
              "      } catch (error) {\n",
              "        console.error('Error during call to suggestCharts:', error);\n",
              "      }\n",
              "      quickchartButtonEl.classList.remove('colab-df-spinner');\n",
              "      quickchartButtonEl.classList.add('colab-df-quickchart-complete');\n",
              "    }\n",
              "    (() => {\n",
              "      let quickchartButtonEl =\n",
              "        document.querySelector('#df-f922f3f4-d924-4f24-b1e7-1b1f96ecd094 button');\n",
              "      quickchartButtonEl.style.display =\n",
              "        google.colab.kernel.accessAllowed ? 'block' : 'none';\n",
              "    })();\n",
              "  </script>\n",
              "</div>\n",
              "    </div>\n",
              "  </div>\n"
            ]
          },
          "metadata": {},
          "execution_count": 3
        }
      ],
      "source": [
        "# Display the data\n",
        "electronics_data.head()"
      ]
    },
    {
      "cell_type": "code",
      "execution_count": 4,
      "metadata": {
        "colab": {
          "base_uri": "https://localhost:8080/"
        },
        "id": "qdyXG7tKWtwY",
        "outputId": "d3f1af26-728f-49ad-882a-b0b23b692ee4"
      },
      "outputs": [
        {
          "output_type": "execute_result",
          "data": {
            "text/plain": [
              "(412319, 4)"
            ]
          },
          "metadata": {},
          "execution_count": 4
        }
      ],
      "source": [
        "#Shape of the data\n",
        "electronics_data.shape"
      ]
    },
    {
      "cell_type": "code",
      "execution_count": 5,
      "metadata": {
        "id": "K_qGMUaQWtwY"
      },
      "outputs": [],
      "source": [
        "#Taking subset of the dataset\n",
        "electronics_data=electronics_data.iloc[:1048576,0:]"
      ]
    },
    {
      "cell_type": "code",
      "execution_count": 6,
      "metadata": {
        "colab": {
          "base_uri": "https://localhost:8080/"
        },
        "id": "Vo6iSMIlWtwY",
        "outputId": "bd1a4a28-1486-42d2-9dd3-d0edf293a3aa"
      },
      "outputs": [
        {
          "output_type": "execute_result",
          "data": {
            "text/plain": [
              "userId        object\n",
              "productId     object\n",
              "Rating       float64\n",
              "timestamp    float64\n",
              "dtype: object"
            ]
          },
          "metadata": {},
          "execution_count": 6
        }
      ],
      "source": [
        "#Check the datatypes\n",
        "electronics_data.dtypes"
      ]
    },
    {
      "cell_type": "code",
      "execution_count": 7,
      "metadata": {
        "colab": {
          "base_uri": "https://localhost:8080/"
        },
        "id": "qvY5fLBUWtwY",
        "outputId": "4c091406-c97b-4693-fd99-fb857a26f7b6"
      },
      "outputs": [
        {
          "output_type": "stream",
          "name": "stdout",
          "text": [
            "<class 'pandas.core.frame.DataFrame'>\n",
            "RangeIndex: 412319 entries, 0 to 412318\n",
            "Data columns (total 4 columns):\n",
            " #   Column     Non-Null Count   Dtype  \n",
            "---  ------     --------------   -----  \n",
            " 0   userId     412319 non-null  object \n",
            " 1   productId  412319 non-null  object \n",
            " 2   Rating     412318 non-null  float64\n",
            " 3   timestamp  412318 non-null  float64\n",
            "dtypes: float64(2), object(2)\n",
            "memory usage: 12.6+ MB\n"
          ]
        }
      ],
      "source": [
        "electronics_data.info()"
      ]
    },
    {
      "cell_type": "code",
      "execution_count": 8,
      "metadata": {
        "colab": {
          "base_uri": "https://localhost:8080/"
        },
        "id": "H2boc4-CWtwY",
        "outputId": "e7fe5d6e-f8d0-4a11-9f70-a28a23816011"
      },
      "outputs": [
        {
          "output_type": "execute_result",
          "data": {
            "text/plain": [
              "count    412318.000000\n",
              "mean          3.977893\n",
              "std           1.395982\n",
              "min           1.000000\n",
              "25%           3.000000\n",
              "50%           5.000000\n",
              "75%           5.000000\n",
              "max           5.000000\n",
              "Name: Rating, dtype: float64"
            ]
          },
          "metadata": {},
          "execution_count": 8
        }
      ],
      "source": [
        "#Five point summary\n",
        "electronics_data.describe()['Rating'].T"
      ]
    },
    {
      "cell_type": "code",
      "execution_count": 9,
      "metadata": {
        "colab": {
          "base_uri": "https://localhost:8080/"
        },
        "id": "NtGfIJleWtwZ",
        "outputId": "7f5378b5-dc17-4bb1-b7a1-31c49ab64424"
      },
      "outputs": [
        {
          "output_type": "stream",
          "name": "stdout",
          "text": [
            "Minimum rating is: 1\n",
            "Maximum rating is: 5\n"
          ]
        }
      ],
      "source": [
        "#Find the minimum and maximum ratings\n",
        "print('Minimum rating is: %d' %(electronics_data.Rating.min()))\n",
        "print('Maximum rating is: %d' %(electronics_data.Rating.max()))"
      ]
    },
    {
      "cell_type": "markdown",
      "metadata": {
        "id": "G09MH-GIWtwZ"
      },
      "source": [
        "The rating of the product range from 0 to 1"
      ]
    },
    {
      "cell_type": "markdown",
      "metadata": {
        "id": "n--_zG0bWtwZ"
      },
      "source": [
        "## Handling Missing values\n"
      ]
    },
    {
      "cell_type": "code",
      "execution_count": 10,
      "metadata": {
        "colab": {
          "base_uri": "https://localhost:8080/"
        },
        "id": "Vjgmuh3XWtwZ",
        "outputId": "b9868c09-e064-4a1d-da56-93927adb3bd2"
      },
      "outputs": [
        {
          "output_type": "stream",
          "name": "stdout",
          "text": [
            "Number of missing values across columns: \n",
            " userId       0\n",
            "productId    0\n",
            "Rating       1\n",
            "timestamp    1\n",
            "dtype: int64\n"
          ]
        }
      ],
      "source": [
        "#Check for missing values\n",
        "print('Number of missing values across columns: \\n',electronics_data.isnull().sum())"
      ]
    },
    {
      "cell_type": "markdown",
      "metadata": {
        "id": "Iaef5_pQWtwZ"
      },
      "source": [
        "## Ratings"
      ]
    },
    {
      "cell_type": "code",
      "execution_count": 11,
      "metadata": {
        "colab": {
          "base_uri": "https://localhost:8080/",
          "height": 524
        },
        "id": "hjrGycQUWtwZ",
        "outputId": "308ebfd8-78b9-4ed5-c09e-7eca0367a479"
      },
      "outputs": [
        {
          "output_type": "execute_result",
          "data": {
            "text/plain": [
              "<seaborn.axisgrid.FacetGrid at 0x797a87289000>"
            ]
          },
          "metadata": {},
          "execution_count": 11
        },
        {
          "output_type": "display_data",
          "data": {
            "text/plain": [
              "<Figure size 1000x500 with 1 Axes>"
            ],
            "image/png": "[encoded data removed]"
          },
          "metadata": {}
        }
      ],
      "source": [
        "# Check the distribution of the rating\n",
        "with sns.axes_style('white'):\n",
        "    g = sns.catplot(x=\"Rating\", data=electronics_data, aspect=2.0,kind='count')\n",
        "    g.set_ylabels(\"Total number of ratings\")"
      ]
    },
    {
      "cell_type": "markdown",
      "metadata": {
        "id": "Xkp9g_HyWtwZ"
      },
      "source": [
        "Most of the people has given the rating of 5"
      ]
    },
    {
      "cell_type": "markdown",
      "metadata": {
        "id": "qvvIedZaWtwZ"
      },
      "source": [
        "## Unique Users and products\n"
      ]
    },
    {
      "cell_type": "code",
      "execution_count": 12,
      "metadata": {
        "colab": {
          "base_uri": "https://localhost:8080/"
        },
        "id": "XZqTOmJgWtwZ",
        "outputId": "7888ddaf-b349-4c7c-f924-3a62ed86ce3b"
      },
      "outputs": [
        {
          "output_type": "stream",
          "name": "stdout",
          "text": [
            "Total data \n",
            "--------------------------------------------------\n",
            "\n",
            "Total no of ratings : 412319\n",
            "Total No of Users   : 337931\n",
            "Total No of products  : 25683\n"
          ]
        }
      ],
      "source": [
        "print(\"Total data \")\n",
        "print(\"-\"*50)\n",
        "print(\"\\nTotal no of ratings :\",electronics_data.shape[0])\n",
        "print(\"Total No of Users   :\", len(np.unique(electronics_data.userId)))\n",
        "print(\"Total No of products  :\", len(np.unique(electronics_data.productId)))"
      ]
    },
    {
      "cell_type": "markdown",
      "metadata": {
        "id": "8VTbDLgeWtwZ"
      },
      "source": [
        "## Dropping the TimeStamp Column"
      ]
    },
    {
      "cell_type": "code",
      "execution_count": 13,
      "metadata": {
        "id": "exn0m91XWtwZ"
      },
      "outputs": [],
      "source": [
        "#Dropping the Timestamp column\n",
        "electronics_data.drop(['timestamp'], axis=1,inplace=True)"
      ]
    },
    {
      "cell_type": "markdown",
      "metadata": {
        "id": "E58m-wXQWtwZ"
      },
      "source": [
        "# Analyzing the rating"
      ]
    },
    {
      "cell_type": "code",
      "execution_count": 14,
      "metadata": {
        "colab": {
          "base_uri": "https://localhost:8080/"
        },
        "id": "oTFwT6icWtwZ",
        "outputId": "20c83bd7-e3c4-4f2a-9b79-3e3615989fe4"
      },
      "outputs": [
        {
          "output_type": "execute_result",
          "data": {
            "text/plain": [
              "userId\n",
              "A5JLAU2ARJ0BO     263\n",
              "A231WM2Z2JL0U3    245\n",
              "A25HBO5V8S8SEA    149\n",
              "AKT8TGIT6VVZ5      80\n",
              "A2AEZQ3DGBBLPR     74\n",
              "Name: Rating, dtype: int64"
            ]
          },
          "metadata": {},
          "execution_count": 14
        }
      ],
      "source": [
        "#Analysis of rating given by the user\n",
        "no_of_rated_products_per_user = electronics_data.groupby(by='userId')['Rating'].count().sort_values(ascending=False)\n",
        "no_of_rated_products_per_user.head()"
      ]
    },
    {
      "cell_type": "code",
      "execution_count": 15,
      "metadata": {
        "colab": {
          "base_uri": "https://localhost:8080/"
        },
        "id": "w_Kf5RqFWtwa",
        "outputId": "c281b6da-42b4-4505-e8bd-d7589f6d6bc1"
      },
      "outputs": [
        {
          "output_type": "execute_result",
          "data": {
            "text/plain": [
              "count    337931.000000\n",
              "mean          1.220125\n",
              "std           1.173899\n",
              "min           0.000000\n",
              "25%           1.000000\n",
              "50%           1.000000\n",
              "75%           1.000000\n",
              "max         263.000000\n",
              "Name: Rating, dtype: float64"
            ]
          },
          "metadata": {},
          "execution_count": 15
        }
      ],
      "source": [
        "no_of_rated_products_per_user.describe()"
      ]
    },
    {
      "cell_type": "code",
      "execution_count": 16,
      "metadata": {
        "id": "E2uWJqFqWtwa"
      },
      "outputs": [],
      "source": [
        "quantiles = no_of_rated_products_per_user.quantile(np.arange(0,1.01,0.01), interpolation='higher')"
      ]
    },
    {
      "cell_type": "code",
      "execution_count": 17,
      "metadata": {
        "colab": {
          "base_uri": "https://localhost:8080/",
          "height": 926
        },
        "id": "pxukUcRmWtwa",
        "outputId": "3552472f-4fca-4136-9ba5-3abac35de9ce"
      },
      "outputs": [
        {
          "output_type": "execute_result",
          "data": {
            "text/plain": [
              "<Figure size 1000x1000 with 0 Axes>"
            ]
          },
          "metadata": {},
          "execution_count": 17
        },
        {
          "output_type": "execute_result",
          "data": {
            "text/plain": [
              "Text(0.5, 1.0, 'Quantiles and their Values')"
            ]
          },
          "metadata": {},
          "execution_count": 17
        },
        {
          "output_type": "execute_result",
          "data": {
            "text/plain": [
              "<Axes: title={'center': 'Quantiles and their Values'}>"
            ]
          },
          "metadata": {},
          "execution_count": 17
        },
        {
          "output_type": "execute_result",
          "data": {
            "text/plain": [
              "<matplotlib.collections.PathCollection at 0x797a89ac0280>"
            ]
          },
          "metadata": {},
          "execution_count": 17
        },
        {
          "output_type": "execute_result",
          "data": {
            "text/plain": [
              "<matplotlib.collections.PathCollection at 0x797a829d60e0>"
            ]
          },
          "metadata": {},
          "execution_count": 17
        },
        {
          "output_type": "execute_result",
          "data": {
            "text/plain": [
              "Text(0, 0.5, 'No of ratings by user')"
            ]
          },
          "metadata": {},
          "execution_count": 17
        },
        {
          "output_type": "execute_result",
          "data": {
            "text/plain": [
              "Text(0.5, 0, 'Value at the quantile')"
            ]
          },
          "metadata": {},
          "execution_count": 17
        },
        {
          "output_type": "execute_result",
          "data": {
            "text/plain": [
              "<matplotlib.legend.Legend at 0x797a89ac3190>"
            ]
          },
          "metadata": {},
          "execution_count": 17
        },
        {
          "output_type": "display_data",
          "data": {
            "text/plain": [
              "<Figure size 1000x1000 with 1 Axes>"
            ],
            "image/png": "[encoded data removed]"
          },
          "metadata": {}
        }
      ],
      "source": [
        "plt.figure(figsize=(10,10))\n",
        "plt.title(\"Quantiles and their Values\")\n",
        "quantiles.plot()\n",
        "# quantiles with 0.05 difference\n",
        "plt.scatter(x=quantiles.index[::5], y=quantiles.values[::5], c='orange', label=\"quantiles with 0.05 intervals\")\n",
        "# quantiles with 0.25 difference\n",
        "plt.scatter(x=quantiles.index[::25], y=quantiles.values[::25], c='m', label = \"quantiles with 0.25 intervals\")\n",
        "plt.ylabel('No of ratings by user')\n",
        "plt.xlabel('Value at the quantile')\n",
        "plt.legend(loc='best')\n",
        "plt.show()"
      ]
    },
    {
      "cell_type": "code",
      "execution_count": 18,
      "metadata": {
        "colab": {
          "base_uri": "https://localhost:8080/"
        },
        "id": "C1di92vCWtwa",
        "outputId": "f39d0ef8-bbc1-43a0-fd8d-f187e897867d"
      },
      "outputs": [
        {
          "output_type": "stream",
          "name": "stdout",
          "text": [
            "\n",
            " No of rated product more than 50 per user : 18\n",
            "\n"
          ]
        }
      ],
      "source": [
        "print('\\n No of rated product more than 50 per user : {}\\n'.format(sum(no_of_rated_products_per_user >= 50)) )"
      ]
    },
    {
      "cell_type": "markdown",
      "metadata": {
        "id": "caCwVb2DWtwa"
      },
      "source": [
        "# Popularity Based Recommendation\n",
        "\n",
        "Popularity based recommendation system works with the trend. It basically uses the items which are in trend right now. For example, if any product which is usually bought by every new user then there are chances that it may suggest that item to the user who just signed up.\n",
        "\n",
        "The problems with popularity based recommendation system is that the personalization is not available with this method i.e. even though you know the behaviour of the user you cannot recommend items accordingly."
      ]
    },
    {
      "cell_type": "code",
      "execution_count": 19,
      "metadata": {
        "id": "Wskp45W-Wtwa"
      },
      "outputs": [],
      "source": [
        "#Getting the new dataframe which contains users who has given 50 or more ratings\n",
        "new_df=electronics_data.groupby(\"productId\").filter(lambda x:x['Rating'].count() >=50)"
      ]
    },
    {
      "cell_type": "code",
      "execution_count": 20,
      "metadata": {
        "colab": {
          "base_uri": "https://localhost:8080/",
          "height": 656
        },
        "id": "HMtXaU3KWtwa",
        "outputId": "7e3872f3-fb4e-402e-b309-81c0f3da88e8"
      },
      "outputs": [
        {
          "output_type": "execute_result",
          "data": {
            "text/plain": [
              "[<matplotlib.lines.Line2D at 0x797a82a4e740>]"
            ]
          },
          "metadata": {},
          "execution_count": 20
        },
        {
          "output_type": "execute_result",
          "data": {
            "text/plain": [
              "Text(0.5, 1.0, '# RATINGS per Product')"
            ]
          },
          "metadata": {},
          "execution_count": 20
        },
        {
          "output_type": "execute_result",
          "data": {
            "text/plain": [
              "Text(0.5, 0, 'Product')"
            ]
          },
          "metadata": {},
          "execution_count": 20
        },
        {
          "output_type": "execute_result",
          "data": {
            "text/plain": [
              "Text(0, 0.5, 'No of ratings per product')"
            ]
          },
          "metadata": {},
          "execution_count": 20
        },
        {
          "output_type": "execute_result",
          "data": {
            "text/plain": [
              "[Text(-200.0, 0, ''),\n",
              " Text(0.0, 0, ''),\n",
              " Text(200.0, 0, ''),\n",
              " Text(400.0, 0, ''),\n",
              " Text(600.0, 0, ''),\n",
              " Text(800.0, 0, ''),\n",
              " Text(1000.0, 0, ''),\n",
              " Text(1200.0, 0, ''),\n",
              " Text(1400.0, 0, ''),\n",
              " Text(1600.0, 0, '')]"
            ]
          },
          "metadata": {},
          "execution_count": 20
        },
        {
          "output_type": "display_data",
          "data": {
            "text/plain": [
              "<Figure size 960x480 with 1 Axes>"
            ],
            "image/png": "[encoded data removed]"
          },
          "metadata": {}
        }
      ],
      "source": [
        "no_of_ratings_per_product = new_df.groupby(by='productId')['Rating'].count().sort_values(ascending=False)\n",
        "\n",
        "fig = plt.figure(figsize=plt.figaspect(.5))\n",
        "ax = plt.gca()\n",
        "plt.plot(no_of_ratings_per_product.values)\n",
        "plt.title('# RATINGS per Product')\n",
        "plt.xlabel('Product')\n",
        "plt.ylabel('No of ratings per product')\n",
        "ax.set_xticklabels([])\n",
        "\n",
        "plt.show()"
      ]
    },
    {
      "cell_type": "code",
      "execution_count": 21,
      "metadata": {
        "colab": {
          "base_uri": "https://localhost:8080/"
        },
        "id": "dKya0-qsWtwa",
        "outputId": "83ed6f66-5729-4966-fbbd-dcb757f25afc"
      },
      "outputs": [
        {
          "output_type": "execute_result",
          "data": {
            "text/plain": [
              "productId\n",
              "0972683275    4.470980\n",
              "1400501466    3.560000\n",
              "1400501520    4.243902\n",
              "1400501776    3.884892\n",
              "1400532620    3.684211\n",
              "Name: Rating, dtype: float64"
            ]
          },
          "metadata": {},
          "execution_count": 21
        }
      ],
      "source": [
        "#Average rating of the product\n",
        "new_df.groupby('productId')['Rating'].mean().head()"
      ]
    },
    {
      "cell_type": "code",
      "execution_count": 22,
      "metadata": {
        "colab": {
          "base_uri": "https://localhost:8080/"
        },
        "id": "W16Z0JbkWtwa",
        "outputId": "b76cdab8-01d9-4360-f8f5-df7595f7cdb9"
      },
      "outputs": [
        {
          "output_type": "execute_result",
          "data": {
            "text/plain": [
              "productId\n",
              "B0000DYV9H    4.947368\n",
              "B000053HC5    4.945783\n",
              "B00009R96C    4.885714\n",
              "B00005LE76    4.879310\n",
              "B00006I53W    4.859551\n",
              "Name: Rating, dtype: float64"
            ]
          },
          "metadata": {},
          "execution_count": 22
        }
      ],
      "source": [
        "new_df.groupby('productId')['Rating'].mean().sort_values(ascending=False).head()"
      ]
    },
    {
      "cell_type": "code",
      "execution_count": 23,
      "metadata": {
        "colab": {
          "base_uri": "https://localhost:8080/"
        },
        "id": "zVmyp_kcWtwa",
        "outputId": "c08c3eb3-106f-4ef9-ff95-28d129e2f63f"
      },
      "outputs": [
        {
          "output_type": "execute_result",
          "data": {
            "text/plain": [
              "productId\n",
              "B0001FTVEK    5345\n",
              "B00007E7JU    3523\n",
              "B00007M1TZ    2608\n",
              "B00004ZCJE    2547\n",
              "B00001P4ZH    2075\n",
              "Name: Rating, dtype: int64"
            ]
          },
          "metadata": {},
          "execution_count": 23
        }
      ],
      "source": [
        "#Total no of rating for product\n",
        "new_df.groupby('productId')['Rating'].count().sort_values(ascending=False).head()"
      ]
    },
    {
      "cell_type": "code",
      "execution_count": 24,
      "metadata": {
        "id": "wNrqjk3xWtwa"
      },
      "outputs": [],
      "source": [
        "ratings_mean_count = pd.DataFrame(new_df.groupby('productId')['Rating'].mean())"
      ]
    },
    {
      "cell_type": "code",
      "execution_count": 25,
      "metadata": {
        "id": "XZRz3uhRWtwb"
      },
      "outputs": [],
      "source": [
        "ratings_mean_count['rating_counts'] = pd.DataFrame(new_df.groupby('productId')['Rating'].count())"
      ]
    },
    {
      "cell_type": "code",
      "execution_count": 26,
      "metadata": {
        "colab": {
          "base_uri": "https://localhost:8080/",
          "height": 237
        },
        "id": "wRAVADrHWtwf",
        "outputId": "4b2dc0ed-d68e-41d4-849e-147055ab1aae"
      },
      "outputs": [
        {
          "output_type": "execute_result",
          "data": {
            "text/plain": [
              "              Rating  rating_counts\n",
              "productId                          \n",
              "0972683275  4.470980           1051\n",
              "1400501466  3.560000            250\n",
              "1400501520  4.243902             82\n",
              "1400501776  3.884892            139\n",
              "1400532620  3.684211            171"
            ],
            "text/html": [
              "\n",
              "  <div id=\"df-cbe89854-2153-486b-a3c0-62b1575ae35b\" class=\"colab-df-container\">\n",
              "    <div>\n",
              "<style scoped>\n",
              "    .dataframe tbody tr th:only-of-type {\n",
              "        vertical-align: middle;\n",
              "    }\n",
              "\n",
              "    .dataframe tbody tr th {\n",
              "        vertical-align: top;\n",
              "    }\n",
              "\n",
              "    .dataframe thead th {\n",
              "        text-align: right;\n",
              "    }\n",
              "</style>\n",
              "<table border=\"1\" class=\"dataframe\">\n",
              "  <thead>\n",
              "    <tr style=\"text-align: right;\">\n",
              "      <th></th>\n",
              "      <th>Rating</th>\n",
              "      <th>rating_counts</th>\n",
              "    </tr>\n",
              "    <tr>\n",
              "      <th>productId</th>\n",
              "      <th></th>\n",
              "      <th></th>\n",
              "    </tr>\n",
              "  </thead>\n",
              "  <tbody>\n",
              "    <tr>\n",
              "      <th>0972683275</th>\n",
              "      <td>4.470980</td>\n",
              "      <td>1051</td>\n",
              "    </tr>\n",
              "    <tr>\n",
              "      <th>1400501466</th>\n",
              "      <td>3.560000</td>\n",
              "      <td>250</td>\n",
              "    </tr>\n",
              "    <tr>\n",
              "      <th>1400501520</th>\n",
              "      <td>4.243902</td>\n",
              "      <td>82</td>\n",
              "    </tr>\n",
              "    <tr>\n",
              "      <th>1400501776</th>\n",
              "      <td>3.884892</td>\n",
              "      <td>139</td>\n",
              "    </tr>\n",
              "    <tr>\n",
              "      <th>1400532620</th>\n",
              "      <td>3.684211</td>\n",
              "      <td>171</td>\n",
              "    </tr>\n",
              "  </tbody>\n",
              "</table>\n",
              "</div>\n",
              "    <div class=\"colab-df-buttons\">\n",
              "\n",
              "  <div class=\"colab-df-container\">\n",
              "    <button class=\"colab-df-convert\" onclick=\"convertToInteractive('df-cbe89854-2153-486b-a3c0-62b1575ae35b')\"\n",
              "            title=\"Convert this dataframe to an interactive table.\"\n",
              "            style=\"display:none;\">\n",
              "\n",
              "  <svg xmlns=\"http://www.w3.org/2000/svg\" height=\"24px\" viewBox=\"0 -960 960 960\">\n",
              "    <path d=\"M120-120v-720h720v720H120Zm60-500h600v-160H180v160Zm220 220h160v-160H400v160Zm0 220h160v-160H400v160ZM180-400h160v-160H180v160Zm440 0h160v-160H620v160ZM180-180h160v-160H180v160Zm440 0h160v-160H620v160Z\"/>\n",
              "  </svg>\n",
              "    </button>\n",
              "\n",
              "  <style>\n",
              "    .colab-df-container {\n",
              "      display:flex;\n",
              "      gap: 12px;\n",
              "    }\n",
              "\n",
              "    .colab-df-convert {\n",
              "      background-color: #E8F0FE;\n",
              "      border: none;\n",
              "      border-radius: 50%;\n",
              "      cursor: pointer;\n",
              "      display: none;\n",
              "      fill: #1967D2;\n",
              "      height: 32px;\n",
              "      padding: 0 0 0 0;\n",
              "      width: 32px;\n",
              "    }\n",
              "\n",
              "    .colab-df-convert:hover {\n",
              "      background-color: #E2EBFA;\n",
              "      box-shadow: 0px 1px 2px rgba(60, 64, 67, 0.3), 0px 1px 3px 1px rgba(60, 64, 67, 0.15);\n",
              "      fill: #174EA6;\n",
              "    }\n",
              "\n",
              "    .colab-df-buttons div {\n",
              "      margin-bottom: 4px;\n",
              "    }\n",
              "\n",
              "    [theme=dark] .colab-df-convert {\n",
              "      background-color: #3B4455;\n",
              "      fill: #D2E3FC;\n",
              "    }\n",
              "\n",
              "    [theme=dark] .colab-df-convert:hover {\n",
              "      background-color: #434B5C;\n",
              "      box-shadow: 0px 1px 3px 1px rgba(0, 0, 0, 0.15);\n",
              "      filter: drop-shadow(0px 1px 2px rgba(0, 0, 0, 0.3));\n",
              "      fill: #FFFFFF;\n",
              "    }\n",
              "  </style>\n",
              "\n",
              "    <script>\n",
              "      const buttonEl =\n",
              "        document.querySelector('#df-cbe89854-2153-486b-a3c0-62b1575ae35b button.colab-df-convert');\n",
              "      buttonEl.style.display =\n",
              "        google.colab.kernel.accessAllowed ? 'block' : 'none';\n",
              "\n",
              "      async function convertToInteractive(key) {\n",
              "        const element = document.querySelector('#df-cbe89854-2153-486b-a3c0-62b1575ae35b');\n",
              "        const dataTable =\n",
              "          await google.colab.kernel.invokeFunction('convertToInteractive',\n",
              "                                                    [key], {});\n",
              "        if (!dataTable) return;\n",
              "\n",
              "        const docLinkHtml = 'Like what you see? Visit the ' +\n",
              "          '<a target=\"_blank\" href=https://colab.research.google.com/notebooks/data_table.ipynb>data table notebook</a>'\n",
              "          + ' to learn more about interactive tables.';\n",
              "        element.innerHTML = '';\n",
              "        dataTable['output_type'] = 'display_data';\n",
              "        await google.colab.output.renderOutput(dataTable, element);\n",
              "        const docLink = document.createElement('div');\n",
              "        docLink.innerHTML = docLinkHtml;\n",
              "        element.appendChild(docLink);\n",
              "      }\n",
              "    </script>\n",
              "  </div>\n",
              "\n",
              "\n",
              "<div id=\"df-ec27616e-bce8-4923-b28b-661b60e11ae1\">\n",
              "  <button class=\"colab-df-quickchart\" onclick=\"quickchart('df-ec27616e-bce8-4923-b28b-661b60e11ae1')\"\n",
              "            title=\"Suggest charts\"\n",
              "            style=\"display:none;\">\n",
              "\n",
              "<svg xmlns=\"http://www.w3.org/2000/svg\" height=\"24px\"viewBox=\"0 0 24 24\"\n",
              "     width=\"24px\">\n",
              "    <g>\n",
              "        <path d=\"M19 3H5c-1.1 0-2 .9-2 2v14c0 1.1.9 2 2 2h14c1.1 0 2-.9 2-2V5c0-1.1-.9-2-2-2zM9 17H7v-7h2v7zm4 0h-2V7h2v10zm4 0h-2v-4h2v4z\"/>\n",
              "    </g>\n",
              "</svg>\n",
              "  </button>\n",
              "\n",
              "<style>\n",
              "  .colab-df-quickchart {\n",
              "      --bg-color: #E8F0FE;\n",
              "      --fill-color: #1967D2;\n",
              "      --hover-bg-color: #E2EBFA;\n",
              "      --hover-fill-color: #174EA6;\n",
              "      --disabled-fill-color: #AAA;\n",
              "      --disabled-bg-color: #DDD;\n",
              "  }\n",
              "\n",
              "  [theme=dark] .colab-df-quickchart {\n",
              "      --bg-color: #3B4455;\n",
              "      --fill-color: #D2E3FC;\n",
              "      --hover-bg-color: #434B5C;\n",
              "      --hover-fill-color: #FFFFFF;\n",
              "      --disabled-bg-color: #3B4455;\n",
              "      --disabled-fill-color: #666;\n",
              "  }\n",
              "\n",
              "  .colab-df-quickchart {\n",
              "    background-color: var(--bg-color);\n",
              "    border: none;\n",
              "    border-radius: 50%;\n",
              "    cursor: pointer;\n",
              "    display: none;\n",
              "    fill: var(--fill-color);\n",
              "    height: 32px;\n",
              "    padding: 0;\n",
              "    width: 32px;\n",
              "  }\n",
              "\n",
              "  .colab-df-quickchart:hover {\n",
              "    background-color: var(--hover-bg-color);\n",
              "    box-shadow: 0 1px 2px rgba(60, 64, 67, 0.3), 0 1px 3px 1px rgba(60, 64, 67, 0.15);\n",
              "    fill: var(--button-hover-fill-color);\n",
              "  }\n",
              "\n",
              "  .colab-df-quickchart-complete:disabled,\n",
              "  .colab-df-quickchart-complete:disabled:hover {\n",
              "    background-color: var(--disabled-bg-color);\n",
              "    fill: var(--disabled-fill-color);\n",
              "    box-shadow: none;\n",
              "  }\n",
              "\n",
              "  .colab-df-spinner {\n",
              "    border: 2px solid var(--fill-color);\n",
              "    border-color: transparent;\n",
              "    border-bottom-color: var(--fill-color);\n",
              "    animation:\n",
              "      spin 1s steps(1) infinite;\n",
              "  }\n",
              "\n",
              "  @keyframes spin {\n",
              "    0% {\n",
              "      border-color: transparent;\n",
              "      border-bottom-color: var(--fill-color);\n",
              "      border-left-color: var(--fill-color);\n",
              "    }\n",
              "    20% {\n",
              "      border-color: transparent;\n",
              "      border-left-color: var(--fill-color);\n",
              "      border-top-color: var(--fill-color);\n",
              "    }\n",
              "    30% {\n",
              "      border-color: transparent;\n",
              "      border-left-color: var(--fill-color);\n",
              "      border-top-color: var(--fill-color);\n",
              "      border-right-color: var(--fill-color);\n",
              "    }\n",
              "    40% {\n",
              "      border-color: transparent;\n",
              "      border-right-color: var(--fill-color);\n",
              "      border-top-color: var(--fill-color);\n",
              "    }\n",
              "    60% {\n",
              "      border-color: transparent;\n",
              "      border-right-color: var(--fill-color);\n",
              "    }\n",
              "    80% {\n",
              "      border-color: transparent;\n",
              "      border-right-color: var(--fill-color);\n",
              "      border-bottom-color: var(--fill-color);\n",
              "    }\n",
              "    90% {\n",
              "      border-color: transparent;\n",
              "      border-bottom-color: var(--fill-color);\n",
              "    }\n",
              "  }\n",
              "</style>\n",
              "\n",
              "  <script>\n",
              "    async function quickchart(key) {\n",
              "      const quickchartButtonEl =\n",
              "        document.querySelector('#' + key + ' button');\n",
              "      quickchartButtonEl.disabled = true;  // To prevent multiple clicks.\n",
              "      quickchartButtonEl.classList.add('colab-df-spinner');\n",
              "      try {\n",
              "        const charts = await google.colab.kernel.invokeFunction(\n",
              "            'suggestCharts', [key], {});\n",
              "      } catch (error) {\n",
              "        console.error('Error during call to suggestCharts:', error);\n",
              "      }\n",
              "      quickchartButtonEl.classList.remove('colab-df-spinner');\n",
              "      quickchartButtonEl.classList.add('colab-df-quickchart-complete');\n",
              "    }\n",
              "    (() => {\n",
              "      let quickchartButtonEl =\n",
              "        document.querySelector('#df-ec27616e-bce8-4923-b28b-661b60e11ae1 button');\n",
              "      quickchartButtonEl.style.display =\n",
              "        google.colab.kernel.accessAllowed ? 'block' : 'none';\n",
              "    })();\n",
              "  </script>\n",
              "</div>\n",
              "    </div>\n",
              "  </div>\n"
            ]
          },
          "metadata": {},
          "execution_count": 26
        }
      ],
      "source": [
        "ratings_mean_count.head()"
      ]
    },
    {
      "cell_type": "code",
      "execution_count": 27,
      "metadata": {
        "colab": {
          "base_uri": "https://localhost:8080/"
        },
        "id": "im_FhCuYWtwf",
        "outputId": "e13d7deb-50a0-46e0-f1ee-6b44f1964f93"
      },
      "outputs": [
        {
          "output_type": "execute_result",
          "data": {
            "text/plain": [
              "5345"
            ]
          },
          "metadata": {},
          "execution_count": 27
        }
      ],
      "source": [
        "ratings_mean_count['rating_counts'].max()"
      ]
    },
    {
      "cell_type": "code",
      "execution_count": 28,
      "metadata": {
        "colab": {
          "base_uri": "https://localhost:8080/",
          "height": 540
        },
        "id": "AySNv1FrWtwf",
        "outputId": "ce0e5107-c637-4126-9921-8a3430581003"
      },
      "outputs": [
        {
          "output_type": "execute_result",
          "data": {
            "text/plain": [
              "<Figure size 800x600 with 0 Axes>"
            ]
          },
          "metadata": {},
          "execution_count": 28
        },
        {
          "output_type": "execute_result",
          "data": {
            "text/plain": [
              "<Axes: >"
            ]
          },
          "metadata": {},
          "execution_count": 28
        },
        {
          "output_type": "display_data",
          "data": {
            "text/plain": [
              "<Figure size 800x600 with 1 Axes>"
            ],
            "image/png": "[encoded data removed]"
          },
          "metadata": {}
        }
      ],
      "source": [
        "plt.figure(figsize=(8,6))\n",
        "plt.rcParams['patch.force_edgecolor'] = True\n",
        "ratings_mean_count['rating_counts'].hist(bins=50)"
      ]
    },
    {
      "cell_type": "code",
      "execution_count": 29,
      "metadata": {
        "colab": {
          "base_uri": "https://localhost:8080/",
          "height": 540
        },
        "id": "xPJVT8x6Wtwg",
        "outputId": "edeca881-8f6b-450e-bb38-17f4c945cb9c"
      },
      "outputs": [
        {
          "output_type": "execute_result",
          "data": {
            "text/plain": [
              "<Figure size 800x600 with 0 Axes>"
            ]
          },
          "metadata": {},
          "execution_count": 29
        },
        {
          "output_type": "execute_result",
          "data": {
            "text/plain": [
              "<Axes: >"
            ]
          },
          "metadata": {},
          "execution_count": 29
        },
        {
          "output_type": "display_data",
          "data": {
            "text/plain": [
              "<Figure size 800x600 with 1 Axes>"
            ],
            "image/png": "[encoded data removed]"
          },
          "metadata": {}
        }
      ],
      "source": [
        "plt.figure(figsize=(8,6))\n",
        "plt.rcParams['patch.force_edgecolor'] = True\n",
        "ratings_mean_count['Rating'].hist(bins=50)"
      ]
    },
    {
      "cell_type": "code",
      "execution_count": 30,
      "metadata": {
        "colab": {
          "base_uri": "https://localhost:8080/",
          "height": 643
        },
        "id": "2YB9Pr6UWtwg",
        "outputId": "657a6e2c-1ad6-4425-e647-14b1c5139231"
      },
      "outputs": [
        {
          "output_type": "execute_result",
          "data": {
            "text/plain": [
              "<Figure size 800x600 with 0 Axes>"
            ]
          },
          "metadata": {},
          "execution_count": 30
        },
        {
          "output_type": "execute_result",
          "data": {
            "text/plain": [
              "<seaborn.axisgrid.JointGrid at 0x797a8a1dbac0>"
            ]
          },
          "metadata": {},
          "execution_count": 30
        },
        {
          "output_type": "display_data",
          "data": {
            "text/plain": [
              "<Figure size 800x600 with 0 Axes>"
            ]
          },
          "metadata": {}
        },
        {
          "output_type": "display_data",
          "data": {
            "text/plain": [
              "<Figure size 600x600 with 3 Axes>"
            ],
            "image/png": "[encoded data removed]"
          },
          "metadata": {}
        }
      ],
      "source": [
        "plt.figure(figsize=(8,6))\n",
        "plt.rcParams['patch.force_edgecolor'] = True\n",
        "sns.jointplot(x='Rating', y='rating_counts', data=ratings_mean_count, alpha=0.4)"
      ]
    },
    {
      "cell_type": "code",
      "execution_count": 31,
      "metadata": {
        "colab": {
          "base_uri": "https://localhost:8080/",
          "height": 547
        },
        "id": "dWQCwVm5Wtwg",
        "outputId": "e7269a34-b444-41e2-e2de-8fc411786a04"
      },
      "outputs": [
        {
          "output_type": "execute_result",
          "data": {
            "text/plain": [
              "<Axes: xlabel='productId'>"
            ]
          },
          "metadata": {},
          "execution_count": 31
        },
        {
          "output_type": "display_data",
          "data": {
            "text/plain": [
              "<Figure size 640x480 with 1 Axes>"
            ],
            "image/png": "[encoded data removed]"
          },
          "metadata": {}
        }
      ],
      "source": [
        "popular_products = pd.DataFrame(new_df.groupby('productId')['Rating'].count())\n",
        "most_popular = popular_products.sort_values('Rating', ascending=False)\n",
        "most_popular.head(30).plot(kind = \"bar\")"
      ]
    },
    {
      "cell_type": "markdown",
      "metadata": {
        "id": "aK6aDc33Wtwg"
      },
      "source": [
        "# Collaborative filtering (Item-Item recommedation)\n",
        "\n",
        "Collaborative filtering is commonly used for recommender systems. These techniques aim to fill in the missing entries of a user-item association matrix. We are going to use collaborative filtering (CF) approach.\n",
        "CF is based on the idea that the best recommendations come from people who have similar tastes. In other words, it uses historical item ratings of like-minded people to predict how someone would rate an item.Collaborative filtering has two sub-categories that are generally called memory based and model-based approaches.\n",
        "\n"
      ]
    },
    {
      "cell_type": "code",
      "source": [
        "!pip install surprise"
      ],
      "metadata": {
        "colab": {
          "base_uri": "https://localhost:8080/"
        },
        "id": "TnmSh6ogYHuW",
        "outputId": "05e59cb5-5b72-4405-d718-705e6b5502d2"
      },
      "execution_count": 32,
      "outputs": [
        {
          "output_type": "stream",
          "name": "stdout",
          "text": [
            "Collecting surprise\n",
            "  Downloading surprise-0.1-py2.py3-none-any.whl (1.8 kB)\n",
            "Collecting scikit-surprise (from surprise)\n",
            "  Downloading scikit-surprise-1.1.3.tar.gz (771 kB)\n",
            "\u001b[2K     \u001b[90m━━━━━━━━━━━━━━━━━━━━━━━━━━━━━━━━━━━━━━━━\u001b[0m \u001b[32m772.0/772.0 kB\u001b[0m \u001b[31m6.1 MB/s\u001b[0m eta \u001b[36m0:00:00\u001b[0m\n",
            "\u001b[?25h  Preparing metadata (setup.py) ... \u001b[?25l\u001b[?25hdone\n",
            "Requirement already satisfied: joblib>=1.0.0 in /usr/local/lib/python3.10/dist-packages (from scikit-surprise->surprise) (1.3.2)\n",
            "Requirement already satisfied: numpy>=1.17.3 in /usr/local/lib/python3.10/dist-packages (from scikit-surprise->surprise) (1.23.5)\n",
            "Requirement already satisfied: scipy>=1.3.2 in /usr/local/lib/python3.10/dist-packages (from scikit-surprise->surprise) (1.11.3)\n",
            "Building wheels for collected packages: scikit-surprise\n",
            "  Building wheel for scikit-surprise (setup.py) ... \u001b[?25l\u001b[?25hdone\n",
            "  Created wheel for scikit-surprise: filename=scikit_surprise-1.1.3-cp310-cp310-linux_x86_64.whl size=3163489 sha256=18f5219ca0c67ba2bf7f75972a40e65bdad7d4eb0eae3b31314863cab6ba14c1\n",
            "  Stored in directory: /root/.cache/pip/wheels/a5/ca/a8/4e28def53797fdc4363ca4af740db15a9c2f1595ebc51fb445\n",
            "Successfully built scikit-surprise\n",
            "Installing collected packages: scikit-surprise, surprise\n",
            "Successfully installed scikit-surprise-1.1.3 surprise-0.1\n"
          ]
        }
      ]
    },
    {
      "cell_type": "code",
      "execution_count": 33,
      "metadata": {
        "id": "xRGPxlo2Wtwg"
      },
      "outputs": [],
      "source": [
        "import surprise\n",
        "from surprise import KNNWithMeans\n",
        "from surprise import Dataset\n",
        "from surprise import accuracy\n",
        "from surprise import Reader\n",
        "import os\n",
        "from surprise.model_selection import train_test_split"
      ]
    },
    {
      "cell_type": "code",
      "execution_count": 34,
      "metadata": {
        "id": "utRYxrSPWtwg"
      },
      "outputs": [],
      "source": [
        "#Reading the dataset\n",
        "reader = Reader(rating_scale=(1, 5))\n",
        "data = Dataset.load_from_df(new_df,reader)"
      ]
    },
    {
      "cell_type": "code",
      "execution_count": 35,
      "metadata": {
        "id": "d8b9y6NaWtwg"
      },
      "outputs": [],
      "source": [
        "#Splitting the dataset\n",
        "trainset, testset = train_test_split(data, test_size=0.3,random_state=10)"
      ]
    },
    {
      "cell_type": "code",
      "execution_count": 36,
      "metadata": {
        "colab": {
          "base_uri": "https://localhost:8080/"
        },
        "id": "Z_i_hgocWtwg",
        "outputId": "2b0fe486-bf16-492c-c997-ee7051ddc847"
      },
      "outputs": [
        {
          "output_type": "stream",
          "name": "stdout",
          "text": [
            "Estimating biases using als...\n",
            "Computing the pearson_baseline similarity matrix...\n",
            "Done computing similarity matrix.\n"
          ]
        },
        {
          "output_type": "execute_result",
          "data": {
            "text/plain": [
              "<surprise.prediction_algorithms.knns.KNNWithMeans at 0x797a899842b0>"
            ]
          },
          "metadata": {},
          "execution_count": 36
        }
      ],
      "source": [
        "# Use user_based true/false to switch between user-based or item-based collaborative filtering\n",
        "algo = KNNWithMeans(k=5, sim_options={'name': 'pearson_baseline', 'user_based': False})\n",
        "algo.fit(trainset)"
      ]
    },
    {
      "cell_type": "code",
      "execution_count": 37,
      "metadata": {
        "id": "_zxjyrHqWtwg"
      },
      "outputs": [],
      "source": [
        "# run the trained model against the testset\n",
        "test_pred = algo.test(testset)"
      ]
    },
    {
      "cell_type": "code",
      "execution_count": 38,
      "metadata": {
        "_kg_hide-output": true,
        "colab": {
          "base_uri": "https://localhost:8080/"
        },
        "id": "dD9tgU9HWtwg",
        "outputId": "4b632ef7-8ea4-4105-bb4f-28b0780422e7"
      },
      "outputs": [
        {
          "output_type": "execute_result",
          "data": {
            "text/plain": [
              "[Prediction(uid='A1RV8BNE37L0CE', iid='B00005B6TI', r_ui=4.0, est=4.054844983921575, details={'was_impossible': True, 'reason': 'User and/or item is unknown.'}),\n",
              " Prediction(uid='A16N6SUZ6BJPUL', iid='B00007M1TZ', r_ui=3.0, est=4.054844983921575, details={'was_impossible': True, 'reason': 'User and/or item is unknown.'}),\n",
              " Prediction(uid='A2802HG1Y0BGU6', iid='B000095SB6', r_ui=2.0, est=4.054844983921575, details={'was_impossible': True, 'reason': 'User and/or item is unknown.'}),\n",
              " Prediction(uid='A3PZDYFXKX3FS9', iid='B0001VGFKW', r_ui=5.0, est=4.054844983921575, details={'was_impossible': True, 'reason': 'User and/or item is unknown.'}),\n",
              " Prediction(uid='A1LFQ1S2VG7F3Y', iid='B000062VUO', r_ui=5.0, est=4.054844983921575, details={'was_impossible': True, 'reason': 'User and/or item is unknown.'}),\n",
              " Prediction(uid='A1QZSV9MZLZYJV', iid='B00007IFED', r_ui=5.0, est=4.054844983921575, details={'was_impossible': True, 'reason': 'User and/or item is unknown.'}),\n",
              " Prediction(uid='A15TDN3RT50K4H', iid='B00013VHAS', r_ui=5.0, est=4.054844983921575, details={'was_impossible': True, 'reason': 'User and/or item is unknown.'}),\n",
              " Prediction(uid='A2GS8TWBNVE0PZ', iid='B00006IBLQ', r_ui=5.0, est=4.054844983921575, details={'was_impossible': True, 'reason': 'User and/or item is unknown.'}),\n",
              " Prediction(uid='A1T2NGX4MALDKU', iid='B00007E8D2', r_ui=5.0, est=4.054844983921575, details={'was_impossible': True, 'reason': 'User and/or item is unknown.'}),\n",
              " Prediction(uid='A1UXCTXQEIAS2W', iid='B0000E6I1N', r_ui=3.0, est=4.054844983921575, details={'was_impossible': True, 'reason': 'User and/or item is unknown.'}),\n",
              " Prediction(uid='A2CDMX49G757H3', iid='B00006JPDG', r_ui=4.0, est=4.054844983921575, details={'was_impossible': True, 'reason': 'User and/or item is unknown.'}),\n",
              " Prediction(uid='ABELPT62N1VLM', iid='B000089GN3', r_ui=4.0, est=4.054844983921575, details={'was_impossible': True, 'reason': 'User and/or item is unknown.'}),\n",
              " Prediction(uid='A1I78T9A8ERK4Y', iid='B0000DHVN3', r_ui=1.0, est=4.054844983921575, details={'was_impossible': True, 'reason': 'User and/or item is unknown.'}),\n",
              " Prediction(uid='A2FYWB4LXH2PBR', iid='B0000CEOYI', r_ui=5.0, est=4.054844983921575, details={'was_impossible': True, 'reason': 'User and/or item is unknown.'}),\n",
              " Prediction(uid='A2UX12JF2RTETG', iid='B00000J3UJ', r_ui=1.0, est=4.054844983921575, details={'was_impossible': True, 'reason': 'User and/or item is unknown.'}),\n",
              " Prediction(uid='A31F7UI0MPKOL1', iid='B0000AI0OE', r_ui=5.0, est=4.054844983921575, details={'was_impossible': True, 'reason': 'User and/or item is unknown.'}),\n",
              " Prediction(uid='A1NAA1R38JSNHV', iid='B000068NYF', r_ui=5.0, est=4.054844983921575, details={'was_impossible': True, 'reason': 'User and/or item is unknown.'}),\n",
              " Prediction(uid='A759KSTT9A8X8', iid='B00001WRSJ', r_ui=5.0, est=4.054844983921575, details={'was_impossible': True, 'reason': 'User and/or item is unknown.'}),\n",
              " Prediction(uid='A3TRV2T3HVJ4U1', iid='B0000AOWVN', r_ui=4.0, est=4.054844983921575, details={'was_impossible': True, 'reason': 'User and/or item is unknown.'}),\n",
              " Prediction(uid='AT6D4UTX1NDH', iid='B00009R6V0', r_ui=5.0, est=4.054844983921575, details={'was_impossible': True, 'reason': 'User and/or item is unknown.'}),\n",
              " Prediction(uid='A2AXDOKN4QXMEZ', iid='B00008Y0VN', r_ui=3.0, est=4.054844983921575, details={'was_impossible': True, 'reason': 'User and/or item is unknown.'}),\n",
              " Prediction(uid='AJMUUJNMZQS8U', iid='B0001MKU48', r_ui=5.0, est=4.054844983921575, details={'was_impossible': True, 'reason': 'User and/or item is unknown.'}),\n",
              " Prediction(uid='A28TJ0V26LI3RP', iid='B00005T380', r_ui=5.0, est=4.054844983921575, details={'was_impossible': True, 'reason': 'User and/or item is unknown.'}),\n",
              " Prediction(uid='A26G5WRKQW1XOE', iid='B00009W3BW', r_ui=4.0, est=4.054844983921575, details={'was_impossible': True, 'reason': 'User and/or item is unknown.'}),\n",
              " Prediction(uid='A5DYX9QDBGCIV', iid='B0000645RH', r_ui=2.0, est=4.054844983921575, details={'was_impossible': True, 'reason': 'User and/or item is unknown.'}),\n",
              " Prediction(uid='A11H9KTKM1KKSE', iid='B0000A8XHC', r_ui=5.0, est=4.054844983921575, details={'was_impossible': True, 'reason': 'User and/or item is unknown.'}),\n",
              " Prediction(uid='A171LT1Z88UXCN', iid='B0000TSJVI', r_ui=5.0, est=4.054844983921575, details={'was_impossible': True, 'reason': 'User and/or item is unknown.'}),\n",
              " Prediction(uid='A288NATJBJ42VB', iid='B0001DYXOU', r_ui=5.0, est=2.8292682926829267, details={'actual_k': 0, 'was_impossible': False}),\n",
              " Prediction(uid='A2227Y4YW6SHRE', iid='B00004T1XE', r_ui=3.0, est=4.054844983921575, details={'was_impossible': True, 'reason': 'User and/or item is unknown.'}),\n",
              " Prediction(uid='A3OU81LAFVJOIN', iid='B00004T8R2', r_ui=5.0, est=4.298986486486487, details={'actual_k': 0, 'was_impossible': False}),\n",
              " Prediction(uid='A1TID9IEJJTG5Z', iid='B00006I5TD', r_ui=5.0, est=3.9295774647887325, details={'actual_k': 0, 'was_impossible': False}),\n",
              " Prediction(uid='A2NDSKC3VYZ65K', iid='9625993428', r_ui=5.0, est=4.054844983921575, details={'was_impossible': True, 'reason': 'User and/or item is unknown.'}),\n",
              " Prediction(uid='A3KVQ6VYF9WFQE', iid='B00008XETL', r_ui=4.0, est=4.054844983921575, details={'was_impossible': True, 'reason': 'User and/or item is unknown.'}),\n",
              " Prediction(uid='A3CVTHKKRCUFXF', iid='B00017LSPI', r_ui=5.0, est=4.054844983921575, details={'was_impossible': True, 'reason': 'User and/or item is unknown.'}),\n",
              " Prediction(uid='A2ZBPQAW7QYRXL', iid='B00004SB92', r_ui=4.0, est=4.054844983921575, details={'was_impossible': True, 'reason': 'User and/or item is unknown.'}),\n",
              " Prediction(uid='AAT7UR4HDJ835', iid='B00008SB1D', r_ui=3.0, est=4.054844983921575, details={'was_impossible': True, 'reason': 'User and/or item is unknown.'}),\n",
              " Prediction(uid='A3NOB1ISRY0DGT', iid='B00005NIMJ', r_ui=5.0, est=4.054844983921575, details={'was_impossible': True, 'reason': 'User and/or item is unknown.'}),\n",
              " Prediction(uid='A20JMI9DHPBLI0', iid='B00001W0EQ', r_ui=5.0, est=4.054844983921575, details={'was_impossible': True, 'reason': 'User and/or item is unknown.'}),\n",
              " Prediction(uid='A2CSZUNAK2EHLD', iid='B0000C8VEK', r_ui=5.0, est=4.054844983921575, details={'was_impossible': True, 'reason': 'User and/or item is unknown.'}),\n",
              " Prediction(uid='AKOB0AC7H4RHN', iid='0972683275', r_ui=1.0, est=4.054844983921575, details={'was_impossible': True, 'reason': 'User and/or item is unknown.'}),\n",
              " Prediction(uid='A23DFB8IUTIZM0', iid='B00019068G', r_ui=5.0, est=3.5853658536585367, details={'actual_k': 0, 'was_impossible': False}),\n",
              " Prediction(uid='A4HOP2ZZ8MYQX', iid='B00007LTAQ', r_ui=2.0, est=4.054844983921575, details={'was_impossible': True, 'reason': 'User and/or item is unknown.'}),\n",
              " Prediction(uid='A1XLLEHKFY3TN2', iid='B00008EM7U', r_ui=1.0, est=3.6049382716049383, details={'actual_k': 0, 'was_impossible': False}),\n",
              " Prediction(uid='A2XAM1MM2FSDN7', iid='B00004VX39', r_ui=4.0, est=3.9371069182389937, details={'actual_k': 0, 'was_impossible': False}),\n",
              " Prediction(uid='A3BVT5TA7PFFST', iid='B00007EDM8', r_ui=5.0, est=4.054844983921575, details={'was_impossible': True, 'reason': 'User and/or item is unknown.'}),\n",
              " Prediction(uid='A2J0ZNN20XJ1VQ', iid='B00007FGUE', r_ui=5.0, est=4.054844983921575, details={'was_impossible': True, 'reason': 'User and/or item is unknown.'}),\n",
              " Prediction(uid='A1U4NMV0OTN47', iid='B00004TL5Q', r_ui=4.0, est=4.054844983921575, details={'was_impossible': True, 'reason': 'User and/or item is unknown.'}),\n",
              " Prediction(uid='AUCISQA1YXX86', iid='B00006JLOS', r_ui=4.0, est=4.285714285714286, details={'actual_k': 0, 'was_impossible': False}),\n",
              " Prediction(uid='A1I5BE1OW91BD9', iid='B0001MQURE', r_ui=1.0, est=4.054844983921575, details={'was_impossible': True, 'reason': 'User and/or item is unknown.'}),\n",
              " Prediction(uid='A1XVWARH6XGGFA', iid='B0001FXLW8', r_ui=4.0, est=4.054844983921575, details={'was_impossible': True, 'reason': 'User and/or item is unknown.'}),\n",
              " Prediction(uid='A1J9XUIADSH0O6', iid='B00006I5H5', r_ui=5.0, est=4.054844983921575, details={'was_impossible': True, 'reason': 'User and/or item is unknown.'}),\n",
              " Prediction(uid='A3HFIZUM1PNSYK', iid='B00006RVPW', r_ui=5.0, est=4.054844983921575, details={'was_impossible': True, 'reason': 'User and/or item is unknown.'}),\n",
              " Prediction(uid='AEZACE6V2VTW2', iid='B00007AKDL', r_ui=5.0, est=4.054844983921575, details={'was_impossible': True, 'reason': 'User and/or item is unknown.'}),\n",
              " Prediction(uid='A3APEIJOQXE142', iid='B000089GN3', r_ui=5.0, est=2.26070346322651, details={'actual_k': 1, 'was_impossible': False}),\n",
              " Prediction(uid='A1XX94Y9IFCIHW', iid='B00017LSPI', r_ui=1.0, est=4.054844983921575, details={'was_impossible': True, 'reason': 'User and/or item is unknown.'}),\n",
              " Prediction(uid='A3SJ5XZ2CCBXBX', iid='B0000C8VEK', r_ui=3.0, est=4.054844983921575, details={'was_impossible': True, 'reason': 'User and/or item is unknown.'}),\n",
              " Prediction(uid='A3S3R88HA0HZG3', iid='B00006HZ0K', r_ui=5.0, est=4.416666666666667, details={'actual_k': 0, 'was_impossible': False}),\n",
              " Prediction(uid='A17ARD4L6AZHES', iid='B0001DBEM4', r_ui=4.0, est=4.458515283842795, details={'actual_k': 0, 'was_impossible': False}),\n",
              " Prediction(uid='A39E19SGBHYUI8', iid='B0001FTVEK', r_ui=3.0, est=4.054844983921575, details={'was_impossible': True, 'reason': 'User and/or item is unknown.'}),\n",
              " Prediction(uid='A28D15JR9L9G12', iid='B000058AKE', r_ui=5.0, est=4.054844983921575, details={'was_impossible': True, 'reason': 'User and/or item is unknown.'}),\n",
              " Prediction(uid='A3OCD3E0NL7DEN', iid='B00005ATMB', r_ui=5.0, est=4.054844983921575, details={'was_impossible': True, 'reason': 'User and/or item is unknown.'}),\n",
              " Prediction(uid='A3MH10LSAZY7XJ', iid='B00006B91Z', r_ui=4.0, est=4.054844983921575, details={'was_impossible': True, 'reason': 'User and/or item is unknown.'}),\n",
              " Prediction(uid='ADTUICA7VB1C0', iid='B00009R90O', r_ui=5.0, est=4.054844983921575, details={'was_impossible': True, 'reason': 'User and/or item is unknown.'}),\n",
              " Prediction(uid='A2C49CU7Q3Z338', iid='B000083KIH', r_ui=5.0, est=4.054844983921575, details={'was_impossible': True, 'reason': 'User and/or item is unknown.'}),\n",
              " Prediction(uid='AEAO0HQ7CHM4D', iid='B0000952XU', r_ui=5.0, est=5, details={'actual_k': 2, 'was_impossible': False}),\n",
              " Prediction(uid='ACPO3V7J64IJV', iid='B000066R6M', r_ui=5.0, est=4.054844983921575, details={'was_impossible': True, 'reason': 'User and/or item is unknown.'}),\n",
              " Prediction(uid='A6AN3T8BO55FC', iid='B000063BGY', r_ui=5.0, est=4.054844983921575, details={'was_impossible': True, 'reason': 'User and/or item is unknown.'}),\n",
              " Prediction(uid='A2E4JU2OD57LIF', iid='B000065BPB', r_ui=5.0, est=4.363036303630363, details={'actual_k': 0, 'was_impossible': False}),\n",
              " Prediction(uid='AX6T1Z1VZH6OE', iid='B0001A06GW', r_ui=5.0, est=4.054844983921575, details={'was_impossible': True, 'reason': 'User and/or item is unknown.'}),\n",
              " Prediction(uid='A1RBC5UQCUXEQR', iid='B00005LEN4', r_ui=4.0, est=4.054844983921575, details={'was_impossible': True, 'reason': 'User and/or item is unknown.'}),\n",
              " Prediction(uid='A1M4PZLB34576G', iid='B00004THCZ', r_ui=5.0, est=4.054844983921575, details={'was_impossible': True, 'reason': 'User and/or item is unknown.'}),\n",
              " Prediction(uid='A3U25CDZOO1388', iid='B0001FTVDQ', r_ui=4.0, est=4.054844983921575, details={'was_impossible': True, 'reason': 'User and/or item is unknown.'}),\n",
              " Prediction(uid='A22SBXZICJNTQ1', iid='B00009R6TA', r_ui=5.0, est=4.475479744136461, details={'actual_k': 0, 'was_impossible': False}),\n",
              " Prediction(uid='A13E966081T2H3', iid='B00009R6TA', r_ui=5.0, est=4.054844983921575, details={'was_impossible': True, 'reason': 'User and/or item is unknown.'}),\n",
              " Prediction(uid='AMSAG1ML5IS9H', iid='B00004Z5M1', r_ui=5.0, est=4.556302521008403, details={'actual_k': 0, 'was_impossible': False}),\n",
              " Prediction(uid='A2KYJHH0AP1P0G', iid='B00008AWL2', r_ui=5.0, est=4.988706945228684, details={'actual_k': 1, 'was_impossible': False}),\n",
              " Prediction(uid='A2THXLA15378Y9', iid='B00008N6YJ', r_ui=1.0, est=4.054844983921575, details={'was_impossible': True, 'reason': 'User and/or item is unknown.'}),\n",
              " Prediction(uid='A1RN43HZCIEQRJ', iid='B000063574', r_ui=3.0, est=4.054844983921575, details={'was_impossible': True, 'reason': 'User and/or item is unknown.'}),\n",
              " Prediction(uid='A2X8MEUQYTC0O6', iid='B00009UT9B', r_ui=5.0, est=4.054844983921575, details={'was_impossible': True, 'reason': 'User and/or item is unknown.'}),\n",
              " Prediction(uid='A1K4EXKVKS9QR4', iid='B00007DWEA', r_ui=5.0, est=4.720588235294118, details={'actual_k': 0, 'was_impossible': False}),\n",
              " Prediction(uid='A2OVIZ1AWXWKWO', iid='B00005AC8J', r_ui=5.0, est=4.054844983921575, details={'was_impossible': True, 'reason': 'User and/or item is unknown.'}),\n",
              " Prediction(uid='A2TIA4WQ8RRHJO', iid='B00001WRSJ', r_ui=5.0, est=4.601976639712489, details={'actual_k': 0, 'was_impossible': False}),\n",
              " Prediction(uid='A223PPQEO96KYR', iid='B0001VGFKW', r_ui=5.0, est=4.054844983921575, details={'was_impossible': True, 'reason': 'User and/or item is unknown.'}),\n",
              " Prediction(uid='A30PJ1OAY5ZTKD', iid='B000065BPB', r_ui=5.0, est=4.054844983921575, details={'was_impossible': True, 'reason': 'User and/or item is unknown.'}),\n",
              " Prediction(uid='A2CX7XYS6FG7RB', iid='B00007GQLU', r_ui=5.0, est=4.054844983921575, details={'was_impossible': True, 'reason': 'User and/or item is unknown.'}),\n",
              " Prediction(uid='A2Y2DGXACY5COP', iid='B00004TDLD', r_ui=5.0, est=4.054844983921575, details={'was_impossible': True, 'reason': 'User and/or item is unknown.'}),\n",
              " Prediction(uid='A14AGGUYZMJX3S', iid='B000067RT6', r_ui=5.0, est=4.054844983921575, details={'was_impossible': True, 'reason': 'User and/or item is unknown.'}),\n",
              " Prediction(uid='A2CPDI8JJPD226', iid='B0000A0AEM', r_ui=4.0, est=4.054844983921575, details={'was_impossible': True, 'reason': 'User and/or item is unknown.'}),\n",
              " Prediction(uid='A3DKX0RXOCTVYO', iid='B0001KWGOW', r_ui=4.0, est=4.054844983921575, details={'was_impossible': True, 'reason': 'User and/or item is unknown.'}),\n",
              " Prediction(uid='A2UHN9FTZC6INA', iid='B00007KDVI', r_ui=4.0, est=4.054844983921575, details={'was_impossible': True, 'reason': 'User and/or item is unknown.'}),\n",
              " Prediction(uid='A3D1DXKX7HASM2', iid='B0000A8XHC', r_ui=1.0, est=4.054844983921575, details={'was_impossible': True, 'reason': 'User and/or item is unknown.'}),\n",
              " Prediction(uid='ABDR6IJ93HFIO', iid='B000067S60', r_ui=5.0, est=4.464788732394366, details={'actual_k': 0, 'was_impossible': False}),\n",
              " Prediction(uid='AXWEMVZMCHW60', iid='B00015GYU4', r_ui=5.0, est=4.054844983921575, details={'was_impossible': True, 'reason': 'User and/or item is unknown.'}),\n",
              " Prediction(uid='A21NNHCUFW5JM8', iid='B00005ATMI', r_ui=5.0, est=4.054844983921575, details={'was_impossible': True, 'reason': 'User and/or item is unknown.'}),\n",
              " Prediction(uid='A34NNLNMKAXETC', iid='B000065BP9', r_ui=5.0, est=4.054844983921575, details={'was_impossible': True, 'reason': 'User and/or item is unknown.'}),\n",
              " Prediction(uid='A1T2BW5NGXOZK8', iid='B0000B006W', r_ui=2.0, est=4.054844983921575, details={'was_impossible': True, 'reason': 'User and/or item is unknown.'}),\n",
              " Prediction(uid='A1U8KVJHK4FTKP', iid='B000067O5G', r_ui=5.0, est=4.054844983921575, details={'was_impossible': True, 'reason': 'User and/or item is unknown.'}),\n",
              " Prediction(uid='A42FNTM7Q2FE0', iid='B00005N5X2', r_ui=5.0, est=3.75, details={'actual_k': 0, 'was_impossible': False}),\n",
              " Prediction(uid='A2DOLEXX4HUR1P', iid='B0000U19F0', r_ui=5.0, est=4.054844983921575, details={'was_impossible': True, 'reason': 'User and/or item is unknown.'}),\n",
              " Prediction(uid='AHCPY0O8DJCFH', iid='B00005N6KG', r_ui=2.0, est=4.054844983921575, details={'was_impossible': True, 'reason': 'User and/or item is unknown.'}),\n",
              " Prediction(uid='A17HNPM0R7HT9Y', iid='B00002NDRQ', r_ui=5.0, est=4.054844983921575, details={'was_impossible': True, 'reason': 'User and/or item is unknown.'}),\n",
              " Prediction(uid='A1FL0NH6HKD4IN', iid='B00007FGUF', r_ui=1.0, est=4.054844983921575, details={'was_impossible': True, 'reason': 'User and/or item is unknown.'}),\n",
              " Prediction(uid='AUTDY38RJE7HW', iid='B0001PFO3C', r_ui=5.0, est=4.054844983921575, details={'was_impossible': True, 'reason': 'User and/or item is unknown.'}),\n",
              " Prediction(uid='A3H0F51UIOZQJ7', iid='B000092YPR', r_ui=5.0, est=4.054844983921575, details={'was_impossible': True, 'reason': 'User and/or item is unknown.'}),\n",
              " Prediction(uid='A1ZORPYSVU4WR2', iid='B0000A1VS3', r_ui=5.0, est=4.054844983921575, details={'was_impossible': True, 'reason': 'User and/or item is unknown.'}),\n",
              " Prediction(uid='A2KZ905NGU107B', iid='B0001NNLHK', r_ui=4.0, est=4.054844983921575, details={'was_impossible': True, 'reason': 'User and/or item is unknown.'}),\n",
              " Prediction(uid='AW003H7Z3OCHA', iid='B00003CWDQ', r_ui=5.0, est=4.054844983921575, details={'was_impossible': True, 'reason': 'User and/or item is unknown.'}),\n",
              " Prediction(uid='A22WPPH9H54JL', iid='B000095S9V', r_ui=5.0, est=4.054844983921575, details={'was_impossible': True, 'reason': 'User and/or item is unknown.'}),\n",
              " Prediction(uid='A3PWCRDUV8WTU8', iid='B0000CD7K9', r_ui=5.0, est=4.054844983921575, details={'was_impossible': True, 'reason': 'User and/or item is unknown.'}),\n",
              " Prediction(uid='A2X3QZGY90UZM5', iid='B0000AAAPF', r_ui=4.0, est=2.7035714285714287, details={'actual_k': 0, 'was_impossible': False}),\n",
              " Prediction(uid='A3V757OILVERDD', iid='B00004ZCJE', r_ui=5.0, est=4.054844983921575, details={'was_impossible': True, 'reason': 'User and/or item is unknown.'}),\n",
              " Prediction(uid='A2I12UAEU0V1SB', iid='B0001J3Q9W', r_ui=5.0, est=4.054844983921575, details={'was_impossible': True, 'reason': 'User and/or item is unknown.'}),\n",
              " Prediction(uid='AE0XLHE0RQZNF', iid='B00008L3HY', r_ui=1.0, est=4.054844983921575, details={'was_impossible': True, 'reason': 'User and/or item is unknown.'}),\n",
              " Prediction(uid='A3BU0BIUV2WI5A', iid='B00008KWWF', r_ui=5.0, est=4.054844983921575, details={'was_impossible': True, 'reason': 'User and/or item is unknown.'}),\n",
              " Prediction(uid='A16038R1YE18UB', iid='B00006RVPW', r_ui=5.0, est=4.470886075949367, details={'actual_k': 0, 'was_impossible': False}),\n",
              " Prediction(uid='A21ISPPXACSBBV', iid='B0000C8VEK', r_ui=5.0, est=4.054844983921575, details={'was_impossible': True, 'reason': 'User and/or item is unknown.'}),\n",
              " Prediction(uid='A1ASZSSPUFNXGZ', iid='B0001AP8CE', r_ui=1.0, est=4.054844983921575, details={'was_impossible': True, 'reason': 'User and/or item is unknown.'}),\n",
              " Prediction(uid='A1K7T2MEKNWRWU', iid='B000066TPO', r_ui=5.0, est=4.054844983921575, details={'was_impossible': True, 'reason': 'User and/or item is unknown.'}),\n",
              " Prediction(uid='AIQ0GTACES5JS', iid='B00005T3G0', r_ui=2.0, est=4.054844983921575, details={'was_impossible': True, 'reason': 'User and/or item is unknown.'}),\n",
              " Prediction(uid='A3H283B2LBGJ3N', iid='B00005AWBJ', r_ui=1.0, est=4.054844983921575, details={'was_impossible': True, 'reason': 'User and/or item is unknown.'}),\n",
              " Prediction(uid='A1T86I1X8ARGT8', iid='B00006IS4X', r_ui=5.0, est=4.054844983921575, details={'was_impossible': True, 'reason': 'User and/or item is unknown.'}),\n",
              " Prediction(uid='A63N5MX3T0I6Z', iid='B0000B3E8U', r_ui=1.0, est=4.054844983921575, details={'was_impossible': True, 'reason': 'User and/or item is unknown.'}),\n",
              " Prediction(uid='A22XQHXBEJW684', iid='B0001A06GW', r_ui=5.0, est=4.580327868852459, details={'actual_k': 0, 'was_impossible': False}),\n",
              " Prediction(uid='A1ZOYQ41EGZJ7D', iid='B0001PFO3C', r_ui=5.0, est=3.324324324324324, details={'actual_k': 0, 'was_impossible': False}),\n",
              " Prediction(uid='A2LS3NN40T8Q3J', iid='B0000A0AEO', r_ui=5.0, est=4.054844983921575, details={'was_impossible': True, 'reason': 'User and/or item is unknown.'}),\n",
              " Prediction(uid='ADH8INKV5UQDB', iid='B0000ACCJA', r_ui=1.0, est=4.054844983921575, details={'was_impossible': True, 'reason': 'User and/or item is unknown.'}),\n",
              " Prediction(uid='A3TKPHKITH6KT8', iid='B0001A3N6C', r_ui=5.0, est=4.054844983921575, details={'was_impossible': True, 'reason': 'User and/or item is unknown.'}),\n",
              " Prediction(uid='A3JKJH59ULCHAU', iid='B000001OM5', r_ui=2.0, est=4.054844983921575, details={'was_impossible': True, 'reason': 'User and/or item is unknown.'}),\n",
              " Prediction(uid='A2U5XK9SFMJCOU', iid='B000088NO8', r_ui=5.0, est=4.054844983921575, details={'was_impossible': True, 'reason': 'User and/or item is unknown.'}),\n",
              " Prediction(uid='A1J87C2DKBO441', iid='B00000JSGF', r_ui=4.0, est=4.054844983921575, details={'was_impossible': True, 'reason': 'User and/or item is unknown.'}),\n",
              " Prediction(uid='A3A45P6LX75D3O', iid='B0001M3982', r_ui=4.0, est=4.054844983921575, details={'was_impossible': True, 'reason': 'User and/or item is unknown.'}),\n",
              " Prediction(uid='A2YQQVNMB64UZO', iid='B0000632T3', r_ui=5.0, est=4.054844983921575, details={'was_impossible': True, 'reason': 'User and/or item is unknown.'}),\n",
              " Prediction(uid='ADQ0T89TVMRJU', iid='B00007K3A3', r_ui=5.0, est=3.6206896551724137, details={'actual_k': 0, 'was_impossible': False}),\n",
              " Prediction(uid='A3V5T2UWSO8A3O', iid='B00006I5TD', r_ui=1.0, est=4.054844983921575, details={'was_impossible': True, 'reason': 'User and/or item is unknown.'}),\n",
              " Prediction(uid='A2L0F2T1DLTNT8', iid='B00007GQLS', r_ui=5.0, est=4.630841121495327, details={'actual_k': 0, 'was_impossible': False}),\n",
              " Prediction(uid='A3QNDL1Z8VR4K4', iid='B0000AAAPF', r_ui=1.0, est=4.054844983921575, details={'was_impossible': True, 'reason': 'User and/or item is unknown.'}),\n",
              " Prediction(uid='A1NAP0D9XV7KA5', iid='B00001WRSJ', r_ui=5.0, est=4.054844983921575, details={'was_impossible': True, 'reason': 'User and/or item is unknown.'}),\n",
              " Prediction(uid='A2JW6RIPA8Y2G7', iid='B000062VUO', r_ui=5.0, est=4.054844983921575, details={'was_impossible': True, 'reason': 'User and/or item is unknown.'}),\n",
              " Prediction(uid='A2W3P57GS6YY2C', iid='B00005ATZO', r_ui=5.0, est=4.054844983921575, details={'was_impossible': True, 'reason': 'User and/or item is unknown.'}),\n",
              " Prediction(uid='AUUR2DUJYRA6D', iid='B00006I560', r_ui=1.0, est=4.054844983921575, details={'was_impossible': True, 'reason': 'User and/or item is unknown.'}),\n",
              " Prediction(uid='A3TAZ0ZIFJEAZ8', iid='B000167KPQ', r_ui=1.0, est=4.054844983921575, details={'was_impossible': True, 'reason': 'User and/or item is unknown.'}),\n",
              " Prediction(uid='A112K64BB08MKJ', iid='B000069Z5U', r_ui=1.0, est=4.054844983921575, details={'was_impossible': True, 'reason': 'User and/or item is unknown.'}),\n",
              " Prediction(uid='A35BYIOQ7IUYZO', iid='B000094Q77', r_ui=5.0, est=4.054844983921575, details={'was_impossible': True, 'reason': 'User and/or item is unknown.'}),\n",
              " Prediction(uid='A36MO6QQ6QIKWU', iid='B00006HYKM', r_ui=4.0, est=4.054844983921575, details={'was_impossible': True, 'reason': 'User and/or item is unknown.'}),\n",
              " Prediction(uid='A3IXO6XUMPKEQ1', iid='B00003CWDH', r_ui=5.0, est=4.054844983921575, details={'was_impossible': True, 'reason': 'User and/or item is unknown.'}),\n",
              " Prediction(uid='A1PELZS7CTK9Y7', iid='B00008ZPJQ', r_ui=5.0, est=4.054844983921575, details={'was_impossible': True, 'reason': 'User and/or item is unknown.'}),\n",
              " Prediction(uid='A3R0LOL88XPS1I', iid='B0001LS35W', r_ui=5.0, est=4.054844983921575, details={'was_impossible': True, 'reason': 'User and/or item is unknown.'}),\n",
              " Prediction(uid='ARCNQPEO58JWW', iid='B0000510ZO', r_ui=5.0, est=4.054844983921575, details={'was_impossible': True, 'reason': 'User and/or item is unknown.'}),\n",
              " Prediction(uid='A27RUD2VHSSUEL', iid='B00007E7JU', r_ui=3.0, est=4.054844983921575, details={'was_impossible': True, 'reason': 'User and/or item is unknown.'}),\n",
              " Prediction(uid='A3U8YRGLOZ9KN0', iid='B0001M3MVG', r_ui=5.0, est=4.054844983921575, details={'was_impossible': True, 'reason': 'User and/or item is unknown.'}),\n",
              " Prediction(uid='A27EF1BAF21FV9', iid='B00007KDVI', r_ui=5.0, est=4.054844983921575, details={'was_impossible': True, 'reason': 'User and/or item is unknown.'}),\n",
              " Prediction(uid='A3V6YL38FIEDP', iid='B00000J1SC', r_ui=5.0, est=4.054844983921575, details={'was_impossible': True, 'reason': 'User and/or item is unknown.'}),\n",
              " Prediction(uid='A2493TEKSIMV8K', iid='B00000K135', r_ui=5.0, est=4.054844983921575, details={'was_impossible': True, 'reason': 'User and/or item is unknown.'}),\n",
              " Prediction(uid='ABX2QPLO2JUJI', iid='B00008EM7U', r_ui=5.0, est=4.054844983921575, details={'was_impossible': True, 'reason': 'User and/or item is unknown.'}),\n",
              " Prediction(uid='AC6S8GBD5GKXE', iid='B00009R6V0', r_ui=2.0, est=4.595238095238095, details={'actual_k': 0, 'was_impossible': False}),\n",
              " Prediction(uid='A177UUC6OVZ04U', iid='B0000CBJ8J', r_ui=1.0, est=4.054844983921575, details={'was_impossible': True, 'reason': 'User and/or item is unknown.'}),\n",
              " Prediction(uid='A2HKCO8L612U1C', iid='B0001FTVEA', r_ui=4.0, est=4.054844983921575, details={'was_impossible': True, 'reason': 'User and/or item is unknown.'}),\n",
              " Prediction(uid='A3EAZ85RL2L4NZ', iid='B00005T3G0', r_ui=5.0, est=4.054844983921575, details={'was_impossible': True, 'reason': 'User and/or item is unknown.'}),\n",
              " Prediction(uid='A161B09784P4U5', iid='B00005Y6OR', r_ui=1.0, est=4.054844983921575, details={'was_impossible': True, 'reason': 'User and/or item is unknown.'}),\n",
              " Prediction(uid='A1NROERU1MVHR3', iid='B00004ZCAT', r_ui=4.0, est=4.054844983921575, details={'was_impossible': True, 'reason': 'User and/or item is unknown.'}),\n",
              " Prediction(uid='A2WSI8HOWHFDOT', iid='B0001LTT5K', r_ui=5.0, est=4.18716577540107, details={'actual_k': 0, 'was_impossible': False}),\n",
              " Prediction(uid='A1A7S6OB6UZQYO', iid='B00007EDM8', r_ui=2.0, est=4.054844983921575, details={'was_impossible': True, 'reason': 'User and/or item is unknown.'}),\n",
              " Prediction(uid='A39K8OFTKWHXNJ', iid='B0001KO7UI', r_ui=4.0, est=4.054844983921575, details={'was_impossible': True, 'reason': 'User and/or item is unknown.'}),\n",
              " Prediction(uid='A36NGYHLLCSC5P', iid='B0001M47F6', r_ui=2.0, est=4.054844983921575, details={'was_impossible': True, 'reason': 'User and/or item is unknown.'}),\n",
              " Prediction(uid='A16YN7KVSHNHMK', iid='B00009R94Q', r_ui=5.0, est=4.054844983921575, details={'was_impossible': True, 'reason': 'User and/or item is unknown.'}),\n",
              " Prediction(uid='A2X4HOIOTTU77Z', iid='B00006I5J7', r_ui=5.0, est=4.7111913357400725, details={'actual_k': 0, 'was_impossible': False}),\n",
              " Prediction(uid='A200QKFLMVXT6R', iid='B00009R8EK', r_ui=5.0, est=4.054844983921575, details={'was_impossible': True, 'reason': 'User and/or item is unknown.'}),\n",
              " Prediction(uid='APXJEGIZH1EZ6', iid='B00000J1EQ', r_ui=5.0, est=4.054844983921575, details={'was_impossible': True, 'reason': 'User and/or item is unknown.'}),\n",
              " Prediction(uid='A1DZOWG6B8KBGW', iid='B00017LSPI', r_ui=5.0, est=4.604527296937417, details={'actual_k': 0, 'was_impossible': False}),\n",
              " Prediction(uid='A2V2TUWPI3VP9K', iid='B00007E7C8', r_ui=3.0, est=4.054844983921575, details={'was_impossible': True, 'reason': 'User and/or item is unknown.'}),\n",
              " Prediction(uid='A1091HZ89GVNSM', iid='B00007E7C8', r_ui=4.0, est=4.054844983921575, details={'was_impossible': True, 'reason': 'User and/or item is unknown.'}),\n",
              " Prediction(uid='A2FZCQIW16ELZU', iid='B0001F22PA', r_ui=4.0, est=4.054844983921575, details={'was_impossible': True, 'reason': 'User and/or item is unknown.'}),\n",
              " Prediction(uid='A1COHS8ZFPODER', iid='B00005NVPW', r_ui=4.0, est=4.054844983921575, details={'was_impossible': True, 'reason': 'User and/or item is unknown.'}),\n",
              " Prediction(uid='A3UI6CTFWL721L', iid='B00001P4ZH', r_ui=5.0, est=5, details={'actual_k': 1, 'was_impossible': False}),\n",
              " Prediction(uid='A3JYCUIBLWAD46', iid='B000058BCR', r_ui=4.0, est=4.054844983921575, details={'was_impossible': True, 'reason': 'User and/or item is unknown.'}),\n",
              " Prediction(uid='A2HQYBADXKURJY', iid='B00004WCFY', r_ui=5.0, est=4.054844983921575, details={'was_impossible': True, 'reason': 'User and/or item is unknown.'}),\n",
              " Prediction(uid='A3BCXZQ62SBYNG', iid='B0000510ZO', r_ui=5.0, est=4.054844983921575, details={'was_impossible': True, 'reason': 'User and/or item is unknown.'}),\n",
              " Prediction(uid='ARFHZN2ASB0LV', iid='B00006B9W3', r_ui=4.0, est=4.054844983921575, details={'was_impossible': True, 'reason': 'User and/or item is unknown.'}),\n",
              " Prediction(uid='A2WXL8533AVESA', iid='B00000J061', r_ui=5.0, est=5, details={'actual_k': 1, 'was_impossible': False}),\n",
              " Prediction(uid='A1EM6NWLWY2KWS', iid='B00005LE75', r_ui=5.0, est=5, details={'actual_k': 1, 'was_impossible': False}),\n",
              " Prediction(uid='A15868VVCYQTJU', iid='B00002SWHH', r_ui=5.0, est=4.367924528301887, details={'actual_k': 0, 'was_impossible': False}),\n",
              " Prediction(uid='A33VJTQW0Y930K', iid='B0001CNMFM', r_ui=5.0, est=4.054844983921575, details={'was_impossible': True, 'reason': 'User and/or item is unknown.'}),\n",
              " Prediction(uid='A3DGMJN91IUKGU', iid='B000068O16', r_ui=5.0, est=4.054844983921575, details={'was_impossible': True, 'reason': 'User and/or item is unknown.'}),\n",
              " Prediction(uid='A37D0RO6MQ230W', iid='B00004ZCJE', r_ui=5.0, est=4.129194630872483, details={'actual_k': 0, 'was_impossible': False}),\n",
              " Prediction(uid='A2R1MO9UHBFWSJ', iid='B0000C73CQ', r_ui=5.0, est=4.054844983921575, details={'was_impossible': True, 'reason': 'User and/or item is unknown.'}),\n",
              " Prediction(uid='A1DN7F2GGA5EGX', iid='B00015GYTU', r_ui=4.0, est=3.9318181818181817, details={'actual_k': 0, 'was_impossible': False}),\n",
              " Prediction(uid='ACSLUBAVI5HDZ', iid='B00005B8HO', r_ui=1.0, est=4.054844983921575, details={'was_impossible': True, 'reason': 'User and/or item is unknown.'}),\n",
              " Prediction(uid='A1CTB7R47YPM9Y', iid='B00004T1XE', r_ui=5.0, est=4.054844983921575, details={'was_impossible': True, 'reason': 'User and/or item is unknown.'}),\n",
              " Prediction(uid='A1Z5JY8PQ8HR6Z', iid='B00004Z5PY', r_ui=5.0, est=4.054844983921575, details={'was_impossible': True, 'reason': 'User and/or item is unknown.'}),\n",
              " Prediction(uid='A1TBPYQ37PDJ0Y', iid='B0001JSSLI', r_ui=4.0, est=4.054844983921575, details={'was_impossible': True, 'reason': 'User and/or item is unknown.'}),\n",
              " Prediction(uid='A2M70EAA77EI0F', iid='B00006RVPW', r_ui=5.0, est=4.054844983921575, details={'was_impossible': True, 'reason': 'User and/or item is unknown.'}),\n",
              " Prediction(uid='A3JK3WL1EWEQ2H', iid='B00007EDZG', r_ui=4.0, est=4.054844983921575, details={'was_impossible': True, 'reason': 'User and/or item is unknown.'}),\n",
              " Prediction(uid='AHR8N0AJICVC7', iid='B00007E8D2', r_ui=3.0, est=4.054844983921575, details={'was_impossible': True, 'reason': 'User and/or item is unknown.'}),\n",
              " Prediction(uid='A1Q6BRDGEIB204', iid='B0001A99LA', r_ui=5.0, est=4.054844983921575, details={'was_impossible': True, 'reason': 'User and/or item is unknown.'}),\n",
              " Prediction(uid='A3AEBZO7OXBVGK', iid='B00009W8XH', r_ui=5.0, est=4.054844983921575, details={'was_impossible': True, 'reason': 'User and/or item is unknown.'}),\n",
              " Prediction(uid='A1ANW6720PDYD4', iid='B00009MDBQ', r_ui=4.0, est=4.054844983921575, details={'was_impossible': True, 'reason': 'User and/or item is unknown.'}),\n",
              " Prediction(uid='A277LPBK3LASRQ', iid='B0000DIET2', r_ui=3.0, est=3.6129032258064515, details={'actual_k': 0, 'was_impossible': False}),\n",
              " Prediction(uid='A27ETV9NIP9XL3', iid='B000056SSM', r_ui=3.0, est=4.054844983921575, details={'was_impossible': True, 'reason': 'User and/or item is unknown.'}),\n",
              " Prediction(uid='AMZC7PFI0W96O', iid='B00007E7JU', r_ui=4.0, est=4.15782219856604, details={'actual_k': 3, 'was_impossible': False}),\n",
              " Prediction(uid='A11FEQYE5UGRXM', iid='B00004VX3T', r_ui=5.0, est=4.054844983921575, details={'was_impossible': True, 'reason': 'User and/or item is unknown.'}),\n",
              " Prediction(uid='A1RJZA5HP9TODZ', iid='B000067RC4', r_ui=5.0, est=4.054844983921575, details={'was_impossible': True, 'reason': 'User and/or item is unknown.'}),\n",
              " Prediction(uid='A30ZZEBGW913GE', iid='B0001H27PS', r_ui=5.0, est=4.054844983921575, details={'was_impossible': True, 'reason': 'User and/or item is unknown.'}),\n",
              " Prediction(uid='A20O16QGSJBG40', iid='B0001WN0M2', r_ui=1.0, est=4.054844983921575, details={'was_impossible': True, 'reason': 'User and/or item is unknown.'}),\n",
              " Prediction(uid='A26I2VVDNFP37S', iid='B0000Y2WYS', r_ui=5.0, est=4.054844983921575, details={'was_impossible': True, 'reason': 'User and/or item is unknown.'}),\n",
              " Prediction(uid='A17D5246QBXGII', iid='B00005T39Y', r_ui=1.0, est=4.054844983921575, details={'was_impossible': True, 'reason': 'User and/or item is unknown.'}),\n",
              " Prediction(uid='A7U0UW58QD00D', iid='B00005U244', r_ui=5.0, est=4.054844983921575, details={'was_impossible': True, 'reason': 'User and/or item is unknown.'}),\n",
              " Prediction(uid='A31MBYRP20P8AA', iid='B00005ATMB', r_ui=4.0, est=4.054844983921575, details={'was_impossible': True, 'reason': 'User and/or item is unknown.'}),\n",
              " Prediction(uid='ARC12E37FQUA0', iid='B00006I5JA', r_ui=5.0, est=4.054844983921575, details={'was_impossible': True, 'reason': 'User and/or item is unknown.'}),\n",
              " Prediction(uid='A2Y17UYBZON9QY', iid='B00009UT3F', r_ui=5.0, est=4.236641221374046, details={'actual_k': 0, 'was_impossible': False}),\n",
              " Prediction(uid='A3A1E05J5PXADW', iid='B000095S9V', r_ui=3.0, est=1.8696428571428576, details={'actual_k': 1, 'was_impossible': False}),\n",
              " Prediction(uid='A3AD0Z9J10WJGW', iid='B00005ATMB', r_ui=5.0, est=4.054844983921575, details={'was_impossible': True, 'reason': 'User and/or item is unknown.'}),\n",
              " Prediction(uid='A2SIDSOSHGBLI6', iid='B00005NIMJ', r_ui=1.0, est=4.054844983921575, details={'was_impossible': True, 'reason': 'User and/or item is unknown.'}),\n",
              " Prediction(uid='A3IZYM3VOGLQBW', iid='B00006HZ0K', r_ui=5.0, est=4.054844983921575, details={'was_impossible': True, 'reason': 'User and/or item is unknown.'}),\n",
              " Prediction(uid='A3G21SUM0LID5X', iid='B00004SYNX', r_ui=2.0, est=4.054844983921575, details={'was_impossible': True, 'reason': 'User and/or item is unknown.'}),\n",
              " Prediction(uid='A153K6XUY9L0CF', iid='B00002NDRQ', r_ui=5.0, est=4.054844983921575, details={'was_impossible': True, 'reason': 'User and/or item is unknown.'}),\n",
              " Prediction(uid='A3F8XKWB9AUU3E', iid='B00000JSGF', r_ui=5.0, est=4.054844983921575, details={'was_impossible': True, 'reason': 'User and/or item is unknown.'}),\n",
              " Prediction(uid='A13AMFOTCZD31X', iid='B0000B006W', r_ui=4.0, est=4.054844983921575, details={'was_impossible': True, 'reason': 'User and/or item is unknown.'}),\n",
              " Prediction(uid='A276M9HID7XUVR', iid='B00008SB1D', r_ui=4.0, est=4.054844983921575, details={'was_impossible': True, 'reason': 'User and/or item is unknown.'}),\n",
              " Prediction(uid='A28C8WZIY360ZY', iid='B00006HSML', r_ui=5.0, est=4.054844983921575, details={'was_impossible': True, 'reason': 'User and/or item is unknown.'}),\n",
              " Prediction(uid='A3KMDP0WCLKOXB', iid='B000067G0J', r_ui=5.0, est=3.16600790513834, details={'actual_k': 0, 'was_impossible': False}),\n",
              " Prediction(uid='A3VBXQKRM7A4JR', iid='B000097O5F', r_ui=5.0, est=4.054844983921575, details={'was_impossible': True, 'reason': 'User and/or item is unknown.'}),\n",
              " Prediction(uid='AG08KHIO8TVPY', iid='9983891212', r_ui=5.0, est=5, details={'actual_k': 1, 'was_impossible': False}),\n",
              " Prediction(uid='A3RYV3TTPYU24B', iid='B00009V3CG', r_ui=5.0, est=4.054844983921575, details={'was_impossible': True, 'reason': 'User and/or item is unknown.'}),\n",
              " Prediction(uid='A16PUEOE0Y8U1', iid='B000165AOY', r_ui=5.0, est=4.054844983921575, details={'was_impossible': True, 'reason': 'User and/or item is unknown.'}),\n",
              " Prediction(uid='AMFH07X91TV6K', iid='B0000AMK36', r_ui=3.0, est=4.054844983921575, details={'was_impossible': True, 'reason': 'User and/or item is unknown.'}),\n",
              " Prediction(uid='A1JU2YQ95QSLSE', iid='B000062VUO', r_ui=5.0, est=4.054844983921575, details={'was_impossible': True, 'reason': 'User and/or item is unknown.'}),\n",
              " Prediction(uid='A2OI5LV1HT9H2G', iid='B0000632FZ', r_ui=3.0, est=2.816326530612245, details={'actual_k': 0, 'was_impossible': False}),\n",
              " Prediction(uid='A22SBXZICJNTQ1', iid='B00009R6FV', r_ui=4.0, est=4.8, details={'actual_k': 0, 'was_impossible': False}),\n",
              " Prediction(uid='A1VGUYMZ21F3L4', iid='B00009R6WT', r_ui=5.0, est=5, details={'actual_k': 1, 'was_impossible': False}),\n",
              " Prediction(uid='A33S0K3S3FMWUY', iid='B000092TT0', r_ui=5.0, est=4.054844983921575, details={'was_impossible': True, 'reason': 'User and/or item is unknown.'}),\n",
              " Prediction(uid='A3NRM6UHL9MITS', iid='B00006BXBS', r_ui=5.0, est=4.054844983921575, details={'was_impossible': True, 'reason': 'User and/or item is unknown.'}),\n",
              " Prediction(uid='A29ON794O9LTNR', iid='B0000C3GWU', r_ui=3.0, est=4.054844983921575, details={'was_impossible': True, 'reason': 'User and/or item is unknown.'}),\n",
              " Prediction(uid='A1F2EEP74S57N9', iid='B0001F22PA', r_ui=4.0, est=4.054844983921575, details={'was_impossible': True, 'reason': 'User and/or item is unknown.'}),\n",
              " Prediction(uid='A1FCWH158BDXMQ', iid='B0000WKYU4', r_ui=3.0, est=4.054844983921575, details={'was_impossible': True, 'reason': 'User and/or item is unknown.'}),\n",
              " Prediction(uid='A7LNN8GP6N9EI', iid='B0001H29OW', r_ui=1.0, est=4.054844983921575, details={'was_impossible': True, 'reason': 'User and/or item is unknown.'}),\n",
              " Prediction(uid='ASP68L1IVTD3S', iid='B00006I5TD', r_ui=5.0, est=4.054844983921575, details={'was_impossible': True, 'reason': 'User and/or item is unknown.'}),\n",
              " Prediction(uid='A34LJ62YXXVAOG', iid='B000067O5G', r_ui=5.0, est=3.717948717948718, details={'actual_k': 0, 'was_impossible': False}),\n",
              " Prediction(uid='A2D7J0NWQY6U2J', iid='B00009MF83', r_ui=5.0, est=4.054844983921575, details={'was_impossible': True, 'reason': 'User and/or item is unknown.'}),\n",
              " Prediction(uid='A1KIE44S4ACXO0', iid='B000087BXU', r_ui=2.0, est=4.054844983921575, details={'was_impossible': True, 'reason': 'User and/or item is unknown.'}),\n",
              " Prediction(uid='A3919OY5IUHPZF', iid='B0000C8VEK', r_ui=5.0, est=4.532110091743119, details={'actual_k': 0, 'was_impossible': False}),\n",
              " Prediction(uid='AB5JSX3CBBAIB', iid='B00001WRSJ', r_ui=5.0, est=4.054844983921575, details={'was_impossible': True, 'reason': 'User and/or item is unknown.'}),\n",
              " Prediction(uid='A1ZW9PQQFM85W5', iid='B00005BC0K', r_ui=4.0, est=4.054844983921575, details={'was_impossible': True, 'reason': 'User and/or item is unknown.'}),\n",
              " Prediction(uid='AU18BIBNCO8CE', iid='B0001DZ38U', r_ui=5.0, est=4.054844983921575, details={'was_impossible': True, 'reason': 'User and/or item is unknown.'}),\n",
              " Prediction(uid='A1FZM1MRILZZBD', iid='B0001LS0ZU', r_ui=4.0, est=4.054844983921575, details={'was_impossible': True, 'reason': 'User and/or item is unknown.'}),\n",
              " Prediction(uid='A1RPTVW5VEOSI', iid='B00005NOKT', r_ui=5.0, est=3.8548387096774195, details={'actual_k': 0, 'was_impossible': False}),\n",
              " Prediction(uid='A13Q1O502PNW1G', iid='B00005ML7Q', r_ui=5.0, est=4.054844983921575, details={'was_impossible': True, 'reason': 'User and/or item is unknown.'}),\n",
              " Prediction(uid='A1166ELZFWJNU3', iid='B00006RVPW', r_ui=5.0, est=4.054844983921575, details={'was_impossible': True, 'reason': 'User and/or item is unknown.'}),\n",
              " Prediction(uid='A1X2PVXLTM61RM', iid='1400532655', r_ui=2.0, est=4.054844983921575, details={'was_impossible': True, 'reason': 'User and/or item is unknown.'}),\n",
              " Prediction(uid='AC0FVO6WHQWM9', iid='B000095SA6', r_ui=5.0, est=4.282051282051282, details={'actual_k': 0, 'was_impossible': False}),\n",
              " Prediction(uid='A3GJF1RYLXMQOD', iid='B000067V62', r_ui=1.0, est=4.054844983921575, details={'was_impossible': True, 'reason': 'User and/or item is unknown.'}),\n",
              " Prediction(uid='A3BQ1D80A79NXC', iid='B0000645RH', r_ui=5.0, est=4.054844983921575, details={'was_impossible': True, 'reason': 'User and/or item is unknown.'}),\n",
              " Prediction(uid='A2LIZ7TLFIRBX1', iid='B0001MQSB2', r_ui=1.0, est=4.054844983921575, details={'was_impossible': True, 'reason': 'User and/or item is unknown.'}),\n",
              " Prediction(uid='A3TGH6JD2Q46MX', iid='B000065BP9', r_ui=5.0, est=4.054844983921575, details={'was_impossible': True, 'reason': 'User and/or item is unknown.'}),\n",
              " Prediction(uid='A2316ZZS4HACN', iid='B000068O3T', r_ui=5.0, est=4.054844983921575, details={'was_impossible': True, 'reason': 'User and/or item is unknown.'}),\n",
              " Prediction(uid='A1YXOCELGUR73P', iid='B00004SABJ', r_ui=5.0, est=3.6415770609319, details={'actual_k': 0, 'was_impossible': False}),\n",
              " Prediction(uid='A3MCENY8W7I4BK', iid='B00000JPPI', r_ui=1.0, est=4.054844983921575, details={'was_impossible': True, 'reason': 'User and/or item is unknown.'}),\n",
              " Prediction(uid='A3VOPQMHCMP2FI', iid='B0000CE1UO', r_ui=2.0, est=4.054844983921575, details={'was_impossible': True, 'reason': 'User and/or item is unknown.'}),\n",
              " Prediction(uid='AMPSQGFELG8AZ', iid='B0000DC643', r_ui=4.0, est=4.054844983921575, details={'was_impossible': True, 'reason': 'User and/or item is unknown.'}),\n",
              " Prediction(uid='AI9FL33E30LEJ', iid='B000069EV0', r_ui=5.0, est=4.054844983921575, details={'was_impossible': True, 'reason': 'User and/or item is unknown.'}),\n",
              " Prediction(uid='A0586418108XHQA8T1IQO', iid='B00009XVCZ', r_ui=5.0, est=4.054844983921575, details={'was_impossible': True, 'reason': 'User and/or item is unknown.'}),\n",
              " Prediction(uid='A2LKD5NXOGRZ3M', iid='B0000B3ALD', r_ui=5.0, est=4.5, details={'actual_k': 0, 'was_impossible': False}),\n",
              " Prediction(uid='A273KLAZFNI4Y4', iid='B0000A0AJH', r_ui=1.0, est=4.054844983921575, details={'was_impossible': True, 'reason': 'User and/or item is unknown.'}),\n",
              " Prediction(uid='AOMS64TL5GTWL', iid='B0000DC643', r_ui=5.0, est=4.054844983921575, details={'was_impossible': True, 'reason': 'User and/or item is unknown.'}),\n",
              " Prediction(uid='A1LSSI2SX2D6YL', iid='B0001H27PS', r_ui=4.0, est=4.054844983921575, details={'was_impossible': True, 'reason': 'User and/or item is unknown.'}),\n",
              " Prediction(uid='AJTSWE9OB2530', iid='B000065BP9', r_ui=5.0, est=4.054844983921575, details={'was_impossible': True, 'reason': 'User and/or item is unknown.'}),\n",
              " Prediction(uid='A3I2VMQW9YVSN2', iid='B0001FTVEK', r_ui=4.0, est=4.054844983921575, details={'was_impossible': True, 'reason': 'User and/or item is unknown.'}),\n",
              " Prediction(uid='A2HCY6Z14GCJ20', iid='B00005A3MB', r_ui=4.0, est=4.054844983921575, details={'was_impossible': True, 'reason': 'User and/or item is unknown.'}),\n",
              " Prediction(uid='A3UAWTJFRYG2D5', iid='B00008O35W', r_ui=5.0, est=4.054844983921575, details={'was_impossible': True, 'reason': 'User and/or item is unknown.'}),\n",
              " Prediction(uid='A3FCJW97O2B4VG', iid='B0000VYJRY', r_ui=5.0, est=4.5394736842105265, details={'actual_k': 0, 'was_impossible': False}),\n",
              " Prediction(uid='AZL4B1XVSRYD', iid='B0000633E0', r_ui=4.0, est=4.054844983921575, details={'was_impossible': True, 'reason': 'User and/or item is unknown.'}),\n",
              " Prediction(uid='A3M6VSHU7QRSXO', iid='B00004Z5D1', r_ui=5.0, est=4.054844983921575, details={'was_impossible': True, 'reason': 'User and/or item is unknown.'}),\n",
              " Prediction(uid='APDMFFYGUB7QQ', iid='B00006B7DB', r_ui=5.0, est=4.054844983921575, details={'was_impossible': True, 'reason': 'User and/or item is unknown.'}),\n",
              " Prediction(uid='A29X06O45CVUMJ', iid='B00007EDM8', r_ui=3.0, est=4.054844983921575, details={'was_impossible': True, 'reason': 'User and/or item is unknown.'}),\n",
              " Prediction(uid='A1CSOOLZWUWB57', iid='B00007KDVI', r_ui=3.0, est=4.054844983921575, details={'was_impossible': True, 'reason': 'User and/or item is unknown.'}),\n",
              " Prediction(uid='A3K4GLVZYAX71U', iid='B0001AP8CE', r_ui=5.0, est=4.054844983921575, details={'was_impossible': True, 'reason': 'User and/or item is unknown.'}),\n",
              " Prediction(uid='A1U2QP8GL4JE1F', iid='B0001FTVEK', r_ui=4.0, est=4.054844983921575, details={'was_impossible': True, 'reason': 'User and/or item is unknown.'}),\n",
              " Prediction(uid='A1ZG43AMTPWWY3', iid='B0000UXOHG', r_ui=5.0, est=4.054844983921575, details={'was_impossible': True, 'reason': 'User and/or item is unknown.'}),\n",
              " Prediction(uid='A3F9BWJAD60263', iid='B0000AQIFW', r_ui=1.0, est=4.054844983921575, details={'was_impossible': True, 'reason': 'User and/or item is unknown.'}),\n",
              " Prediction(uid='A1AEM5YL8BLBCM', iid='B00007M1TZ', r_ui=5.0, est=4.054844983921575, details={'was_impossible': True, 'reason': 'User and/or item is unknown.'}),\n",
              " Prediction(uid='A2C2A0XCL6IZWH', iid='B00019068G', r_ui=1.0, est=4.054844983921575, details={'was_impossible': True, 'reason': 'User and/or item is unknown.'}),\n",
              " Prediction(uid='A3U6GTJI2Z2W60', iid='B000069JWX', r_ui=2.0, est=4.054844983921575, details={'was_impossible': True, 'reason': 'User and/or item is unknown.'}),\n",
              " Prediction(uid='A6FZ4S3IRAVVQ', iid='B00005N6KG', r_ui=4.0, est=4.054844983921575, details={'was_impossible': True, 'reason': 'User and/or item is unknown.'}),\n",
              " Prediction(uid='A2ZVF3C2DQGK58', iid='B000095SB4', r_ui=3.0, est=3.6169354838709675, details={'actual_k': 0, 'was_impossible': False}),\n",
              " Prediction(uid='A30Q56YJAI5OYB', iid='B000085ZKV', r_ui=1.0, est=4.054844983921575, details={'was_impossible': True, 'reason': 'User and/or item is unknown.'}),\n",
              " Prediction(uid='A2RUC7ROAP4HK6', iid='B0001UZQWG', r_ui=3.0, est=4.054844983921575, details={'was_impossible': True, 'reason': 'User and/or item is unknown.'}),\n",
              " Prediction(uid='A2I2FZ9S5KCAJA', iid='B00012F7G4', r_ui=5.0, est=4.054844983921575, details={'was_impossible': True, 'reason': 'User and/or item is unknown.'}),\n",
              " Prediction(uid='A13FTBB7UZ1M4K', iid='B00009UHH2', r_ui=5.0, est=4.054844983921575, details={'was_impossible': True, 'reason': 'User and/or item is unknown.'}),\n",
              " Prediction(uid='A3H73JMUSF0JMV', iid='B00004SABB', r_ui=5.0, est=4.0152777777777775, details={'actual_k': 0, 'was_impossible': False}),\n",
              " Prediction(uid='A33ZO4XGZ09MPG', iid='1400599997', r_ui=5.0, est=4.054844983921575, details={'was_impossible': True, 'reason': 'User and/or item is unknown.'}),\n",
              " Prediction(uid='A1OQS6JOD52Z84', iid='B00000JDF6', r_ui=5.0, est=4.054844983921575, details={'was_impossible': True, 'reason': 'User and/or item is unknown.'}),\n",
              " Prediction(uid='A1HMHG2ZYGSENQ', iid='B00006JQ06', r_ui=5.0, est=4.054844983921575, details={'was_impossible': True, 'reason': 'User and/or item is unknown.'}),\n",
              " Prediction(uid='A12G1L4FUHTJCD', iid='B00005RG4O', r_ui=5.0, est=4.054844983921575, details={'was_impossible': True, 'reason': 'User and/or item is unknown.'}),\n",
              " Prediction(uid='A2KPHIZ2JO0VWS', iid='B00005NIMJ', r_ui=5.0, est=4.054844983921575, details={'was_impossible': True, 'reason': 'User and/or item is unknown.'}),\n",
              " Prediction(uid='A1F5ZNMJV28M6X', iid='B0000ACOBG', r_ui=5.0, est=4.054844983921575, details={'was_impossible': True, 'reason': 'User and/or item is unknown.'}),\n",
              " Prediction(uid='AW3RD74WL1JHM', iid='B00007E7JU', r_ui=1.0, est=4.054844983921575, details={'was_impossible': True, 'reason': 'User and/or item is unknown.'}),\n",
              " Prediction(uid='AERCDUBWJQVM7', iid='B0001LS0ZU', r_ui=1.0, est=4.054844983921575, details={'was_impossible': True, 'reason': 'User and/or item is unknown.'}),\n",
              " Prediction(uid='AADHDED6HUN6Y', iid='B0000B3E8U', r_ui=5.0, est=4.054844983921575, details={'was_impossible': True, 'reason': 'User and/or item is unknown.'}),\n",
              " Prediction(uid='A23ZK9H7ASAJD1', iid='B0000C6E3P', r_ui=4.0, est=4.054844983921575, details={'was_impossible': True, 'reason': 'User and/or item is unknown.'}),\n",
              " Prediction(uid='AIELT44IL62P7', iid='B00009R6TA', r_ui=4.0, est=4.054844983921575, details={'was_impossible': True, 'reason': 'User and/or item is unknown.'}),\n",
              " Prediction(uid='AHE5JRM2UR3HY', iid='B000067RT6', r_ui=5.0, est=5, details={'actual_k': 1, 'was_impossible': False}),\n",
              " Prediction(uid='A3JMQ363OSCWU2', iid='B00004T0RC', r_ui=5.0, est=4.32, details={'actual_k': 0, 'was_impossible': False}),\n",
              " Prediction(uid='AZH2WF2AENYC8', iid='B0001F22PA', r_ui=3.0, est=4.054844983921575, details={'was_impossible': True, 'reason': 'User and/or item is unknown.'}),\n",
              " Prediction(uid='A37E0MDSQ6XYQP', iid='B0000B35CK', r_ui=5.0, est=4.054844983921575, details={'was_impossible': True, 'reason': 'User and/or item is unknown.'}),\n",
              " Prediction(uid='A1EZUNBE3900SM', iid='B00005JAD8', r_ui=5.0, est=4.054844983921575, details={'was_impossible': True, 'reason': 'User and/or item is unknown.'}),\n",
              " Prediction(uid='A2QU43W6QJYNPX', iid='B00007KDVJ', r_ui=5.0, est=4.054844983921575, details={'was_impossible': True, 'reason': 'User and/or item is unknown.'}),\n",
              " Prediction(uid='AIZ4QR2RTJPWY', iid='B00004SABJ', r_ui=5.0, est=3.6415770609319, details={'actual_k': 0, 'was_impossible': False}),\n",
              " Prediction(uid='A1XY50YJJQB1QQ', iid='B0000AZK0D', r_ui=5.0, est=4.054844983921575, details={'was_impossible': True, 'reason': 'User and/or item is unknown.'}),\n",
              " Prediction(uid='A2LUQQ84YOPJBW', iid='B00007EDZG', r_ui=4.0, est=4.054844983921575, details={'was_impossible': True, 'reason': 'User and/or item is unknown.'}),\n",
              " Prediction(uid='A2EHL5JSMXF8LY', iid='B000058EGT', r_ui=5.0, est=4.054844983921575, details={'was_impossible': True, 'reason': 'User and/or item is unknown.'}),\n",
              " Prediction(uid='A2BK3SB9MGJYX0', iid='B00005NWR0', r_ui=2.0, est=3.542372881355932, details={'actual_k': 0, 'was_impossible': False}),\n",
              " Prediction(uid='A33QVK9HKNMF34', iid='B00005AW1H', r_ui=5.0, est=4.054844983921575, details={'was_impossible': True, 'reason': 'User and/or item is unknown.'}),\n",
              " Prediction(uid='A1524UR1QCDSFJ', iid='B00009EFR2', r_ui=5.0, est=4.054844983921575, details={'was_impossible': True, 'reason': 'User and/or item is unknown.'}),\n",
              " Prediction(uid='AYAEBDIO2QF0E', iid='B00005K47X', r_ui=5.0, est=4.054844983921575, details={'was_impossible': True, 'reason': 'User and/or item is unknown.'}),\n",
              " Prediction(uid='A3FZ8H6D4355Q9', iid='B00007E7JU', r_ui=5.0, est=4.054844983921575, details={'was_impossible': True, 'reason': 'User and/or item is unknown.'}),\n",
              " Prediction(uid='A32HRF11AJXXRL', iid='B00009V332', r_ui=5.0, est=4.054844983921575, details={'was_impossible': True, 'reason': 'User and/or item is unknown.'}),\n",
              " Prediction(uid='A1D3CQN43Q2T3F', iid='B00004SABB', r_ui=5.0, est=4.0152777777777775, details={'actual_k': 0, 'was_impossible': False}),\n",
              " Prediction(uid='A19TLFMIQ99QLQ', iid='B0000AR8Z1', r_ui=1.0, est=4.054844983921575, details={'was_impossible': True, 'reason': 'User and/or item is unknown.'}),\n",
              " Prediction(uid='A2A2M8EGBY2FV0', iid='B0000CCY7A', r_ui=4.0, est=1.9295774647887325, details={'actual_k': 0, 'was_impossible': False}),\n",
              " Prediction(uid='A2NX6PABLIJLP1', iid='B00013BNLQ', r_ui=4.0, est=3.702127659574468, details={'actual_k': 0, 'was_impossible': False}),\n",
              " Prediction(uid='A1VDM1J9TJMJXT', iid='B00008XETO', r_ui=1.0, est=4.054844983921575, details={'was_impossible': True, 'reason': 'User and/or item is unknown.'}),\n",
              " Prediction(uid='A3EFTQPPAM9LCR', iid='B0001N3ZRQ', r_ui=2.0, est=4.054844983921575, details={'was_impossible': True, 'reason': 'User and/or item is unknown.'}),\n",
              " Prediction(uid='A30Z0AD984VN8E', iid='B000085ZKV', r_ui=3.0, est=4.054844983921575, details={'was_impossible': True, 'reason': 'User and/or item is unknown.'}),\n",
              " Prediction(uid='A2BG20J1QOUC1S', iid='B0001WXTF0', r_ui=1.0, est=4.054844983921575, details={'was_impossible': True, 'reason': 'User and/or item is unknown.'}),\n",
              " Prediction(uid='A2DO3J31B1DTKX', iid='B0001F22PA', r_ui=1.0, est=4.054844983921575, details={'was_impossible': True, 'reason': 'User and/or item is unknown.'}),\n",
              " Prediction(uid='A1PGAE9VM1XVBE', iid='B0000DB4D1', r_ui=3.0, est=4.054844983921575, details={'was_impossible': True, 'reason': 'User and/or item is unknown.'}),\n",
              " Prediction(uid='A2LLN1FG62JA91', iid='B00006J054', r_ui=5.0, est=4.054844983921575, details={'was_impossible': True, 'reason': 'User and/or item is unknown.'}),\n",
              " Prediction(uid='A3DKTY4HR2EVSO', iid='B00008ZPJU', r_ui=1.0, est=4.054844983921575, details={'was_impossible': True, 'reason': 'User and/or item is unknown.'}),\n",
              " Prediction(uid='AXLR5VWVRZROH', iid='B000067O7T', r_ui=5.0, est=4.8, details={'actual_k': 0, 'was_impossible': False}),\n",
              " Prediction(uid='A1YTIJ3Z3O8EU1', iid='B0000A1VS3', r_ui=5.0, est=4.054844983921575, details={'was_impossible': True, 'reason': 'User and/or item is unknown.'}),\n",
              " Prediction(uid='A369SGIR30DGZ7', iid='B00004TS16', r_ui=4.0, est=4.054844983921575, details={'was_impossible': True, 'reason': 'User and/or item is unknown.'}),\n",
              " Prediction(uid='A2S5XJK8PFYKH9', iid='B00004T8R2', r_ui=5.0, est=4.054844983921575, details={'was_impossible': True, 'reason': 'User and/or item is unknown.'}),\n",
              " Prediction(uid='A18Q5RVZA474JV', iid='B0001FTVEK', r_ui=1.0, est=3.988313413014608, details={'actual_k': 0, 'was_impossible': False}),\n",
              " Prediction(uid='A31YAQSENW97Y9', iid='B00007FGU7', r_ui=5.0, est=3.710027100271003, details={'actual_k': 0, 'was_impossible': False}),\n",
              " Prediction(uid='A2WCJNR0PHDXWE', iid='B00007K3A3', r_ui=5.0, est=4.054844983921575, details={'was_impossible': True, 'reason': 'User and/or item is unknown.'}),\n",
              " Prediction(uid='A1Z38BRMD509OL', iid='B0000C8VEK', r_ui=5.0, est=4.054844983921575, details={'was_impossible': True, 'reason': 'User and/or item is unknown.'}),\n",
              " Prediction(uid='A2V3E6K1RQZM0D', iid='B000063TJY', r_ui=4.0, est=4.054844983921575, details={'was_impossible': True, 'reason': 'User and/or item is unknown.'}),\n",
              " Prediction(uid='AVPTW6Y3P8SQG', iid='B0000658CD', r_ui=1.0, est=4.0, details={'actual_k': 0, 'was_impossible': False}),\n",
              " Prediction(uid='A346GI5ESVGYS4', iid='B0000A0AEM', r_ui=5.0, est=4.054844983921575, details={'was_impossible': True, 'reason': 'User and/or item is unknown.'}),\n",
              " Prediction(uid='A2OZ790UK2V07U', iid='B00007E7JU', r_ui=5.0, est=4.054844983921575, details={'was_impossible': True, 'reason': 'User and/or item is unknown.'}),\n",
              " Prediction(uid='A1U4NV2JLOUWKP', iid='B00008EM7U', r_ui=1.0, est=4.054844983921575, details={'was_impossible': True, 'reason': 'User and/or item is unknown.'}),\n",
              " Prediction(uid='A1ZL5XGB2COKG9', iid='B00006BBAB', r_ui=5.0, est=4.054844983921575, details={'was_impossible': True, 'reason': 'User and/or item is unknown.'}),\n",
              " Prediction(uid='A1FFUK8P234I72', iid='B00008XOHI', r_ui=3.0, est=4.054844983921575, details={'was_impossible': True, 'reason': 'User and/or item is unknown.'}),\n",
              " Prediction(uid='A8JCBPMB1B93B', iid='B00013M6NK', r_ui=1.0, est=4.054844983921575, details={'was_impossible': True, 'reason': 'User and/or item is unknown.'}),\n",
              " Prediction(uid='AR0RDH5YHWNHA', iid='B00006HYMK', r_ui=1.0, est=4.054844983921575, details={'was_impossible': True, 'reason': 'User and/or item is unknown.'}),\n",
              " Prediction(uid='A2K9UG7KULYMGP', iid='B0001PFQ08', r_ui=5.0, est=3.122340425531915, details={'actual_k': 0, 'was_impossible': False}),\n",
              " Prediction(uid='A1GMQV2UYMLQ0A', iid='B00008I9K9', r_ui=1.0, est=3.019230769230769, details={'actual_k': 0, 'was_impossible': False}),\n",
              " Prediction(uid='A37ZW5VNQTIO5S', iid='B00006B9H9', r_ui=2.0, est=3.53, details={'actual_k': 0, 'was_impossible': False}),\n",
              " Prediction(uid='A2MX4RR0MC3UOI', iid='B00008X5DE', r_ui=4.0, est=4.054844983921575, details={'was_impossible': True, 'reason': 'User and/or item is unknown.'}),\n",
              " Prediction(uid='A1FMGOQ7OYCHZQ', iid='B00005Q4ZV', r_ui=5.0, est=4.054844983921575, details={'was_impossible': True, 'reason': 'User and/or item is unknown.'}),\n",
              " Prediction(uid='AA7CHSYLJOSY4', iid='B0000A1G05', r_ui=5.0, est=4.360501567398119, details={'actual_k': 0, 'was_impossible': False}),\n",
              " Prediction(uid='AF7DOGILFK2WG', iid='B00009UTWC', r_ui=4.0, est=3.707317073170732, details={'actual_k': 0, 'was_impossible': False}),\n",
              " Prediction(uid='A25932ULAHQSB3', iid='B000051299', r_ui=4.0, est=4.054844983921575, details={'was_impossible': True, 'reason': 'User and/or item is unknown.'}),\n",
              " Prediction(uid='AQ6ODF97CAHUB', iid='B00009XVCZ', r_ui=5.0, est=4.054844983921575, details={'was_impossible': True, 'reason': 'User and/or item is unknown.'}),\n",
              " Prediction(uid='A3LG021LVJT20C', iid='B00008Y0VN', r_ui=5.0, est=4.054844983921575, details={'was_impossible': True, 'reason': 'User and/or item is unknown.'}),\n",
              " Prediction(uid='ARAQPMGWAJN4H', iid='B0001PFQ08', r_ui=5.0, est=4.054844983921575, details={'was_impossible': True, 'reason': 'User and/or item is unknown.'}),\n",
              " Prediction(uid='A2AU3MGD14JSN5', iid='B00006HYKM', r_ui=1.0, est=4.054844983921575, details={'was_impossible': True, 'reason': 'User and/or item is unknown.'}),\n",
              " Prediction(uid='A3GV9345ZNODW1', iid='B000095S9H', r_ui=3.0, est=4.5588235294117645, details={'actual_k': 0, 'was_impossible': False}),\n",
              " Prediction(uid='A2D9SSMWSLAKYQ', iid='B00007E7K0', r_ui=5.0, est=4.054844983921575, details={'was_impossible': True, 'reason': 'User and/or item is unknown.'}),\n",
              " Prediction(uid='A3FA3R15CYXE9K', iid='B0000CE1UO', r_ui=5.0, est=4.054844983921575, details={'was_impossible': True, 'reason': 'User and/or item is unknown.'}),\n",
              " Prediction(uid='A3GZ6BK0ADM230', iid='B00009R6TA', r_ui=5.0, est=4.054844983921575, details={'was_impossible': True, 'reason': 'User and/or item is unknown.'}),\n",
              " Prediction(uid='A2UTQDG68YNEWZ', iid='B00009YW8B', r_ui=4.0, est=4.054844983921575, details={'was_impossible': True, 'reason': 'User and/or item is unknown.'}),\n",
              " Prediction(uid='AOJA1LC8PN7K1', iid='B00006I5O1', r_ui=5.0, est=4.8486111111111105, details={'actual_k': 1, 'was_impossible': False}),\n",
              " Prediction(uid='A1PUWI9RTQV19S', iid='B00004Z5D1', r_ui=5.0, est=5, details={'actual_k': 1, 'was_impossible': False}),\n",
              " Prediction(uid='A1FY9SLKB6Z241', iid='B00005ML7Q', r_ui=4.0, est=4.054844983921575, details={'was_impossible': True, 'reason': 'User and/or item is unknown.'}),\n",
              " Prediction(uid='A1SP3QZRT04D88', iid='B00008WMBT', r_ui=5.0, est=4.054844983921575, details={'was_impossible': True, 'reason': 'User and/or item is unknown.'}),\n",
              " Prediction(uid='AIVJRB5BUJU8F', iid='B00007E8D2', r_ui=5.0, est=4.054844983921575, details={'was_impossible': True, 'reason': 'User and/or item is unknown.'}),\n",
              " Prediction(uid='A5Y316AAZBNIP', iid='B00006ELLL', r_ui=1.0, est=4.054844983921575, details={'was_impossible': True, 'reason': 'User and/or item is unknown.'}),\n",
              " Prediction(uid='A2QWEEL6COO84A', iid='B0001FTVEK', r_ui=5.0, est=4.054844983921575, details={'was_impossible': True, 'reason': 'User and/or item is unknown.'}),\n",
              " Prediction(uid='A3HBD94LUH95JB', iid='B00006LK1O', r_ui=2.0, est=3.604651162790698, details={'actual_k': 0, 'was_impossible': False}),\n",
              " Prediction(uid='AKAPW1CCY6IZK', iid='B00005QI59', r_ui=5.0, est=4.142857142857143, details={'actual_k': 0, 'was_impossible': False}),\n",
              " Prediction(uid='AP5F41LCBBA19', iid='B0001FTVEK', r_ui=1.0, est=3.519066695668374, details={'actual_k': 1, 'was_impossible': False}),\n",
              " Prediction(uid='A1WAPSY7LUK4GG', iid='B00005Q4ZV', r_ui=3.0, est=4.054844983921575, details={'was_impossible': True, 'reason': 'User and/or item is unknown.'}),\n",
              " Prediction(uid='A1LJOJ18ILGRCH', iid='B00006BBAC', r_ui=5.0, est=4.054844983921575, details={'was_impossible': True, 'reason': 'User and/or item is unknown.'}),\n",
              " Prediction(uid='A3MH99C138SCNC', iid='B00008ZPJU', r_ui=4.0, est=4.054844983921575, details={'was_impossible': True, 'reason': 'User and/or item is unknown.'}),\n",
              " Prediction(uid='A30EPK9MQ7WA8H', iid='B00004T1XK', r_ui=5.0, est=4.054844983921575, details={'was_impossible': True, 'reason': 'User and/or item is unknown.'}),\n",
              " Prediction(uid='A2SQE54SZ2L0QK', iid='B00006B8BS', r_ui=5.0, est=4.054844983921575, details={'was_impossible': True, 'reason': 'User and/or item is unknown.'}),\n",
              " Prediction(uid='AAS280MLG2ZZD', iid='B00009EHJV', r_ui=5.0, est=4.054844983921575, details={'was_impossible': True, 'reason': 'User and/or item is unknown.'}),\n",
              " Prediction(uid='A48J4OYL4M4B6', iid='B00009R6GE', r_ui=5.0, est=4.780821917808219, details={'actual_k': 0, 'was_impossible': False}),\n",
              " Prediction(uid='A3S7PII1G1S0C0', iid='B00006HYP6', r_ui=4.0, est=4.054844983921575, details={'was_impossible': True, 'reason': 'User and/or item is unknown.'}),\n",
              " Prediction(uid='A1KMJ2C49V3DRM', iid='B00001WRSJ', r_ui=5.0, est=4.054844983921575, details={'was_impossible': True, 'reason': 'User and/or item is unknown.'}),\n",
              " Prediction(uid='AWQNKUDLIQXN4', iid='B00006HYKM', r_ui=5.0, est=4.054844983921575, details={'was_impossible': True, 'reason': 'User and/or item is unknown.'}),\n",
              " Prediction(uid='A24KNIGSPCZHOU', iid='B000062R4P', r_ui=5.0, est=4.054844983921575, details={'was_impossible': True, 'reason': 'User and/or item is unknown.'}),\n",
              " Prediction(uid='A2FWTU9YRG9WGW', iid='B00007IFED', r_ui=5.0, est=4.054844983921575, details={'was_impossible': True, 'reason': 'User and/or item is unknown.'}),\n",
              " Prediction(uid='A1TTYLOJBKIXH3', iid='B00005V5YP', r_ui=5.0, est=4.054844983921575, details={'was_impossible': True, 'reason': 'User and/or item is unknown.'}),\n",
              " Prediction(uid='A2A3RTNMBZHG32', iid='B00006IS4X', r_ui=5.0, est=4.054844983921575, details={'was_impossible': True, 'reason': 'User and/or item is unknown.'}),\n",
              " Prediction(uid='A3PFXEIWWFW0P3', iid='B00007IFED', r_ui=5.0, est=4.054844983921575, details={'was_impossible': True, 'reason': 'User and/or item is unknown.'}),\n",
              " Prediction(uid='A3LJ40GERYZG2M', iid='B00018MSNI', r_ui=5.0, est=5, details={'actual_k': 1, 'was_impossible': False}),\n",
              " Prediction(uid='AYVRPQD2QM69D', iid='B00005BC0J', r_ui=5.0, est=4.054844983921575, details={'was_impossible': True, 'reason': 'User and/or item is unknown.'}),\n",
              " Prediction(uid='A1NGX1XCNEFAEO', iid='B00007E7C8', r_ui=5.0, est=4.054844983921575, details={'was_impossible': True, 'reason': 'User and/or item is unknown.'}),\n",
              " Prediction(uid='A1I17Y34UT2K2L', iid='B0000CE1UO', r_ui=5.0, est=4.054844983921575, details={'was_impossible': True, 'reason': 'User and/or item is unknown.'}),\n",
              " Prediction(uid='A1IVNEZQ3JEBSI', iid='B00006IAAN', r_ui=5.0, est=4.34375, details={'actual_k': 0, 'was_impossible': False}),\n",
              " Prediction(uid='A3VZTB8NG3C9T1', iid='B00007DWEA', r_ui=4.0, est=4.054844983921575, details={'was_impossible': True, 'reason': 'User and/or item is unknown.'}),\n",
              " Prediction(uid='A3NZCV868LCXAJ', iid='B000026D8E', r_ui=1.0, est=4.054844983921575, details={'was_impossible': True, 'reason': 'User and/or item is unknown.'}),\n",
              " Prediction(uid='A2VS5KJCGBS362', iid='B00005LEOO', r_ui=4.0, est=4.054844983921575, details={'was_impossible': True, 'reason': 'User and/or item is unknown.'}),\n",
              " Prediction(uid='AAZYDX29UPBDF', iid='B00019OWU4', r_ui=5.0, est=4.054844983921575, details={'was_impossible': True, 'reason': 'User and/or item is unknown.'}),\n",
              " Prediction(uid='A1885UAX29RY9E', iid='B00000J1TX', r_ui=4.0, est=4.054844983921575, details={'was_impossible': True, 'reason': 'User and/or item is unknown.'}),\n",
              " Prediction(uid='A2USRFOMNH7CGI', iid='B0001VGFKW', r_ui=4.0, est=4.054844983921575, details={'was_impossible': True, 'reason': 'User and/or item is unknown.'}),\n",
              " Prediction(uid='A4FYVY6RCONA5', iid='B00007E7JU', r_ui=5.0, est=4.054844983921575, details={'was_impossible': True, 'reason': 'User and/or item is unknown.'}),\n",
              " Prediction(uid='A1R59A8HGIOYUT', iid='B00009RDIF', r_ui=3.0, est=4.054844983921575, details={'was_impossible': True, 'reason': 'User and/or item is unknown.'}),\n",
              " Prediction(uid='A1J7O6Z77UB5VM', iid='B00006HYPV', r_ui=5.0, est=4.054844983921575, details={'was_impossible': True, 'reason': 'User and/or item is unknown.'}),\n",
              " Prediction(uid='A3V8658VEHEI52', iid='B00004WCGF', r_ui=5.0, est=4.054844983921575, details={'was_impossible': True, 'reason': 'User and/or item is unknown.'}),\n",
              " Prediction(uid='AXO4FIUUPGG59', iid='B0000899ZB', r_ui=5.0, est=4.054844983921575, details={'was_impossible': True, 'reason': 'User and/or item is unknown.'}),\n",
              " Prediction(uid='A1I1OIMYG2NXYG', iid='B0000X0VCY', r_ui=4.0, est=4.054844983921575, details={'was_impossible': True, 'reason': 'User and/or item is unknown.'}),\n",
              " Prediction(uid='A1CF3V4PLHLURR', iid='B0001FTVEA', r_ui=5.0, est=4.054844983921575, details={'was_impossible': True, 'reason': 'User and/or item is unknown.'}),\n",
              " Prediction(uid='A2DJQDWFXAK68I', iid='B00001QEMF', r_ui=5.0, est=4.054844983921575, details={'was_impossible': True, 'reason': 'User and/or item is unknown.'}),\n",
              " Prediction(uid='A1Y8TSZNU1OWST', iid='B0000658CH', r_ui=5.0, est=4.054844983921575, details={'was_impossible': True, 'reason': 'User and/or item is unknown.'}),\n",
              " Prediction(uid='AWS5GNOJR2UKH', iid='B00006JPWW', r_ui=5.0, est=4.054844983921575, details={'was_impossible': True, 'reason': 'User and/or item is unknown.'}),\n",
              " Prediction(uid='ANM51YW4SWY5N', iid='B000065BPB', r_ui=5.0, est=4.054844983921575, details={'was_impossible': True, 'reason': 'User and/or item is unknown.'}),\n",
              " Prediction(uid='A3HRXCZ33N29GI', iid='B00009UU26', r_ui=5.0, est=4.054844983921575, details={'was_impossible': True, 'reason': 'User and/or item is unknown.'}),\n",
              " Prediction(uid='A3DHZTYRTINIKS', iid='B0001FTVEK', r_ui=5.0, est=4.054844983921575, details={'was_impossible': True, 'reason': 'User and/or item is unknown.'}),\n",
              " Prediction(uid='A1E6PW3NXB10JN', iid='B0001XO674', r_ui=5.0, est=4.054844983921575, details={'was_impossible': True, 'reason': 'User and/or item is unknown.'}),\n",
              " Prediction(uid='A3HKL6XEMSAL66', iid='B00007079A', r_ui=2.0, est=4.054844983921575, details={'was_impossible': True, 'reason': 'User and/or item is unknown.'}),\n",
              " Prediction(uid='A15GUGZHO98BP4', iid='B000062R4P', r_ui=5.0, est=4.054844983921575, details={'was_impossible': True, 'reason': 'User and/or item is unknown.'}),\n",
              " Prediction(uid='AGHZXQL9F94T9', iid='B00008PVXA', r_ui=3.0, est=3.870967741935484, details={'actual_k': 0, 'was_impossible': False}),\n",
              " Prediction(uid='A1OYM15ONUQ506', iid='B00012O6QQ', r_ui=5.0, est=4.054844983921575, details={'was_impossible': True, 'reason': 'User and/or item is unknown.'}),\n",
              " Prediction(uid='A2LFAL16WRPQCT', iid='B00000J1F3', r_ui=1.0, est=4.054844983921575, details={'was_impossible': True, 'reason': 'User and/or item is unknown.'}),\n",
              " Prediction(uid='A2B7AWQCC6OU9B', iid='B000092YPR', r_ui=1.0, est=4.054844983921575, details={'was_impossible': True, 'reason': 'User and/or item is unknown.'}),\n",
              " Prediction(uid='A3L1K3PXPU51JQ', iid='B0000A0AE7', r_ui=5.0, est=4.054844983921575, details={'was_impossible': True, 'reason': 'User and/or item is unknown.'}),\n",
              " Prediction(uid='A3C8DRO2ZFI7KC', iid='B000067G0J', r_ui=2.0, est=3.16600790513834, details={'actual_k': 0, 'was_impossible': False}),\n",
              " Prediction(uid='A1RTAG101IYPX6', iid='1400698987', r_ui=3.0, est=4.278846153846154, details={'actual_k': 0, 'was_impossible': False}),\n",
              " Prediction(uid='A1VGIG13YNZ0WR', iid='B000089GN2', r_ui=3.0, est=4.054844983921575, details={'was_impossible': True, 'reason': 'User and/or item is unknown.'}),\n",
              " Prediction(uid='AL392W87HB0OM', iid='9983891212', r_ui=5.0, est=4.054844983921575, details={'was_impossible': True, 'reason': 'User and/or item is unknown.'}),\n",
              " Prediction(uid='A2NRBULOOSX8AJ', iid='B000066R6M', r_ui=4.0, est=4.054844983921575, details={'was_impossible': True, 'reason': 'User and/or item is unknown.'}),\n",
              " Prediction(uid='A3BZJHAZCB5DSC', iid='B00004SQET', r_ui=5.0, est=4.054844983921575, details={'was_impossible': True, 'reason': 'User and/or item is unknown.'}),\n",
              " Prediction(uid='A3NPNFK6YBVKJP', iid='B00007IFED', r_ui=5.0, est=4.054844983921575, details={'was_impossible': True, 'reason': 'User and/or item is unknown.'}),\n",
              " Prediction(uid='AT3RWQXIUK8FA', iid='B00009R6TA', r_ui=2.0, est=4.475479744136461, details={'actual_k': 0, 'was_impossible': False}),\n",
              " Prediction(uid='A2XC9YS1RKTLJN', iid='B00009RA60', r_ui=2.0, est=4.054844983921575, details={'was_impossible': True, 'reason': 'User and/or item is unknown.'}),\n",
              " Prediction(uid='ALGRTA7OUHP23', iid='B000067SOL', r_ui=5.0, est=4.554054054054054, details={'actual_k': 0, 'was_impossible': False}),\n",
              " Prediction(uid='A2MU083UPQG2XU', iid='B0000E658Q', r_ui=1.0, est=4.054844983921575, details={'was_impossible': True, 'reason': 'User and/or item is unknown.'}),\n",
              " Prediction(uid='A2F9SEKEY8I4RJ', iid='B00006IR39', r_ui=4.0, est=4.054844983921575, details={'was_impossible': True, 'reason': 'User and/or item is unknown.'}),\n",
              " Prediction(uid='A1KGMLV9UME4EX', iid='9625993428', r_ui=5.0, est=4.054844983921575, details={'was_impossible': True, 'reason': 'User and/or item is unknown.'}),\n",
              " Prediction(uid='AMC5Y9SMC96Z1', iid='B00000J4GE', r_ui=5.0, est=4.054844983921575, details={'was_impossible': True, 'reason': 'User and/or item is unknown.'}),\n",
              " Prediction(uid='A2WRKND20YI8UO', iid='B00006I5SQ', r_ui=5.0, est=4.054844983921575, details={'was_impossible': True, 'reason': 'User and/or item is unknown.'}),\n",
              " Prediction(uid='A11P105WVK5240', iid='B000093UPO', r_ui=5.0, est=4.318181818181818, details={'actual_k': 0, 'was_impossible': False}),\n",
              " Prediction(uid='A31C650FKQ0AW2', iid='B0001G6UF2', r_ui=1.0, est=4.054844983921575, details={'was_impossible': True, 'reason': 'User and/or item is unknown.'}),\n",
              " Prediction(uid='A1OE51QZ4U44SD', iid='B00005T3BD', r_ui=4.0, est=4.054844983921575, details={'was_impossible': True, 'reason': 'User and/or item is unknown.'}),\n",
              " Prediction(uid='ANL3TNOCYD74Q', iid='B00001W0DH', r_ui=4.0, est=4.054844983921575, details={'was_impossible': True, 'reason': 'User and/or item is unknown.'}),\n",
              " Prediction(uid='A21BPMOV9NV2DJ', iid='B00007EDZG', r_ui=4.0, est=4.393915132105684, details={'actual_k': 0, 'was_impossible': False}),\n",
              " Prediction(uid='AFD11GO2DPJQ8', iid='B0001G6U5M', r_ui=5.0, est=4.054844983921575, details={'was_impossible': True, 'reason': 'User and/or item is unknown.'}),\n",
              " Prediction(uid='A1WJIN59Q5O5J1', iid='B00004RC2D', r_ui=4.0, est=4.054844983921575, details={'was_impossible': True, 'reason': 'User and/or item is unknown.'}),\n",
              " Prediction(uid='A1KDSYLIED5UHM', iid='B00005OM4J', r_ui=5.0, est=4.63265306122449, details={'actual_k': 0, 'was_impossible': False}),\n",
              " Prediction(uid='A1KVVSNIUQS95C', iid='B00005ATMB', r_ui=4.0, est=4.054844983921575, details={'was_impossible': True, 'reason': 'User and/or item is unknown.'}),\n",
              " Prediction(uid='A3MDFHC8MNQVC3', iid='B00009R6V0', r_ui=1.0, est=4.054844983921575, details={'was_impossible': True, 'reason': 'User and/or item is unknown.'}),\n",
              " Prediction(uid='ADOCN5QOZA2HN', iid='B00004ZCKV', r_ui=2.0, est=4.054844983921575, details={'was_impossible': True, 'reason': 'User and/or item is unknown.'}),\n",
              " Prediction(uid='A12TLAE0TOCGQG', iid='B0001VWHH2', r_ui=5.0, est=4.054844983921575, details={'was_impossible': True, 'reason': 'User and/or item is unknown.'}),\n",
              " Prediction(uid='A3TP9ID29KASI4', iid='B0000T8BB6', r_ui=4.0, est=4.054844983921575, details={'was_impossible': True, 'reason': 'User and/or item is unknown.'}),\n",
              " Prediction(uid='A3R4794K2RVU1S', iid='B00006B9W2', r_ui=2.0, est=4.054844983921575, details={'was_impossible': True, 'reason': 'User and/or item is unknown.'}),\n",
              " Prediction(uid='A2NC5MAI6RR5MT', iid='B0001XGQTA', r_ui=5.0, est=4.054844983921575, details={'was_impossible': True, 'reason': 'User and/or item is unknown.'}),\n",
              " Prediction(uid='A2VVE0TDDWK4HY', iid='B00005K47X', r_ui=5.0, est=4.054844983921575, details={'was_impossible': True, 'reason': 'User and/or item is unknown.'}),\n",
              " Prediction(uid='AMGMJGWV4EOUM', iid='B00012F7G4', r_ui=4.0, est=3.9833333333333334, details={'actual_k': 0, 'was_impossible': False}),\n",
              " Prediction(uid='A3FGTMTVOYENT1', iid='B0000AI0OE', r_ui=2.0, est=4.054844983921575, details={'was_impossible': True, 'reason': 'User and/or item is unknown.'}),\n",
              " Prediction(uid='A963RX20PGRO8', iid='B0000BYDKO', r_ui=1.0, est=3.3287292817679557, details={'actual_k': 0, 'was_impossible': False}),\n",
              " Prediction(uid='AM6G6UAP2LDPK', iid='B0000645RH', r_ui=5.0, est=4.054844983921575, details={'was_impossible': True, 'reason': 'User and/or item is unknown.'}),\n",
              " Prediction(uid='AF9TH64VFRDD1', iid='B00005ATMB', r_ui=4.0, est=4.054844983921575, details={'was_impossible': True, 'reason': 'User and/or item is unknown.'}),\n",
              " Prediction(uid='A3LCMQDYGEO5SH', iid='B00009UT28', r_ui=5.0, est=4.054844983921575, details={'was_impossible': True, 'reason': 'User and/or item is unknown.'}),\n",
              " Prediction(uid='AVTS7AHOQ4NH', iid='B000095S9V', r_ui=4.0, est=4.054844983921575, details={'was_impossible': True, 'reason': 'User and/or item is unknown.'}),\n",
              " Prediction(uid='AS0PE1APFP6T0', iid='B00008WIX3', r_ui=5.0, est=4.054844983921575, details={'was_impossible': True, 'reason': 'User and/or item is unknown.'}),\n",
              " Prediction(uid='A1CIIACKZBQ6F8', iid='B00009UT9B', r_ui=1.0, est=4.054844983921575, details={'was_impossible': True, 'reason': 'User and/or item is unknown.'}),\n",
              " Prediction(uid='A1MBQEDGET0DEA', iid='B00005NVBF', r_ui=4.0, est=4.054844983921575, details={'was_impossible': True, 'reason': 'User and/or item is unknown.'}),\n",
              " Prediction(uid='A10PJKHT3DJPXV', iid='B00007KDVI', r_ui=4.0, est=4.054844983921575, details={'was_impossible': True, 'reason': 'User and/or item is unknown.'}),\n",
              " Prediction(uid='A3OS793VNX4FVM', iid='B0000U19F0', r_ui=4.0, est=4.054844983921575, details={'was_impossible': True, 'reason': 'User and/or item is unknown.'}),\n",
              " Prediction(uid='A3Q4WTOYDZENV1', iid='B00004ZCJE', r_ui=5.0, est=4.054844983921575, details={'was_impossible': True, 'reason': 'User and/or item is unknown.'}),\n",
              " Prediction(uid='A3FOOF7Q2GUMXX', iid='B00004TDLD', r_ui=5.0, est=4.054844983921575, details={'was_impossible': True, 'reason': 'User and/or item is unknown.'}),\n",
              " Prediction(uid='A2NH732HEFD8R9', iid='B00006I53X', r_ui=5.0, est=4.054844983921575, details={'was_impossible': True, 'reason': 'User and/or item is unknown.'}),\n",
              " Prediction(uid='A2MXHQB8O9Q5CV', iid='B00007E816', r_ui=2.0, est=4.636363636363637, details={'actual_k': 0, 'was_impossible': False}),\n",
              " Prediction(uid='A1TOYHKHUYJ8EV', iid='B000068O16', r_ui=5.0, est=5, details={'actual_k': 1, 'was_impossible': False}),\n",
              " Prediction(uid='AQ3QG4IPM7B28', iid='B000067RVL', r_ui=5.0, est=4.054844983921575, details={'was_impossible': True, 'reason': 'User and/or item is unknown.'}),\n",
              " Prediction(uid='AWAO68U4PEHA0', iid='B00005QI59', r_ui=2.0, est=4.054844983921575, details={'was_impossible': True, 'reason': 'User and/or item is unknown.'}),\n",
              " Prediction(uid='A243GF4FL8TW1X', iid='B000092YQW', r_ui=3.0, est=3.465909090909091, details={'actual_k': 0, 'was_impossible': False}),\n",
              " Prediction(uid='A30WWTJX0QBD8W', iid='B00004WCID', r_ui=5.0, est=4.054844983921575, details={'was_impossible': True, 'reason': 'User and/or item is unknown.'}),\n",
              " Prediction(uid='A1T7DG72E9LOS', iid='B0000BVYTV', r_ui=3.0, est=4.054844983921575, details={'was_impossible': True, 'reason': 'User and/or item is unknown.'}),\n",
              " Prediction(uid='A3DT1K362FC3OE', iid='B00005NWQN', r_ui=4.0, est=4.054844983921575, details={'was_impossible': True, 'reason': 'User and/or item is unknown.'}),\n",
              " Prediction(uid='A349POBF5A8VWG', iid='B00004ZCJE', r_ui=5.0, est=4.054844983921575, details={'was_impossible': True, 'reason': 'User and/or item is unknown.'}),\n",
              " Prediction(uid='A2O2Q6MHH0INNY', iid='B000087KY8', r_ui=1.0, est=4.054844983921575, details={'was_impossible': True, 'reason': 'User and/or item is unknown.'}),\n",
              " Prediction(uid='AKZ5ILR1X25M3', iid='B000067RVL', r_ui=5.0, est=4.054844983921575, details={'was_impossible': True, 'reason': 'User and/or item is unknown.'}),\n",
              " Prediction(uid='AU7C870VZCKV4', iid='B0001G6U3Y', r_ui=5.0, est=4.528301886792453, details={'actual_k': 0, 'was_impossible': False}),\n",
              " Prediction(uid='AQT7VQSW7UOM2', iid='B0001NA3S0', r_ui=5.0, est=4.054844983921575, details={'was_impossible': True, 'reason': 'User and/or item is unknown.'}),\n",
              " Prediction(uid='A171OFMZU7XP72', iid='B00000JDF5', r_ui=5.0, est=4.054844983921575, details={'was_impossible': True, 'reason': 'User and/or item is unknown.'}),\n",
              " Prediction(uid='A1P4UM3RR6O0MW', iid='B00013BNLQ', r_ui=5.0, est=4.054844983921575, details={'was_impossible': True, 'reason': 'User and/or item is unknown.'}),\n",
              " Prediction(uid='A20ZMUJETY0MUW', iid='B00007E7JU', r_ui=5.0, est=4.054844983921575, details={'was_impossible': True, 'reason': 'User and/or item is unknown.'}),\n",
              " Prediction(uid='A3TDFH3ZT6FF3', iid='B0001LRIT4', r_ui=5.0, est=4.054844983921575, details={'was_impossible': True, 'reason': 'User and/or item is unknown.'}),\n",
              " Prediction(uid='AWXDTVTR4M0I7', iid='B000067V62', r_ui=5.0, est=4.054844983921575, details={'was_impossible': True, 'reason': 'User and/or item is unknown.'}),\n",
              " Prediction(uid='A2YFJ7B70DQM26', iid='B00017LSPI', r_ui=4.0, est=4.604527296937417, details={'actual_k': 0, 'was_impossible': False}),\n",
              " Prediction(uid='A1UDCNXTSTP6RW', iid='B00009XT3H', r_ui=1.0, est=4.081081081081081, details={'actual_k': 0, 'was_impossible': False}),\n",
              " Prediction(uid='A2O6I424ULQ7QB', iid='B00005TQ08', r_ui=5.0, est=4.054844983921575, details={'was_impossible': True, 'reason': 'User and/or item is unknown.'}),\n",
              " Prediction(uid='A3BIER4C0FG6S7', iid='B00005QBUU', r_ui=4.0, est=4.054844983921575, details={'was_impossible': True, 'reason': 'User and/or item is unknown.'}),\n",
              " Prediction(uid='A3CZRD1BX22GWG', iid='B00004T1XK', r_ui=5.0, est=4.054844983921575, details={'was_impossible': True, 'reason': 'User and/or item is unknown.'}),\n",
              " Prediction(uid='A1E2G25Z8BQZ12', iid='B0001G6U4S', r_ui=4.0, est=4.054844983921575, details={'was_impossible': True, 'reason': 'User and/or item is unknown.'}),\n",
              " Prediction(uid='A2ZQZ40C3CU3TJ', iid='B000089GN3', r_ui=5.0, est=4.054844983921575, details={'was_impossible': True, 'reason': 'User and/or item is unknown.'}),\n",
              " Prediction(uid='A2SEU33FMZB04H', iid='B00007EDM0', r_ui=3.0, est=4.054844983921575, details={'was_impossible': True, 'reason': 'User and/or item is unknown.'}),\n",
              " Prediction(uid='A1YZQZ3B6J7J2G', iid='B00004RC2D', r_ui=5.0, est=4.054844983921575, details={'was_impossible': True, 'reason': 'User and/or item is unknown.'}),\n",
              " Prediction(uid='AF0SLI74KRZBY', iid='B00005K47X', r_ui=5.0, est=4.054844983921575, details={'was_impossible': True, 'reason': 'User and/or item is unknown.'}),\n",
              " Prediction(uid='A10WEAF8LY1R6F', iid='B00005Q4ZV', r_ui=2.0, est=4.054844983921575, details={'was_impossible': True, 'reason': 'User and/or item is unknown.'}),\n",
              " Prediction(uid='A28ABCTPKY5UNS', iid='B00006BBAC', r_ui=5.0, est=4.054844983921575, details={'was_impossible': True, 'reason': 'User and/or item is unknown.'}),\n",
              " Prediction(uid='A9G3YJKX8W9YF', iid='B00007EDZG', r_ui=4.0, est=4.054844983921575, details={'was_impossible': True, 'reason': 'User and/or item is unknown.'}),\n",
              " Prediction(uid='A3Q9IIV66P7YP0', iid='B0000AQIFW', r_ui=1.0, est=4.054844983921575, details={'was_impossible': True, 'reason': 'User and/or item is unknown.'}),\n",
              " Prediction(uid='A3OG82JAUVV9J', iid='B000067SMH', r_ui=1.0, est=4.054844983921575, details={'was_impossible': True, 'reason': 'User and/or item is unknown.'}),\n",
              " Prediction(uid='A2J8C4MXQDTJJE', iid='B0001VGFKW', r_ui=1.0, est=4.054844983921575, details={'was_impossible': True, 'reason': 'User and/or item is unknown.'}),\n",
              " Prediction(uid='ACDYSXP9NXNJ4', iid='B00007M1TZ', r_ui=5.0, est=4.054844983921575, details={'was_impossible': True, 'reason': 'User and/or item is unknown.'}),\n",
              " Prediction(uid='A1MEDSPIB1VIBO', iid='B00005T3XH', r_ui=5.0, est=4.054844983921575, details={'was_impossible': True, 'reason': 'User and/or item is unknown.'}),\n",
              " Prediction(uid='A2SJTAWZ7E2DUD', iid='B0001FTVEK', r_ui=5.0, est=4.054844983921575, details={'was_impossible': True, 'reason': 'User and/or item is unknown.'}),\n",
              " Prediction(uid='AZPP54F3WGZOT', iid='B00005LEN4', r_ui=5.0, est=4.054844983921575, details={'was_impossible': True, 'reason': 'User and/or item is unknown.'}),\n",
              " Prediction(uid='A3LG03J5ZHBAZJ', iid='B00004TDN0', r_ui=4.0, est=4.054844983921575, details={'was_impossible': True, 'reason': 'User and/or item is unknown.'}),\n",
              " Prediction(uid='AK0282Y1ULCSI', iid='B000065BPB', r_ui=3.0, est=4.054844983921575, details={'was_impossible': True, 'reason': 'User and/or item is unknown.'}),\n",
              " Prediction(uid='A2HV5TMXW0NTLD', iid='B0000BYBVT', r_ui=4.0, est=4.054844983921575, details={'was_impossible': True, 'reason': 'User and/or item is unknown.'}),\n",
              " Prediction(uid='A1LMCMZO6HXPRR', iid='B00005UK9P', r_ui=1.0, est=4.054844983921575, details={'was_impossible': True, 'reason': 'User and/or item is unknown.'}),\n",
              " Prediction(uid='A3SFYMAGMJYXHC', iid='B0000642RX', r_ui=4.0, est=4.228070175438597, details={'actual_k': 0, 'was_impossible': False}),\n",
              " Prediction(uid='A11YD0OX8BBQQD', iid='B00004TZE5', r_ui=4.0, est=4.054844983921575, details={'was_impossible': True, 'reason': 'User and/or item is unknown.'}),\n",
              " Prediction(uid='AAJ90RYPO1SXN', iid='B00006B81E', r_ui=5.0, est=4.054844983921575, details={'was_impossible': True, 'reason': 'User and/or item is unknown.'}),\n",
              " Prediction(uid='A2DXGM9Y1VCBXA', iid='B00005A9AV', r_ui=3.0, est=4.054844983921575, details={'was_impossible': True, 'reason': 'User and/or item is unknown.'}),\n",
              " Prediction(uid='A32R5R84WPQW3Y', iid='B00007E7QS', r_ui=5.0, est=4.054844983921575, details={'was_impossible': True, 'reason': 'User and/or item is unknown.'}),\n",
              " Prediction(uid='A2I1CL84RBVTQ2', iid='B00008EM7U', r_ui=5.0, est=3.6049382716049383, details={'actual_k': 0, 'was_impossible': False}),\n",
              " Prediction(uid='A1635N3CW53LOF', iid='B00006JPES', r_ui=4.0, est=4.655172413793103, details={'actual_k': 0, 'was_impossible': False}),\n",
              " Prediction(uid='A3PR3KE8N7DNMN', iid='B0001FV36E', r_ui=4.0, est=4.054844983921575, details={'was_impossible': True, 'reason': 'User and/or item is unknown.'}),\n",
              " Prediction(uid='A2FLVZNZBTVK27', iid='B00004VX39', r_ui=5.0, est=3.6250501806503412, details={'actual_k': 1, 'was_impossible': False}),\n",
              " Prediction(uid='A1G5UT9USR9JIL', iid='B000067VB7', r_ui=5.0, est=4.054844983921575, details={'was_impossible': True, 'reason': 'User and/or item is unknown.'}),\n",
              " Prediction(uid='A29H8JSO9GIDNL', iid='B0001FTVDQ', r_ui=5.0, est=4.542857142857143, details={'actual_k': 0, 'was_impossible': False}),\n",
              " Prediction(uid='A2QKCW4Y1GE3GC', iid='B0000DB4D1', r_ui=5.0, est=4.054844983921575, details={'was_impossible': True, 'reason': 'User and/or item is unknown.'}),\n",
              " Prediction(uid='A2YPHBUZ8BVAS7', iid='B00002SWHH', r_ui=5.0, est=4.054844983921575, details={'was_impossible': True, 'reason': 'User and/or item is unknown.'}),\n",
              " Prediction(uid='A2L9O39O92M77C', iid='B0001NNLHK', r_ui=5.0, est=3.962686567164179, details={'actual_k': 0, 'was_impossible': False}),\n",
              " Prediction(uid='A1SXQ7CSLW6KDW', iid='8862935293', r_ui=3.0, est=4.054844983921575, details={'was_impossible': True, 'reason': 'User and/or item is unknown.'}),\n",
              " Prediction(uid='A2YCHGVETJGMQU', iid='B00005B6UF', r_ui=5.0, est=4.054844983921575, details={'was_impossible': True, 'reason': 'User and/or item is unknown.'}),\n",
              " Prediction(uid='A1VOVSFO3ELOJO', iid='B00004ZCJE', r_ui=4.0, est=4.129194630872483, details={'actual_k': 0, 'was_impossible': False}),\n",
              " Prediction(uid='A21JOJ06QM2F6D', iid='B00004TWM6', r_ui=1.0, est=4.054844983921575, details={'was_impossible': True, 'reason': 'User and/or item is unknown.'}),\n",
              " Prediction(uid='A11HD68D6QXXQ6', iid='B00007E7C8', r_ui=4.0, est=4.054844983921575, details={'was_impossible': True, 'reason': 'User and/or item is unknown.'}),\n",
              " Prediction(uid='A2ITILA9FGG7XY', iid='B0000C73CQ', r_ui=5.0, est=4.054844983921575, details={'was_impossible': True, 'reason': 'User and/or item is unknown.'}),\n",
              " Prediction(uid='A3W0A9DQY8XNK3', iid='B00006IR39', r_ui=5.0, est=4.054844983921575, details={'was_impossible': True, 'reason': 'User and/or item is unknown.'}),\n",
              " Prediction(uid='A151EUL2C4GJNE', iid='B00005A1K1', r_ui=3.0, est=4.244791666666667, details={'actual_k': 0, 'was_impossible': False}),\n",
              " Prediction(uid='A15DTD2A93FH50', iid='B00004ZC9V', r_ui=5.0, est=5, details={'actual_k': 1, 'was_impossible': False}),\n",
              " Prediction(uid='A1716PMT2V83CF', iid='B0000DJEK7', r_ui=4.0, est=4.054844983921575, details={'was_impossible': True, 'reason': 'User and/or item is unknown.'}),\n",
              " Prediction(uid='A2E2MQPKGZMFXP', iid='B0001D3K8A', r_ui=5.0, est=4.054844983921575, details={'was_impossible': True, 'reason': 'User and/or item is unknown.'}),\n",
              " Prediction(uid='A3EOV2JPCPK5ZQ', iid='B0000DK5LW', r_ui=3.0, est=4.054844983921575, details={'was_impossible': True, 'reason': 'User and/or item is unknown.'}),\n",
              " Prediction(uid='A1MLLW1TGLYPO6', iid='B000051ZOA', r_ui=5.0, est=4.054844983921575, details={'was_impossible': True, 'reason': 'User and/or item is unknown.'}),\n",
              " Prediction(uid='AJN9LITFYNDB7', iid='B0001VWHH2', r_ui=5.0, est=4.526595744680851, details={'actual_k': 0, 'was_impossible': False}),\n",
              " Prediction(uid='A2PPAI9UI4KSGV', iid='B0001VWHH2', r_ui=5.0, est=4.054844983921575, details={'was_impossible': True, 'reason': 'User and/or item is unknown.'}),\n",
              " Prediction(uid='A9LND6XS9PMVE', iid='B0000C4G79', r_ui=1.0, est=4.054844983921575, details={'was_impossible': True, 'reason': 'User and/or item is unknown.'}),\n",
              " Prediction(uid='A3A36VG147MKYA', iid='B00005Y3OM', r_ui=3.0, est=4.0608108108108105, details={'actual_k': 0, 'was_impossible': False}),\n",
              " Prediction(uid='A6AXA6U8WIXC3', iid='B00005BC0J', r_ui=4.0, est=4.03765690376569, details={'actual_k': 0, 'was_impossible': False}),\n",
              " Prediction(uid='A243R6Q1M7A4ZL', iid='B000066R6M', r_ui=5.0, est=4.0, details={'actual_k': 0, 'was_impossible': False}),\n",
              " Prediction(uid='A1WJ9FLKIY9CI7', iid='B0001D3K3A', r_ui=5.0, est=4.054844983921575, details={'was_impossible': True, 'reason': 'User and/or item is unknown.'}),\n",
              " Prediction(uid='A1M8GVY3N78RIZ', iid='B0000A602S', r_ui=2.0, est=3.0, details={'actual_k': 0, 'was_impossible': False}),\n",
              " Prediction(uid='A3B3MRTSQHYHU3', iid='B0000C8VF9', r_ui=5.0, est=4.1940298507462686, details={'actual_k': 0, 'was_impossible': False}),\n",
              " Prediction(uid='AKVOI39VCQ7MT', iid='B00016UVHU', r_ui=3.0, est=4.054844983921575, details={'was_impossible': True, 'reason': 'User and/or item is unknown.'}),\n",
              " Prediction(uid='A2R7TQUPMQSSFD', iid='B00006I5WJ', r_ui=5.0, est=4.054844983921575, details={'was_impossible': True, 'reason': 'User and/or item is unknown.'}),\n",
              " Prediction(uid='A4DO6F431LOO2', iid='B0000E1VRT', r_ui=5.0, est=4.626373626373627, details={'actual_k': 0, 'was_impossible': False}),\n",
              " Prediction(uid='A1AXFWSPT15RNX', iid='B00007E7C8', r_ui=5.0, est=4.054844983921575, details={'was_impossible': True, 'reason': 'User and/or item is unknown.'}),\n",
              " Prediction(uid='ABYX4MCOFZ3R5', iid='B0000DHVN3', r_ui=4.0, est=4.054844983921575, details={'was_impossible': True, 'reason': 'User and/or item is unknown.'}),\n",
              " Prediction(uid='A3346PMTSAC2BC', iid='B00004XOM3', r_ui=5.0, est=4.054844983921575, details={'was_impossible': True, 'reason': 'User and/or item is unknown.'}),\n",
              " Prediction(uid='A27SU24SXEDIPM', iid='B00000J061', r_ui=2.0, est=4.054844983921575, details={'was_impossible': True, 'reason': 'User and/or item is unknown.'}),\n",
              " Prediction(uid='A31N077O1WMV7H', iid='B000050LUE', r_ui=5.0, est=4.054844983921575, details={'was_impossible': True, 'reason': 'User and/or item is unknown.'}),\n",
              " Prediction(uid='AF33RDIOUOBYQ', iid='B00009KH63', r_ui=5.0, est=4.054844983921575, details={'was_impossible': True, 'reason': 'User and/or item is unknown.'}),\n",
              " Prediction(uid='AGTUU2ISQ2FCK', iid='B0001HKIK4', r_ui=4.0, est=4.054844983921575, details={'was_impossible': True, 'reason': 'User and/or item is unknown.'}),\n",
              " Prediction(uid='A3LJYCUO12B9TZ', iid='1400532655', r_ui=5.0, est=4.054844983921575, details={'was_impossible': True, 'reason': 'User and/or item is unknown.'}),\n",
              " Prediction(uid='A3Q2EAAZ1I0QP8', iid='0972683275', r_ui=2.0, est=4.054844983921575, details={'was_impossible': True, 'reason': 'User and/or item is unknown.'}),\n",
              " Prediction(uid='A2YH5ELVY1VKQ7', iid='B00008OE5G', r_ui=3.0, est=3.6878612716763004, details={'actual_k': 0, 'was_impossible': False}),\n",
              " Prediction(uid='A17DYKWRY8EOAQ', iid='B0000AKA90', r_ui=5.0, est=4.054844983921575, details={'was_impossible': True, 'reason': 'User and/or item is unknown.'}),\n",
              " Prediction(uid='ARSXKZ54M6OMM', iid='B00008O35T', r_ui=5.0, est=4.054844983921575, details={'was_impossible': True, 'reason': 'User and/or item is unknown.'}),\n",
              " Prediction(uid='A1EWB56GXG0K3V', iid='9985511476', r_ui=1.0, est=4.054844983921575, details={'was_impossible': True, 'reason': 'User and/or item is unknown.'}),\n",
              " Prediction(uid='A1MVP4DLMQKWWI', iid='B00004Z5D1', r_ui=5.0, est=4.452914798206278, details={'actual_k': 0, 'was_impossible': False}),\n",
              " Prediction(uid='A1ABR3YZ8BBX8F', iid='B0001FTVEK', r_ui=3.0, est=4.054844983921575, details={'was_impossible': True, 'reason': 'User and/or item is unknown.'}),\n",
              " Prediction(uid='AK8RKKLQDETF6', iid='B00007M1TZ', r_ui=1.0, est=4.054844983921575, details={'was_impossible': True, 'reason': 'User and/or item is unknown.'}),\n",
              " Prediction(uid='A1ERQPK3WCIB78', iid='B000051SD1', r_ui=5.0, est=4.054844983921575, details={'was_impossible': True, 'reason': 'User and/or item is unknown.'}),\n",
              " Prediction(uid='A2ZAJGOIF88NLJ', iid='B00001WRSJ', r_ui=4.0, est=4.054844983921575, details={'was_impossible': True, 'reason': 'User and/or item is unknown.'}),\n",
              " Prediction(uid='A39P149JCZQQ2E', iid='B000092TT0', r_ui=5.0, est=4.054844983921575, details={'was_impossible': True, 'reason': 'User and/or item is unknown.'}),\n",
              " Prediction(uid='AR4RCQZBDJTYM', iid='B000067RCU', r_ui=4.0, est=4.5, details={'actual_k': 0, 'was_impossible': False}),\n",
              " Prediction(uid='A3OGI2ZLLRCN3G', iid='B0000CD0B7', r_ui=5.0, est=4.054844983921575, details={'was_impossible': True, 'reason': 'User and/or item is unknown.'}),\n",
              " Prediction(uid='A2OQSO009CDALQ', iid='B0000ALLYO', r_ui=5.0, est=4.054844983921575, details={'was_impossible': True, 'reason': 'User and/or item is unknown.'}),\n",
              " Prediction(uid='A2L5V91E6WZ63O', iid='B000063UZW', r_ui=1.0, est=4.677966101694915, details={'actual_k': 0, 'was_impossible': False}),\n",
              " Prediction(uid='A1ENG8URXXMTW1', iid='B0001D3K3A', r_ui=5.0, est=4.054844983921575, details={'was_impossible': True, 'reason': 'User and/or item is unknown.'}),\n",
              " Prediction(uid='A3MC7W34YCHXZT', iid='B00006JPRQ', r_ui=1.0, est=4.054844983921575, details={'was_impossible': True, 'reason': 'User and/or item is unknown.'}),\n",
              " Prediction(uid='A3CCI50T5O2H1A', iid='B0000CE1UO', r_ui=1.0, est=4.054844983921575, details={'was_impossible': True, 'reason': 'User and/or item is unknown.'}),\n",
              " Prediction(uid='A3EVGPGOFVAP09', iid='B0001BVXI6', r_ui=5.0, est=3.7244094488188977, details={'actual_k': 0, 'was_impossible': False}),\n",
              " Prediction(uid='A1Y3QA5RM1RVN7', iid='B0000DZET4', r_ui=1.0, est=4.054844983921575, details={'was_impossible': True, 'reason': 'User and/or item is unknown.'}),\n",
              " Prediction(uid='A2KQSMHDE3DEHK', iid='B00007KDVI', r_ui=5.0, est=4.054844983921575, details={'was_impossible': True, 'reason': 'User and/or item is unknown.'}),\n",
              " Prediction(uid='ADOM7ZCYTTHDU', iid='B000093UDQ', r_ui=4.0, est=4.054844983921575, details={'was_impossible': True, 'reason': 'User and/or item is unknown.'}),\n",
              " Prediction(uid='A16KHGYS31AZ3G', iid='B00009EHJV', r_ui=3.0, est=4.054844983921575, details={'was_impossible': True, 'reason': 'User and/or item is unknown.'}),\n",
              " Prediction(uid='A22V6M8WWYE6AR', iid='1400501466', r_ui=5.0, est=4.054844983921575, details={'was_impossible': True, 'reason': 'User and/or item is unknown.'}),\n",
              " Prediction(uid='A28WWMYTG4QYZ8', iid='B00006BBAB', r_ui=5.0, est=4.054844983921575, details={'was_impossible': True, 'reason': 'User and/or item is unknown.'}),\n",
              " Prediction(uid='A2YI0E1DAMJHJD', iid='B00008Y0VN', r_ui=4.0, est=4.054844983921575, details={'was_impossible': True, 'reason': 'User and/or item is unknown.'}),\n",
              " Prediction(uid='A2SMKY2IIGEYBG', iid='B00008Y0VN', r_ui=5.0, est=4.054844983921575, details={'was_impossible': True, 'reason': 'User and/or item is unknown.'}),\n",
              " Prediction(uid='A10B2J2IRQXBWA', iid='B00005BMSN', r_ui=5.0, est=4.054844983921575, details={'was_impossible': True, 'reason': 'User and/or item is unknown.'}),\n",
              " Prediction(uid='A3LZJ1ZUSCE7QQ', iid='B0000C20XD', r_ui=4.0, est=4.054844983921575, details={'was_impossible': True, 'reason': 'User and/or item is unknown.'}),\n",
              " Prediction(uid='A299ZYL7CGJI6M', iid='B0001G6UES', r_ui=5.0, est=4.054844983921575, details={'was_impossible': True, 'reason': 'User and/or item is unknown.'}),\n",
              " Prediction(uid='AF3TJZGFKH3KI', iid='B000063BGY', r_ui=5.0, est=4.054844983921575, details={'was_impossible': True, 'reason': 'User and/or item is unknown.'}),\n",
              " Prediction(uid='A36E5B88WR5PC', iid='B000092YPR', r_ui=1.0, est=4.054844983921575, details={'was_impossible': True, 'reason': 'User and/or item is unknown.'}),\n",
              " Prediction(uid='A3PUOOMF1GB3KR', iid='B00008VF63', r_ui=4.0, est=4.054844983921575, details={'was_impossible': True, 'reason': 'User and/or item is unknown.'}),\n",
              " Prediction(uid='A2MNKN8R4EOSLK', iid='B00006HYKM', r_ui=2.0, est=3.45, details={'actual_k': 0, 'was_impossible': False}),\n",
              " Prediction(uid='A1B2RI0MTRIW7O', iid='B00006JN3G', r_ui=5.0, est=4.054844983921575, details={'was_impossible': True, 'reason': 'User and/or item is unknown.'}),\n",
              " Prediction(uid='A2EL9FQRGSWLWF', iid='B00006343O', r_ui=3.0, est=4.054844983921575, details={'was_impossible': True, 'reason': 'User and/or item is unknown.'}),\n",
              " Prediction(uid='A3JMHRQ3XI005B', iid='B0001FTVEK', r_ui=4.0, est=4.054844983921575, details={'was_impossible': True, 'reason': 'User and/or item is unknown.'}),\n",
              " Prediction(uid='A2USJ3U5OP34N', iid='1400501776', r_ui=5.0, est=4.054844983921575, details={'was_impossible': True, 'reason': 'User and/or item is unknown.'}),\n",
              " Prediction(uid='A3N66OGFC10NWZ', iid='B00007E7JU', r_ui=5.0, est=5, details={'actual_k': 1, 'was_impossible': False}),\n",
              " Prediction(uid='A7YSQA2R80U37', iid='B0000C3GWU', r_ui=5.0, est=4.054844983921575, details={'was_impossible': True, 'reason': 'User and/or item is unknown.'}),\n",
              " Prediction(uid='A3TH91PK3IABQU', iid='0972683275', r_ui=1.0, est=4.054844983921575, details={'was_impossible': True, 'reason': 'User and/or item is unknown.'}),\n",
              " Prediction(uid='A3G91OD8ODO80V', iid='B0000AI0OE', r_ui=5.0, est=4.054844983921575, details={'was_impossible': True, 'reason': 'User and/or item is unknown.'}),\n",
              " Prediction(uid='A1M7DXGVP40DCT', iid='B0000DK4T7', r_ui=4.0, est=4.054844983921575, details={'was_impossible': True, 'reason': 'User and/or item is unknown.'}),\n",
              " Prediction(uid='AHHVU8CQHE0DE', iid='B000065BP9', r_ui=4.0, est=4.054844983921575, details={'was_impossible': True, 'reason': 'User and/or item is unknown.'}),\n",
              " Prediction(uid='AQVXOFNS3DIQ7', iid='B0000DB4D1', r_ui=1.0, est=4.054844983921575, details={'was_impossible': True, 'reason': 'User and/or item is unknown.'}),\n",
              " Prediction(uid='A29L09F6R0V9SF', iid='B000067RC4', r_ui=1.0, est=4.054844983921575, details={'was_impossible': True, 'reason': 'User and/or item is unknown.'}),\n",
              " Prediction(uid='AC90RCS8DE0OD', iid='B0000CE1UO', r_ui=5.0, est=4.054844983921575, details={'was_impossible': True, 'reason': 'User and/or item is unknown.'}),\n",
              " Prediction(uid='A3E9NC54MBRJGS', iid='B00006IS4X', r_ui=4.0, est=4.054844983921575, details={'was_impossible': True, 'reason': 'User and/or item is unknown.'}),\n",
              " Prediction(uid='A2DYP9ZKHHZ35T', iid='B00007KDVI', r_ui=4.0, est=4.054844983921575, details={'was_impossible': True, 'reason': 'User and/or item is unknown.'}),\n",
              " Prediction(uid='A3NDO43WWP8OO9', iid='B00006TWL6', r_ui=1.0, est=4.054844983921575, details={'was_impossible': True, 'reason': 'User and/or item is unknown.'}),\n",
              " Prediction(uid='AM6832WZSEW8', iid='B0000VYJRY', r_ui=5.0, est=4.054844983921575, details={'was_impossible': True, 'reason': 'User and/or item is unknown.'}),\n",
              " Prediction(uid='A3N27OGJH9TZ9N', iid='B0000C8VF9', r_ui=5.0, est=4.054844983921575, details={'was_impossible': True, 'reason': 'User and/or item is unknown.'}),\n",
              " Prediction(uid='A1AGZ9MHPHBN55', iid='B00004Z5M1', r_ui=5.0, est=4.054844983921575, details={'was_impossible': True, 'reason': 'User and/or item is unknown.'}),\n",
              " Prediction(uid='A17PUPG4WGZCFM', iid='B00005T406', r_ui=1.0, est=4.054844983921575, details={'was_impossible': True, 'reason': 'User and/or item is unknown.'}),\n",
              " Prediction(uid='A2PWBNB3MKZILR', iid='B0000B006W', r_ui=5.0, est=4.054844983921575, details={'was_impossible': True, 'reason': 'User and/or item is unknown.'}),\n",
              " Prediction(uid='APDMB9TA8RK55', iid='B00008N9M7', r_ui=4.0, est=4.054844983921575, details={'was_impossible': True, 'reason': 'User and/or item is unknown.'}),\n",
              " Prediction(uid='A14K08IWBTKRM6', iid='B00008WIX5', r_ui=4.0, est=4.054844983921575, details={'was_impossible': True, 'reason': 'User and/or item is unknown.'}),\n",
              " Prediction(uid='A2QSDICC0VEJI', iid='B0000996BA', r_ui=4.0, est=4.054844983921575, details={'was_impossible': True, 'reason': 'User and/or item is unknown.'}),\n",
              " Prediction(uid='A1RRPFXLZFDIXE', iid='B00005ARK3', r_ui=1.0, est=4.054844983921575, details={'was_impossible': True, 'reason': 'User and/or item is unknown.'}),\n",
              " Prediction(uid='A2I9VOEHBBYDFO', iid='B00007ISWA', r_ui=5.0, est=4.054844983921575, details={'was_impossible': True, 'reason': 'User and/or item is unknown.'}),\n",
              " Prediction(uid='A3OY0CJAQ4T0ZZ', iid='B00009W3FR', r_ui=5.0, est=4.054844983921575, details={'was_impossible': True, 'reason': 'User and/or item is unknown.'}),\n",
              " Prediction(uid='ATNIGP8MEWAIU', iid='B0001G6UAM', r_ui=1.0, est=4.054844983921575, details={'was_impossible': True, 'reason': 'User and/or item is unknown.'}),\n",
              " Prediction(uid='A2VQQN0XRF76SB', iid='B000065BPB', r_ui=5.0, est=4.054844983921575, details={'was_impossible': True, 'reason': 'User and/or item is unknown.'}),\n",
              " Prediction(uid='A15VXP46SFQR41', iid='B00009UT3F', r_ui=1.0, est=4.054844983921575, details={'was_impossible': True, 'reason': 'User and/or item is unknown.'}),\n",
              " Prediction(uid='A36LPC0A4FXY65', iid='B00005N6KG', r_ui=1.0, est=4.054844983921575, details={'was_impossible': True, 'reason': 'User and/or item is unknown.'}),\n",
              " Prediction(uid='A1XK8CU43SETK0', iid='B0001DBEM4', r_ui=5.0, est=4.054844983921575, details={'was_impossible': True, 'reason': 'User and/or item is unknown.'}),\n",
              " Prediction(uid='AUKGBINPVOX9C', iid='B00008WIX3', r_ui=1.0, est=4.054844983921575, details={'was_impossible': True, 'reason': 'User and/or item is unknown.'}),\n",
              " Prediction(uid='A31BX18TX9H770', iid='B0000AQIFZ', r_ui=1.0, est=4.054844983921575, details={'was_impossible': True, 'reason': 'User and/or item is unknown.'}),\n",
              " Prediction(uid='A1901GJ41CTXBU', iid='B00006JKW5', r_ui=5.0, est=4.411764705882353, details={'actual_k': 0, 'was_impossible': False}),\n",
              " Prediction(uid='A3FL4Q6TEPST6C', iid='B00004T1XE', r_ui=5.0, est=4.054844983921575, details={'was_impossible': True, 'reason': 'User and/or item is unknown.'}),\n",
              " Prediction(uid='A2EJZ5ZIGVNYSE', iid='B00001W0DH', r_ui=1.0, est=4.066079295154185, details={'actual_k': 0, 'was_impossible': False}),\n",
              " Prediction(uid='A3M7GTXFGY1771', iid='B00005Y1Z6', r_ui=1.0, est=4.054844983921575, details={'was_impossible': True, 'reason': 'User and/or item is unknown.'}),\n",
              " Prediction(uid='A11VDGVE05P0C6', iid='B0000TW3RE', r_ui=1.0, est=4.054844983921575, details={'was_impossible': True, 'reason': 'User and/or item is unknown.'}),\n",
              " Prediction(uid='A4I7CMDG8QUVH', iid='B00004T8R2', r_ui=5.0, est=4.054844983921575, details={'was_impossible': True, 'reason': 'User and/or item is unknown.'}),\n",
              " Prediction(uid='AE9B5ZCCRWCTE', iid='B00000J1EP', r_ui=5.0, est=4.054844983921575, details={'was_impossible': True, 'reason': 'User and/or item is unknown.'}),\n",
              " Prediction(uid='A74XG11BUE2ST', iid='B00005NVBF', r_ui=1.0, est=4.054844983921575, details={'was_impossible': True, 'reason': 'User and/or item is unknown.'}),\n",
              " Prediction(uid='A1AM2XX5Q67BFZ', iid='B0000AE68O', r_ui=5.0, est=4.054844983921575, details={'was_impossible': True, 'reason': 'User and/or item is unknown.'}),\n",
              " Prediction(uid='A28W9SYMDEZBDI', iid='B0000DHVN3', r_ui=5.0, est=4.054844983921575, details={'was_impossible': True, 'reason': 'User and/or item is unknown.'}),\n",
              " Prediction(uid='AIOODIDBZFXHE', iid='B00005T3G0', r_ui=5.0, est=4.054844983921575, details={'was_impossible': True, 'reason': 'User and/or item is unknown.'}),\n",
              " Prediction(uid='AA0GTZJ1E6V00', iid='B00006HYP6', r_ui=5.0, est=4.054844983921575, details={'was_impossible': True, 'reason': 'User and/or item is unknown.'}),\n",
              " Prediction(uid='A3N4QU9537CZ5O', iid='9888002198', r_ui=5.0, est=4.0, details={'actual_k': 0, 'was_impossible': False}),\n",
              " Prediction(uid='A3CYYWPGHLGODD', iid='B000069Z5U', r_ui=4.0, est=4.054844983921575, details={'was_impossible': True, 'reason': 'User and/or item is unknown.'}),\n",
              " Prediction(uid='ASYZPYZQSJQBW', iid='B0001JSSLI', r_ui=5.0, est=4.054844983921575, details={'was_impossible': True, 'reason': 'User and/or item is unknown.'}),\n",
              " Prediction(uid='A1UEL5C1N6E5SE', iid='B0000D8HK1', r_ui=4.0, est=3.76, details={'actual_k': 0, 'was_impossible': False}),\n",
              " Prediction(uid='A1BVT786IX0PCK', iid='B0000D89M6', r_ui=4.0, est=4.054844983921575, details={'was_impossible': True, 'reason': 'User and/or item is unknown.'}),\n",
              " Prediction(uid='A1VE3I1D6EUDJ4', iid='B000067RMT', r_ui=1.0, est=4.054844983921575, details={'was_impossible': True, 'reason': 'User and/or item is unknown.'}),\n",
              " Prediction(uid='A1BNTWLZG6ZEWY', iid='B00009R6WL', r_ui=5.0, est=3.8395182221582, details={'actual_k': 3, 'was_impossible': False}),\n",
              " Prediction(uid='A34JKODTSKCGEN', iid='B0000E1VRL', r_ui=4.0, est=4.054844983921575, details={'was_impossible': True, 'reason': 'User and/or item is unknown.'}),\n",
              " Prediction(uid='A3I6EKL5ISK5JF', iid='B00004TVSP', r_ui=5.0, est=4.054844983921575, details={'was_impossible': True, 'reason': 'User and/or item is unknown.'}),\n",
              " Prediction(uid='A3BLYMV1UIDWU9', iid='0972683275', r_ui=5.0, est=4.054844983921575, details={'was_impossible': True, 'reason': 'User and/or item is unknown.'}),\n",
              " Prediction(uid='ALGDA755NB2MI', iid='B0000BZL1P', r_ui=5.0, est=4.054844983921575, details={'was_impossible': True, 'reason': 'User and/or item is unknown.'}),\n",
              " Prediction(uid='A1S42CJ7RLWX1L', iid='B00005ATMB', r_ui=5.0, est=4.054844983921575, details={'was_impossible': True, 'reason': 'User and/or item is unknown.'}),\n",
              " Prediction(uid='A1H583J8ZCP8E', iid='B000165C10', r_ui=5.0, est=4.054844983921575, details={'was_impossible': True, 'reason': 'User and/or item is unknown.'}),\n",
              " Prediction(uid='ACNWVA0GDXU9M', iid='9983891212', r_ui=5.0, est=4.054844983921575, details={'was_impossible': True, 'reason': 'User and/or item is unknown.'}),\n",
              " Prediction(uid='ANPBKESJ39FU8', iid='B00005MA9X', r_ui=5.0, est=4.054844983921575, details={'was_impossible': True, 'reason': 'User and/or item is unknown.'}),\n",
              " Prediction(uid='AJ6N2T3MDB2ER', iid='B00001P4XH', r_ui=5.0, est=4.054844983921575, details={'was_impossible': True, 'reason': 'User and/or item is unknown.'}),\n",
              " Prediction(uid='A2CJKLTYXR75CF', iid='B00006I53A', r_ui=5.0, est=4.054844983921575, details={'was_impossible': True, 'reason': 'User and/or item is unknown.'}),\n",
              " Prediction(uid='A2VCO4BBK60NXX', iid='B00005B8HO', r_ui=5.0, est=4.054844983921575, details={'was_impossible': True, 'reason': 'User and/or item is unknown.'}),\n",
              " Prediction(uid='A1EN59O9RDLSKU', iid='B00005T3ND', r_ui=5.0, est=4.054844983921575, details={'was_impossible': True, 'reason': 'User and/or item is unknown.'}),\n",
              " Prediction(uid='A2X8GQ623TQQTN', iid='B0000VYJRY', r_ui=2.0, est=4.054844983921575, details={'was_impossible': True, 'reason': 'User and/or item is unknown.'}),\n",
              " Prediction(uid='A3RB1JA72Z0TUN', iid='B0000BZL1P', r_ui=5.0, est=4.764450867052023, details={'actual_k': 0, 'was_impossible': False}),\n",
              " Prediction(uid='AY1KP5TJUM9KU', iid='B00001P4ZH', r_ui=4.0, est=4.054844983921575, details={'was_impossible': True, 'reason': 'User and/or item is unknown.'}),\n",
              " Prediction(uid='A3G95R2LSSZXLM', iid='B00007FGU7', r_ui=4.0, est=4.054844983921575, details={'was_impossible': True, 'reason': 'User and/or item is unknown.'}),\n",
              " Prediction(uid='A19YIAEEOP3MUB', iid='B0001MMH9E', r_ui=1.0, est=4.054844983921575, details={'was_impossible': True, 'reason': 'User and/or item is unknown.'}),\n",
              " Prediction(uid='A3GAQNBZROKPCB', iid='B0000AMK36', r_ui=1.0, est=4.054844983921575, details={'was_impossible': True, 'reason': 'User and/or item is unknown.'}),\n",
              " Prediction(uid='A36SMC17R59B22', iid='B000058AKE', r_ui=5.0, est=4.054844983921575, details={'was_impossible': True, 'reason': 'User and/or item is unknown.'}),\n",
              " Prediction(uid='A10FXE5P9JRTEN', iid='B0001FV3C8', r_ui=5.0, est=4.39, details={'actual_k': 0, 'was_impossible': False}),\n",
              " Prediction(uid='AGK0NIMRMROL2', iid='B0001FTVEK', r_ui=5.0, est=4.054844983921575, details={'was_impossible': True, 'reason': 'User and/or item is unknown.'}),\n",
              " Prediction(uid='AAWVKU0ZNPV7X', iid='B00006IS4X', r_ui=5.0, est=4.054844983921575, details={'was_impossible': True, 'reason': 'User and/or item is unknown.'}),\n",
              " Prediction(uid='A3V8BDF7V5627D', iid='B000067RWL', r_ui=3.0, est=4.054844983921575, details={'was_impossible': True, 'reason': 'User and/or item is unknown.'}),\n",
              " Prediction(uid='ARV2YOGYQYJ5A', iid='140053271X', r_ui=5.0, est=4.054844983921575, details={'was_impossible': True, 'reason': 'User and/or item is unknown.'}),\n",
              " Prediction(uid='A3HLCFE8KVVR40', iid='B00005Y7DP', r_ui=1.0, est=4.054844983921575, details={'was_impossible': True, 'reason': 'User and/or item is unknown.'}),\n",
              " Prediction(uid='A1AFQRG3SBK070', iid='B0000B006W', r_ui=5.0, est=4.054844983921575, details={'was_impossible': True, 'reason': 'User and/or item is unknown.'}),\n",
              " Prediction(uid='AJ6BA47KGASYN', iid='B00017LSPI', r_ui=5.0, est=4.054844983921575, details={'was_impossible': True, 'reason': 'User and/or item is unknown.'}),\n",
              " Prediction(uid='A1P64EPJ7707CW', iid='B000089GN3', r_ui=5.0, est=4.054844983921575, details={'was_impossible': True, 'reason': 'User and/or item is unknown.'}),\n",
              " Prediction(uid='A12ZLJ7ZP3W8JQ', iid='B00006JN3G', r_ui=4.0, est=4.054844983921575, details={'was_impossible': True, 'reason': 'User and/or item is unknown.'}),\n",
              " Prediction(uid='A1DVNMVUZCJ5LA', iid='B00005NVPW', r_ui=4.0, est=4.054844983921575, details={'was_impossible': True, 'reason': 'User and/or item is unknown.'}),\n",
              " Prediction(uid='ABRU8D0HUW938', iid='B00007JDRV', r_ui=5.0, est=4.309523809523809, details={'actual_k': 0, 'was_impossible': False}),\n",
              " Prediction(uid='A1CEJFXSJYQBTX', iid='B00008VF63', r_ui=4.0, est=4.054844983921575, details={'was_impossible': True, 'reason': 'User and/or item is unknown.'}),\n",
              " Prediction(uid='A14BR1XPYHTTTQ', iid='B00007079A', r_ui=5.0, est=2.2096774193548385, details={'actual_k': 0, 'was_impossible': False}),\n",
              " Prediction(uid='AHJY8GH0X0PWV', iid='B000051299', r_ui=5.0, est=4.054844983921575, details={'was_impossible': True, 'reason': 'User and/or item is unknown.'}),\n",
              " Prediction(uid='AY9RWHFJDH5UO', iid='B00008ZPJU', r_ui=3.0, est=4.054844983921575, details={'was_impossible': True, 'reason': 'User and/or item is unknown.'}),\n",
              " Prediction(uid='AV6RLP3X96Y3N', iid='B0000952XU', r_ui=4.0, est=4.054844983921575, details={'was_impossible': True, 'reason': 'User and/or item is unknown.'}),\n",
              " Prediction(uid='A2V6DOCN1ONXAD', iid='B0001FV3C8', r_ui=5.0, est=4.054844983921575, details={'was_impossible': True, 'reason': 'User and/or item is unknown.'}),\n",
              " Prediction(uid='A32BJDGFY4QM7K', iid='B00009R6WL', r_ui=5.0, est=4.3061224489795915, details={'actual_k': 0, 'was_impossible': False}),\n",
              " Prediction(uid='A3LWO0LB3D0PX', iid='B00009PUM0', r_ui=1.0, est=4.054844983921575, details={'was_impossible': True, 'reason': 'User and/or item is unknown.'}),\n",
              " Prediction(uid='AACNFH28C1ZHB', iid='B00001WRSJ', r_ui=5.0, est=4.601976639712489, details={'actual_k': 0, 'was_impossible': False}),\n",
              " Prediction(uid='AFOV73SRGQIB3', iid='B00004ZCJE', r_ui=5.0, est=4.054844983921575, details={'was_impossible': True, 'reason': 'User and/or item is unknown.'}),\n",
              " Prediction(uid='A3W4PQKBEGOJOW', iid='B0001PFQAI', r_ui=5.0, est=4.054844983921575, details={'was_impossible': True, 'reason': 'User and/or item is unknown.'}),\n",
              " Prediction(uid='A3UE5KIX8NSIHG', iid='B000067RC4', r_ui=4.0, est=4.054844983921575, details={'was_impossible': True, 'reason': 'User and/or item is unknown.'}),\n",
              " Prediction(uid='A2EHE2YQAQJ529', iid='B0000BZM56', r_ui=5.0, est=4.054844983921575, details={'was_impossible': True, 'reason': 'User and/or item is unknown.'}),\n",
              " Prediction(uid='A1AQAQAOMY8I58', iid='B00005UK9P', r_ui=3.0, est=4.054844983921575, details={'was_impossible': True, 'reason': 'User and/or item is unknown.'}),\n",
              " Prediction(uid='A21GJHZCME5BS', iid='B00001ZWXA', r_ui=5.0, est=4.054844983921575, details={'was_impossible': True, 'reason': 'User and/or item is unknown.'}),\n",
              " Prediction(uid='AEYGC5VK3TM1Y', iid='B00005LLY4', r_ui=5.0, est=4.054844983921575, details={'was_impossible': True, 'reason': 'User and/or item is unknown.'}),\n",
              " Prediction(uid='AJHUCF9VD8GVP', iid='B00005T3BD', r_ui=5.0, est=4.054844983921575, details={'was_impossible': True, 'reason': 'User and/or item is unknown.'}),\n",
              " Prediction(uid='A2B2L4CDPSCNU8', iid='B00005KB24', r_ui=5.0, est=4.054844983921575, details={'was_impossible': True, 'reason': 'User and/or item is unknown.'}),\n",
              " Prediction(uid='ALP0E9PM8G9GK', iid='B000068P8W', r_ui=5.0, est=4.054844983921575, details={'was_impossible': True, 'reason': 'User and/or item is unknown.'}),\n",
              " Prediction(uid='A1ZIFC5AFQCDZT', iid='B00004Y2MM', r_ui=5.0, est=4.054844983921575, details={'was_impossible': True, 'reason': 'User and/or item is unknown.'}),\n",
              " Prediction(uid='A1T8FEXHUSNG52', iid='B00009R6WO', r_ui=5.0, est=4.054844983921575, details={'was_impossible': True, 'reason': 'User and/or item is unknown.'}),\n",
              " Prediction(uid='ACQL06Y00GI08', iid='B00000J1V3', r_ui=4.0, est=4.054844983921575, details={'was_impossible': True, 'reason': 'User and/or item is unknown.'}),\n",
              " Prediction(uid='A1BPG40RX9O0I0', iid='B0000CE1UO', r_ui=1.0, est=4.054844983921575, details={'was_impossible': True, 'reason': 'User and/or item is unknown.'}),\n",
              " Prediction(uid='A149VS8WY4CRYR', iid='B00006JQ06', r_ui=5.0, est=4.054844983921575, details={'was_impossible': True, 'reason': 'User and/or item is unknown.'}),\n",
              " Prediction(uid='A2EXIALPK106OW', iid='B00005Y1Z7', r_ui=2.0, est=3.675324675324675, details={'actual_k': 0, 'was_impossible': False}),\n",
              " Prediction(uid='A1ILIBFJ07DUAU', iid='B00006I5JC', r_ui=5.0, est=4.054844983921575, details={'was_impossible': True, 'reason': 'User and/or item is unknown.'}),\n",
              " Prediction(uid='A1KTH7TLPGRRQN', iid='1400501466', r_ui=5.0, est=4.054844983921575, details={'was_impossible': True, 'reason': 'User and/or item is unknown.'}),\n",
              " Prediction(uid='A32C3DE7APUDKY', iid='B00006B9W2', r_ui=5.0, est=4.054844983921575, details={'was_impossible': True, 'reason': 'User and/or item is unknown.'}),\n",
              " Prediction(uid='A1UM6EHSS9KTIX', iid='B00006JPA1', r_ui=4.0, est=4.054844983921575, details={'was_impossible': True, 'reason': 'User and/or item is unknown.'}),\n",
              " Prediction(uid='AY16RK6054PVC', iid='B00007IFJY', r_ui=1.0, est=4.054844983921575, details={'was_impossible': True, 'reason': 'User and/or item is unknown.'}),\n",
              " Prediction(uid='A11TN93KNDDE5V', iid='B00006JPRQ', r_ui=3.0, est=4.054844983921575, details={'was_impossible': True, 'reason': 'User and/or item is unknown.'}),\n",
              " Prediction(uid='A3GBI9BPE2LIHJ', iid='B000067RT6', r_ui=1.0, est=4.054844983921575, details={'was_impossible': True, 'reason': 'User and/or item is unknown.'}),\n",
              " Prediction(uid='A1LR3TCTO58BQB', iid='B0000952XX', r_ui=1.0, est=4.054844983921575, details={'was_impossible': True, 'reason': 'User and/or item is unknown.'}),\n",
              " Prediction(uid='A3HNMDZLMAX9H9', iid='B0000AZK4G', r_ui=5.0, est=4.491869918699187, details={'actual_k': 0, 'was_impossible': False}),\n",
              " Prediction(uid='A3BY2O57U1B9Z4', iid='B0000T1R4O', r_ui=3.0, est=4.054844983921575, details={'was_impossible': True, 'reason': 'User and/or item is unknown.'}),\n",
              " Prediction(uid='A17HI3UC12B6ZD', iid='B0000ALPBA', r_ui=5.0, est=4.054844983921575, details={'was_impossible': True, 'reason': 'User and/or item is unknown.'}),\n",
              " Prediction(uid='A236T8YF15X01A', iid='B000067RC4', r_ui=1.0, est=4.054844983921575, details={'was_impossible': True, 'reason': 'User and/or item is unknown.'}),\n",
              " Prediction(uid='AI4QYQ75JK84M', iid='B00012EYNG', r_ui=5.0, est=4.525, details={'actual_k': 0, 'was_impossible': False}),\n",
              " Prediction(uid='A2SNR00PVRLUTW', iid='B00005N6KG', r_ui=5.0, est=4.054844983921575, details={'was_impossible': True, 'reason': 'User and/or item is unknown.'}),\n",
              " Prediction(uid='AAFGG6R921K53', iid='B00011KM38', r_ui=5.0, est=4.054844983921575, details={'was_impossible': True, 'reason': 'User and/or item is unknown.'}),\n",
              " Prediction(uid='AIL3O9LS09MJZ', iid='B0000E658Q', r_ui=5.0, est=4.054844983921575, details={'was_impossible': True, 'reason': 'User and/or item is unknown.'}),\n",
              " Prediction(uid='A2VWMGCGFPLBTX', iid='B0001FI49I', r_ui=1.0, est=4.054844983921575, details={'was_impossible': True, 'reason': 'User and/or item is unknown.'}),\n",
              " Prediction(uid='A1ISZLDGBFL2D0', iid='B00004TZE5', r_ui=5.0, est=4.708333333333333, details={'actual_k': 0, 'was_impossible': False}),\n",
              " Prediction(uid='A178KFYE505JQD', iid='B00004ZCAT', r_ui=3.0, est=4.206896551724138, details={'actual_k': 0, 'was_impossible': False}),\n",
              " Prediction(uid='A359HOFBL3QD6M', iid='B00007LTBA', r_ui=5.0, est=4.054844983921575, details={'was_impossible': True, 'reason': 'User and/or item is unknown.'}),\n",
              " Prediction(uid='A1UCSCVK3OCA8G', iid='B00007E7JU', r_ui=5.0, est=4.054844983921575, details={'was_impossible': True, 'reason': 'User and/or item is unknown.'}),\n",
              " Prediction(uid='A1T0SDUIO2R39T', iid='B00000JCT8', r_ui=5.0, est=4.054844983921575, details={'was_impossible': True, 'reason': 'User and/or item is unknown.'}),\n",
              " Prediction(uid='A2D9VY2Y8IINFU', iid='B0001FTVEK', r_ui=5.0, est=4.054844983921575, details={'was_impossible': True, 'reason': 'User and/or item is unknown.'}),\n",
              " Prediction(uid='A2AHAHVXLN41OW', iid='B0000A1G05', r_ui=4.0, est=4.054844983921575, details={'was_impossible': True, 'reason': 'User and/or item is unknown.'}),\n",
              " Prediction(uid='A7BIWAID5VSML', iid='B00008IHOZ', r_ui=4.0, est=4.054844983921575, details={'was_impossible': True, 'reason': 'User and/or item is unknown.'}),\n",
              " Prediction(uid='A35BNH97HSHFTK', iid='B00004T1XK', r_ui=5.0, est=4.054844983921575, details={'was_impossible': True, 'reason': 'User and/or item is unknown.'}),\n",
              " Prediction(uid='A2ZGQGUUOCAXO2', iid='B00005T3BD', r_ui=5.0, est=4.638888888888889, details={'actual_k': 0, 'was_impossible': False}),\n",
              " Prediction(uid='A2SVCME45SEH8A', iid='B00005ATMB', r_ui=4.0, est=4.054844983921575, details={'was_impossible': True, 'reason': 'User and/or item is unknown.'}),\n",
              " Prediction(uid='A3QJDQ7DA99PZB', iid='1400599997', r_ui=1.0, est=4.054844983921575, details={'was_impossible': True, 'reason': 'User and/or item is unknown.'}),\n",
              " Prediction(uid='A1TNZNRGSER9UZ', iid='B0001FTVEK', r_ui=5.0, est=4.054844983921575, details={'was_impossible': True, 'reason': 'User and/or item is unknown.'}),\n",
              " Prediction(uid='A3299Y9SYF6RQY', iid='B000067O5G', r_ui=1.0, est=4.054844983921575, details={'was_impossible': True, 'reason': 'User and/or item is unknown.'}),\n",
              " Prediction(uid='A3W0QDP7A20XGL', iid='B00017LSPI', r_ui=5.0, est=4.054844983921575, details={'was_impossible': True, 'reason': 'User and/or item is unknown.'}),\n",
              " Prediction(uid='A2MB4N99T8CB58', iid='B00007B8SN', r_ui=5.0, est=4.054844983921575, details={'was_impossible': True, 'reason': 'User and/or item is unknown.'}),\n",
              " Prediction(uid='A2ONZORDDEOJ3M', iid='B000062VUO', r_ui=5.0, est=4.054844983921575, details={'was_impossible': True, 'reason': 'User and/or item is unknown.'}),\n",
              " Prediction(uid='A5TXP0VPZ2X53', iid='B00004TWVY', r_ui=5.0, est=4.054844983921575, details={'was_impossible': True, 'reason': 'User and/or item is unknown.'}),\n",
              " Prediction(uid='A1I1KBX1U6FZF6', iid='B00004W3ZQ', r_ui=3.0, est=4.054844983921575, details={'was_impossible': True, 'reason': 'User and/or item is unknown.'}),\n",
              " Prediction(uid='AAWEIMAMQ48AT', iid='B0000C3GWU', r_ui=4.0, est=4.054844983921575, details={'was_impossible': True, 'reason': 'User and/or item is unknown.'}),\n",
              " Prediction(uid='A33HY99CHBDQ4B', iid='B00005T6GZ', r_ui=5.0, est=4.054844983921575, details={'was_impossible': True, 'reason': 'User and/or item is unknown.'}),\n",
              " Prediction(uid='A218D85NSPRXRB', iid='B000095ISG', r_ui=3.0, est=4.054844983921575, details={'was_impossible': True, 'reason': 'User and/or item is unknown.'}),\n",
              " Prediction(uid='A1P7G2HTLG0ASS', iid='B00005ARK4', r_ui=5.0, est=4.054844983921575, details={'was_impossible': True, 'reason': 'User and/or item is unknown.'}),\n",
              " Prediction(uid='AHKBJVT3YIUXF', iid='B0000Y8C2Y', r_ui=5.0, est=3.717948717948718, details={'actual_k': 0, 'was_impossible': False}),\n",
              " Prediction(uid='A317TFBT0XQSIK', iid='B000092YQW', r_ui=4.0, est=4.054844983921575, details={'was_impossible': True, 'reason': 'User and/or item is unknown.'}),\n",
              " Prediction(uid='A380CP5DU6PX73', iid='B00005LENO', r_ui=5.0, est=4.054844983921575, details={'was_impossible': True, 'reason': 'User and/or item is unknown.'}),\n",
              " Prediction(uid='A1I9P20QDVNKF2', iid='B0000645RH', r_ui=4.0, est=1.9647227284561317, details={'actual_k': 1, 'was_impossible': False}),\n",
              " Prediction(uid='A1Z5FSA8E9CE15', iid='B000063TJY', r_ui=5.0, est=4.054844983921575, details={'was_impossible': True, 'reason': 'User and/or item is unknown.'}),\n",
              " Prediction(uid='A1NOVS56TQ8VZ3', iid='B000089GN3', r_ui=5.0, est=4.054844983921575, details={'was_impossible': True, 'reason': 'User and/or item is unknown.'}),\n",
              " Prediction(uid='AZ8XSDMIX04VJ', iid='B000096B01', r_ui=5.0, est=4.246153846153846, details={'actual_k': 0, 'was_impossible': False}),\n",
              " Prediction(uid='A17V1P383TYBX2', iid='B00006HOLO', r_ui=2.0, est=4.054844983921575, details={'was_impossible': True, 'reason': 'User and/or item is unknown.'}),\n",
              " Prediction(uid='A3N1UAM0BO0DX6', iid='B000087NBW', r_ui=1.0, est=4.054844983921575, details={'was_impossible': True, 'reason': 'User and/or item is unknown.'}),\n",
              " Prediction(uid='A274B5TFZFB322', iid='B0000U19F0', r_ui=3.0, est=4.054844983921575, details={'was_impossible': True, 'reason': 'User and/or item is unknown.'}),\n",
              " Prediction(uid='AKJDOJAOPZANB', iid='B00005A1K1', r_ui=4.0, est=4.054844983921575, details={'was_impossible': True, 'reason': 'User and/or item is unknown.'}),\n",
              " Prediction(uid='A3M5APXHTREGU4', iid='B00000J1V5', r_ui=5.0, est=4.591111111111111, details={'actual_k': 0, 'was_impossible': False}),\n",
              " Prediction(uid='A1GWTHI4CWCEF8', iid='B0001KWGP6', r_ui=4.0, est=4.054844983921575, details={'was_impossible': True, 'reason': 'User and/or item is unknown.'}),\n",
              " Prediction(uid='A2RK86UESKM4P', iid='B000097O5F', r_ui=5.0, est=4.054844983921575, details={'was_impossible': True, 'reason': 'User and/or item is unknown.'}),\n",
              " Prediction(uid='A3D6AY1CVL0JSM', iid='B0001G6U5M', r_ui=5.0, est=4.054844983921575, details={'was_impossible': True, 'reason': 'User and/or item is unknown.'}),\n",
              " Prediction(uid='AR9MN5KV2FJ9U', iid='B000063574', r_ui=5.0, est=4.234177215189874, details={'actual_k': 0, 'was_impossible': False}),\n",
              " Prediction(uid='AR5AC2QP8OIEI', iid='B00004ZCJE', r_ui=4.0, est=4.054844983921575, details={'was_impossible': True, 'reason': 'User and/or item is unknown.'}),\n",
              " Prediction(uid='AGM6NEI5FBYMY', iid='B0001FTVDG', r_ui=5.0, est=4.054844983921575, details={'was_impossible': True, 'reason': 'User and/or item is unknown.'}),\n",
              " Prediction(uid='A2FU8RE1SNBWQ1', iid='B0000Y2WTS', r_ui=4.0, est=4.054844983921575, details={'was_impossible': True, 'reason': 'User and/or item is unknown.'}),\n",
              " Prediction(uid='A3RMPUU5678M8I', iid='B0000B3ALF', r_ui=2.0, est=3.9473684210526314, details={'actual_k': 0, 'was_impossible': False}),\n",
              " Prediction(uid='A3V0186OPKIA04', iid='B00000K2YR', r_ui=5.0, est=4.054844983921575, details={'was_impossible': True, 'reason': 'User and/or item is unknown.'}),\n",
              " Prediction(uid='A32NLF1BOE7IL9', iid='B0000BYBVT', r_ui=5.0, est=4.054844983921575, details={'was_impossible': True, 'reason': 'User and/or item is unknown.'}),\n",
              " Prediction(uid='AKR0F91UVBKFM', iid='B00004WCGF', r_ui=5.0, est=4.054844983921575, details={'was_impossible': True, 'reason': 'User and/or item is unknown.'}),\n",
              " Prediction(uid='A2UHXPMDDHRFC9', iid='B0001A3N6C', r_ui=5.0, est=4.054844983921575, details={'was_impossible': True, 'reason': 'User and/or item is unknown.'}),\n",
              " Prediction(uid='A322LP94RDIKH5', iid='B00009XVCZ', r_ui=5.0, est=4.06683270001027, details={'actual_k': 1, 'was_impossible': False}),\n",
              " Prediction(uid='A2MJNFUQS2FG92', iid='0972683275', r_ui=5.0, est=4.054844983921575, details={'was_impossible': True, 'reason': 'User and/or item is unknown.'}),\n",
              " Prediction(uid='AMF2JK3CIMN2G', iid='B00005NVBF', r_ui=4.0, est=4.054844983921575, details={'was_impossible': True, 'reason': 'User and/or item is unknown.'}),\n",
              " Prediction(uid='A4GCZTN07BBB', iid='B00007M1TZ', r_ui=1.0, est=4.054844983921575, details={'was_impossible': True, 'reason': 'User and/or item is unknown.'}),\n",
              " Prediction(uid='A3QGFY7KEKPI1T', iid='B000095SB6', r_ui=5.0, est=4.054844983921575, details={'was_impossible': True, 'reason': 'User and/or item is unknown.'}),\n",
              " Prediction(uid='A35MEYVH7C4MCB', iid='B00005ARK3', r_ui=5.0, est=4.054844983921575, details={'was_impossible': True, 'reason': 'User and/or item is unknown.'}),\n",
              " Prediction(uid='APDF7OZTSK0PL', iid='B00006JINY', r_ui=4.0, est=4.054844983921575, details={'was_impossible': True, 'reason': 'User and/or item is unknown.'}),\n",
              " Prediction(uid='A3GKY17CHGC5OT', iid='B00004TWLY', r_ui=5.0, est=4.424242424242424, details={'actual_k': 0, 'was_impossible': False}),\n",
              " Prediction(uid='A2ZNBU581KGTIX', iid='B00005BC0J', r_ui=5.0, est=4.054844983921575, details={'was_impossible': True, 'reason': 'User and/or item is unknown.'}),\n",
              " Prediction(uid='A58N0P2OKC2GA', iid='B00007E7JU', r_ui=4.0, est=4.054844983921575, details={'was_impossible': True, 'reason': 'User and/or item is unknown.'}),\n",
              " Prediction(uid='AENS7FRZJDO9', iid='B0000A1VS3', r_ui=1.0, est=4.054844983921575, details={'was_impossible': True, 'reason': 'User and/or item is unknown.'}),\n",
              " Prediction(uid='A3CW0ZLUO5X2B1', iid='B00005NOKT', r_ui=5.0, est=3.8548387096774195, details={'actual_k': 0, 'was_impossible': False}),\n",
              " Prediction(uid='A3SXRAVEGJZ8Y6', iid='B00009X6PT', r_ui=4.0, est=2.757575757575758, details={'actual_k': 0, 'was_impossible': False}),\n",
              " Prediction(uid='A34IGGLQND2CI1', iid='B0001FV36E', r_ui=5.0, est=4.054844983921575, details={'was_impossible': True, 'reason': 'User and/or item is unknown.'}),\n",
              " Prediction(uid='AS7H7HYMHYIWZ', iid='B00004Z6N6', r_ui=5.0, est=4.054844983921575, details={'was_impossible': True, 'reason': 'User and/or item is unknown.'}),\n",
              " Prediction(uid='ARX66NNKRP1YT', iid='B0001A06GW', r_ui=4.0, est=4.580327868852459, details={'actual_k': 0, 'was_impossible': False}),\n",
              " Prediction(uid='A1KBUEP4FIEGBN', iid='B00000JBPB', r_ui=5.0, est=4.054844983921575, details={'was_impossible': True, 'reason': 'User and/or item is unknown.'}),\n",
              " Prediction(uid='ARZGDTCLN5Z3X', iid='8862935293', r_ui=5.0, est=4.054844983921575, details={'was_impossible': True, 'reason': 'User and/or item is unknown.'}),\n",
              " Prediction(uid='AREQPYRY0QI7S', iid='B00005T39Y', r_ui=5.0, est=4.054844983921575, details={'was_impossible': True, 'reason': 'User and/or item is unknown.'}),\n",
              " Prediction(uid='A1YGVUIMVWGW62', iid='B00007AP2O', r_ui=5.0, est=4.054844983921575, details={'was_impossible': True, 'reason': 'User and/or item is unknown.'}),\n",
              " Prediction(uid='A2AW7N8CAP381R', iid='B00004WCGC', r_ui=5.0, est=4.054844983921575, details={'was_impossible': True, 'reason': 'User and/or item is unknown.'}),\n",
              " Prediction(uid='AH8JCV3X8B666', iid='B0000C0XS0', r_ui=1.0, est=4.054844983921575, details={'was_impossible': True, 'reason': 'User and/or item is unknown.'}),\n",
              " Prediction(uid='A6YILAB1YPPI0', iid='B00007M1TZ', r_ui=5.0, est=4.054844983921575, details={'was_impossible': True, 'reason': 'User and/or item is unknown.'}),\n",
              " Prediction(uid='AK33RABSHNHH6', iid='B000066R6M', r_ui=5.0, est=4.054844983921575, details={'was_impossible': True, 'reason': 'User and/or item is unknown.'}),\n",
              " Prediction(uid='A3VY8297814APJ', iid='B00005TQKQ', r_ui=2.0, est=4.054844983921575, details={'was_impossible': True, 'reason': 'User and/or item is unknown.'}),\n",
              " Prediction(uid='A30OUYQDXHHBYX', iid='B00007GQLU', r_ui=4.0, est=4.054844983921575, details={'was_impossible': True, 'reason': 'User and/or item is unknown.'}),\n",
              " Prediction(uid='A2T7JD87MALFSU', iid='B0000AKA8T', r_ui=5.0, est=4.054844983921575, details={'was_impossible': True, 'reason': 'User and/or item is unknown.'}),\n",
              " Prediction(uid='A42SNP85Q28G6', iid='B0001IXUEY', r_ui=5.0, est=4.054844983921575, details={'was_impossible': True, 'reason': 'User and/or item is unknown.'}),\n",
              " Prediction(uid='A2BBUA32IHWXB1', iid='B00000JI4F', r_ui=4.0, est=3.8142857142857145, details={'actual_k': 0, 'was_impossible': False}),\n",
              " Prediction(uid='ADAWSNDKNJ5ZA', iid='B00007EDM8', r_ui=2.0, est=3.767420814479638, details={'actual_k': 0, 'was_impossible': False}),\n",
              " Prediction(uid='A1C5J8FH92EN34', iid='B000092YPR', r_ui=5.0, est=4.054844983921575, details={'was_impossible': True, 'reason': 'User and/or item is unknown.'}),\n",
              " Prediction(uid='A1ROI12JXT8VKZ', iid='B000063Y7E', r_ui=1.0, est=4.054844983921575, details={'was_impossible': True, 'reason': 'User and/or item is unknown.'}),\n",
              " Prediction(uid='A1HZH00W3MMMI8', iid='B00007056H', r_ui=4.0, est=4.054844983921575, details={'was_impossible': True, 'reason': 'User and/or item is unknown.'}),\n",
              " Prediction(uid='ALDAVHJO77N9A', iid='B0001FTVEA', r_ui=4.0, est=4.054844983921575, details={'was_impossible': True, 'reason': 'User and/or item is unknown.'}),\n",
              " Prediction(uid='A17LJTE8H7CGEO', iid='B0001MQUOM', r_ui=5.0, est=4.054844983921575, details={'was_impossible': True, 'reason': 'User and/or item is unknown.'}),\n",
              " Prediction(uid='AAZQ1JWRBNM1H', iid='B0000X0VCY', r_ui=5.0, est=4.054844983921575, details={'was_impossible': True, 'reason': 'User and/or item is unknown.'}),\n",
              " Prediction(uid='A26SBERFSTW1UC', iid='B00005T3EV', r_ui=1.0, est=4.068181818181818, details={'actual_k': 0, 'was_impossible': False}),\n",
              " Prediction(uid='A1V31TSTY7VO83', iid='B00005TQ1Y', r_ui=5.0, est=4.054844983921575, details={'was_impossible': True, 'reason': 'User and/or item is unknown.'}),\n",
              " Prediction(uid='A3IZ9B43XEQUYG', iid='B00007M1TZ', r_ui=2.0, est=4.054844983921575, details={'was_impossible': True, 'reason': 'User and/or item is unknown.'}),\n",
              " Prediction(uid='AQ3O8J3ARW760', iid='B00005LEN4', r_ui=5.0, est=4.054844983921575, details={'was_impossible': True, 'reason': 'User and/or item is unknown.'}),\n",
              " Prediction(uid='A2K9TLO0XXBDVT', iid='B0001FTVEK', r_ui=5.0, est=4.054844983921575, details={'was_impossible': True, 'reason': 'User and/or item is unknown.'}),\n",
              " Prediction(uid='A2GZ3PAZ7LJL3G', iid='B000165GJI', r_ui=5.0, est=4.054844983921575, details={'was_impossible': True, 'reason': 'User and/or item is unknown.'}),\n",
              " Prediction(uid='A4DIHTMZHKYGI', iid='B000067SG2', r_ui=4.0, est=4.054844983921575, details={'was_impossible': True, 'reason': 'User and/or item is unknown.'}),\n",
              " Prediction(uid='A1JHMRT0DTI0CY', iid='B00004ZCJE', r_ui=4.0, est=4.129194630872483, details={'actual_k': 0, 'was_impossible': False}),\n",
              " Prediction(uid='A3VY9AVLBME1QF', iid='B00005LEN4', r_ui=5.0, est=4.054844983921575, details={'was_impossible': True, 'reason': 'User and/or item is unknown.'}),\n",
              " Prediction(uid='A2WE29T3MXKVQZ', iid='B00007M1TZ', r_ui=1.0, est=4.054844983921575, details={'was_impossible': True, 'reason': 'User and/or item is unknown.'}),\n",
              " Prediction(uid='A2ZVBZY5LKW36T', iid='B0001G6U7K', r_ui=5.0, est=4.054844983921575, details={'was_impossible': True, 'reason': 'User and/or item is unknown.'}),\n",
              " Prediction(uid='A3W38KWV1UPG45', iid='B00004Z7G9', r_ui=4.0, est=4.054844983921575, details={'was_impossible': True, 'reason': 'User and/or item is unknown.'}),\n",
              " Prediction(uid='A2O08JL1D2KMV3', iid='B00008OE6F', r_ui=5.0, est=4.054844983921575, details={'was_impossible': True, 'reason': 'User and/or item is unknown.'}),\n",
              " Prediction(uid='AWDQUIJWYXETQ', iid='B00005BC0K', r_ui=4.0, est=4.054844983921575, details={'was_impossible': True, 'reason': 'User and/or item is unknown.'}),\n",
              " Prediction(uid='A3GGA673JP7ACB', iid='B0001M2FZK', r_ui=2.0, est=4.054844983921575, details={'was_impossible': True, 'reason': 'User and/or item is unknown.'}),\n",
              " Prediction(uid='A5OPLZ7GKZVAD', iid='B00006HYKM', r_ui=4.0, est=4.054844983921575, details={'was_impossible': True, 'reason': 'User and/or item is unknown.'}),\n",
              " Prediction(uid='APOXJ8I6412IR', iid='B00017LSPI', r_ui=2.0, est=1.1364966064003328, details={'actual_k': 1, 'was_impossible': False}),\n",
              " Prediction(uid='A3LE77WD6JZBMR', iid='B00007079A', r_ui=1.0, est=4.054844983921575, details={'was_impossible': True, 'reason': 'User and/or item is unknown.'}),\n",
              " Prediction(uid='AYIVRELU5JMZM', iid='B00002NDRQ', r_ui=5.0, est=4.054844983921575, details={'was_impossible': True, 'reason': 'User and/or item is unknown.'}),\n",
              " Prediction(uid='A273NJA37N9LLS', iid='B00009MK3T', r_ui=5.0, est=4.054844983921575, details={'was_impossible': True, 'reason': 'User and/or item is unknown.'}),\n",
              " Prediction(uid='A220SNDGQ3M1XU', iid='B00004ZCJE', r_ui=5.0, est=4.054844983921575, details={'was_impossible': True, 'reason': 'User and/or item is unknown.'}),\n",
              " Prediction(uid='A2EBRQU44CM5OF', iid='B000165C10', r_ui=5.0, est=4.054844983921575, details={'was_impossible': True, 'reason': 'User and/or item is unknown.'}),\n",
              " Prediction(uid='A25ZA1TE4PRHB2', iid='B0000B3E8U', r_ui=4.0, est=4.054844983921575, details={'was_impossible': True, 'reason': 'User and/or item is unknown.'}),\n",
              " Prediction(uid='A1RRCHGTKGP8SN', iid='B0000C16R5', r_ui=5.0, est=4.054844983921575, details={'was_impossible': True, 'reason': 'User and/or item is unknown.'}),\n",
              " Prediction(uid='A2TY567IPX89BF', iid='B00007E7JU', r_ui=5.0, est=4.054844983921575, details={'was_impossible': True, 'reason': 'User and/or item is unknown.'}),\n",
              " Prediction(uid='A17SWEAD2HESO8', iid='B0000632T3', r_ui=5.0, est=4.054844983921575, details={'was_impossible': True, 'reason': 'User and/or item is unknown.'}),\n",
              " Prediction(uid='A2WYQRD1WSVNJ', iid='B00009R6TA', r_ui=5.0, est=4.054844983921575, details={'was_impossible': True, 'reason': 'User and/or item is unknown.'}),\n",
              " Prediction(uid='A8DDZKHP5P1YR', iid='B00008XETL', r_ui=4.0, est=4.054844983921575, details={'was_impossible': True, 'reason': 'User and/or item is unknown.'}),\n",
              " Prediction(uid='A2GZ4EQL94RVL', iid='B00008Y0VN', r_ui=5.0, est=4.054844983921575, details={'was_impossible': True, 'reason': 'User and/or item is unknown.'}),\n",
              " Prediction(uid='A12982L2VJW606', iid='B00005LEN4', r_ui=5.0, est=4.054844983921575, details={'was_impossible': True, 'reason': 'User and/or item is unknown.'}),\n",
              " Prediction(uid='A7BHGR3SN8HLO', iid='B00009XVCZ', r_ui=5.0, est=4.492656875834446, details={'actual_k': 0, 'was_impossible': False}),\n",
              " Prediction(uid='A2D90I9TTQG175', iid='B00000JD34', r_ui=5.0, est=4.054844983921575, details={'was_impossible': True, 'reason': 'User and/or item is unknown.'}),\n",
              " Prediction(uid='A2ZQ0IWH69117P', iid='B00009LI55', r_ui=3.0, est=3.9, details={'actual_k': 0, 'was_impossible': False}),\n",
              " Prediction(uid='A3BN8OUNLHR2EN', iid='B0001H27PS', r_ui=5.0, est=4.054844983921575, details={'was_impossible': True, 'reason': 'User and/or item is unknown.'}),\n",
              " Prediction(uid='ASQFHKHBSUXLJ', iid='B0001EZN52', r_ui=1.0, est=4.054844983921575, details={'was_impossible': True, 'reason': 'User and/or item is unknown.'}),\n",
              " Prediction(uid='A3LPS2N6EYJ4NQ', iid='B00006B9WE', r_ui=4.0, est=4.054844983921575, details={'was_impossible': True, 'reason': 'User and/or item is unknown.'}),\n",
              " Prediction(uid='A2Z6M29DOKM8EB', iid='B00001P4XH', r_ui=5.0, est=4.054844983921575, details={'was_impossible': True, 'reason': 'User and/or item is unknown.'}),\n",
              " Prediction(uid='A3M6MZMHTACBVW', iid='B0001LXQIG', r_ui=5.0, est=4.054844983921575, details={'was_impossible': True, 'reason': 'User and/or item is unknown.'}),\n",
              " Prediction(uid='A11B0Y8MM1E9EB', iid='B00009UT9B', r_ui=5.0, est=4.054844983921575, details={'was_impossible': True, 'reason': 'User and/or item is unknown.'}),\n",
              " Prediction(uid='A1LF5S4M76QVMF', iid='B00000JDHV', r_ui=4.0, est=4.054844983921575, details={'was_impossible': True, 'reason': 'User and/or item is unknown.'}),\n",
              " Prediction(uid='A2UQIQUOAB47OT', iid='B00004SB92', r_ui=4.0, est=3.921237693389592, details={'actual_k': 0, 'was_impossible': False}),\n",
              " Prediction(uid='A2OBCPW9TKM8ST', iid='B00000JI4F', r_ui=1.0, est=4.054844983921575, details={'was_impossible': True, 'reason': 'User and/or item is unknown.'}),\n",
              " Prediction(uid='A22ICY6JDCRJTP', iid='B000065BPB', r_ui=3.0, est=4.054844983921575, details={'was_impossible': True, 'reason': 'User and/or item is unknown.'}),\n",
              " Prediction(uid='A3CG93783LP0FO', iid='B0000AI0NC', r_ui=5.0, est=4.451612903225806, details={'actual_k': 0, 'was_impossible': False}),\n",
              " Prediction(uid='A2FLYZFTCRGUMY', iid='B00001P4ZH', r_ui=5.0, est=4.054844983921575, details={'was_impossible': True, 'reason': 'User and/or item is unknown.'}),\n",
              " Prediction(uid='A2F85B60QZGOBV', iid='B00005LEN4', r_ui=5.0, est=4.054844983921575, details={'was_impossible': True, 'reason': 'User and/or item is unknown.'}),\n",
              " Prediction(uid='ASM27ZAJHSHQL', iid='B0000VYJRY', r_ui=4.0, est=4.054844983921575, details={'was_impossible': True, 'reason': 'User and/or item is unknown.'}),\n",
              " Prediction(uid='ACGZJB74QLDMA', iid='B00008KWWF', r_ui=5.0, est=4.054844983921575, details={'was_impossible': True, 'reason': 'User and/or item is unknown.'}),\n",
              " Prediction(uid='A1FJTT00PU07O', iid='B0001DQ5YG', r_ui=4.0, est=4.054844983921575, details={'was_impossible': True, 'reason': 'User and/or item is unknown.'}),\n",
              " Prediction(uid='AENTXUFIYPSMZ', iid='B00006BBAC', r_ui=3.0, est=4.185294117647059, details={'actual_k': 0, 'was_impossible': False}),\n",
              " Prediction(uid='AQ0KDHPRW560R', iid='B000067RBT', r_ui=5.0, est=4.054844983921575, details={'was_impossible': True, 'reason': 'User and/or item is unknown.'}),\n",
              " Prediction(uid='A13A4D8D5KKI96', iid='B0000AQR8F', r_ui=4.0, est=4.054844983921575, details={'was_impossible': True, 'reason': 'User and/or item is unknown.'}),\n",
              " Prediction(uid='A275C1ENX0DPIG', iid='B00012F6A6', r_ui=5.0, est=4.054844983921575, details={'was_impossible': True, 'reason': 'User and/or item is unknown.'}),\n",
              " Prediction(uid='A2NBVM24MILSJ6', iid='B00005B4BW', r_ui=5.0, est=4.054844983921575, details={'was_impossible': True, 'reason': 'User and/or item is unknown.'}),\n",
              " Prediction(uid='A29NWOHTIP4LZO', iid='B000095SB4', r_ui=2.0, est=4.054844983921575, details={'was_impossible': True, 'reason': 'User and/or item is unknown.'}),\n",
              " Prediction(uid='A18C7ORHB8M6AO', iid='B00005N6KG', r_ui=5.0, est=4.054844983921575, details={'was_impossible': True, 'reason': 'User and/or item is unknown.'}),\n",
              " Prediction(uid='A1CHOELD3JVTQB', iid='B0000AOWWY', r_ui=5.0, est=4.054844983921575, details={'was_impossible': True, 'reason': 'User and/or item is unknown.'}),\n",
              " Prediction(uid='A2HPIYTDS3MJZA', iid='B00004Y7CF', r_ui=5.0, est=4.054844983921575, details={'was_impossible': True, 'reason': 'User and/or item is unknown.'}),\n",
              " Prediction(uid='A2032LF6FWWK8E', iid='B00007056H', r_ui=5.0, est=4.217081850533808, details={'actual_k': 0, 'was_impossible': False}),\n",
              " Prediction(uid='A95MTVM8A3NYR', iid='B0001G6U9I', r_ui=5.0, est=4.054844983921575, details={'was_impossible': True, 'reason': 'User and/or item is unknown.'}),\n",
              " Prediction(uid='AVBT9FH11H9Y4', iid='B000067O5G', r_ui=3.0, est=4.054844983921575, details={'was_impossible': True, 'reason': 'User and/or item is unknown.'}),\n",
              " Prediction(uid='A1JHDW6MFB19Z8', iid='B00005N6KG', r_ui=1.0, est=4.054844983921575, details={'was_impossible': True, 'reason': 'User and/or item is unknown.'}),\n",
              " Prediction(uid='AF2YQ712VSPY7', iid='B00004ZCJE', r_ui=5.0, est=4.054844983921575, details={'was_impossible': True, 'reason': 'User and/or item is unknown.'}),\n",
              " Prediction(uid='A1DT66NPH57KNQ', iid='B00006FDR5', r_ui=5.0, est=4.054844983921575, details={'was_impossible': True, 'reason': 'User and/or item is unknown.'}),\n",
              " Prediction(uid='A2BD9MX29FI2D3', iid='B00012O6RK', r_ui=5.0, est=4.054844983921575, details={'was_impossible': True, 'reason': 'User and/or item is unknown.'}),\n",
              " Prediction(uid='A1TV26XBX23MR0', iid='B00005Y3OM', r_ui=5.0, est=4.0608108108108105, details={'actual_k': 0, 'was_impossible': False}),\n",
              " Prediction(uid='A1ZFZ0SPKR32IQ', iid='B0001MQUOM', r_ui=4.0, est=4.054844983921575, details={'was_impossible': True, 'reason': 'User and/or item is unknown.'}),\n",
              " Prediction(uid='AMB09GM2AHFVG', iid='B0001OHH0Q', r_ui=1.0, est=4.054844983921575, details={'was_impossible': True, 'reason': 'User and/or item is unknown.'}),\n",
              " Prediction(uid='AWAV9TGXRIXI', iid='B00007GQLU', r_ui=5.0, est=4.971029622863108, details={'actual_k': 1, 'was_impossible': False}),\n",
              " Prediction(uid='A2HLMR6KSCVLC', iid='B00009K7E3', r_ui=1.0, est=4.054844983921575, details={'was_impossible': True, 'reason': 'User and/or item is unknown.'}),\n",
              " Prediction(uid='A3TA8110DOI8O', iid='B0000A1VS3', r_ui=5.0, est=4.054844983921575, details={'was_impossible': True, 'reason': 'User and/or item is unknown.'}),\n",
              " Prediction(uid='A34GTKGH1B25YT', iid='B00000JHWX', r_ui=4.0, est=4.054844983921575, details={'was_impossible': True, 'reason': 'User and/or item is unknown.'}),\n",
              " Prediction(uid='A34H58P8FJ66FJ', iid='B00008OE6I', r_ui=4.0, est=4.054844983921575, details={'was_impossible': True, 'reason': 'User and/or item is unknown.'}),\n",
              " Prediction(uid='AZGORQNAAGIMW', iid='B00005NIMJ', r_ui=3.0, est=4.5285714285714285, details={'actual_k': 0, 'was_impossible': False}),\n",
              " Prediction(uid='A1MYNJ1Q4KCZQE', iid='B00007E7C8', r_ui=5.0, est=4.401269393511988, details={'actual_k': 0, 'was_impossible': False}),\n",
              " Prediction(uid='A3JYD50G7SCD5A', iid='B00004Z0BN', r_ui=5.0, est=4.054844983921575, details={'was_impossible': True, 'reason': 'User and/or item is unknown.'}),\n",
              " Prediction(uid='A3VENR1CBVEKJS', iid='B0001DBEM4', r_ui=5.0, est=4.054844983921575, details={'was_impossible': True, 'reason': 'User and/or item is unknown.'}),\n",
              " Prediction(uid='A1MSDK4L8FZBDI', iid='B0000DHVN3', r_ui=5.0, est=4.054844983921575, details={'was_impossible': True, 'reason': 'User and/or item is unknown.'}),\n",
              " Prediction(uid='A30YEG5D3L7TDH', iid='B0000658CI', r_ui=4.0, est=3.4, details={'actual_k': 0, 'was_impossible': False}),\n",
              " Prediction(uid='A36RNCDE240JCB', iid='B00006HYPV', r_ui=4.0, est=4.054844983921575, details={'was_impossible': True, 'reason': 'User and/or item is unknown.'}),\n",
              " Prediction(uid='A2BP3X5SEF0176', iid='B00005N6KG', r_ui=5.0, est=4.054844983921575, details={'was_impossible': True, 'reason': 'User and/or item is unknown.'}),\n",
              " Prediction(uid='A71K1RQD2VTWJ', iid='B000066CCU', r_ui=3.0, est=4.054844983921575, details={'was_impossible': True, 'reason': 'User and/or item is unknown.'}),\n",
              " Prediction(uid='AINUV6DVXMKEM', iid='B00000J1TX', r_ui=5.0, est=4.054844983921575, details={'was_impossible': True, 'reason': 'User and/or item is unknown.'}),\n",
              " Prediction(uid='A1QIDDVXGHSFZA', iid='B00012EYNG', r_ui=4.0, est=4.054844983921575, details={'was_impossible': True, 'reason': 'User and/or item is unknown.'}),\n",
              " Prediction(uid='A2CX9BJWDRPFHH', iid='B00005A1K1', r_ui=5.0, est=4.054844983921575, details={'was_impossible': True, 'reason': 'User and/or item is unknown.'}),\n",
              " Prediction(uid='A3PA7TV6E4NAE6', iid='B00009L1UX', r_ui=5.0, est=4.866666666666666, details={'actual_k': 0, 'was_impossible': False}),\n",
              " Prediction(uid='A3NRYIACDBJGUH', iid='B0000CC619', r_ui=4.0, est=4.054844983921575, details={'was_impossible': True, 'reason': 'User and/or item is unknown.'}),\n",
              " Prediction(uid='A1E9XXRB6BPO0T', iid='B00006I53X', r_ui=5.0, est=4.887005649717514, details={'actual_k': 0, 'was_impossible': False}),\n",
              " Prediction(uid='AT9V1TLO4YFJT', iid='B00006IRR8', r_ui=5.0, est=4.054844983921575, details={'was_impossible': True, 'reason': 'User and/or item is unknown.'}),\n",
              " Prediction(uid='A2966SXOMI4DNO', iid='B00006B82A', r_ui=3.0, est=4.357142857142857, details={'actual_k': 0, 'was_impossible': False}),\n",
              " Prediction(uid='A1Y7RWE61JYBF2', iid='B0000DIESW', r_ui=5.0, est=4.461538461538462, details={'actual_k': 0, 'was_impossible': False}),\n",
              " Prediction(uid='AZMUZ1A2JU4XW', iid='B00009UTZA', r_ui=3.0, est=4.054844983921575, details={'was_impossible': True, 'reason': 'User and/or item is unknown.'}),\n",
              " Prediction(uid='A3IF6O1CYN8U2K', iid='B0001WN0M2', r_ui=5.0, est=4.054844983921575, details={'was_impossible': True, 'reason': 'User and/or item is unknown.'}),\n",
              " Prediction(uid='A3STZR92G3R5BM', iid='B000065BPB', r_ui=4.0, est=4.054844983921575, details={'was_impossible': True, 'reason': 'User and/or item is unknown.'}),\n",
              " Prediction(uid='A3BUGCB190CCM4', iid='B00004ZCJE', r_ui=3.0, est=4.54854946958216, details={'actual_k': 1, 'was_impossible': False}),\n",
              " Prediction(uid='A2ST84KF4P5DDT', iid='B00001P4XA', r_ui=3.0, est=4.054844983921575, details={'was_impossible': True, 'reason': 'User and/or item is unknown.'}),\n",
              " Prediction(uid='AI42TGGL8PRZE', iid='B000165GJI', r_ui=4.0, est=4.054844983921575, details={'was_impossible': True, 'reason': 'User and/or item is unknown.'}),\n",
              " Prediction(uid='ANZYMHL1FWY0E', iid='B00006JPRQ', r_ui=2.0, est=4.054844983921575, details={'was_impossible': True, 'reason': 'User and/or item is unknown.'}),\n",
              " Prediction(uid='AR1B1HY0O0GLE', iid='B00005LEN4', r_ui=5.0, est=4.054844983921575, details={'was_impossible': True, 'reason': 'User and/or item is unknown.'}),\n",
              " Prediction(uid='A1WR4427K283GC', iid='B000065BP9', r_ui=5.0, est=4.054844983921575, details={'was_impossible': True, 'reason': 'User and/or item is unknown.'}),\n",
              " Prediction(uid='A56GTUZNWCVUV', iid='B00006346W', r_ui=5.0, est=4.77027027027027, details={'actual_k': 0, 'was_impossible': False}),\n",
              " Prediction(uid='A2WXSJAESQSBIC', iid='B00007EDZG', r_ui=3.0, est=4.054844983921575, details={'was_impossible': True, 'reason': 'User and/or item is unknown.'}),\n",
              " Prediction(uid='ADNEBVTUZZZ72', iid='B00004TWM6', r_ui=4.0, est=4.054844983921575, details={'was_impossible': True, 'reason': 'User and/or item is unknown.'}),\n",
              " Prediction(uid='A200T9X4M0KX9Y', iid='B00007E7JU', r_ui=5.0, est=4.054844983921575, details={'was_impossible': True, 'reason': 'User and/or item is unknown.'}),\n",
              " Prediction(uid='AB7Z8SIZ3AJO1', iid='B00008AWKZ', r_ui=3.0, est=4.054844983921575, details={'was_impossible': True, 'reason': 'User and/or item is unknown.'}),\n",
              " Prediction(uid='A2DSRTSJ1QXX2K', iid='B000095SB6', r_ui=1.0, est=4.054844983921575, details={'was_impossible': True, 'reason': 'User and/or item is unknown.'}),\n",
              " Prediction(uid='A1OHMIBUYZ0V48', iid='B000053HH5', r_ui=5.0, est=4.054844983921575, details={'was_impossible': True, 'reason': 'User and/or item is unknown.'}),\n",
              " Prediction(uid='A3460LGOM4U2JF', iid='B00012F6A6', r_ui=1.0, est=4.054844983921575, details={'was_impossible': True, 'reason': 'User and/or item is unknown.'}),\n",
              " Prediction(uid='A1FMPZZL2642ZL', iid='B00007056H', r_ui=5.0, est=4.747835133187574, details={'actual_k': 1, 'was_impossible': False}),\n",
              " Prediction(uid='A11M33JPGB03WQ', iid='B00005LENO', r_ui=4.0, est=4.054844983921575, details={'was_impossible': True, 'reason': 'User and/or item is unknown.'}),\n",
              " Prediction(uid='A1ZHZZX9KDG9QU', iid='B00004RC2D', r_ui=1.0, est=4.054844983921575, details={'was_impossible': True, 'reason': 'User and/or item is unknown.'}),\n",
              " Prediction(uid='A2A2QQEP8SSAXH', iid='B00006B7DB', r_ui=2.0, est=4.054844983921575, details={'was_impossible': True, 'reason': 'User and/or item is unknown.'}),\n",
              " Prediction(uid='A2LTHYVX7B1EG', iid='B00005U244', r_ui=5.0, est=4.054844983921575, details={'was_impossible': True, 'reason': 'User and/or item is unknown.'}),\n",
              " Prediction(uid='A2GZK4DJB9DJDJ', iid='B0001FTVEA', r_ui=4.0, est=4.054844983921575, details={'was_impossible': True, 'reason': 'User and/or item is unknown.'}),\n",
              " Prediction(uid='A38X4CLQ7GO93B', iid='B0001G6U5M', r_ui=5.0, est=4.054844983921575, details={'was_impossible': True, 'reason': 'User and/or item is unknown.'}),\n",
              " Prediction(uid='AXOZKH3BOFMF9', iid='B00007E7JU', r_ui=5.0, est=4.549163606691146, details={'actual_k': 0, 'was_impossible': False}),\n",
              " Prediction(uid='A1W0E9RHEE6RA', iid='B0000XMWQW', r_ui=4.0, est=4.054844983921575, details={'was_impossible': True, 'reason': 'User and/or item is unknown.'}),\n",
              " Prediction(uid='A3IB5N6YDMVU5O', iid='B0000645RH', r_ui=4.0, est=4.054844983921575, details={'was_impossible': True, 'reason': 'User and/or item is unknown.'}),\n",
              " Prediction(uid='A1S4257KPM6VXP', iid='B00006B82N', r_ui=5.0, est=4.054844983921575, details={'was_impossible': True, 'reason': 'User and/or item is unknown.'}),\n",
              " Prediction(uid='A1KHYWCTNIIGM1', iid='B00008Y0VN', r_ui=5.0, est=4.054844983921575, details={'was_impossible': True, 'reason': 'User and/or item is unknown.'}),\n",
              " Prediction(uid='A1C0L8DAE03XD6', iid='B0001M2FZK', r_ui=4.0, est=4.054844983921575, details={'was_impossible': True, 'reason': 'User and/or item is unknown.'}),\n",
              " Prediction(uid='A30QOVFJ2NEKAA', iid='B000087NBV', r_ui=5.0, est=4.054844983921575, details={'was_impossible': True, 'reason': 'User and/or item is unknown.'}),\n",
              " Prediction(uid='A283WW2H32E1CO', iid='B00001WRSJ', r_ui=5.0, est=4.054844983921575, details={'was_impossible': True, 'reason': 'User and/or item is unknown.'}),\n",
              " Prediction(uid='A3KPSUUZGBL5G', iid='B00009R6WT', r_ui=5.0, est=4.054844983921575, details={'was_impossible': True, 'reason': 'User and/or item is unknown.'}),\n",
              " Prediction(uid='A1JVWKDSBX85VO', iid='B00004YZQ8', r_ui=5.0, est=4.054844983921575, details={'was_impossible': True, 'reason': 'User and/or item is unknown.'}),\n",
              " Prediction(uid='A3CYB7HPIR9L1P', iid='B00007FSB9', r_ui=5.0, est=4.054844983921575, details={'was_impossible': True, 'reason': 'User and/or item is unknown.'}),\n",
              " Prediction(uid='A1EJ334MEXJK0K', iid='B0000ALKAN', r_ui=5.0, est=4.054844983921575, details={'was_impossible': True, 'reason': 'User and/or item is unknown.'}),\n",
              " Prediction(uid='AQL2WVOAADPE2', iid='B00004S9AK', r_ui=4.0, est=4.442105263157894, details={'actual_k': 0, 'was_impossible': False}),\n",
              " Prediction(uid='A1ZF031ELTDDUA', iid='B000095SB4', r_ui=1.0, est=4.054844983921575, details={'was_impossible': True, 'reason': 'User and/or item is unknown.'}),\n",
              " Prediction(uid='A1939AATPFTF9Y', iid='B00006JQ06', r_ui=4.0, est=4.054844983921575, details={'was_impossible': True, 'reason': 'User and/or item is unknown.'}),\n",
              " Prediction(uid='AD8ZQYR4WC3NO', iid='B00004W3ZQ', r_ui=5.0, est=4.054844983921575, details={'was_impossible': True, 'reason': 'User and/or item is unknown.'}),\n",
              " Prediction(uid='A2WOS4V9Q66Y9A', iid='B0000633E0', r_ui=2.0, est=4.054844983921575, details={'was_impossible': True, 'reason': 'User and/or item is unknown.'}),\n",
              " Prediction(uid='A3ROXJOSX1A0HB', iid='B00004ZCJE', r_ui=2.0, est=4.054844983921575, details={'was_impossible': True, 'reason': 'User and/or item is unknown.'}),\n",
              " Prediction(uid='A2SOHMOQGCCZ1I', iid='B000165ARQ', r_ui=5.0, est=4.054844983921575, details={'was_impossible': True, 'reason': 'User and/or item is unknown.'}),\n",
              " Prediction(uid='A3V3RVPM5XH01O', iid='B00009LI55', r_ui=5.0, est=3.9, details={'actual_k': 0, 'was_impossible': False}),\n",
              " Prediction(uid='ADKX4RWKZUDKN', iid='B0000A1G05', r_ui=5.0, est=4.054844983921575, details={'was_impossible': True, 'reason': 'User and/or item is unknown.'}),\n",
              " Prediction(uid='A1GYYOE13EFKKW', iid='B00001P4ZH', r_ui=5.0, est=4.054844983921575, details={'was_impossible': True, 'reason': 'User and/or item is unknown.'}),\n",
              " Prediction(uid='A1ZB20PS77UTPS', iid='B0001VGFKW', r_ui=5.0, est=4.054844983921575, details={'was_impossible': True, 'reason': 'User and/or item is unknown.'}),\n",
              " Prediction(uid='A1HBLNE8QYSG3Z', iid='B00002EQCW', r_ui=5.0, est=4.626297577854671, details={'actual_k': 0, 'was_impossible': False}),\n",
              " Prediction(uid='AAJOV2S9O7OO', iid='B00003CWDG', r_ui=1.0, est=4.079787234042553, details={'actual_k': 0, 'was_impossible': False}),\n",
              " Prediction(uid='A3T2PT5KQAB37B', iid='B00004TWVY', r_ui=5.0, est=4.054844983921575, details={'was_impossible': True, 'reason': 'User and/or item is unknown.'}),\n",
              " Prediction(uid='A31SH7EVKL7EB9', iid='B000053HH5', r_ui=5.0, est=4.822784810126582, details={'actual_k': 0, 'was_impossible': False}),\n",
              " Prediction(uid='A2GQJR2RKPLS0', iid='B00008ZOYE', r_ui=5.0, est=4.054844983921575, details={'was_impossible': True, 'reason': 'User and/or item is unknown.'}),\n",
              " Prediction(uid='A2QD4ZRUAL1KXS', iid='B00004T8R2', r_ui=5.0, est=4.054844983921575, details={'was_impossible': True, 'reason': 'User and/or item is unknown.'}),\n",
              " Prediction(uid='A3P8IAV15PD2TF', iid='B0001FV3AK', r_ui=1.0, est=4.054844983921575, details={'was_impossible': True, 'reason': 'User and/or item is unknown.'}),\n",
              " Prediction(uid='A1S795W60Y9861', iid='B00004THCZ', r_ui=3.0, est=4.706449519388301, details={'actual_k': 1, 'was_impossible': False}),\n",
              " Prediction(uid='A1APKPBT4GDCDU', iid='B00007E7JU', r_ui=5.0, est=4.054844983921575, details={'was_impossible': True, 'reason': 'User and/or item is unknown.'}),\n",
              " Prediction(uid='A3PPYOJBMFBP6U', iid='B00009W3E2', r_ui=5.0, est=4.054844983921575, details={'was_impossible': True, 'reason': 'User and/or item is unknown.'}),\n",
              " Prediction(uid='AP1COD06R3K44', iid='B0000DBJ8A', r_ui=4.0, est=3.847457627118644, details={'actual_k': 0, 'was_impossible': False}),\n",
              " Prediction(uid='ARFFZ2B7S2BIP', iid='B0001F347K', r_ui=5.0, est=4.054844983921575, details={'was_impossible': True, 'reason': 'User and/or item is unknown.'}),\n",
              " Prediction(uid='A3FTQDIGAZJES0', iid='B0000DC643', r_ui=5.0, est=4.054844983921575, details={'was_impossible': True, 'reason': 'User and/or item is unknown.'}),\n",
              " Prediction(uid='A29XK5H3AA5S01', iid='B00009R6JT', r_ui=5.0, est=4.522123893805309, details={'actual_k': 0, 'was_impossible': False}),\n",
              " Prediction(uid='AON1RVZQZ9KPS', iid='B0000BZM56', r_ui=4.0, est=4.054844983921575, details={'was_impossible': True, 'reason': 'User and/or item is unknown.'}),\n",
              " Prediction(uid='A2JOJ5AW3R4I15', iid='B0001BVXI6', r_ui=4.0, est=4.054844983921575, details={'was_impossible': True, 'reason': 'User and/or item is unknown.'}),\n",
              " Prediction(uid='A2B3DUEUUQ8QD9', iid='B00004Z5D1', r_ui=5.0, est=4.054844983921575, details={'was_impossible': True, 'reason': 'User and/or item is unknown.'}),\n",
              " Prediction(uid='ABKHKGA3OVZ05', iid='B00009KH63', r_ui=1.0, est=4.045779685264664, details={'actual_k': 0, 'was_impossible': False}),\n",
              " Prediction(uid='A1AMULXM4L2CAJ', iid='B000068O6B', r_ui=3.0, est=4.054844983921575, details={'was_impossible': True, 'reason': 'User and/or item is unknown.'}),\n",
              " Prediction(uid='A1VPLO99V3JOCS', iid='B000069106', r_ui=5.0, est=4.054844983921575, details={'was_impossible': True, 'reason': 'User and/or item is unknown.'}),\n",
              " Prediction(uid='A1CEQNL8MNZUV6', iid='B00006JILW', r_ui=5.0, est=4.054844983921575, details={'was_impossible': True, 'reason': 'User and/or item is unknown.'}),\n",
              " Prediction(uid='A11HUOGMGK1FBE', iid='B000165ARQ', r_ui=5.0, est=4.054844983921575, details={'was_impossible': True, 'reason': 'User and/or item is unknown.'}),\n",
              " Prediction(uid='A1PLMJWG7EEWVE', iid='B00007GQLS', r_ui=5.0, est=4.054844983921575, details={'was_impossible': True, 'reason': 'User and/or item is unknown.'}),\n",
              " Prediction(uid='AN4YKNP33V8GP', iid='B00001P4ZH', r_ui=4.0, est=4.054844983921575, details={'was_impossible': True, 'reason': 'User and/or item is unknown.'}),\n",
              " Prediction(uid='A2HSEKYFZ8YC6F', iid='B0000A2QBP', r_ui=4.0, est=4.054844983921575, details={'was_impossible': True, 'reason': 'User and/or item is unknown.'}),\n",
              " Prediction(uid='A35Y8GIEDJYOTZ', iid='B0000645RH', r_ui=2.0, est=4.054844983921575, details={'was_impossible': True, 'reason': 'User and/or item is unknown.'}),\n",
              " Prediction(uid='A1L7Q6ZDE82P08', iid='B00012F6A6', r_ui=5.0, est=4.054844983921575, details={'was_impossible': True, 'reason': 'User and/or item is unknown.'}),\n",
              " Prediction(uid='A1J9PIVYH9F3O6', iid='B00006HZ0K', r_ui=5.0, est=4.416666666666667, details={'actual_k': 0, 'was_impossible': False}),\n",
              " Prediction(uid='A1SZHYARIY1ENT', iid='B000065BP9', r_ui=3.0, est=4.054844983921575, details={'was_impossible': True, 'reason': 'User and/or item is unknown.'}),\n",
              " Prediction(uid='AHVX6H99O0NC3', iid='B00009XVCZ', r_ui=4.0, est=4.054844983921575, details={'was_impossible': True, 'reason': 'User and/or item is unknown.'}),\n",
              " Prediction(uid='APKCG52UUJFRP', iid='B0001MQURE', r_ui=2.0, est=4.054844983921575, details={'was_impossible': True, 'reason': 'User and/or item is unknown.'}),\n",
              " Prediction(uid='ATFHHGRDFD4Y3', iid='B00007EDZG', r_ui=5.0, est=4.054844983921575, details={'was_impossible': True, 'reason': 'User and/or item is unknown.'}),\n",
              " Prediction(uid='A1I2D7GOPYAE2P', iid='B00005K47X', r_ui=4.0, est=4.054844983921575, details={'was_impossible': True, 'reason': 'User and/or item is unknown.'}),\n",
              " Prediction(uid='A1IYFGL0A24TCW', iid='B000093UDQ', r_ui=4.0, est=4.054844983921575, details={'was_impossible': True, 'reason': 'User and/or item is unknown.'}),\n",
              " Prediction(uid='A2G1AHDTMFSZ2B', iid='B00008SCFL', r_ui=4.0, est=3.289405684754522, details={'actual_k': 0, 'was_impossible': False}),\n",
              " Prediction(uid='AICFJ6ZYX4KCT', iid='B000067SG2', r_ui=5.0, est=4.054844983921575, details={'was_impossible': True, 'reason': 'User and/or item is unknown.'}),\n",
              " Prediction(uid='AABQBFJWU2NNI', iid='B00004THCZ', r_ui=3.0, est=4.054844983921575, details={'was_impossible': True, 'reason': 'User and/or item is unknown.'}),\n",
              " Prediction(uid='A3JPPFMEIYR76Q', iid='B00006RVPW', r_ui=5.0, est=4.054844983921575, details={'was_impossible': True, 'reason': 'User and/or item is unknown.'}),\n",
              " Prediction(uid='A4FZVGMFSY49H', iid='B0000BZM56', r_ui=5.0, est=4.333333333333333, details={'actual_k': 0, 'was_impossible': False}),\n",
              " Prediction(uid='A1IM7IP3L6TCT4', iid='B000065BP9', r_ui=5.0, est=4.054844983921575, details={'was_impossible': True, 'reason': 'User and/or item is unknown.'}),\n",
              " Prediction(uid='AMRHONVYEYZEW', iid='B0000DD7OH', r_ui=2.0, est=4.054844983921575, details={'was_impossible': True, 'reason': 'User and/or item is unknown.'}),\n",
              " Prediction(uid='A28HJL3E19O3KS', iid='B0000EZ1KK', r_ui=1.0, est=4.054844983921575, details={'was_impossible': True, 'reason': 'User and/or item is unknown.'}),\n",
              " Prediction(uid='A1LI222SU6QK5A', iid='B0000BVYTV', r_ui=1.0, est=4.054844983921575, details={'was_impossible': True, 'reason': 'User and/or item is unknown.'}),\n",
              " Prediction(uid='A54GY7CHH619Y', iid='B0001D3K8A', r_ui=3.0, est=4.054844983921575, details={'was_impossible': True, 'reason': 'User and/or item is unknown.'}),\n",
              " Prediction(uid='AEYL17GP5I9XR', iid='B000067S60', r_ui=3.0, est=4.054844983921575, details={'was_impossible': True, 'reason': 'User and/or item is unknown.'}),\n",
              " Prediction(uid='A1TQBAHI3M4ZBQ', iid='B0000A0AEM', r_ui=4.0, est=4.023255813953488, details={'actual_k': 0, 'was_impossible': False}),\n",
              " Prediction(uid='A1KOK73B5VSVPT', iid='B00006I53X', r_ui=1.0, est=4.054844983921575, details={'was_impossible': True, 'reason': 'User and/or item is unknown.'}),\n",
              " Prediction(uid='A2VYP14C1IL6CB', iid='B00001WRSJ', r_ui=5.0, est=4.054844983921575, details={'was_impossible': True, 'reason': 'User and/or item is unknown.'}),\n",
              " Prediction(uid='AUQL9U6ADK793', iid='B0001FTVEK', r_ui=1.0, est=4.054844983921575, details={'was_impossible': True, 'reason': 'User and/or item is unknown.'}),\n",
              " Prediction(uid='A18N1PKYP1E7V', iid='B000067RC4', r_ui=3.0, est=4.054844983921575, details={'was_impossible': True, 'reason': 'User and/or item is unknown.'}),\n",
              " Prediction(uid='A2GJK1T1Z3FS5O', iid='B00019JPRO', r_ui=1.0, est=4.054844983921575, details={'was_impossible': True, 'reason': 'User and/or item is unknown.'}),\n",
              " Prediction(uid='A2FG3Z62Q2ZDIT', iid='B00004SABB', r_ui=4.0, est=4.054844983921575, details={'was_impossible': True, 'reason': 'User and/or item is unknown.'}),\n",
              " Prediction(uid='A15XI2BEGGFEOW', iid='B00005A9AV', r_ui=4.0, est=4.094117647058823, details={'actual_k': 0, 'was_impossible': False}),\n",
              " Prediction(uid='A1S6NN8AJKP0VQ', iid='B00004Z5KA', r_ui=5.0, est=4.054844983921575, details={'was_impossible': True, 'reason': 'User and/or item is unknown.'}),\n",
              " Prediction(uid='A3R8N99MEZ9PL0', iid='B00008ZPED', r_ui=5.0, est=4.054844983921575, details={'was_impossible': True, 'reason': 'User and/or item is unknown.'}),\n",
              " Prediction(uid='A1VXRYAPEKERAE', iid='B00005ATZO', r_ui=5.0, est=4.054844983921575, details={'was_impossible': True, 'reason': 'User and/or item is unknown.'}),\n",
              " Prediction(uid='A3LU2FHQDSNBXE', iid='B0001OHH0Q', r_ui=5.0, est=4.054844983921575, details={'was_impossible': True, 'reason': 'User and/or item is unknown.'}),\n",
              " Prediction(uid='A2HQRSM3O50XAA', iid='B000069JWX', r_ui=5.0, est=4.054844983921575, details={'was_impossible': True, 'reason': 'User and/or item is unknown.'}),\n",
              " Prediction(uid='A2RJNB7UO6O3EB', iid='B0000VYJRY', r_ui=5.0, est=4.054844983921575, details={'was_impossible': True, 'reason': 'User and/or item is unknown.'}),\n",
              " Prediction(uid='A2FPKYY7Q1XL00', iid='B00006JQ6C', r_ui=3.0, est=5, details={'actual_k': 1, 'was_impossible': False}),\n",
              " Prediction(uid='A1QVPW9GPJYHED', iid='B00005BC0J', r_ui=4.0, est=4.054844983921575, details={'was_impossible': True, 'reason': 'User and/or item is unknown.'}),\n",
              " Prediction(uid='A1CKLHQQG32AQ9', iid='B00004RC2D', r_ui=5.0, est=4.054844983921575, details={'was_impossible': True, 'reason': 'User and/or item is unknown.'}),\n",
              " Prediction(uid='A2OPEACAV78T2B', iid='B0001FTVEK', r_ui=1.0, est=4.054844983921575, details={'was_impossible': True, 'reason': 'User and/or item is unknown.'}),\n",
              " Prediction(uid='A1Z2BKRBE4EI0F', iid='B0001LS0ZU', r_ui=1.0, est=4.054844983921575, details={'was_impossible': True, 'reason': 'User and/or item is unknown.'}),\n",
              " Prediction(uid='A177DV17JABBUW', iid='B00005ARK3', r_ui=5.0, est=5, details={'actual_k': 1, 'was_impossible': False}),\n",
              " Prediction(uid='A2RMUWH707I498', iid='B0000510T7', r_ui=2.0, est=4.173913043478261, details={'actual_k': 0, 'was_impossible': False}),\n",
              " ...]"
            ]
          },
          "metadata": {},
          "execution_count": 38
        }
      ],
      "source": [
        "test_pred"
      ]
    },
    {
      "cell_type": "code",
      "execution_count": 39,
      "metadata": {
        "colab": {
          "base_uri": "https://localhost:8080/"
        },
        "id": "Nndk7US0Wtwg",
        "outputId": "4283be1d-15cd-4a7f-f21a-233163ffd96a"
      },
      "outputs": [
        {
          "output_type": "stream",
          "name": "stdout",
          "text": [
            "Item-based Model : Test Set\n",
            "RMSE: 1.3422\n"
          ]
        },
        {
          "output_type": "execute_result",
          "data": {
            "text/plain": [
              "1.3422263518176782"
            ]
          },
          "metadata": {},
          "execution_count": 39
        }
      ],
      "source": [
        "# get RMSE\n",
        "print(\"Item-based Model : Test Set\")\n",
        "accuracy.rmse(test_pred, verbose=True)"
      ]
    },
    {
      "cell_type": "markdown",
      "metadata": {
        "id": "XfblXqIEWtwg"
      },
      "source": [
        "# Model-based collaborative filtering system\n",
        "\n",
        "These methods are based on machine learning and data mining techniques. The goal is to train models to be able to make predictions. For example, we could use existing user-item interactions to train a model to predict the top-5 items that a user might like the most. One advantage of these methods is that they are able to recommend a larger number of items to a larger number of users, compared to other methods like memory based approach. They have large coverage, even when working with large sparse matrices."
      ]
    },
    {
      "cell_type": "code",
      "execution_count": 40,
      "metadata": {
        "colab": {
          "base_uri": "https://localhost:8080/",
          "height": 286
        },
        "id": "gie3E69mWtwg",
        "outputId": "d8044ec7-fdce-4884-8f43-a369361edd88"
      },
      "outputs": [
        {
          "output_type": "execute_result",
          "data": {
            "text/plain": [
              "productId              0972683275  1400501466  1400501520  1400501776  \\\n",
              "userId                                                                  \n",
              "A01852072Z7B68UHLI5UG           0           0           0           0   \n",
              "A0266076X6KPZ6CCHGVS            0           0           0           0   \n",
              "A0293130VTX2ZXA70JQS            5           0           0           0   \n",
              "A030530627MK66BD8V4LN           4           0           0           0   \n",
              "A0571176384K8RBNKGF8O           0           0           0           0   \n",
              "\n",
              "productId              1400532620  1400532655  140053271X  1400532736  \\\n",
              "userId                                                                  \n",
              "A01852072Z7B68UHLI5UG           0           0           0           0   \n",
              "A0266076X6KPZ6CCHGVS            0           0           0           0   \n",
              "A0293130VTX2ZXA70JQS            0           0           0           0   \n",
              "A030530627MK66BD8V4LN           0           0           0           0   \n",
              "A0571176384K8RBNKGF8O           0           0           0           0   \n",
              "\n",
              "productId              1400599997  1400698987  ...  B00000JFMK  B00000JHWX  \\\n",
              "userId                                         ...                           \n",
              "A01852072Z7B68UHLI5UG           0           0  ...           0           0   \n",
              "A0266076X6KPZ6CCHGVS            0           0  ...           0           0   \n",
              "A0293130VTX2ZXA70JQS            0           0  ...           0           0   \n",
              "A030530627MK66BD8V4LN           0           0  ...           0           0   \n",
              "A0571176384K8RBNKGF8O           0           0  ...           0           0   \n",
              "\n",
              "productId              B00000JI4F  B00000JII6  B00000JMUG  B00000JPPI  \\\n",
              "userId                                                                  \n",
              "A01852072Z7B68UHLI5UG           0           0           0           0   \n",
              "A0266076X6KPZ6CCHGVS            0           0           0           0   \n",
              "A0293130VTX2ZXA70JQS            0           0           0           0   \n",
              "A030530627MK66BD8V4LN           0           0           0           0   \n",
              "A0571176384K8RBNKGF8O           0           0           0           0   \n",
              "\n",
              "productId              B00000JSGF  B00000JYLO  B00000JYWQ  B00000K135  \n",
              "userId                                                                 \n",
              "A01852072Z7B68UHLI5UG           0           0           0           0  \n",
              "A0266076X6KPZ6CCHGVS            0           0           0           0  \n",
              "A0293130VTX2ZXA70JQS            0           0           0           0  \n",
              "A030530627MK66BD8V4LN           0           0           0           0  \n",
              "A0571176384K8RBNKGF8O           0           0           0           0  \n",
              "\n",
              "[5 rows x 76 columns]"
            ],
            "text/html": [
              "\n",
              "  <div id=\"df-c25339e8-3016-43a6-91a4-f8ef05ea9db8\" class=\"colab-df-container\">\n",
              "    <div>\n",
              "<style scoped>\n",
              "    .dataframe tbody tr th:only-of-type {\n",
              "        vertical-align: middle;\n",
              "    }\n",
              "\n",
              "    .dataframe tbody tr th {\n",
              "        vertical-align: top;\n",
              "    }\n",
              "\n",
              "    .dataframe thead th {\n",
              "        text-align: right;\n",
              "    }\n",
              "</style>\n",
              "<table border=\"1\" class=\"dataframe\">\n",
              "  <thead>\n",
              "    <tr style=\"text-align: right;\">\n",
              "      <th>productId</th>\n",
              "      <th>0972683275</th>\n",
              "      <th>1400501466</th>\n",
              "      <th>1400501520</th>\n",
              "      <th>1400501776</th>\n",
              "      <th>1400532620</th>\n",
              "      <th>1400532655</th>\n",
              "      <th>140053271X</th>\n",
              "      <th>1400532736</th>\n",
              "      <th>1400599997</th>\n",
              "      <th>1400698987</th>\n",
              "      <th>...</th>\n",
              "      <th>B00000JFMK</th>\n",
              "      <th>B00000JHWX</th>\n",
              "      <th>B00000JI4F</th>\n",
              "      <th>B00000JII6</th>\n",
              "      <th>B00000JMUG</th>\n",
              "      <th>B00000JPPI</th>\n",
              "      <th>B00000JSGF</th>\n",
              "      <th>B00000JYLO</th>\n",
              "      <th>B00000JYWQ</th>\n",
              "      <th>B00000K135</th>\n",
              "    </tr>\n",
              "    <tr>\n",
              "      <th>userId</th>\n",
              "      <th></th>\n",
              "      <th></th>\n",
              "      <th></th>\n",
              "      <th></th>\n",
              "      <th></th>\n",
              "      <th></th>\n",
              "      <th></th>\n",
              "      <th></th>\n",
              "      <th></th>\n",
              "      <th></th>\n",
              "      <th></th>\n",
              "      <th></th>\n",
              "      <th></th>\n",
              "      <th></th>\n",
              "      <th></th>\n",
              "      <th></th>\n",
              "      <th></th>\n",
              "      <th></th>\n",
              "      <th></th>\n",
              "      <th></th>\n",
              "      <th></th>\n",
              "    </tr>\n",
              "  </thead>\n",
              "  <tbody>\n",
              "    <tr>\n",
              "      <th>A01852072Z7B68UHLI5UG</th>\n",
              "      <td>0</td>\n",
              "      <td>0</td>\n",
              "      <td>0</td>\n",
              "      <td>0</td>\n",
              "      <td>0</td>\n",
              "      <td>0</td>\n",
              "      <td>0</td>\n",
              "      <td>0</td>\n",
              "      <td>0</td>\n",
              "      <td>0</td>\n",
              "      <td>...</td>\n",
              "      <td>0</td>\n",
              "      <td>0</td>\n",
              "      <td>0</td>\n",
              "      <td>0</td>\n",
              "      <td>0</td>\n",
              "      <td>0</td>\n",
              "      <td>0</td>\n",
              "      <td>0</td>\n",
              "      <td>0</td>\n",
              "      <td>0</td>\n",
              "    </tr>\n",
              "    <tr>\n",
              "      <th>A0266076X6KPZ6CCHGVS</th>\n",
              "      <td>0</td>\n",
              "      <td>0</td>\n",
              "      <td>0</td>\n",
              "      <td>0</td>\n",
              "      <td>0</td>\n",
              "      <td>0</td>\n",
              "      <td>0</td>\n",
              "      <td>0</td>\n",
              "      <td>0</td>\n",
              "      <td>0</td>\n",
              "      <td>...</td>\n",
              "      <td>0</td>\n",
              "      <td>0</td>\n",
              "      <td>0</td>\n",
              "      <td>0</td>\n",
              "      <td>0</td>\n",
              "      <td>0</td>\n",
              "      <td>0</td>\n",
              "      <td>0</td>\n",
              "      <td>0</td>\n",
              "      <td>0</td>\n",
              "    </tr>\n",
              "    <tr>\n",
              "      <th>A0293130VTX2ZXA70JQS</th>\n",
              "      <td>5</td>\n",
              "      <td>0</td>\n",
              "      <td>0</td>\n",
              "      <td>0</td>\n",
              "      <td>0</td>\n",
              "      <td>0</td>\n",
              "      <td>0</td>\n",
              "      <td>0</td>\n",
              "      <td>0</td>\n",
              "      <td>0</td>\n",
              "      <td>...</td>\n",
              "      <td>0</td>\n",
              "      <td>0</td>\n",
              "      <td>0</td>\n",
              "      <td>0</td>\n",
              "      <td>0</td>\n",
              "      <td>0</td>\n",
              "      <td>0</td>\n",
              "      <td>0</td>\n",
              "      <td>0</td>\n",
              "      <td>0</td>\n",
              "    </tr>\n",
              "    <tr>\n",
              "      <th>A030530627MK66BD8V4LN</th>\n",
              "      <td>4</td>\n",
              "      <td>0</td>\n",
              "      <td>0</td>\n",
              "      <td>0</td>\n",
              "      <td>0</td>\n",
              "      <td>0</td>\n",
              "      <td>0</td>\n",
              "      <td>0</td>\n",
              "      <td>0</td>\n",
              "      <td>0</td>\n",
              "      <td>...</td>\n",
              "      <td>0</td>\n",
              "      <td>0</td>\n",
              "      <td>0</td>\n",
              "      <td>0</td>\n",
              "      <td>0</td>\n",
              "      <td>0</td>\n",
              "      <td>0</td>\n",
              "      <td>0</td>\n",
              "      <td>0</td>\n",
              "      <td>0</td>\n",
              "    </tr>\n",
              "    <tr>\n",
              "      <th>A0571176384K8RBNKGF8O</th>\n",
              "      <td>0</td>\n",
              "      <td>0</td>\n",
              "      <td>0</td>\n",
              "      <td>0</td>\n",
              "      <td>0</td>\n",
              "      <td>0</td>\n",
              "      <td>0</td>\n",
              "      <td>0</td>\n",
              "      <td>0</td>\n",
              "      <td>0</td>\n",
              "      <td>...</td>\n",
              "      <td>0</td>\n",
              "      <td>0</td>\n",
              "      <td>0</td>\n",
              "      <td>0</td>\n",
              "      <td>0</td>\n",
              "      <td>0</td>\n",
              "      <td>0</td>\n",
              "      <td>0</td>\n",
              "      <td>0</td>\n",
              "      <td>0</td>\n",
              "    </tr>\n",
              "  </tbody>\n",
              "</table>\n",
              "<p>5 rows × 76 columns</p>\n",
              "</div>\n",
              "    <div class=\"colab-df-buttons\">\n",
              "\n",
              "  <div class=\"colab-df-container\">\n",
              "    <button class=\"colab-df-convert\" onclick=\"convertToInteractive('df-c25339e8-3016-43a6-91a4-f8ef05ea9db8')\"\n",
              "            title=\"Convert this dataframe to an interactive table.\"\n",
              "            style=\"display:none;\">\n",
              "\n",
              "  <svg xmlns=\"http://www.w3.org/2000/svg\" height=\"24px\" viewBox=\"0 -960 960 960\">\n",
              "    <path d=\"M120-120v-720h720v720H120Zm60-500h600v-160H180v160Zm220 220h160v-160H400v160Zm0 220h160v-160H400v160ZM180-400h160v-160H180v160Zm440 0h160v-160H620v160ZM180-180h160v-160H180v160Zm440 0h160v-160H620v160Z\"/>\n",
              "  </svg>\n",
              "    </button>\n",
              "\n",
              "  <style>\n",
              "    .colab-df-container {\n",
              "      display:flex;\n",
              "      gap: 12px;\n",
              "    }\n",
              "\n",
              "    .colab-df-convert {\n",
              "      background-color: #E8F0FE;\n",
              "      border: none;\n",
              "      border-radius: 50%;\n",
              "      cursor: pointer;\n",
              "      display: none;\n",
              "      fill: #1967D2;\n",
              "      height: 32px;\n",
              "      padding: 0 0 0 0;\n",
              "      width: 32px;\n",
              "    }\n",
              "\n",
              "    .colab-df-convert:hover {\n",
              "      background-color: #E2EBFA;\n",
              "      box-shadow: 0px 1px 2px rgba(60, 64, 67, 0.3), 0px 1px 3px 1px rgba(60, 64, 67, 0.15);\n",
              "      fill: #174EA6;\n",
              "    }\n",
              "\n",
              "    .colab-df-buttons div {\n",
              "      margin-bottom: 4px;\n",
              "    }\n",
              "\n",
              "    [theme=dark] .colab-df-convert {\n",
              "      background-color: #3B4455;\n",
              "      fill: #D2E3FC;\n",
              "    }\n",
              "\n",
              "    [theme=dark] .colab-df-convert:hover {\n",
              "      background-color: #434B5C;\n",
              "      box-shadow: 0px 1px 3px 1px rgba(0, 0, 0, 0.15);\n",
              "      filter: drop-shadow(0px 1px 2px rgba(0, 0, 0, 0.3));\n",
              "      fill: #FFFFFF;\n",
              "    }\n",
              "  </style>\n",
              "\n",
              "    <script>\n",
              "      const buttonEl =\n",
              "        document.querySelector('#df-c25339e8-3016-43a6-91a4-f8ef05ea9db8 button.colab-df-convert');\n",
              "      buttonEl.style.display =\n",
              "        google.colab.kernel.accessAllowed ? 'block' : 'none';\n",
              "\n",
              "      async function convertToInteractive(key) {\n",
              "        const element = document.querySelector('#df-c25339e8-3016-43a6-91a4-f8ef05ea9db8');\n",
              "        const dataTable =\n",
              "          await google.colab.kernel.invokeFunction('convertToInteractive',\n",
              "                                                    [key], {});\n",
              "        if (!dataTable) return;\n",
              "\n",
              "        const docLinkHtml = 'Like what you see? Visit the ' +\n",
              "          '<a target=\"_blank\" href=https://colab.research.google.com/notebooks/data_table.ipynb>data table notebook</a>'\n",
              "          + ' to learn more about interactive tables.';\n",
              "        element.innerHTML = '';\n",
              "        dataTable['output_type'] = 'display_data';\n",
              "        await google.colab.output.renderOutput(dataTable, element);\n",
              "        const docLink = document.createElement('div');\n",
              "        docLink.innerHTML = docLinkHtml;\n",
              "        element.appendChild(docLink);\n",
              "      }\n",
              "    </script>\n",
              "  </div>\n",
              "\n",
              "\n",
              "<div id=\"df-13a12b35-e198-4a06-99ef-a6cdc3e4ce8d\">\n",
              "  <button class=\"colab-df-quickchart\" onclick=\"quickchart('df-13a12b35-e198-4a06-99ef-a6cdc3e4ce8d')\"\n",
              "            title=\"Suggest charts\"\n",
              "            style=\"display:none;\">\n",
              "\n",
              "<svg xmlns=\"http://www.w3.org/2000/svg\" height=\"24px\"viewBox=\"0 0 24 24\"\n",
              "     width=\"24px\">\n",
              "    <g>\n",
              "        <path d=\"M19 3H5c-1.1 0-2 .9-2 2v14c0 1.1.9 2 2 2h14c1.1 0 2-.9 2-2V5c0-1.1-.9-2-2-2zM9 17H7v-7h2v7zm4 0h-2V7h2v10zm4 0h-2v-4h2v4z\"/>\n",
              "    </g>\n",
              "</svg>\n",
              "  </button>\n",
              "\n",
              "<style>\n",
              "  .colab-df-quickchart {\n",
              "      --bg-color: #E8F0FE;\n",
              "      --fill-color: #1967D2;\n",
              "      --hover-bg-color: #E2EBFA;\n",
              "      --hover-fill-color: #174EA6;\n",
              "      --disabled-fill-color: #AAA;\n",
              "      --disabled-bg-color: #DDD;\n",
              "  }\n",
              "\n",
              "  [theme=dark] .colab-df-quickchart {\n",
              "      --bg-color: #3B4455;\n",
              "      --fill-color: #D2E3FC;\n",
              "      --hover-bg-color: #434B5C;\n",
              "      --hover-fill-color: #FFFFFF;\n",
              "      --disabled-bg-color: #3B4455;\n",
              "      --disabled-fill-color: #666;\n",
              "  }\n",
              "\n",
              "  .colab-df-quickchart {\n",
              "    background-color: var(--bg-color);\n",
              "    border: none;\n",
              "    border-radius: 50%;\n",
              "    cursor: pointer;\n",
              "    display: none;\n",
              "    fill: var(--fill-color);\n",
              "    height: 32px;\n",
              "    padding: 0;\n",
              "    width: 32px;\n",
              "  }\n",
              "\n",
              "  .colab-df-quickchart:hover {\n",
              "    background-color: var(--hover-bg-color);\n",
              "    box-shadow: 0 1px 2px rgba(60, 64, 67, 0.3), 0 1px 3px 1px rgba(60, 64, 67, 0.15);\n",
              "    fill: var(--button-hover-fill-color);\n",
              "  }\n",
              "\n",
              "  .colab-df-quickchart-complete:disabled,\n",
              "  .colab-df-quickchart-complete:disabled:hover {\n",
              "    background-color: var(--disabled-bg-color);\n",
              "    fill: var(--disabled-fill-color);\n",
              "    box-shadow: none;\n",
              "  }\n",
              "\n",
              "  .colab-df-spinner {\n",
              "    border: 2px solid var(--fill-color);\n",
              "    border-color: transparent;\n",
              "    border-bottom-color: var(--fill-color);\n",
              "    animation:\n",
              "      spin 1s steps(1) infinite;\n",
              "  }\n",
              "\n",
              "  @keyframes spin {\n",
              "    0% {\n",
              "      border-color: transparent;\n",
              "      border-bottom-color: var(--fill-color);\n",
              "      border-left-color: var(--fill-color);\n",
              "    }\n",
              "    20% {\n",
              "      border-color: transparent;\n",
              "      border-left-color: var(--fill-color);\n",
              "      border-top-color: var(--fill-color);\n",
              "    }\n",
              "    30% {\n",
              "      border-color: transparent;\n",
              "      border-left-color: var(--fill-color);\n",
              "      border-top-color: var(--fill-color);\n",
              "      border-right-color: var(--fill-color);\n",
              "    }\n",
              "    40% {\n",
              "      border-color: transparent;\n",
              "      border-right-color: var(--fill-color);\n",
              "      border-top-color: var(--fill-color);\n",
              "    }\n",
              "    60% {\n",
              "      border-color: transparent;\n",
              "      border-right-color: var(--fill-color);\n",
              "    }\n",
              "    80% {\n",
              "      border-color: transparent;\n",
              "      border-right-color: var(--fill-color);\n",
              "      border-bottom-color: var(--fill-color);\n",
              "    }\n",
              "    90% {\n",
              "      border-color: transparent;\n",
              "      border-bottom-color: var(--fill-color);\n",
              "    }\n",
              "  }\n",
              "</style>\n",
              "\n",
              "  <script>\n",
              "    async function quickchart(key) {\n",
              "      const quickchartButtonEl =\n",
              "        document.querySelector('#' + key + ' button');\n",
              "      quickchartButtonEl.disabled = true;  // To prevent multiple clicks.\n",
              "      quickchartButtonEl.classList.add('colab-df-spinner');\n",
              "      try {\n",
              "        const charts = await google.colab.kernel.invokeFunction(\n",
              "            'suggestCharts', [key], {});\n",
              "      } catch (error) {\n",
              "        console.error('Error during call to suggestCharts:', error);\n",
              "      }\n",
              "      quickchartButtonEl.classList.remove('colab-df-spinner');\n",
              "      quickchartButtonEl.classList.add('colab-df-quickchart-complete');\n",
              "    }\n",
              "    (() => {\n",
              "      let quickchartButtonEl =\n",
              "        document.querySelector('#df-13a12b35-e198-4a06-99ef-a6cdc3e4ce8d button');\n",
              "      quickchartButtonEl.style.display =\n",
              "        google.colab.kernel.accessAllowed ? 'block' : 'none';\n",
              "    })();\n",
              "  </script>\n",
              "</div>\n",
              "    </div>\n",
              "  </div>\n"
            ]
          },
          "metadata": {},
          "execution_count": 40
        }
      ],
      "source": [
        "\n",
        "new_df1=new_df.head(10000)\n",
        "ratings_matrix = new_df1.pivot_table(values='Rating', index='userId', columns='productId', fill_value=0)\n",
        "ratings_matrix.head()"
      ]
    },
    {
      "cell_type": "markdown",
      "metadata": {
        "id": "m50CVaSXWtwg"
      },
      "source": [
        "As expected, the utility matrix obtaned above is sparce, I have filled up the unknown values wth 0.\n",
        "\n"
      ]
    },
    {
      "cell_type": "code",
      "execution_count": 41,
      "metadata": {
        "colab": {
          "base_uri": "https://localhost:8080/"
        },
        "id": "ZXazrfwuWtwh",
        "outputId": "48d174b0-2155-4711-a43e-58bafe09ff06"
      },
      "outputs": [
        {
          "output_type": "execute_result",
          "data": {
            "text/plain": [
              "(9832, 76)"
            ]
          },
          "metadata": {},
          "execution_count": 41
        }
      ],
      "source": [
        "ratings_matrix.shape\n"
      ]
    },
    {
      "cell_type": "markdown",
      "metadata": {
        "id": "cJHZu6uVWtwh"
      },
      "source": [
        "Transposing the matrix"
      ]
    },
    {
      "cell_type": "code",
      "execution_count": 42,
      "metadata": {
        "colab": {
          "base_uri": "https://localhost:8080/",
          "height": 286
        },
        "id": "Ml3anP7-Wtwh",
        "outputId": "72bdd0fe-f510-45d1-ba66-9064e137c07b"
      },
      "outputs": [
        {
          "output_type": "execute_result",
          "data": {
            "text/plain": [
              "userId      A01852072Z7B68UHLI5UG  A0266076X6KPZ6CCHGVS  A0293130VTX2ZXA70JQS  \\\n",
              "productId                                                                       \n",
              "0972683275                      0                     0                     5   \n",
              "1400501466                      0                     0                     0   \n",
              "1400501520                      0                     0                     0   \n",
              "1400501776                      0                     0                     0   \n",
              "1400532620                      0                     0                     0   \n",
              "\n",
              "userId      A030530627MK66BD8V4LN  A0571176384K8RBNKGF8O  \\\n",
              "productId                                                  \n",
              "0972683275                      4                      0   \n",
              "1400501466                      0                      0   \n",
              "1400501520                      0                      0   \n",
              "1400501776                      0                      0   \n",
              "1400532620                      0                      0   \n",
              "\n",
              "userId      A0590501PZ7HOWJKBGQ4  A0641581307AKT5MAOU0Q  \\\n",
              "productId                                                 \n",
              "0972683275                     0                      0   \n",
              "1400501466                     0                      0   \n",
              "1400501520                     0                      0   \n",
              "1400501776                     0                      0   \n",
              "1400532620                     0                      0   \n",
              "\n",
              "userId      A076219533YHEV2LJO988  A0821988FXKFYX53V4QG  \\\n",
              "productId                                                 \n",
              "0972683275                      0                     0   \n",
              "1400501466                      0                     0   \n",
              "1400501520                      0                     0   \n",
              "1400501776                      0                     0   \n",
              "1400532620                      0                     0   \n",
              "\n",
              "userId      A099626739FNCRNHIKBCG  ...  AZWOPBY75SGAM  AZX0ZDVAFMN78  \\\n",
              "productId                          ...                                 \n",
              "0972683275                      0  ...              0              0   \n",
              "1400501466                      0  ...              0              0   \n",
              "1400501520                      3  ...              0              0   \n",
              "1400501776                      0  ...              0              0   \n",
              "1400532620                      0  ...              0              0   \n",
              "\n",
              "userId      AZX5LAN9JEAFF  AZX7I110AF0W2  AZXKUK895VGSM  AZXP46IB63PU8  \\\n",
              "productId                                                                \n",
              "0972683275              0              0              0              0   \n",
              "1400501466              0              0              0              0   \n",
              "1400501520              0              0              0              0   \n",
              "1400501776              0              0              0              0   \n",
              "1400532620              0              0              0              0   \n",
              "\n",
              "userId      AZYTSU42BZ7TP  AZZGJ2KMWB7R  AZZMV5VT9W7Y8  AZZST8OYL5P4Q  \n",
              "productId                                                              \n",
              "0972683275              0             0              0              0  \n",
              "1400501466              0             0              0              0  \n",
              "1400501520              0             0              0              0  \n",
              "1400501776              0             0              1              0  \n",
              "1400532620              0             0              0              0  \n",
              "\n",
              "[5 rows x 9832 columns]"
            ],
            "text/html": [
              "\n",
              "  <div id=\"df-2589c9b9-af7d-4ab8-8ab3-791abb5bf4f8\" class=\"colab-df-container\">\n",
              "    <div>\n",
              "<style scoped>\n",
              "    .dataframe tbody tr th:only-of-type {\n",
              "        vertical-align: middle;\n",
              "    }\n",
              "\n",
              "    .dataframe tbody tr th {\n",
              "        vertical-align: top;\n",
              "    }\n",
              "\n",
              "    .dataframe thead th {\n",
              "        text-align: right;\n",
              "    }\n",
              "</style>\n",
              "<table border=\"1\" class=\"dataframe\">\n",
              "  <thead>\n",
              "    <tr style=\"text-align: right;\">\n",
              "      <th>userId</th>\n",
              "      <th>A01852072Z7B68UHLI5UG</th>\n",
              "      <th>A0266076X6KPZ6CCHGVS</th>\n",
              "      <th>A0293130VTX2ZXA70JQS</th>\n",
              "      <th>A030530627MK66BD8V4LN</th>\n",
              "      <th>A0571176384K8RBNKGF8O</th>\n",
              "      <th>A0590501PZ7HOWJKBGQ4</th>\n",
              "      <th>A0641581307AKT5MAOU0Q</th>\n",
              "      <th>A076219533YHEV2LJO988</th>\n",
              "      <th>A0821988FXKFYX53V4QG</th>\n",
              "      <th>A099626739FNCRNHIKBCG</th>\n",
              "      <th>...</th>\n",
              "      <th>AZWOPBY75SGAM</th>\n",
              "      <th>AZX0ZDVAFMN78</th>\n",
              "      <th>AZX5LAN9JEAFF</th>\n",
              "      <th>AZX7I110AF0W2</th>\n",
              "      <th>AZXKUK895VGSM</th>\n",
              "      <th>AZXP46IB63PU8</th>\n",
              "      <th>AZYTSU42BZ7TP</th>\n",
              "      <th>AZZGJ2KMWB7R</th>\n",
              "      <th>AZZMV5VT9W7Y8</th>\n",
              "      <th>AZZST8OYL5P4Q</th>\n",
              "    </tr>\n",
              "    <tr>\n",
              "      <th>productId</th>\n",
              "      <th></th>\n",
              "      <th></th>\n",
              "      <th></th>\n",
              "      <th></th>\n",
              "      <th></th>\n",
              "      <th></th>\n",
              "      <th></th>\n",
              "      <th></th>\n",
              "      <th></th>\n",
              "      <th></th>\n",
              "      <th></th>\n",
              "      <th></th>\n",
              "      <th></th>\n",
              "      <th></th>\n",
              "      <th></th>\n",
              "      <th></th>\n",
              "      <th></th>\n",
              "      <th></th>\n",
              "      <th></th>\n",
              "      <th></th>\n",
              "      <th></th>\n",
              "    </tr>\n",
              "  </thead>\n",
              "  <tbody>\n",
              "    <tr>\n",
              "      <th>0972683275</th>\n",
              "      <td>0</td>\n",
              "      <td>0</td>\n",
              "      <td>5</td>\n",
              "      <td>4</td>\n",
              "      <td>0</td>\n",
              "      <td>0</td>\n",
              "      <td>0</td>\n",
              "      <td>0</td>\n",
              "      <td>0</td>\n",
              "      <td>0</td>\n",
              "      <td>...</td>\n",
              "      <td>0</td>\n",
              "      <td>0</td>\n",
              "      <td>0</td>\n",
              "      <td>0</td>\n",
              "      <td>0</td>\n",
              "      <td>0</td>\n",
              "      <td>0</td>\n",
              "      <td>0</td>\n",
              "      <td>0</td>\n",
              "      <td>0</td>\n",
              "    </tr>\n",
              "    <tr>\n",
              "      <th>1400501466</th>\n",
              "      <td>0</td>\n",
              "      <td>0</td>\n",
              "      <td>0</td>\n",
              "      <td>0</td>\n",
              "      <td>0</td>\n",
              "      <td>0</td>\n",
              "      <td>0</td>\n",
              "      <td>0</td>\n",
              "      <td>0</td>\n",
              "      <td>0</td>\n",
              "      <td>...</td>\n",
              "      <td>0</td>\n",
              "      <td>0</td>\n",
              "      <td>0</td>\n",
              "      <td>0</td>\n",
              "      <td>0</td>\n",
              "      <td>0</td>\n",
              "      <td>0</td>\n",
              "      <td>0</td>\n",
              "      <td>0</td>\n",
              "      <td>0</td>\n",
              "    </tr>\n",
              "    <tr>\n",
              "      <th>1400501520</th>\n",
              "      <td>0</td>\n",
              "      <td>0</td>\n",
              "      <td>0</td>\n",
              "      <td>0</td>\n",
              "      <td>0</td>\n",
              "      <td>0</td>\n",
              "      <td>0</td>\n",
              "      <td>0</td>\n",
              "      <td>0</td>\n",
              "      <td>3</td>\n",
              "      <td>...</td>\n",
              "      <td>0</td>\n",
              "      <td>0</td>\n",
              "      <td>0</td>\n",
              "      <td>0</td>\n",
              "      <td>0</td>\n",
              "      <td>0</td>\n",
              "      <td>0</td>\n",
              "      <td>0</td>\n",
              "      <td>0</td>\n",
              "      <td>0</td>\n",
              "    </tr>\n",
              "    <tr>\n",
              "      <th>1400501776</th>\n",
              "      <td>0</td>\n",
              "      <td>0</td>\n",
              "      <td>0</td>\n",
              "      <td>0</td>\n",
              "      <td>0</td>\n",
              "      <td>0</td>\n",
              "      <td>0</td>\n",
              "      <td>0</td>\n",
              "      <td>0</td>\n",
              "      <td>0</td>\n",
              "      <td>...</td>\n",
              "      <td>0</td>\n",
              "      <td>0</td>\n",
              "      <td>0</td>\n",
              "      <td>0</td>\n",
              "      <td>0</td>\n",
              "      <td>0</td>\n",
              "      <td>0</td>\n",
              "      <td>0</td>\n",
              "      <td>1</td>\n",
              "      <td>0</td>\n",
              "    </tr>\n",
              "    <tr>\n",
              "      <th>1400532620</th>\n",
              "      <td>0</td>\n",
              "      <td>0</td>\n",
              "      <td>0</td>\n",
              "      <td>0</td>\n",
              "      <td>0</td>\n",
              "      <td>0</td>\n",
              "      <td>0</td>\n",
              "      <td>0</td>\n",
              "      <td>0</td>\n",
              "      <td>0</td>\n",
              "      <td>...</td>\n",
              "      <td>0</td>\n",
              "      <td>0</td>\n",
              "      <td>0</td>\n",
              "      <td>0</td>\n",
              "      <td>0</td>\n",
              "      <td>0</td>\n",
              "      <td>0</td>\n",
              "      <td>0</td>\n",
              "      <td>0</td>\n",
              "      <td>0</td>\n",
              "    </tr>\n",
              "  </tbody>\n",
              "</table>\n",
              "<p>5 rows × 9832 columns</p>\n",
              "</div>\n",
              "    <div class=\"colab-df-buttons\">\n",
              "\n",
              "  <div class=\"colab-df-container\">\n",
              "    <button class=\"colab-df-convert\" onclick=\"convertToInteractive('df-2589c9b9-af7d-4ab8-8ab3-791abb5bf4f8')\"\n",
              "            title=\"Convert this dataframe to an interactive table.\"\n",
              "            style=\"display:none;\">\n",
              "\n",
              "  <svg xmlns=\"http://www.w3.org/2000/svg\" height=\"24px\" viewBox=\"0 -960 960 960\">\n",
              "    <path d=\"M120-120v-720h720v720H120Zm60-500h600v-160H180v160Zm220 220h160v-160H400v160Zm0 220h160v-160H400v160ZM180-400h160v-160H180v160Zm440 0h160v-160H620v160ZM180-180h160v-160H180v160Zm440 0h160v-160H620v160Z\"/>\n",
              "  </svg>\n",
              "    </button>\n",
              "\n",
              "  <style>\n",
              "    .colab-df-container {\n",
              "      display:flex;\n",
              "      gap: 12px;\n",
              "    }\n",
              "\n",
              "    .colab-df-convert {\n",
              "      background-color: #E8F0FE;\n",
              "      border: none;\n",
              "      border-radius: 50%;\n",
              "      cursor: pointer;\n",
              "      display: none;\n",
              "      fill: #1967D2;\n",
              "      height: 32px;\n",
              "      padding: 0 0 0 0;\n",
              "      width: 32px;\n",
              "    }\n",
              "\n",
              "    .colab-df-convert:hover {\n",
              "      background-color: #E2EBFA;\n",
              "      box-shadow: 0px 1px 2px rgba(60, 64, 67, 0.3), 0px 1px 3px 1px rgba(60, 64, 67, 0.15);\n",
              "      fill: #174EA6;\n",
              "    }\n",
              "\n",
              "    .colab-df-buttons div {\n",
              "      margin-bottom: 4px;\n",
              "    }\n",
              "\n",
              "    [theme=dark] .colab-df-convert {\n",
              "      background-color: #3B4455;\n",
              "      fill: #D2E3FC;\n",
              "    }\n",
              "\n",
              "    [theme=dark] .colab-df-convert:hover {\n",
              "      background-color: #434B5C;\n",
              "      box-shadow: 0px 1px 3px 1px rgba(0, 0, 0, 0.15);\n",
              "      filter: drop-shadow(0px 1px 2px rgba(0, 0, 0, 0.3));\n",
              "      fill: #FFFFFF;\n",
              "    }\n",
              "  </style>\n",
              "\n",
              "    <script>\n",
              "      const buttonEl =\n",
              "        document.querySelector('#df-2589c9b9-af7d-4ab8-8ab3-791abb5bf4f8 button.colab-df-convert');\n",
              "      buttonEl.style.display =\n",
              "        google.colab.kernel.accessAllowed ? 'block' : 'none';\n",
              "\n",
              "      async function convertToInteractive(key) {\n",
              "        const element = document.querySelector('#df-2589c9b9-af7d-4ab8-8ab3-791abb5bf4f8');\n",
              "        const dataTable =\n",
              "          await google.colab.kernel.invokeFunction('convertToInteractive',\n",
              "                                                    [key], {});\n",
              "        if (!dataTable) return;\n",
              "\n",
              "        const docLinkHtml = 'Like what you see? Visit the ' +\n",
              "          '<a target=\"_blank\" href=https://colab.research.google.com/notebooks/data_table.ipynb>data table notebook</a>'\n",
              "          + ' to learn more about interactive tables.';\n",
              "        element.innerHTML = '';\n",
              "        dataTable['output_type'] = 'display_data';\n",
              "        await google.colab.output.renderOutput(dataTable, element);\n",
              "        const docLink = document.createElement('div');\n",
              "        docLink.innerHTML = docLinkHtml;\n",
              "        element.appendChild(docLink);\n",
              "      }\n",
              "    </script>\n",
              "  </div>\n",
              "\n",
              "\n",
              "<div id=\"df-d06760fa-a096-4f7c-bcc6-f8f747407c2f\">\n",
              "  <button class=\"colab-df-quickchart\" onclick=\"quickchart('df-d06760fa-a096-4f7c-bcc6-f8f747407c2f')\"\n",
              "            title=\"Suggest charts\"\n",
              "            style=\"display:none;\">\n",
              "\n",
              "<svg xmlns=\"http://www.w3.org/2000/svg\" height=\"24px\"viewBox=\"0 0 24 24\"\n",
              "     width=\"24px\">\n",
              "    <g>\n",
              "        <path d=\"M19 3H5c-1.1 0-2 .9-2 2v14c0 1.1.9 2 2 2h14c1.1 0 2-.9 2-2V5c0-1.1-.9-2-2-2zM9 17H7v-7h2v7zm4 0h-2V7h2v10zm4 0h-2v-4h2v4z\"/>\n",
              "    </g>\n",
              "</svg>\n",
              "  </button>\n",
              "\n",
              "<style>\n",
              "  .colab-df-quickchart {\n",
              "      --bg-color: #E8F0FE;\n",
              "      --fill-color: #1967D2;\n",
              "      --hover-bg-color: #E2EBFA;\n",
              "      --hover-fill-color: #174EA6;\n",
              "      --disabled-fill-color: #AAA;\n",
              "      --disabled-bg-color: #DDD;\n",
              "  }\n",
              "\n",
              "  [theme=dark] .colab-df-quickchart {\n",
              "      --bg-color: #3B4455;\n",
              "      --fill-color: #D2E3FC;\n",
              "      --hover-bg-color: #434B5C;\n",
              "      --hover-fill-color: #FFFFFF;\n",
              "      --disabled-bg-color: #3B4455;\n",
              "      --disabled-fill-color: #666;\n",
              "  }\n",
              "\n",
              "  .colab-df-quickchart {\n",
              "    background-color: var(--bg-color);\n",
              "    border: none;\n",
              "    border-radius: 50%;\n",
              "    cursor: pointer;\n",
              "    display: none;\n",
              "    fill: var(--fill-color);\n",
              "    height: 32px;\n",
              "    padding: 0;\n",
              "    width: 32px;\n",
              "  }\n",
              "\n",
              "  .colab-df-quickchart:hover {\n",
              "    background-color: var(--hover-bg-color);\n",
              "    box-shadow: 0 1px 2px rgba(60, 64, 67, 0.3), 0 1px 3px 1px rgba(60, 64, 67, 0.15);\n",
              "    fill: var(--button-hover-fill-color);\n",
              "  }\n",
              "\n",
              "  .colab-df-quickchart-complete:disabled,\n",
              "  .colab-df-quickchart-complete:disabled:hover {\n",
              "    background-color: var(--disabled-bg-color);\n",
              "    fill: var(--disabled-fill-color);\n",
              "    box-shadow: none;\n",
              "  }\n",
              "\n",
              "  .colab-df-spinner {\n",
              "    border: 2px solid var(--fill-color);\n",
              "    border-color: transparent;\n",
              "    border-bottom-color: var(--fill-color);\n",
              "    animation:\n",
              "      spin 1s steps(1) infinite;\n",
              "  }\n",
              "\n",
              "  @keyframes spin {\n",
              "    0% {\n",
              "      border-color: transparent;\n",
              "      border-bottom-color: var(--fill-color);\n",
              "      border-left-color: var(--fill-color);\n",
              "    }\n",
              "    20% {\n",
              "      border-color: transparent;\n",
              "      border-left-color: var(--fill-color);\n",
              "      border-top-color: var(--fill-color);\n",
              "    }\n",
              "    30% {\n",
              "      border-color: transparent;\n",
              "      border-left-color: var(--fill-color);\n",
              "      border-top-color: var(--fill-color);\n",
              "      border-right-color: var(--fill-color);\n",
              "    }\n",
              "    40% {\n",
              "      border-color: transparent;\n",
              "      border-right-color: var(--fill-color);\n",
              "      border-top-color: var(--fill-color);\n",
              "    }\n",
              "    60% {\n",
              "      border-color: transparent;\n",
              "      border-right-color: var(--fill-color);\n",
              "    }\n",
              "    80% {\n",
              "      border-color: transparent;\n",
              "      border-right-color: var(--fill-color);\n",
              "      border-bottom-color: var(--fill-color);\n",
              "    }\n",
              "    90% {\n",
              "      border-color: transparent;\n",
              "      border-bottom-color: var(--fill-color);\n",
              "    }\n",
              "  }\n",
              "</style>\n",
              "\n",
              "  <script>\n",
              "    async function quickchart(key) {\n",
              "      const quickchartButtonEl =\n",
              "        document.querySelector('#' + key + ' button');\n",
              "      quickchartButtonEl.disabled = true;  // To prevent multiple clicks.\n",
              "      quickchartButtonEl.classList.add('colab-df-spinner');\n",
              "      try {\n",
              "        const charts = await google.colab.kernel.invokeFunction(\n",
              "            'suggestCharts', [key], {});\n",
              "      } catch (error) {\n",
              "        console.error('Error during call to suggestCharts:', error);\n",
              "      }\n",
              "      quickchartButtonEl.classList.remove('colab-df-spinner');\n",
              "      quickchartButtonEl.classList.add('colab-df-quickchart-complete');\n",
              "    }\n",
              "    (() => {\n",
              "      let quickchartButtonEl =\n",
              "        document.querySelector('#df-d06760fa-a096-4f7c-bcc6-f8f747407c2f button');\n",
              "      quickchartButtonEl.style.display =\n",
              "        google.colab.kernel.accessAllowed ? 'block' : 'none';\n",
              "    })();\n",
              "  </script>\n",
              "</div>\n",
              "    </div>\n",
              "  </div>\n"
            ]
          },
          "metadata": {},
          "execution_count": 42
        }
      ],
      "source": [
        "X = ratings_matrix.T\n",
        "X.head()"
      ]
    },
    {
      "cell_type": "code",
      "execution_count": 43,
      "metadata": {
        "_cell_guid": "79c7e3d0-c299-4dcb-8224-4455121ee9b0",
        "_uuid": "d629ff2d2480ee46fbb7e2d37f6b5fab8052498a",
        "colab": {
          "base_uri": "https://localhost:8080/"
        },
        "id": "19sN4OLQWtwh",
        "outputId": "848f4c06-a8b7-436b-974f-3318e88d52eb"
      },
      "outputs": [
        {
          "output_type": "execute_result",
          "data": {
            "text/plain": [
              "(76, 9832)"
            ]
          },
          "metadata": {},
          "execution_count": 43
        }
      ],
      "source": [
        "X.shape\n"
      ]
    },
    {
      "cell_type": "markdown",
      "metadata": {
        "id": "mMaLKcR6Wtwh"
      },
      "source": [
        "Unique products in subset of data\n"
      ]
    },
    {
      "cell_type": "code",
      "execution_count": 44,
      "metadata": {
        "id": "8H5AUvwrWtwh"
      },
      "outputs": [],
      "source": [
        "X1 = X\n"
      ]
    },
    {
      "cell_type": "code",
      "execution_count": 45,
      "metadata": {
        "colab": {
          "base_uri": "https://localhost:8080/"
        },
        "id": "eVtnwCAqWtwh",
        "outputId": "cd7741ed-2302-4c56-cd2d-ba9e640fcdaf"
      },
      "outputs": [
        {
          "output_type": "execute_result",
          "data": {
            "text/plain": [
              "(76, 10)"
            ]
          },
          "metadata": {},
          "execution_count": 45
        }
      ],
      "source": [
        "#Decomposing the Matrix\n",
        "from sklearn.decomposition import TruncatedSVD\n",
        "SVD = TruncatedSVD(n_components=10)\n",
        "decomposed_matrix = SVD.fit_transform(X)\n",
        "decomposed_matrix.shape"
      ]
    },
    {
      "cell_type": "code",
      "execution_count": 46,
      "metadata": {
        "colab": {
          "base_uri": "https://localhost:8080/"
        },
        "id": "KTB4bt5EWtwh",
        "outputId": "aa17881d-19f1-4aeb-b1ea-af2125435312"
      },
      "outputs": [
        {
          "output_type": "execute_result",
          "data": {
            "text/plain": [
              "(76, 76)"
            ]
          },
          "metadata": {},
          "execution_count": 46
        }
      ],
      "source": [
        "#Correlation Matrix\n",
        "\n",
        "correlation_matrix = np.corrcoef(decomposed_matrix)\n",
        "correlation_matrix.shape"
      ]
    },
    {
      "cell_type": "code",
      "execution_count": 47,
      "metadata": {
        "colab": {
          "base_uri": "https://localhost:8080/",
          "height": 36
        },
        "id": "7pnkfHrzWtwh",
        "outputId": "209b2b7d-fbf2-4891-a26a-66683d6b07b5"
      },
      "outputs": [
        {
          "output_type": "execute_result",
          "data": {
            "text/plain": [
              "'B00000K135'"
            ],
            "application/vnd.google.colaboratory.intrinsic+json": {
              "type": "string"
            }
          },
          "metadata": {},
          "execution_count": 47
        }
      ],
      "source": [
        "X.index[75]\n"
      ]
    },
    {
      "cell_type": "markdown",
      "metadata": {
        "id": "AV-k1LkAWtwh"
      },
      "source": [
        "Index # of product ID purchased by customer\n",
        "\n"
      ]
    },
    {
      "cell_type": "code",
      "execution_count": 48,
      "metadata": {
        "colab": {
          "base_uri": "https://localhost:8080/"
        },
        "id": "y4QtehLgWtwh",
        "outputId": "474052bc-6899-4d5b-ad4c-9037b572a29e"
      },
      "outputs": [
        {
          "output_type": "execute_result",
          "data": {
            "text/plain": [
              "75"
            ]
          },
          "metadata": {},
          "execution_count": 48
        }
      ],
      "source": [
        "i = \"B00000K135\"\n",
        "\n",
        "product_names = list(X.index)\n",
        "product_ID = product_names.index(i)\n",
        "product_ID"
      ]
    },
    {
      "cell_type": "markdown",
      "metadata": {
        "id": "JgmR_QxtWtwh"
      },
      "source": [
        "Correlation for all items with the item purchased by this customer based on items rated by other customers people who bought the same product"
      ]
    },
    {
      "cell_type": "code",
      "execution_count": 49,
      "metadata": {
        "colab": {
          "base_uri": "https://localhost:8080/"
        },
        "id": "KmKum0A1Wtwh",
        "outputId": "c3068aac-54a8-48aa-bf58-9ed96bd55d99"
      },
      "outputs": [
        {
          "output_type": "execute_result",
          "data": {
            "text/plain": [
              "(76,)"
            ]
          },
          "metadata": {},
          "execution_count": 49
        }
      ],
      "source": [
        "correlation_product_ID = correlation_matrix[product_ID]\n",
        "correlation_product_ID.shape"
      ]
    },
    {
      "cell_type": "markdown",
      "metadata": {
        "id": "OuEPADdfWtwh"
      },
      "source": [
        "Recommending top 25 highly correlated products in sequence\n",
        "\n"
      ]
    },
    {
      "cell_type": "code",
      "execution_count": 50,
      "metadata": {
        "colab": {
          "base_uri": "https://localhost:8080/"
        },
        "id": "6VNE8OosWtwh",
        "outputId": "89906956-adfa-4b8a-f4fa-9a3a79e0e21a"
      },
      "outputs": [
        {
          "output_type": "execute_result",
          "data": {
            "text/plain": [
              "['9575871979',\n",
              " '9625993428',\n",
              " '9888002198',\n",
              " '9983891212',\n",
              " 'B000001ON6',\n",
              " 'B00000IGBF',\n",
              " 'B00000J0D5',\n",
              " 'B00000J1EJ',\n",
              " 'B00000J1EP',\n",
              " 'B00000J1F3',\n",
              " 'B00000J1QK',\n",
              " 'B00000J1SC',\n",
              " 'B00000J3NF',\n",
              " 'B00000J4EY',\n",
              " 'B00000JCTO',\n",
              " 'B00000JHWX',\n",
              " 'B00000JII6',\n",
              " 'B00000JMUG',\n",
              " 'B00000JPPI']"
            ]
          },
          "metadata": {},
          "execution_count": 50
        }
      ],
      "source": [
        "Recommend = list(X.index[correlation_product_ID > 0.65])\n",
        "\n",
        "# Removes the item already bought by the customer\n",
        "Recommend.remove(i)\n",
        "\n",
        "Recommend[0:24]"
      ]
    },
    {
      "cell_type": "markdown",
      "metadata": {
        "id": "9CuIBHKTWtwi"
      },
      "source": [
        "Here are the top 10 products to be displayed by the recommendation system to the above customer based on the purchase history of other customers in the website.\n"
      ]
    }
  ],
  "metadata": {
    "kernelspec": {
      "display_name": "Python 3",
      "language": "python",
      "name": "python3"
    },
    "language_info": {
      "codemirror_mode": {
        "name": "ipython",
        "version": 3
      },
      "file_extension": ".py",
      "mimetype": "text/x-python",
      "name": "python",
      "nbconvert_exporter": "python",
      "pygments_lexer": "ipython3",
      "version": "3.6.6"
    },
    "colab": {
      "provenance": [],
      "include_colab_link": true
    }
  },
  "nbformat": 4,
  "nbformat_minor": 0
}