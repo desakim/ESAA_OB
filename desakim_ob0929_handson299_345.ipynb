{
  "nbformat": 4,
  "nbformat_minor": 0,
  "metadata": {
    "colab": {
      "provenance": [],
      "include_colab_link": true
    },
    "kernelspec": {
      "name": "python3",
      "display_name": "Python 3"
    },
    "language_info": {
      "name": "python"
    }
  },
  "cells": [
    {
      "cell_type": "markdown",
      "metadata": {
        "id": "view-in-github",
        "colab_type": "text"
      },
      "source": [
        "<a href=\"https://colab.research.google.com/github/desakim/ESAA_OB/blob/main/desakim_ob0929_handson299_345.ipynb\" target=\"_parent\"><img src=\"https://colab.research.google.com/assets/colab-badge.svg\" alt=\"Open In Colab\"/></a>"
      ]
    },
    {
      "cell_type": "markdown",
      "source": [
        "#Chapter 9. 비지도 학습"
      ],
      "metadata": {
        "id": "75IMlcY8yg3v"
      }
    },
    {
      "cell_type": "markdown",
      "source": [
        "##9.1. 군집"
      ],
      "metadata": {
        "id": "vi8pqc14y4uP"
      }
    },
    {
      "cell_type": "markdown",
      "source": [
        "군집 : 비슷한 샘플을 구별해 하나의 클러스터 또는 비슷한 샘플의 그룹으로 할당하는 작업"
      ],
      "metadata": {
        "id": "QqJotS7Pz6Ja"
      }
    },
    {
      "cell_type": "markdown",
      "source": [
        "왼쪽 : 레이블이 되어있는 데이터 -> 로지스틱 회귀, SVM, RF 분류기 같은 분류 알고리즘이 잘 맞음\n",
        "\n",
        "오른쪽 : 동일 데이터셋이지만 레이블이 없음 -> 분류 알고리즘 사용할 수 없고, 군집 알고리즘이 필요함"
      ],
      "metadata": {
        "id": "mVIqsCqX0Elk"
      }
    },
    {
      "cell_type": "markdown",
      "source": [
        "[군집 분류가 사용되는 애플리케이션]\n",
        "* 고객 분류 : 고객을 구매 이력이나 웹사이트 내 행동 등을 기반으로 클러스터로 모을 수 있음\n",
        "* 데이터 분석 : 새로운 데이터셋을 분석할 때 군집 알고리즘을 실행하고 각 클러스터를 따로 분석하면 도움이 됨\n",
        "* 차원 축소 기법 : 한 데이터셋에 군집 알고리즘을 적용하면 샘플의 친화성을 측정할 수 있음. 각 샘플의 특성 벡터는 클러스터 친화성 벡터로 바꿀 수 있음\n",
        "* 이상치 탐지 : 모든 클러스터에 친화성이 낮은 샘플은 이상치일 가능성이 높음\n",
        "* 준지도 학습 : 레이블된 샘플이 적다면 군집을 수행하고 동일한 클러스터에 있는 모든 샘플에 레이블을 전파할 수 있음\n",
        "* 검색 엔진 : 일부 검색 엔진은 제시된 이미지와 비슷한 이미지를 찾아주는데, 이 시스템을 구축하려면 데이터 베이스에 있는 모든 이미지에 군집 알고리즘을 적용해야 함\n",
        "* 이미지 분할 : 색을 기반으로 픽셀을 클러스터로 모으고 각 픽셀의 색을 해당 클러스터의 평균 색으로 바꿈"
      ],
      "metadata": {
        "id": "PsKRE26e0PxP"
      }
    },
    {
      "cell_type": "markdown",
      "source": [
        "###9.1.1. K-평균"
      ],
      "metadata": {
        "id": "mebahhN70yUp"
      }
    },
    {
      "cell_type": "code",
      "source": [
        "import warnings\n",
        "warnings.filterwarnings('ignore')"
      ],
      "metadata": {
        "id": "yUKGowB6yezD"
      },
      "execution_count": null,
      "outputs": []
    },
    {
      "cell_type": "code",
      "execution_count": null,
      "metadata": {
        "id": "rEjWz9m1vBca"
      },
      "outputs": [],
      "source": [
        "#데이터셋 생성\n",
        "from sklearn.datasets import make_blobs\n",
        "import numpy as np\n",
        "\n",
        "\n",
        "blob_centers = np.array(\n",
        "    [[ 0.2,  2.3],\n",
        "     [-1.5 ,  2.3],\n",
        "     [-2.8,  1.8],\n",
        "     [-2.8,  2.8],\n",
        "     [-2.8,  1.3]])\n",
        "blob_std = np.array([0.4, 0.3, 0.1, 0.1, 0.1])\n",
        "X, y = make_blobs(n_samples=2000, centers=blob_centers,\n",
        "                  cluster_std=blob_std, random_state=7)"
      ]
    },
    {
      "cell_type": "code",
      "source": [
        "from sklearn.cluster import KMeans\n",
        "k = 5\n",
        "kmeans = KMeans(n_clusters=k)\n",
        "y_pred = kmeans.fit_predict(X)"
      ],
      "metadata": {
        "id": "RtSzH0y8wGOq"
      },
      "execution_count": null,
      "outputs": []
    },
    {
      "cell_type": "code",
      "source": [
        "y_pred"
      ],
      "metadata": {
        "colab": {
          "base_uri": "https://localhost:8080/"
        },
        "id": "I9KbX-Q-wGMn",
        "outputId": "5d8fc4ec-7f10-4bb6-bd4b-f78e04a3c0b2"
      },
      "execution_count": null,
      "outputs": [
        {
          "output_type": "execute_result",
          "data": {
            "text/plain": [
              "array([4, 2, 1, ..., 0, 1, 2], dtype=int32)"
            ]
          },
          "metadata": {},
          "execution_count": 19
        }
      ]
    },
    {
      "cell_type": "code",
      "source": [
        "y_pred is kmeans.labels_"
      ],
      "metadata": {
        "colab": {
          "base_uri": "https://localhost:8080/"
        },
        "id": "NdFzQCTpwGKi",
        "outputId": "082058d3-de81-4c6e-9055-9d713b511ab6"
      },
      "execution_count": null,
      "outputs": [
        {
          "output_type": "execute_result",
          "data": {
            "text/plain": [
              "True"
            ]
          },
          "metadata": {},
          "execution_count": 20
        }
      ]
    },
    {
      "cell_type": "code",
      "source": [
        "#이 알고리즘이 찾은 센트로이드 확인\n",
        "kmeans.cluster_centers_"
      ],
      "metadata": {
        "colab": {
          "base_uri": "https://localhost:8080/"
        },
        "id": "_j6uN7FDwGId",
        "outputId": "3820b51a-ef69-4fdf-e1fc-e46faac7f4ed"
      },
      "execution_count": null,
      "outputs": [
        {
          "output_type": "execute_result",
          "data": {
            "text/plain": [
              "array([[-2.79290307,  2.79641063],\n",
              "       [ 0.20876306,  2.25551336],\n",
              "       [-2.80389616,  1.80117999],\n",
              "       [-1.46679593,  2.28585348],\n",
              "       [-2.80037642,  1.30082566]])"
            ]
          },
          "metadata": {},
          "execution_count": 21
        }
      ]
    },
    {
      "cell_type": "code",
      "source": [
        "#새로운 샘플에 가장 가까운 센트로이드의 클러스터 할당\n",
        "X_new = np.array([[0,2],[3,2],[-3,3],[-3,2.5]])\n",
        "kmeans.predict(X_new)"
      ],
      "metadata": {
        "colab": {
          "base_uri": "https://localhost:8080/"
        },
        "id": "mHmyKrpmwGGM",
        "outputId": "9df8385f-d675-4927-87e5-cdda6cd57bbc"
      },
      "execution_count": null,
      "outputs": [
        {
          "output_type": "execute_result",
          "data": {
            "text/plain": [
              "array([1, 1, 0, 0], dtype=int32)"
            ]
          },
          "metadata": {},
          "execution_count": 22
        }
      ]
    },
    {
      "cell_type": "code",
      "source": [
        "#transform() : 샘플과 센트로이드 사이의 거리 반환\n",
        "kmeans.transform(X_new)"
      ],
      "metadata": {
        "colab": {
          "base_uri": "https://localhost:8080/"
        },
        "id": "WwvkKOdSwGEM",
        "outputId": "533191e2-769a-475e-ac7a-1de2922c4ba2"
      },
      "execution_count": null,
      "outputs": [
        {
          "output_type": "execute_result",
          "data": {
            "text/plain": [
              "array([[2.9042344 , 0.32995317, 2.81093633, 1.49439034, 2.88633901],\n",
              "       [5.84739223, 2.80290755, 5.80730058, 4.4759332 , 5.84236351],\n",
              "       [0.29040966, 3.29399768, 1.21475352, 1.69136631, 1.71086031],\n",
              "       [0.36159148, 3.21806371, 0.72581411, 1.54808703, 1.21567622]])"
            ]
          },
          "metadata": {},
          "execution_count": 23
        }
      ]
    },
    {
      "cell_type": "markdown",
      "source": [
        "k-평균 알고리즘"
      ],
      "metadata": {
        "id": "bBoxZtcx1nI_"
      }
    },
    {
      "cell_type": "markdown",
      "source": [
        "센트로이드 초기화 방법"
      ],
      "metadata": {
        "id": "FhPmm_9E1w0i"
      }
    },
    {
      "cell_type": "code",
      "source": [
        "#1. init 매개변수에 센트로이드 리스트를 담은 넘파이 배열을 지정하고 n_init을 1로 설정\n",
        "good_init = np.array([[-3,3],[-3,2],[-3,1],[-1,2],[0,2]])\n",
        "kmeans = KMeans(n_clusters=5, init=good_init, n_init=1)"
      ],
      "metadata": {
        "id": "I4GR-gXywGCE"
      },
      "execution_count": null,
      "outputs": []
    },
    {
      "cell_type": "code",
      "source": [
        "#이너셔\n",
        "kmeans.fit(X)\n",
        "kmeans.inertia_"
      ],
      "metadata": {
        "colab": {
          "base_uri": "https://localhost:8080/"
        },
        "id": "lhIC6QgX2Mdd",
        "outputId": "df820049-3970-412b-c560-4f7cc7ddd03d"
      },
      "execution_count": null,
      "outputs": [
        {
          "output_type": "execute_result",
          "data": {
            "text/plain": [
              "211.5985372581684"
            ]
          },
          "metadata": {},
          "execution_count": 26
        }
      ]
    },
    {
      "cell_type": "code",
      "source": [
        "kmeans.score(X)"
      ],
      "metadata": {
        "colab": {
          "base_uri": "https://localhost:8080/"
        },
        "id": "MwakDN5l2m7J",
        "outputId": "42c0fd8d-e5d1-47dd-f1f7-921c30692883"
      },
      "execution_count": null,
      "outputs": [
        {
          "output_type": "execute_result",
          "data": {
            "text/plain": [
              "-211.59853725816836"
            ]
          },
          "metadata": {},
          "execution_count": 27
        }
      ]
    },
    {
      "cell_type": "markdown",
      "source": [
        "k-평균 속도 개선과 미니배치 k-평균"
      ],
      "metadata": {
        "id": "Sd3YYq_E2enI"
      }
    },
    {
      "cell_type": "code",
      "source": [
        "from sklearn.cluster import MiniBatchKMeans\n",
        "\n",
        "minibatch_kmeans = MiniBatchKMeans(n_clusters=5)\n",
        "minibatch_kmeans.fit(X)"
      ],
      "metadata": {
        "colab": {
          "base_uri": "https://localhost:8080/",
          "height": 74
        },
        "id": "WZSNGfXAwF8C",
        "outputId": "be9e1643-7d5f-44ed-da8b-9ebbdcf92fc7"
      },
      "execution_count": null,
      "outputs": [
        {
          "output_type": "execute_result",
          "data": {
            "text/plain": [
              "MiniBatchKMeans(n_clusters=5)"
            ],
            "text/html": [
              "<style>#sk-container-id-1 {color: black;background-color: white;}#sk-container-id-1 pre{padding: 0;}#sk-container-id-1 div.sk-toggleable {background-color: white;}#sk-container-id-1 label.sk-toggleable__label {cursor: pointer;display: block;width: 100%;margin-bottom: 0;padding: 0.3em;box-sizing: border-box;text-align: center;}#sk-container-id-1 label.sk-toggleable__label-arrow:before {content: \"▸\";float: left;margin-right: 0.25em;color: #696969;}#sk-container-id-1 label.sk-toggleable__label-arrow:hover:before {color: black;}#sk-container-id-1 div.sk-estimator:hover label.sk-toggleable__label-arrow:before {color: black;}#sk-container-id-1 div.sk-toggleable__content {max-height: 0;max-width: 0;overflow: hidden;text-align: left;background-color: #f0f8ff;}#sk-container-id-1 div.sk-toggleable__content pre {margin: 0.2em;color: black;border-radius: 0.25em;background-color: #f0f8ff;}#sk-container-id-1 input.sk-toggleable__control:checked~div.sk-toggleable__content {max-height: 200px;max-width: 100%;overflow: auto;}#sk-container-id-1 input.sk-toggleable__control:checked~label.sk-toggleable__label-arrow:before {content: \"▾\";}#sk-container-id-1 div.sk-estimator input.sk-toggleable__control:checked~label.sk-toggleable__label {background-color: #d4ebff;}#sk-container-id-1 div.sk-label input.sk-toggleable__control:checked~label.sk-toggleable__label {background-color: #d4ebff;}#sk-container-id-1 input.sk-hidden--visually {border: 0;clip: rect(1px 1px 1px 1px);clip: rect(1px, 1px, 1px, 1px);height: 1px;margin: -1px;overflow: hidden;padding: 0;position: absolute;width: 1px;}#sk-container-id-1 div.sk-estimator {font-family: monospace;background-color: #f0f8ff;border: 1px dotted black;border-radius: 0.25em;box-sizing: border-box;margin-bottom: 0.5em;}#sk-container-id-1 div.sk-estimator:hover {background-color: #d4ebff;}#sk-container-id-1 div.sk-parallel-item::after {content: \"\";width: 100%;border-bottom: 1px solid gray;flex-grow: 1;}#sk-container-id-1 div.sk-label:hover label.sk-toggleable__label {background-color: #d4ebff;}#sk-container-id-1 div.sk-serial::before {content: \"\";position: absolute;border-left: 1px solid gray;box-sizing: border-box;top: 0;bottom: 0;left: 50%;z-index: 0;}#sk-container-id-1 div.sk-serial {display: flex;flex-direction: column;align-items: center;background-color: white;padding-right: 0.2em;padding-left: 0.2em;position: relative;}#sk-container-id-1 div.sk-item {position: relative;z-index: 1;}#sk-container-id-1 div.sk-parallel {display: flex;align-items: stretch;justify-content: center;background-color: white;position: relative;}#sk-container-id-1 div.sk-item::before, #sk-container-id-1 div.sk-parallel-item::before {content: \"\";position: absolute;border-left: 1px solid gray;box-sizing: border-box;top: 0;bottom: 0;left: 50%;z-index: -1;}#sk-container-id-1 div.sk-parallel-item {display: flex;flex-direction: column;z-index: 1;position: relative;background-color: white;}#sk-container-id-1 div.sk-parallel-item:first-child::after {align-self: flex-end;width: 50%;}#sk-container-id-1 div.sk-parallel-item:last-child::after {align-self: flex-start;width: 50%;}#sk-container-id-1 div.sk-parallel-item:only-child::after {width: 0;}#sk-container-id-1 div.sk-dashed-wrapped {border: 1px dashed gray;margin: 0 0.4em 0.5em 0.4em;box-sizing: border-box;padding-bottom: 0.4em;background-color: white;}#sk-container-id-1 div.sk-label label {font-family: monospace;font-weight: bold;display: inline-block;line-height: 1.2em;}#sk-container-id-1 div.sk-label-container {text-align: center;}#sk-container-id-1 div.sk-container {/* jupyter's `normalize.less` sets `[hidden] { display: none; }` but bootstrap.min.css set `[hidden] { display: none !important; }` so we also need the `!important` here to be able to override the default hidden behavior on the sphinx rendered scikit-learn.org. See: https://github.com/scikit-learn/scikit-learn/issues/21755 */display: inline-block !important;position: relative;}#sk-container-id-1 div.sk-text-repr-fallback {display: none;}</style><div id=\"sk-container-id-1\" class=\"sk-top-container\"><div class=\"sk-text-repr-fallback\"><pre>MiniBatchKMeans(n_clusters=5)</pre><b>In a Jupyter environment, please rerun this cell to show the HTML representation or trust the notebook. <br />On GitHub, the HTML representation is unable to render, please try loading this page with nbviewer.org.</b></div><div class=\"sk-container\" hidden><div class=\"sk-item\"><div class=\"sk-estimator sk-toggleable\"><input class=\"sk-toggleable__control sk-hidden--visually\" id=\"sk-estimator-id-1\" type=\"checkbox\" checked><label for=\"sk-estimator-id-1\" class=\"sk-toggleable__label sk-toggleable__label-arrow\">MiniBatchKMeans</label><div class=\"sk-toggleable__content\"><pre>MiniBatchKMeans(n_clusters=5)</pre></div></div></div></div></div>"
            ]
          },
          "metadata": {},
          "execution_count": 13
        }
      ]
    },
    {
      "cell_type": "markdown",
      "source": [
        "최적의 클러스터 개수 찾기"
      ],
      "metadata": {
        "id": "WpG8z5CV21Uw"
      }
    },
    {
      "cell_type": "code",
      "source": [
        "#실루엣 점수 계산\n",
        "from sklearn.metrics import silhouette_score\n",
        "silhouette_score(X,kmeans.labels_)"
      ],
      "metadata": {
        "colab": {
          "base_uri": "https://localhost:8080/"
        },
        "id": "U6IQMY25wF6G",
        "outputId": "4d62e607-0cd1-463f-aaa5-c2a998596ad4"
      },
      "execution_count": null,
      "outputs": [
        {
          "output_type": "execute_result",
          "data": {
            "text/plain": [
              "0.655517642572828"
            ]
          },
          "metadata": {},
          "execution_count": 28
        }
      ]
    },
    {
      "cell_type": "markdown",
      "source": [
        "###9.1.2. k-평균의 한계"
      ],
      "metadata": {
        "id": "MeB2h2bC6_OC"
      }
    },
    {
      "cell_type": "markdown",
      "source": [
        "###9.1.3. 군집을 사용한 이미지 분할"
      ],
      "metadata": {
        "id": "sDeX01U17LR8"
      }
    },
    {
      "cell_type": "code",
      "source": [
        "import os\n",
        "import urllib.request\n",
        "\n",
        "PROJECT_ROOT_DIR = \".\"\n",
        "CHAPTER_ID = \"unsupervised_learning\"\n",
        "IMAGES_PATH = os.path.join(PROJECT_ROOT_DIR, \"images\", CHAPTER_ID)\n",
        "os.makedirs(IMAGES_PATH, exist_ok=True)\n",
        "\n",
        "\n",
        "images_path = os.path.join(PROJECT_ROOT_DIR, \"images\", \"unsupervised_learning\")\n",
        "os.makedirs(images_path, exist_ok=True)\n",
        "DOWNLOAD_ROOT = \"https://raw.githubusercontent.com/rickiepark/handson-ml2/master/\"\n",
        "filename = \"ladybug.png\"\n",
        "print(\"Downloading\", filename)\n",
        "url = DOWNLOAD_ROOT + \"images/unsupervised_learning/\" + filename\n",
        "urllib.request.urlretrieve(url, os.path.join(images_path, filename))"
      ],
      "metadata": {
        "colab": {
          "base_uri": "https://localhost:8080/"
        },
        "id": "_yIbbgPkwF4B",
        "outputId": "3ee52f00-b544-4f33-a637-0e8d4de01b27"
      },
      "execution_count": null,
      "outputs": [
        {
          "output_type": "stream",
          "name": "stdout",
          "text": [
            "Downloading ladybug.png\n"
          ]
        },
        {
          "output_type": "execute_result",
          "data": {
            "text/plain": [
              "('./images/unsupervised_learning/ladybug.png',\n",
              " <http.client.HTTPMessage at 0x7c77acf2fa60>)"
            ]
          },
          "metadata": {},
          "execution_count": 29
        }
      ]
    },
    {
      "cell_type": "code",
      "source": [
        "#이미지 읽기\n",
        "from matplotlib.image import imread\n",
        "image = imread(os.path.join(\"images\",\"unsupervised_learning\",\"ladybug.png\"))\n",
        "image.shape"
      ],
      "metadata": {
        "colab": {
          "base_uri": "https://localhost:8080/"
        },
        "id": "RxPimjggwF1z",
        "outputId": "c5ac85fa-c233-4885-f4c4-e48e0271846e"
      },
      "execution_count": null,
      "outputs": [
        {
          "output_type": "execute_result",
          "data": {
            "text/plain": [
              "(533, 800, 3)"
            ]
          },
          "metadata": {},
          "execution_count": 30
        }
      ]
    },
    {
      "cell_type": "code",
      "source": [
        "#긴 리스로 변환한 다음 k-평균을 이용해 이 색상을 클러스터로 모음\n",
        "X = image.reshape(-1, 3)\n",
        "kmeans = KMeans(n_clusters=8, random_state=42).fit(X)\n",
        "segmented_img = kmeans.cluster_centers_[kmeans.labels_]\n",
        "segmented_img = segmented_img.reshape(image.shape)"
      ],
      "metadata": {
        "id": "qh_hjqOcwFtj"
      },
      "execution_count": null,
      "outputs": []
    },
    {
      "cell_type": "markdown",
      "source": [
        "###9.1.4. 군집을 사용한 전처리"
      ],
      "metadata": {
        "id": "o45baub_7jgB"
      }
    },
    {
      "cell_type": "code",
      "source": [
        "#데이터셋 불러오기\n",
        "from sklearn.datasets import load_digits\n",
        "\n",
        "X_digits, y_digits = load_digits(return_X_y=True)"
      ],
      "metadata": {
        "id": "KCxUa4p9wFr4"
      },
      "execution_count": null,
      "outputs": []
    },
    {
      "cell_type": "code",
      "source": [
        "#훈련 세트와 테스트 세트로 나눔\n",
        "from sklearn.model_selection import train_test_split\n",
        "\n",
        "X_train,X_test,y_train,y_test = train_test_split(X_digits,y_digits)"
      ],
      "metadata": {
        "id": "iLJon4dnwFpy"
      },
      "execution_count": null,
      "outputs": []
    },
    {
      "cell_type": "code",
      "source": [
        "#로지스틱 회귀 모델을 훈련\n",
        "from sklearn.linear_model import LogisticRegression\n",
        "\n",
        "log_reg = LogisticRegression()\n",
        "log_reg.fit(X_train,y_train)"
      ],
      "metadata": {
        "colab": {
          "base_uri": "https://localhost:8080/",
          "height": 74
        },
        "id": "kuEBXWPkwFml",
        "outputId": "350d6353-af7b-49ae-9b74-7dcb5f5b2f18"
      },
      "execution_count": null,
      "outputs": [
        {
          "output_type": "execute_result",
          "data": {
            "text/plain": [
              "LogisticRegression()"
            ],
            "text/html": [
              "<style>#sk-container-id-2 {color: black;background-color: white;}#sk-container-id-2 pre{padding: 0;}#sk-container-id-2 div.sk-toggleable {background-color: white;}#sk-container-id-2 label.sk-toggleable__label {cursor: pointer;display: block;width: 100%;margin-bottom: 0;padding: 0.3em;box-sizing: border-box;text-align: center;}#sk-container-id-2 label.sk-toggleable__label-arrow:before {content: \"▸\";float: left;margin-right: 0.25em;color: #696969;}#sk-container-id-2 label.sk-toggleable__label-arrow:hover:before {color: black;}#sk-container-id-2 div.sk-estimator:hover label.sk-toggleable__label-arrow:before {color: black;}#sk-container-id-2 div.sk-toggleable__content {max-height: 0;max-width: 0;overflow: hidden;text-align: left;background-color: #f0f8ff;}#sk-container-id-2 div.sk-toggleable__content pre {margin: 0.2em;color: black;border-radius: 0.25em;background-color: #f0f8ff;}#sk-container-id-2 input.sk-toggleable__control:checked~div.sk-toggleable__content {max-height: 200px;max-width: 100%;overflow: auto;}#sk-container-id-2 input.sk-toggleable__control:checked~label.sk-toggleable__label-arrow:before {content: \"▾\";}#sk-container-id-2 div.sk-estimator input.sk-toggleable__control:checked~label.sk-toggleable__label {background-color: #d4ebff;}#sk-container-id-2 div.sk-label input.sk-toggleable__control:checked~label.sk-toggleable__label {background-color: #d4ebff;}#sk-container-id-2 input.sk-hidden--visually {border: 0;clip: rect(1px 1px 1px 1px);clip: rect(1px, 1px, 1px, 1px);height: 1px;margin: -1px;overflow: hidden;padding: 0;position: absolute;width: 1px;}#sk-container-id-2 div.sk-estimator {font-family: monospace;background-color: #f0f8ff;border: 1px dotted black;border-radius: 0.25em;box-sizing: border-box;margin-bottom: 0.5em;}#sk-container-id-2 div.sk-estimator:hover {background-color: #d4ebff;}#sk-container-id-2 div.sk-parallel-item::after {content: \"\";width: 100%;border-bottom: 1px solid gray;flex-grow: 1;}#sk-container-id-2 div.sk-label:hover label.sk-toggleable__label {background-color: #d4ebff;}#sk-container-id-2 div.sk-serial::before {content: \"\";position: absolute;border-left: 1px solid gray;box-sizing: border-box;top: 0;bottom: 0;left: 50%;z-index: 0;}#sk-container-id-2 div.sk-serial {display: flex;flex-direction: column;align-items: center;background-color: white;padding-right: 0.2em;padding-left: 0.2em;position: relative;}#sk-container-id-2 div.sk-item {position: relative;z-index: 1;}#sk-container-id-2 div.sk-parallel {display: flex;align-items: stretch;justify-content: center;background-color: white;position: relative;}#sk-container-id-2 div.sk-item::before, #sk-container-id-2 div.sk-parallel-item::before {content: \"\";position: absolute;border-left: 1px solid gray;box-sizing: border-box;top: 0;bottom: 0;left: 50%;z-index: -1;}#sk-container-id-2 div.sk-parallel-item {display: flex;flex-direction: column;z-index: 1;position: relative;background-color: white;}#sk-container-id-2 div.sk-parallel-item:first-child::after {align-self: flex-end;width: 50%;}#sk-container-id-2 div.sk-parallel-item:last-child::after {align-self: flex-start;width: 50%;}#sk-container-id-2 div.sk-parallel-item:only-child::after {width: 0;}#sk-container-id-2 div.sk-dashed-wrapped {border: 1px dashed gray;margin: 0 0.4em 0.5em 0.4em;box-sizing: border-box;padding-bottom: 0.4em;background-color: white;}#sk-container-id-2 div.sk-label label {font-family: monospace;font-weight: bold;display: inline-block;line-height: 1.2em;}#sk-container-id-2 div.sk-label-container {text-align: center;}#sk-container-id-2 div.sk-container {/* jupyter's `normalize.less` sets `[hidden] { display: none; }` but bootstrap.min.css set `[hidden] { display: none !important; }` so we also need the `!important` here to be able to override the default hidden behavior on the sphinx rendered scikit-learn.org. See: https://github.com/scikit-learn/scikit-learn/issues/21755 */display: inline-block !important;position: relative;}#sk-container-id-2 div.sk-text-repr-fallback {display: none;}</style><div id=\"sk-container-id-2\" class=\"sk-top-container\"><div class=\"sk-text-repr-fallback\"><pre>LogisticRegression()</pre><b>In a Jupyter environment, please rerun this cell to show the HTML representation or trust the notebook. <br />On GitHub, the HTML representation is unable to render, please try loading this page with nbviewer.org.</b></div><div class=\"sk-container\" hidden><div class=\"sk-item\"><div class=\"sk-estimator sk-toggleable\"><input class=\"sk-toggleable__control sk-hidden--visually\" id=\"sk-estimator-id-2\" type=\"checkbox\" checked><label for=\"sk-estimator-id-2\" class=\"sk-toggleable__label sk-toggleable__label-arrow\">LogisticRegression</label><div class=\"sk-toggleable__content\"><pre>LogisticRegression()</pre></div></div></div></div></div>"
            ]
          },
          "metadata": {},
          "execution_count": 34
        }
      ]
    },
    {
      "cell_type": "code",
      "source": [
        "#정확도 평가\n",
        "log_reg.score(X_test,y_test)"
      ],
      "metadata": {
        "colab": {
          "base_uri": "https://localhost:8080/"
        },
        "id": "AbsOGaaIwFkm",
        "outputId": "c9fa26d2-b59a-4d02-ba6e-6eaa6b95783e"
      },
      "execution_count": null,
      "outputs": [
        {
          "output_type": "execute_result",
          "data": {
            "text/plain": [
              "0.9511111111111111"
            ]
          },
          "metadata": {},
          "execution_count": 35
        }
      ]
    },
    {
      "cell_type": "code",
      "source": [
        "#k-평균을 전처리 단계로 사용해 정확도가 좋아지는지 확인\n",
        "from sklearn.pipeline import Pipeline\n",
        "\n",
        "pipeline = Pipeline([\n",
        "    (\"kmeans\",KMeans(n_clusters=50)),\n",
        "    (\"log_reg\",LogisticRegression())\n",
        "])\n",
        "pipeline.fit(X_train,y_train)"
      ],
      "metadata": {
        "colab": {
          "base_uri": "https://localhost:8080/",
          "height": 125
        },
        "id": "1lk5e7NswFis",
        "outputId": "14a48c3b-bc78-4d5b-811a-4de4c5bde015"
      },
      "execution_count": null,
      "outputs": [
        {
          "output_type": "execute_result",
          "data": {
            "text/plain": [
              "Pipeline(steps=[('kmeans', KMeans(n_clusters=50)),\n",
              "                ('log_reg', LogisticRegression())])"
            ],
            "text/html": [
              "<style>#sk-container-id-3 {color: black;background-color: white;}#sk-container-id-3 pre{padding: 0;}#sk-container-id-3 div.sk-toggleable {background-color: white;}#sk-container-id-3 label.sk-toggleable__label {cursor: pointer;display: block;width: 100%;margin-bottom: 0;padding: 0.3em;box-sizing: border-box;text-align: center;}#sk-container-id-3 label.sk-toggleable__label-arrow:before {content: \"▸\";float: left;margin-right: 0.25em;color: #696969;}#sk-container-id-3 label.sk-toggleable__label-arrow:hover:before {color: black;}#sk-container-id-3 div.sk-estimator:hover label.sk-toggleable__label-arrow:before {color: black;}#sk-container-id-3 div.sk-toggleable__content {max-height: 0;max-width: 0;overflow: hidden;text-align: left;background-color: #f0f8ff;}#sk-container-id-3 div.sk-toggleable__content pre {margin: 0.2em;color: black;border-radius: 0.25em;background-color: #f0f8ff;}#sk-container-id-3 input.sk-toggleable__control:checked~div.sk-toggleable__content {max-height: 200px;max-width: 100%;overflow: auto;}#sk-container-id-3 input.sk-toggleable__control:checked~label.sk-toggleable__label-arrow:before {content: \"▾\";}#sk-container-id-3 div.sk-estimator input.sk-toggleable__control:checked~label.sk-toggleable__label {background-color: #d4ebff;}#sk-container-id-3 div.sk-label input.sk-toggleable__control:checked~label.sk-toggleable__label {background-color: #d4ebff;}#sk-container-id-3 input.sk-hidden--visually {border: 0;clip: rect(1px 1px 1px 1px);clip: rect(1px, 1px, 1px, 1px);height: 1px;margin: -1px;overflow: hidden;padding: 0;position: absolute;width: 1px;}#sk-container-id-3 div.sk-estimator {font-family: monospace;background-color: #f0f8ff;border: 1px dotted black;border-radius: 0.25em;box-sizing: border-box;margin-bottom: 0.5em;}#sk-container-id-3 div.sk-estimator:hover {background-color: #d4ebff;}#sk-container-id-3 div.sk-parallel-item::after {content: \"\";width: 100%;border-bottom: 1px solid gray;flex-grow: 1;}#sk-container-id-3 div.sk-label:hover label.sk-toggleable__label {background-color: #d4ebff;}#sk-container-id-3 div.sk-serial::before {content: \"\";position: absolute;border-left: 1px solid gray;box-sizing: border-box;top: 0;bottom: 0;left: 50%;z-index: 0;}#sk-container-id-3 div.sk-serial {display: flex;flex-direction: column;align-items: center;background-color: white;padding-right: 0.2em;padding-left: 0.2em;position: relative;}#sk-container-id-3 div.sk-item {position: relative;z-index: 1;}#sk-container-id-3 div.sk-parallel {display: flex;align-items: stretch;justify-content: center;background-color: white;position: relative;}#sk-container-id-3 div.sk-item::before, #sk-container-id-3 div.sk-parallel-item::before {content: \"\";position: absolute;border-left: 1px solid gray;box-sizing: border-box;top: 0;bottom: 0;left: 50%;z-index: -1;}#sk-container-id-3 div.sk-parallel-item {display: flex;flex-direction: column;z-index: 1;position: relative;background-color: white;}#sk-container-id-3 div.sk-parallel-item:first-child::after {align-self: flex-end;width: 50%;}#sk-container-id-3 div.sk-parallel-item:last-child::after {align-self: flex-start;width: 50%;}#sk-container-id-3 div.sk-parallel-item:only-child::after {width: 0;}#sk-container-id-3 div.sk-dashed-wrapped {border: 1px dashed gray;margin: 0 0.4em 0.5em 0.4em;box-sizing: border-box;padding-bottom: 0.4em;background-color: white;}#sk-container-id-3 div.sk-label label {font-family: monospace;font-weight: bold;display: inline-block;line-height: 1.2em;}#sk-container-id-3 div.sk-label-container {text-align: center;}#sk-container-id-3 div.sk-container {/* jupyter's `normalize.less` sets `[hidden] { display: none; }` but bootstrap.min.css set `[hidden] { display: none !important; }` so we also need the `!important` here to be able to override the default hidden behavior on the sphinx rendered scikit-learn.org. See: https://github.com/scikit-learn/scikit-learn/issues/21755 */display: inline-block !important;position: relative;}#sk-container-id-3 div.sk-text-repr-fallback {display: none;}</style><div id=\"sk-container-id-3\" class=\"sk-top-container\"><div class=\"sk-text-repr-fallback\"><pre>Pipeline(steps=[(&#x27;kmeans&#x27;, KMeans(n_clusters=50)),\n",
              "                (&#x27;log_reg&#x27;, LogisticRegression())])</pre><b>In a Jupyter environment, please rerun this cell to show the HTML representation or trust the notebook. <br />On GitHub, the HTML representation is unable to render, please try loading this page with nbviewer.org.</b></div><div class=\"sk-container\" hidden><div class=\"sk-item sk-dashed-wrapped\"><div class=\"sk-label-container\"><div class=\"sk-label sk-toggleable\"><input class=\"sk-toggleable__control sk-hidden--visually\" id=\"sk-estimator-id-3\" type=\"checkbox\" ><label for=\"sk-estimator-id-3\" class=\"sk-toggleable__label sk-toggleable__label-arrow\">Pipeline</label><div class=\"sk-toggleable__content\"><pre>Pipeline(steps=[(&#x27;kmeans&#x27;, KMeans(n_clusters=50)),\n",
              "                (&#x27;log_reg&#x27;, LogisticRegression())])</pre></div></div></div><div class=\"sk-serial\"><div class=\"sk-item\"><div class=\"sk-estimator sk-toggleable\"><input class=\"sk-toggleable__control sk-hidden--visually\" id=\"sk-estimator-id-4\" type=\"checkbox\" ><label for=\"sk-estimator-id-4\" class=\"sk-toggleable__label sk-toggleable__label-arrow\">KMeans</label><div class=\"sk-toggleable__content\"><pre>KMeans(n_clusters=50)</pre></div></div></div><div class=\"sk-item\"><div class=\"sk-estimator sk-toggleable\"><input class=\"sk-toggleable__control sk-hidden--visually\" id=\"sk-estimator-id-5\" type=\"checkbox\" ><label for=\"sk-estimator-id-5\" class=\"sk-toggleable__label sk-toggleable__label-arrow\">LogisticRegression</label><div class=\"sk-toggleable__content\"><pre>LogisticRegression()</pre></div></div></div></div></div></div></div>"
            ]
          },
          "metadata": {},
          "execution_count": 36
        }
      ]
    },
    {
      "cell_type": "code",
      "source": [
        "#분류 파이프라인 평가\n",
        "pipeline.score(X_test,y_test)"
      ],
      "metadata": {
        "colab": {
          "base_uri": "https://localhost:8080/"
        },
        "id": "lAInFF2BwX0r",
        "outputId": "dbf06098-3381-4b85-cb79-8339e64b1b58"
      },
      "execution_count": null,
      "outputs": [
        {
          "output_type": "execute_result",
          "data": {
            "text/plain": [
              "0.9533333333333334"
            ]
          },
          "metadata": {},
          "execution_count": 37
        }
      ]
    },
    {
      "cell_type": "code",
      "source": [
        "#GridSearchCV를 사용해 최적의 클러스터 개수 찾기\n",
        "from sklearn.model_selection import GridSearchCV\n",
        "\n",
        "param_grid = dict(kmeans__n_clusters=range(2,100))\n",
        "grid_clf = GridSearchCV(pipeline, param_grid, cv=3, verbose=2)\n",
        "grid_clf.fit(X_train,y_train)"
      ],
      "metadata": {
        "colab": {
          "base_uri": "https://localhost:8080/",
          "height": 1000
        },
        "id": "uzRxlXliwXyz",
        "outputId": "dc5c7685-9d05-4cf6-c539-548e7ce2d83d"
      },
      "execution_count": null,
      "outputs": [
        {
          "output_type": "stream",
          "name": "stdout",
          "text": [
            "Fitting 3 folds for each of 98 candidates, totalling 294 fits\n",
            "[CV] END ...............................kmeans__n_clusters=2; total time=   1.7s\n",
            "[CV] END ...............................kmeans__n_clusters=2; total time=   0.4s\n",
            "[CV] END ...............................kmeans__n_clusters=2; total time=   0.3s\n",
            "[CV] END ...............................kmeans__n_clusters=3; total time=   0.4s\n",
            "[CV] END ...............................kmeans__n_clusters=3; total time=   2.4s\n",
            "[CV] END ...............................kmeans__n_clusters=3; total time=   0.7s\n",
            "[CV] END ...............................kmeans__n_clusters=4; total time=   1.5s\n",
            "[CV] END ...............................kmeans__n_clusters=4; total time=   0.7s\n",
            "[CV] END ...............................kmeans__n_clusters=4; total time=   0.4s\n",
            "[CV] END ...............................kmeans__n_clusters=5; total time=   0.8s\n",
            "[CV] END ...............................kmeans__n_clusters=5; total time=   1.0s\n",
            "[CV] END ...............................kmeans__n_clusters=5; total time=   0.2s\n",
            "[CV] END ...............................kmeans__n_clusters=6; total time=   0.5s\n",
            "[CV] END ...............................kmeans__n_clusters=6; total time=   2.1s\n",
            "[CV] END ...............................kmeans__n_clusters=6; total time=   0.9s\n",
            "[CV] END ...............................kmeans__n_clusters=7; total time=   0.9s\n",
            "[CV] END ...............................kmeans__n_clusters=7; total time=   2.0s\n",
            "[CV] END ...............................kmeans__n_clusters=7; total time=   0.7s\n",
            "[CV] END ...............................kmeans__n_clusters=8; total time=   2.1s\n",
            "[CV] END ...............................kmeans__n_clusters=8; total time=   1.1s\n",
            "[CV] END ...............................kmeans__n_clusters=8; total time=   2.8s\n",
            "[CV] END ...............................kmeans__n_clusters=9; total time=   0.9s\n",
            "[CV] END ...............................kmeans__n_clusters=9; total time=   0.3s\n",
            "[CV] END ...............................kmeans__n_clusters=9; total time=   0.7s\n",
            "[CV] END ..............................kmeans__n_clusters=10; total time=   1.2s\n",
            "[CV] END ..............................kmeans__n_clusters=10; total time=   2.3s\n",
            "[CV] END ..............................kmeans__n_clusters=10; total time=   1.0s\n",
            "[CV] END ..............................kmeans__n_clusters=11; total time=   0.6s\n",
            "[CV] END ..............................kmeans__n_clusters=11; total time=   1.5s\n",
            "[CV] END ..............................kmeans__n_clusters=11; total time=   0.3s\n",
            "[CV] END ..............................kmeans__n_clusters=12; total time=   0.6s\n",
            "[CV] END ..............................kmeans__n_clusters=12; total time=   0.4s\n",
            "[CV] END ..............................kmeans__n_clusters=12; total time=   0.3s\n",
            "[CV] END ..............................kmeans__n_clusters=13; total time=   1.0s\n",
            "[CV] END ..............................kmeans__n_clusters=13; total time=   0.5s\n",
            "[CV] END ..............................kmeans__n_clusters=13; total time=   0.4s\n",
            "[CV] END ..............................kmeans__n_clusters=14; total time=   0.7s\n",
            "[CV] END ..............................kmeans__n_clusters=14; total time=   0.3s\n",
            "[CV] END ..............................kmeans__n_clusters=14; total time=   0.5s\n",
            "[CV] END ..............................kmeans__n_clusters=15; total time=   0.5s\n",
            "[CV] END ..............................kmeans__n_clusters=15; total time=   0.5s\n",
            "[CV] END ..............................kmeans__n_clusters=15; total time=   1.7s\n",
            "[CV] END ..............................kmeans__n_clusters=16; total time=   2.0s\n",
            "[CV] END ..............................kmeans__n_clusters=16; total time=   1.5s\n",
            "[CV] END ..............................kmeans__n_clusters=16; total time=   0.4s\n",
            "[CV] END ..............................kmeans__n_clusters=17; total time=   0.9s\n",
            "[CV] END ..............................kmeans__n_clusters=17; total time=   0.8s\n",
            "[CV] END ..............................kmeans__n_clusters=17; total time=   1.5s\n",
            "[CV] END ..............................kmeans__n_clusters=18; total time=   1.8s\n",
            "[CV] END ..............................kmeans__n_clusters=18; total time=   0.7s\n",
            "[CV] END ..............................kmeans__n_clusters=18; total time=   1.3s\n",
            "[CV] END ..............................kmeans__n_clusters=19; total time=   1.2s\n",
            "[CV] END ..............................kmeans__n_clusters=19; total time=   1.0s\n",
            "[CV] END ..............................kmeans__n_clusters=19; total time=   0.6s\n",
            "[CV] END ..............................kmeans__n_clusters=20; total time=   1.3s\n",
            "[CV] END ..............................kmeans__n_clusters=20; total time=   0.7s\n",
            "[CV] END ..............................kmeans__n_clusters=20; total time=   1.3s\n",
            "[CV] END ..............................kmeans__n_clusters=21; total time=   0.7s\n",
            "[CV] END ..............................kmeans__n_clusters=21; total time=   0.7s\n",
            "[CV] END ..............................kmeans__n_clusters=21; total time=   0.8s\n",
            "[CV] END ..............................kmeans__n_clusters=22; total time=   0.9s\n",
            "[CV] END ..............................kmeans__n_clusters=22; total time=   0.4s\n",
            "[CV] END ..............................kmeans__n_clusters=22; total time=   0.6s\n",
            "[CV] END ..............................kmeans__n_clusters=23; total time=   1.3s\n",
            "[CV] END ..............................kmeans__n_clusters=23; total time=   1.5s\n",
            "[CV] END ..............................kmeans__n_clusters=23; total time=   0.4s\n",
            "[CV] END ..............................kmeans__n_clusters=24; total time=   0.4s\n",
            "[CV] END ..............................kmeans__n_clusters=24; total time=   0.5s\n",
            "[CV] END ..............................kmeans__n_clusters=24; total time=   0.4s\n",
            "[CV] END ..............................kmeans__n_clusters=25; total time=   0.9s\n",
            "[CV] END ..............................kmeans__n_clusters=25; total time=   0.9s\n",
            "[CV] END ..............................kmeans__n_clusters=25; total time=   1.6s\n",
            "[CV] END ..............................kmeans__n_clusters=26; total time=   1.2s\n",
            "[CV] END ..............................kmeans__n_clusters=26; total time=   0.7s\n",
            "[CV] END ..............................kmeans__n_clusters=26; total time=   0.4s\n",
            "[CV] END ..............................kmeans__n_clusters=27; total time=   1.0s\n",
            "[CV] END ..............................kmeans__n_clusters=27; total time=   2.0s\n",
            "[CV] END ..............................kmeans__n_clusters=27; total time=   1.5s\n",
            "[CV] END ..............................kmeans__n_clusters=28; total time=   1.0s\n",
            "[CV] END ..............................kmeans__n_clusters=28; total time=   1.2s\n",
            "[CV] END ..............................kmeans__n_clusters=28; total time=   0.7s\n",
            "[CV] END ..............................kmeans__n_clusters=29; total time=   1.3s\n",
            "[CV] END ..............................kmeans__n_clusters=29; total time=   1.2s\n",
            "[CV] END ..............................kmeans__n_clusters=29; total time=   0.6s\n",
            "[CV] END ..............................kmeans__n_clusters=30; total time=   0.6s\n",
            "[CV] END ..............................kmeans__n_clusters=30; total time=   1.0s\n",
            "[CV] END ..............................kmeans__n_clusters=30; total time=   0.9s\n",
            "[CV] END ..............................kmeans__n_clusters=31; total time=   2.1s\n",
            "[CV] END ..............................kmeans__n_clusters=31; total time=   0.7s\n",
            "[CV] END ..............................kmeans__n_clusters=31; total time=   0.7s\n",
            "[CV] END ..............................kmeans__n_clusters=32; total time=   0.5s\n",
            "[CV] END ..............................kmeans__n_clusters=32; total time=   0.6s\n",
            "[CV] END ..............................kmeans__n_clusters=32; total time=   0.4s\n",
            "[CV] END ..............................kmeans__n_clusters=33; total time=   0.4s\n",
            "[CV] END ..............................kmeans__n_clusters=33; total time=   0.5s\n",
            "[CV] END ..............................kmeans__n_clusters=33; total time=   0.9s\n",
            "[CV] END ..............................kmeans__n_clusters=34; total time=   0.8s\n",
            "[CV] END ..............................kmeans__n_clusters=34; total time=   0.7s\n",
            "[CV] END ..............................kmeans__n_clusters=34; total time=   0.8s\n",
            "[CV] END ..............................kmeans__n_clusters=35; total time=   0.7s\n",
            "[CV] END ..............................kmeans__n_clusters=35; total time=   0.9s\n",
            "[CV] END ..............................kmeans__n_clusters=35; total time=   1.0s\n",
            "[CV] END ..............................kmeans__n_clusters=36; total time=   2.3s\n",
            "[CV] END ..............................kmeans__n_clusters=36; total time=   0.5s\n",
            "[CV] END ..............................kmeans__n_clusters=36; total time=   0.8s\n",
            "[CV] END ..............................kmeans__n_clusters=37; total time=   0.7s\n",
            "[CV] END ..............................kmeans__n_clusters=37; total time=   1.5s\n",
            "[CV] END ..............................kmeans__n_clusters=37; total time=   0.8s\n",
            "[CV] END ..............................kmeans__n_clusters=38; total time=   0.8s\n",
            "[CV] END ..............................kmeans__n_clusters=38; total time=   1.5s\n",
            "[CV] END ..............................kmeans__n_clusters=38; total time=   0.4s\n",
            "[CV] END ..............................kmeans__n_clusters=39; total time=   0.3s\n",
            "[CV] END ..............................kmeans__n_clusters=39; total time=   0.5s\n",
            "[CV] END ..............................kmeans__n_clusters=39; total time=   0.3s\n",
            "[CV] END ..............................kmeans__n_clusters=40; total time=   0.8s\n",
            "[CV] END ..............................kmeans__n_clusters=40; total time=   0.5s\n",
            "[CV] END ..............................kmeans__n_clusters=40; total time=   2.1s\n",
            "[CV] END ..............................kmeans__n_clusters=41; total time=   1.2s\n",
            "[CV] END ..............................kmeans__n_clusters=41; total time=   1.0s\n",
            "[CV] END ..............................kmeans__n_clusters=41; total time=   0.9s\n",
            "[CV] END ..............................kmeans__n_clusters=42; total time=   0.8s\n",
            "[CV] END ..............................kmeans__n_clusters=42; total time=   0.6s\n",
            "[CV] END ..............................kmeans__n_clusters=42; total time=   0.3s\n",
            "[CV] END ..............................kmeans__n_clusters=43; total time=   0.6s\n",
            "[CV] END ..............................kmeans__n_clusters=43; total time=   0.5s\n",
            "[CV] END ..............................kmeans__n_clusters=43; total time=   0.7s\n",
            "[CV] END ..............................kmeans__n_clusters=44; total time=   0.8s\n",
            "[CV] END ..............................kmeans__n_clusters=44; total time=   0.5s\n",
            "[CV] END ..............................kmeans__n_clusters=44; total time=   1.3s\n",
            "[CV] END ..............................kmeans__n_clusters=45; total time=   2.3s\n",
            "[CV] END ..............................kmeans__n_clusters=45; total time=   2.1s\n",
            "[CV] END ..............................kmeans__n_clusters=45; total time=   1.0s\n",
            "[CV] END ..............................kmeans__n_clusters=46; total time=   1.0s\n",
            "[CV] END ..............................kmeans__n_clusters=46; total time=   1.1s\n",
            "[CV] END ..............................kmeans__n_clusters=46; total time=   0.9s\n",
            "[CV] END ..............................kmeans__n_clusters=47; total time=   1.2s\n",
            "[CV] END ..............................kmeans__n_clusters=47; total time=   0.9s\n",
            "[CV] END ..............................kmeans__n_clusters=47; total time=   1.2s\n",
            "[CV] END ..............................kmeans__n_clusters=48; total time=   0.5s\n",
            "[CV] END ..............................kmeans__n_clusters=48; total time=   1.6s\n",
            "[CV] END ..............................kmeans__n_clusters=48; total time=   1.7s\n",
            "[CV] END ..............................kmeans__n_clusters=49; total time=   2.7s\n",
            "[CV] END ..............................kmeans__n_clusters=49; total time=   1.2s\n",
            "[CV] END ..............................kmeans__n_clusters=49; total time=   1.0s\n",
            "[CV] END ..............................kmeans__n_clusters=50; total time=   1.3s\n",
            "[CV] END ..............................kmeans__n_clusters=50; total time=   0.8s\n",
            "[CV] END ..............................kmeans__n_clusters=50; total time=   1.0s\n",
            "[CV] END ..............................kmeans__n_clusters=51; total time=   2.0s\n",
            "[CV] END ..............................kmeans__n_clusters=51; total time=   2.7s\n",
            "[CV] END ..............................kmeans__n_clusters=51; total time=   2.0s\n",
            "[CV] END ..............................kmeans__n_clusters=52; total time=   0.9s\n",
            "[CV] END ..............................kmeans__n_clusters=52; total time=   1.0s\n",
            "[CV] END ..............................kmeans__n_clusters=52; total time=   1.0s\n",
            "[CV] END ..............................kmeans__n_clusters=53; total time=   1.3s\n",
            "[CV] END ..............................kmeans__n_clusters=53; total time=   2.1s\n",
            "[CV] END ..............................kmeans__n_clusters=53; total time=   2.2s\n",
            "[CV] END ..............................kmeans__n_clusters=54; total time=   1.8s\n",
            "[CV] END ..............................kmeans__n_clusters=54; total time=   1.9s\n",
            "[CV] END ..............................kmeans__n_clusters=54; total time=   2.0s\n",
            "[CV] END ..............................kmeans__n_clusters=55; total time=   1.6s\n",
            "[CV] END ..............................kmeans__n_clusters=55; total time=   0.7s\n",
            "[CV] END ..............................kmeans__n_clusters=55; total time=   0.9s\n",
            "[CV] END ..............................kmeans__n_clusters=56; total time=   0.3s\n",
            "[CV] END ..............................kmeans__n_clusters=56; total time=   0.4s\n",
            "[CV] END ..............................kmeans__n_clusters=56; total time=   1.7s\n",
            "[CV] END ..............................kmeans__n_clusters=57; total time=   0.3s\n",
            "[CV] END ..............................kmeans__n_clusters=57; total time=   0.3s\n",
            "[CV] END ..............................kmeans__n_clusters=57; total time=   0.8s\n",
            "[CV] END ..............................kmeans__n_clusters=58; total time=   0.5s\n",
            "[CV] END ..............................kmeans__n_clusters=58; total time=   0.4s\n",
            "[CV] END ..............................kmeans__n_clusters=58; total time=   0.3s\n",
            "[CV] END ..............................kmeans__n_clusters=59; total time=   0.3s\n",
            "[CV] END ..............................kmeans__n_clusters=59; total time=   0.3s\n",
            "[CV] END ..............................kmeans__n_clusters=59; total time=   0.3s\n",
            "[CV] END ..............................kmeans__n_clusters=60; total time=   0.3s\n",
            "[CV] END ..............................kmeans__n_clusters=60; total time=   0.3s\n",
            "[CV] END ..............................kmeans__n_clusters=60; total time=   0.3s\n",
            "[CV] END ..............................kmeans__n_clusters=61; total time=   0.3s\n",
            "[CV] END ..............................kmeans__n_clusters=61; total time=   0.3s\n",
            "[CV] END ..............................kmeans__n_clusters=61; total time=   0.6s\n",
            "[CV] END ..............................kmeans__n_clusters=62; total time=   0.3s\n",
            "[CV] END ..............................kmeans__n_clusters=62; total time=   0.5s\n",
            "[CV] END ..............................kmeans__n_clusters=62; total time=   0.8s\n",
            "[CV] END ..............................kmeans__n_clusters=63; total time=   0.5s\n",
            "[CV] END ..............................kmeans__n_clusters=63; total time=   0.7s\n",
            "[CV] END ..............................kmeans__n_clusters=63; total time=   1.2s\n",
            "[CV] END ..............................kmeans__n_clusters=64; total time=   1.5s\n",
            "[CV] END ..............................kmeans__n_clusters=64; total time=   0.8s\n",
            "[CV] END ..............................kmeans__n_clusters=64; total time=   0.4s\n",
            "[CV] END ..............................kmeans__n_clusters=65; total time=   0.5s\n",
            "[CV] END ..............................kmeans__n_clusters=65; total time=   0.8s\n",
            "[CV] END ..............................kmeans__n_clusters=65; total time=   0.3s\n",
            "[CV] END ..............................kmeans__n_clusters=66; total time=   0.4s\n",
            "[CV] END ..............................kmeans__n_clusters=66; total time=   0.6s\n",
            "[CV] END ..............................kmeans__n_clusters=66; total time=   0.5s\n",
            "[CV] END ..............................kmeans__n_clusters=67; total time=   0.4s\n",
            "[CV] END ..............................kmeans__n_clusters=67; total time=   0.4s\n",
            "[CV] END ..............................kmeans__n_clusters=67; total time=   0.5s\n",
            "[CV] END ..............................kmeans__n_clusters=68; total time=   0.4s\n",
            "[CV] END ..............................kmeans__n_clusters=68; total time=   0.5s\n",
            "[CV] END ..............................kmeans__n_clusters=68; total time=   0.3s\n",
            "[CV] END ..............................kmeans__n_clusters=69; total time=   0.4s\n",
            "[CV] END ..............................kmeans__n_clusters=69; total time=   0.3s\n",
            "[CV] END ..............................kmeans__n_clusters=69; total time=   0.5s\n",
            "[CV] END ..............................kmeans__n_clusters=70; total time=   0.4s\n",
            "[CV] END ..............................kmeans__n_clusters=70; total time=   0.4s\n",
            "[CV] END ..............................kmeans__n_clusters=70; total time=   0.4s\n",
            "[CV] END ..............................kmeans__n_clusters=71; total time=   0.5s\n",
            "[CV] END ..............................kmeans__n_clusters=71; total time=   1.4s\n",
            "[CV] END ..............................kmeans__n_clusters=71; total time=   1.0s\n",
            "[CV] END ..............................kmeans__n_clusters=72; total time=   0.4s\n",
            "[CV] END ..............................kmeans__n_clusters=72; total time=   0.5s\n",
            "[CV] END ..............................kmeans__n_clusters=72; total time=   0.8s\n",
            "[CV] END ..............................kmeans__n_clusters=73; total time=   0.9s\n",
            "[CV] END ..............................kmeans__n_clusters=73; total time=   1.0s\n",
            "[CV] END ..............................kmeans__n_clusters=73; total time=   0.4s\n",
            "[CV] END ..............................kmeans__n_clusters=74; total time=   0.4s\n",
            "[CV] END ..............................kmeans__n_clusters=74; total time=   1.4s\n",
            "[CV] END ..............................kmeans__n_clusters=74; total time=   1.0s\n",
            "[CV] END ..............................kmeans__n_clusters=75; total time=   0.9s\n",
            "[CV] END ..............................kmeans__n_clusters=75; total time=   0.8s\n",
            "[CV] END ..............................kmeans__n_clusters=75; total time=   0.7s\n",
            "[CV] END ..............................kmeans__n_clusters=76; total time=   1.4s\n",
            "[CV] END ..............................kmeans__n_clusters=76; total time=   0.7s\n",
            "[CV] END ..............................kmeans__n_clusters=76; total time=   0.9s\n",
            "[CV] END ..............................kmeans__n_clusters=77; total time=   0.8s\n",
            "[CV] END ..............................kmeans__n_clusters=77; total time=   0.7s\n",
            "[CV] END ..............................kmeans__n_clusters=77; total time=   1.0s\n",
            "[CV] END ..............................kmeans__n_clusters=78; total time=   0.6s\n",
            "[CV] END ..............................kmeans__n_clusters=78; total time=   0.5s\n",
            "[CV] END ..............................kmeans__n_clusters=78; total time=   0.6s\n",
            "[CV] END ..............................kmeans__n_clusters=79; total time=   0.8s\n",
            "[CV] END ..............................kmeans__n_clusters=79; total time=   0.9s\n",
            "[CV] END ..............................kmeans__n_clusters=79; total time=   0.9s\n",
            "[CV] END ..............................kmeans__n_clusters=80; total time=   0.5s\n",
            "[CV] END ..............................kmeans__n_clusters=80; total time=   0.5s\n",
            "[CV] END ..............................kmeans__n_clusters=80; total time=   0.4s\n",
            "[CV] END ..............................kmeans__n_clusters=81; total time=   0.4s\n",
            "[CV] END ..............................kmeans__n_clusters=81; total time=   1.3s\n",
            "[CV] END ..............................kmeans__n_clusters=81; total time=   0.6s\n",
            "[CV] END ..............................kmeans__n_clusters=82; total time=   0.5s\n",
            "[CV] END ..............................kmeans__n_clusters=82; total time=   0.4s\n",
            "[CV] END ..............................kmeans__n_clusters=82; total time=   0.4s\n",
            "[CV] END ..............................kmeans__n_clusters=83; total time=   0.4s\n",
            "[CV] END ..............................kmeans__n_clusters=83; total time=   0.4s\n",
            "[CV] END ..............................kmeans__n_clusters=83; total time=   0.4s\n",
            "[CV] END ..............................kmeans__n_clusters=84; total time=   0.4s\n",
            "[CV] END ..............................kmeans__n_clusters=84; total time=   0.5s\n",
            "[CV] END ..............................kmeans__n_clusters=84; total time=   0.4s\n",
            "[CV] END ..............................kmeans__n_clusters=85; total time=   0.5s\n",
            "[CV] END ..............................kmeans__n_clusters=85; total time=   0.4s\n",
            "[CV] END ..............................kmeans__n_clusters=85; total time=   0.8s\n",
            "[CV] END ..............................kmeans__n_clusters=86; total time=   1.0s\n",
            "[CV] END ..............................kmeans__n_clusters=86; total time=   0.7s\n",
            "[CV] END ..............................kmeans__n_clusters=86; total time=   0.8s\n",
            "[CV] END ..............................kmeans__n_clusters=87; total time=   0.8s\n",
            "[CV] END ..............................kmeans__n_clusters=87; total time=   1.1s\n",
            "[CV] END ..............................kmeans__n_clusters=87; total time=   1.5s\n",
            "[CV] END ..............................kmeans__n_clusters=88; total time=   0.8s\n",
            "[CV] END ..............................kmeans__n_clusters=88; total time=   0.9s\n",
            "[CV] END ..............................kmeans__n_clusters=88; total time=   0.7s\n",
            "[CV] END ..............................kmeans__n_clusters=89; total time=   0.5s\n",
            "[CV] END ..............................kmeans__n_clusters=89; total time=   0.4s\n",
            "[CV] END ..............................kmeans__n_clusters=89; total time=   0.5s\n",
            "[CV] END ..............................kmeans__n_clusters=90; total time=   0.4s\n",
            "[CV] END ..............................kmeans__n_clusters=90; total time=   0.6s\n",
            "[CV] END ..............................kmeans__n_clusters=90; total time=   0.4s\n",
            "[CV] END ..............................kmeans__n_clusters=91; total time=   0.4s\n",
            "[CV] END ..............................kmeans__n_clusters=91; total time=   0.6s\n",
            "[CV] END ..............................kmeans__n_clusters=91; total time=   0.6s\n",
            "[CV] END ..............................kmeans__n_clusters=92; total time=   0.9s\n",
            "[CV] END ..............................kmeans__n_clusters=92; total time=   0.9s\n",
            "[CV] END ..............................kmeans__n_clusters=92; total time=   0.7s\n",
            "[CV] END ..............................kmeans__n_clusters=93; total time=   1.0s\n",
            "[CV] END ..............................kmeans__n_clusters=93; total time=   1.5s\n",
            "[CV] END ..............................kmeans__n_clusters=93; total time=   1.1s\n",
            "[CV] END ..............................kmeans__n_clusters=94; total time=   0.4s\n",
            "[CV] END ..............................kmeans__n_clusters=94; total time=   0.4s\n",
            "[CV] END ..............................kmeans__n_clusters=94; total time=   0.4s\n",
            "[CV] END ..............................kmeans__n_clusters=95; total time=   0.8s\n",
            "[CV] END ..............................kmeans__n_clusters=95; total time=   0.5s\n",
            "[CV] END ..............................kmeans__n_clusters=95; total time=   0.6s\n",
            "[CV] END ..............................kmeans__n_clusters=96; total time=   0.4s\n",
            "[CV] END ..............................kmeans__n_clusters=96; total time=   0.9s\n",
            "[CV] END ..............................kmeans__n_clusters=96; total time=   0.9s\n",
            "[CV] END ..............................kmeans__n_clusters=97; total time=   0.7s\n",
            "[CV] END ..............................kmeans__n_clusters=97; total time=   0.4s\n",
            "[CV] END ..............................kmeans__n_clusters=97; total time=   0.5s\n",
            "[CV] END ..............................kmeans__n_clusters=98; total time=   0.9s\n",
            "[CV] END ..............................kmeans__n_clusters=98; total time=   0.8s\n",
            "[CV] END ..............................kmeans__n_clusters=98; total time=   1.7s\n",
            "[CV] END ..............................kmeans__n_clusters=99; total time=   1.0s\n",
            "[CV] END ..............................kmeans__n_clusters=99; total time=   0.8s\n",
            "[CV] END ..............................kmeans__n_clusters=99; total time=   1.1s\n"
          ]
        },
        {
          "output_type": "execute_result",
          "data": {
            "text/plain": [
              "GridSearchCV(cv=3,\n",
              "             estimator=Pipeline(steps=[('kmeans', KMeans(n_clusters=50)),\n",
              "                                       ('log_reg', LogisticRegression())]),\n",
              "             param_grid={'kmeans__n_clusters': range(2, 100)}, verbose=2)"
            ],
            "text/html": [
              "<style>#sk-container-id-4 {color: black;background-color: white;}#sk-container-id-4 pre{padding: 0;}#sk-container-id-4 div.sk-toggleable {background-color: white;}#sk-container-id-4 label.sk-toggleable__label {cursor: pointer;display: block;width: 100%;margin-bottom: 0;padding: 0.3em;box-sizing: border-box;text-align: center;}#sk-container-id-4 label.sk-toggleable__label-arrow:before {content: \"▸\";float: left;margin-right: 0.25em;color: #696969;}#sk-container-id-4 label.sk-toggleable__label-arrow:hover:before {color: black;}#sk-container-id-4 div.sk-estimator:hover label.sk-toggleable__label-arrow:before {color: black;}#sk-container-id-4 div.sk-toggleable__content {max-height: 0;max-width: 0;overflow: hidden;text-align: left;background-color: #f0f8ff;}#sk-container-id-4 div.sk-toggleable__content pre {margin: 0.2em;color: black;border-radius: 0.25em;background-color: #f0f8ff;}#sk-container-id-4 input.sk-toggleable__control:checked~div.sk-toggleable__content {max-height: 200px;max-width: 100%;overflow: auto;}#sk-container-id-4 input.sk-toggleable__control:checked~label.sk-toggleable__label-arrow:before {content: \"▾\";}#sk-container-id-4 div.sk-estimator input.sk-toggleable__control:checked~label.sk-toggleable__label {background-color: #d4ebff;}#sk-container-id-4 div.sk-label input.sk-toggleable__control:checked~label.sk-toggleable__label {background-color: #d4ebff;}#sk-container-id-4 input.sk-hidden--visually {border: 0;clip: rect(1px 1px 1px 1px);clip: rect(1px, 1px, 1px, 1px);height: 1px;margin: -1px;overflow: hidden;padding: 0;position: absolute;width: 1px;}#sk-container-id-4 div.sk-estimator {font-family: monospace;background-color: #f0f8ff;border: 1px dotted black;border-radius: 0.25em;box-sizing: border-box;margin-bottom: 0.5em;}#sk-container-id-4 div.sk-estimator:hover {background-color: #d4ebff;}#sk-container-id-4 div.sk-parallel-item::after {content: \"\";width: 100%;border-bottom: 1px solid gray;flex-grow: 1;}#sk-container-id-4 div.sk-label:hover label.sk-toggleable__label {background-color: #d4ebff;}#sk-container-id-4 div.sk-serial::before {content: \"\";position: absolute;border-left: 1px solid gray;box-sizing: border-box;top: 0;bottom: 0;left: 50%;z-index: 0;}#sk-container-id-4 div.sk-serial {display: flex;flex-direction: column;align-items: center;background-color: white;padding-right: 0.2em;padding-left: 0.2em;position: relative;}#sk-container-id-4 div.sk-item {position: relative;z-index: 1;}#sk-container-id-4 div.sk-parallel {display: flex;align-items: stretch;justify-content: center;background-color: white;position: relative;}#sk-container-id-4 div.sk-item::before, #sk-container-id-4 div.sk-parallel-item::before {content: \"\";position: absolute;border-left: 1px solid gray;box-sizing: border-box;top: 0;bottom: 0;left: 50%;z-index: -1;}#sk-container-id-4 div.sk-parallel-item {display: flex;flex-direction: column;z-index: 1;position: relative;background-color: white;}#sk-container-id-4 div.sk-parallel-item:first-child::after {align-self: flex-end;width: 50%;}#sk-container-id-4 div.sk-parallel-item:last-child::after {align-self: flex-start;width: 50%;}#sk-container-id-4 div.sk-parallel-item:only-child::after {width: 0;}#sk-container-id-4 div.sk-dashed-wrapped {border: 1px dashed gray;margin: 0 0.4em 0.5em 0.4em;box-sizing: border-box;padding-bottom: 0.4em;background-color: white;}#sk-container-id-4 div.sk-label label {font-family: monospace;font-weight: bold;display: inline-block;line-height: 1.2em;}#sk-container-id-4 div.sk-label-container {text-align: center;}#sk-container-id-4 div.sk-container {/* jupyter's `normalize.less` sets `[hidden] { display: none; }` but bootstrap.min.css set `[hidden] { display: none !important; }` so we also need the `!important` here to be able to override the default hidden behavior on the sphinx rendered scikit-learn.org. See: https://github.com/scikit-learn/scikit-learn/issues/21755 */display: inline-block !important;position: relative;}#sk-container-id-4 div.sk-text-repr-fallback {display: none;}</style><div id=\"sk-container-id-4\" class=\"sk-top-container\"><div class=\"sk-text-repr-fallback\"><pre>GridSearchCV(cv=3,\n",
              "             estimator=Pipeline(steps=[(&#x27;kmeans&#x27;, KMeans(n_clusters=50)),\n",
              "                                       (&#x27;log_reg&#x27;, LogisticRegression())]),\n",
              "             param_grid={&#x27;kmeans__n_clusters&#x27;: range(2, 100)}, verbose=2)</pre><b>In a Jupyter environment, please rerun this cell to show the HTML representation or trust the notebook. <br />On GitHub, the HTML representation is unable to render, please try loading this page with nbviewer.org.</b></div><div class=\"sk-container\" hidden><div class=\"sk-item sk-dashed-wrapped\"><div class=\"sk-label-container\"><div class=\"sk-label sk-toggleable\"><input class=\"sk-toggleable__control sk-hidden--visually\" id=\"sk-estimator-id-6\" type=\"checkbox\" ><label for=\"sk-estimator-id-6\" class=\"sk-toggleable__label sk-toggleable__label-arrow\">GridSearchCV</label><div class=\"sk-toggleable__content\"><pre>GridSearchCV(cv=3,\n",
              "             estimator=Pipeline(steps=[(&#x27;kmeans&#x27;, KMeans(n_clusters=50)),\n",
              "                                       (&#x27;log_reg&#x27;, LogisticRegression())]),\n",
              "             param_grid={&#x27;kmeans__n_clusters&#x27;: range(2, 100)}, verbose=2)</pre></div></div></div><div class=\"sk-parallel\"><div class=\"sk-parallel-item\"><div class=\"sk-item\"><div class=\"sk-label-container\"><div class=\"sk-label sk-toggleable\"><input class=\"sk-toggleable__control sk-hidden--visually\" id=\"sk-estimator-id-7\" type=\"checkbox\" ><label for=\"sk-estimator-id-7\" class=\"sk-toggleable__label sk-toggleable__label-arrow\">estimator: Pipeline</label><div class=\"sk-toggleable__content\"><pre>Pipeline(steps=[(&#x27;kmeans&#x27;, KMeans(n_clusters=50)),\n",
              "                (&#x27;log_reg&#x27;, LogisticRegression())])</pre></div></div></div><div class=\"sk-serial\"><div class=\"sk-item\"><div class=\"sk-serial\"><div class=\"sk-item\"><div class=\"sk-estimator sk-toggleable\"><input class=\"sk-toggleable__control sk-hidden--visually\" id=\"sk-estimator-id-8\" type=\"checkbox\" ><label for=\"sk-estimator-id-8\" class=\"sk-toggleable__label sk-toggleable__label-arrow\">KMeans</label><div class=\"sk-toggleable__content\"><pre>KMeans(n_clusters=50)</pre></div></div></div><div class=\"sk-item\"><div class=\"sk-estimator sk-toggleable\"><input class=\"sk-toggleable__control sk-hidden--visually\" id=\"sk-estimator-id-9\" type=\"checkbox\" ><label for=\"sk-estimator-id-9\" class=\"sk-toggleable__label sk-toggleable__label-arrow\">LogisticRegression</label><div class=\"sk-toggleable__content\"><pre>LogisticRegression()</pre></div></div></div></div></div></div></div></div></div></div></div></div>"
            ]
          },
          "metadata": {},
          "execution_count": 38
        }
      ]
    },
    {
      "cell_type": "code",
      "source": [
        "#최적의 k값 확인\n",
        "grid_clf.best_params_"
      ],
      "metadata": {
        "colab": {
          "base_uri": "https://localhost:8080/"
        },
        "id": "Qo1gJNxPwXxA",
        "outputId": "33ba037d-e06a-4d5b-dd1a-5436b5dc33d5"
      },
      "execution_count": null,
      "outputs": [
        {
          "output_type": "execute_result",
          "data": {
            "text/plain": [
              "{'kmeans__n_clusters': 95}"
            ]
          },
          "metadata": {},
          "execution_count": 39
        }
      ]
    },
    {
      "cell_type": "code",
      "source": [
        "#파이프라인 성능 확인\n",
        "grid_clf.score(X_test,y_test)"
      ],
      "metadata": {
        "colab": {
          "base_uri": "https://localhost:8080/"
        },
        "id": "XnJ-lNZ2wXvE",
        "outputId": "51346658-db87-46ac-c91c-52b8ca5f037f"
      },
      "execution_count": null,
      "outputs": [
        {
          "output_type": "execute_result",
          "data": {
            "text/plain": [
              "0.9577777777777777"
            ]
          },
          "metadata": {},
          "execution_count": 40
        }
      ]
    },
    {
      "cell_type": "markdown",
      "source": [
        "###9.1.5. 군집을 사용한 준지도 학습"
      ],
      "metadata": {
        "id": "967YGLTL8RBM"
      }
    },
    {
      "cell_type": "code",
      "source": [
        "#숫자 데이터셋에서 레이블된 50개 샘플에 로지스틱 회귀 모델 훈련\n",
        "n_labeled = 50\n",
        "log_reg = LogisticRegression()\n",
        "log_reg.fit(X_train[:n_labeled], y_train[:n_labeled])"
      ],
      "metadata": {
        "colab": {
          "base_uri": "https://localhost:8080/",
          "height": 74
        },
        "id": "0Vl_aRLewXtC",
        "outputId": "4329c641-0b84-4983-8740-1f1a2af30173"
      },
      "execution_count": null,
      "outputs": [
        {
          "output_type": "execute_result",
          "data": {
            "text/plain": [
              "LogisticRegression()"
            ],
            "text/html": [
              "<style>#sk-container-id-5 {color: black;background-color: white;}#sk-container-id-5 pre{padding: 0;}#sk-container-id-5 div.sk-toggleable {background-color: white;}#sk-container-id-5 label.sk-toggleable__label {cursor: pointer;display: block;width: 100%;margin-bottom: 0;padding: 0.3em;box-sizing: border-box;text-align: center;}#sk-container-id-5 label.sk-toggleable__label-arrow:before {content: \"▸\";float: left;margin-right: 0.25em;color: #696969;}#sk-container-id-5 label.sk-toggleable__label-arrow:hover:before {color: black;}#sk-container-id-5 div.sk-estimator:hover label.sk-toggleable__label-arrow:before {color: black;}#sk-container-id-5 div.sk-toggleable__content {max-height: 0;max-width: 0;overflow: hidden;text-align: left;background-color: #f0f8ff;}#sk-container-id-5 div.sk-toggleable__content pre {margin: 0.2em;color: black;border-radius: 0.25em;background-color: #f0f8ff;}#sk-container-id-5 input.sk-toggleable__control:checked~div.sk-toggleable__content {max-height: 200px;max-width: 100%;overflow: auto;}#sk-container-id-5 input.sk-toggleable__control:checked~label.sk-toggleable__label-arrow:before {content: \"▾\";}#sk-container-id-5 div.sk-estimator input.sk-toggleable__control:checked~label.sk-toggleable__label {background-color: #d4ebff;}#sk-container-id-5 div.sk-label input.sk-toggleable__control:checked~label.sk-toggleable__label {background-color: #d4ebff;}#sk-container-id-5 input.sk-hidden--visually {border: 0;clip: rect(1px 1px 1px 1px);clip: rect(1px, 1px, 1px, 1px);height: 1px;margin: -1px;overflow: hidden;padding: 0;position: absolute;width: 1px;}#sk-container-id-5 div.sk-estimator {font-family: monospace;background-color: #f0f8ff;border: 1px dotted black;border-radius: 0.25em;box-sizing: border-box;margin-bottom: 0.5em;}#sk-container-id-5 div.sk-estimator:hover {background-color: #d4ebff;}#sk-container-id-5 div.sk-parallel-item::after {content: \"\";width: 100%;border-bottom: 1px solid gray;flex-grow: 1;}#sk-container-id-5 div.sk-label:hover label.sk-toggleable__label {background-color: #d4ebff;}#sk-container-id-5 div.sk-serial::before {content: \"\";position: absolute;border-left: 1px solid gray;box-sizing: border-box;top: 0;bottom: 0;left: 50%;z-index: 0;}#sk-container-id-5 div.sk-serial {display: flex;flex-direction: column;align-items: center;background-color: white;padding-right: 0.2em;padding-left: 0.2em;position: relative;}#sk-container-id-5 div.sk-item {position: relative;z-index: 1;}#sk-container-id-5 div.sk-parallel {display: flex;align-items: stretch;justify-content: center;background-color: white;position: relative;}#sk-container-id-5 div.sk-item::before, #sk-container-id-5 div.sk-parallel-item::before {content: \"\";position: absolute;border-left: 1px solid gray;box-sizing: border-box;top: 0;bottom: 0;left: 50%;z-index: -1;}#sk-container-id-5 div.sk-parallel-item {display: flex;flex-direction: column;z-index: 1;position: relative;background-color: white;}#sk-container-id-5 div.sk-parallel-item:first-child::after {align-self: flex-end;width: 50%;}#sk-container-id-5 div.sk-parallel-item:last-child::after {align-self: flex-start;width: 50%;}#sk-container-id-5 div.sk-parallel-item:only-child::after {width: 0;}#sk-container-id-5 div.sk-dashed-wrapped {border: 1px dashed gray;margin: 0 0.4em 0.5em 0.4em;box-sizing: border-box;padding-bottom: 0.4em;background-color: white;}#sk-container-id-5 div.sk-label label {font-family: monospace;font-weight: bold;display: inline-block;line-height: 1.2em;}#sk-container-id-5 div.sk-label-container {text-align: center;}#sk-container-id-5 div.sk-container {/* jupyter's `normalize.less` sets `[hidden] { display: none; }` but bootstrap.min.css set `[hidden] { display: none !important; }` so we also need the `!important` here to be able to override the default hidden behavior on the sphinx rendered scikit-learn.org. See: https://github.com/scikit-learn/scikit-learn/issues/21755 */display: inline-block !important;position: relative;}#sk-container-id-5 div.sk-text-repr-fallback {display: none;}</style><div id=\"sk-container-id-5\" class=\"sk-top-container\"><div class=\"sk-text-repr-fallback\"><pre>LogisticRegression()</pre><b>In a Jupyter environment, please rerun this cell to show the HTML representation or trust the notebook. <br />On GitHub, the HTML representation is unable to render, please try loading this page with nbviewer.org.</b></div><div class=\"sk-container\" hidden><div class=\"sk-item\"><div class=\"sk-estimator sk-toggleable\"><input class=\"sk-toggleable__control sk-hidden--visually\" id=\"sk-estimator-id-10\" type=\"checkbox\" checked><label for=\"sk-estimator-id-10\" class=\"sk-toggleable__label sk-toggleable__label-arrow\">LogisticRegression</label><div class=\"sk-toggleable__content\"><pre>LogisticRegression()</pre></div></div></div></div></div>"
            ]
          },
          "metadata": {},
          "execution_count": 41
        }
      ]
    },
    {
      "cell_type": "code",
      "source": [
        "#모델 성능 확인\n",
        "log_reg.score(X_test,y_test)"
      ],
      "metadata": {
        "colab": {
          "base_uri": "https://localhost:8080/"
        },
        "id": "5XLuq-ylwXrR",
        "outputId": "1a78b699-13dd-4884-88ca-bcdea44e2e79"
      },
      "execution_count": null,
      "outputs": [
        {
          "output_type": "execute_result",
          "data": {
            "text/plain": [
              "0.86"
            ]
          },
          "metadata": {},
          "execution_count": 42
        }
      ]
    },
    {
      "cell_type": "markdown",
      "source": [
        "대표 이미지 : 훈련 세트를 50개의 클러스터로 모으고 각 클러스터에서 가장 가까운 이미지를 찾음"
      ],
      "metadata": {
        "id": "CUtj0ONG8bBs"
      }
    },
    {
      "cell_type": "code",
      "source": [
        "k =50\n",
        "kmeans = KMeans(n_clusters=k)\n",
        "X_digits_dist = kmeans.fit_transform(X_train)\n",
        "representative_digit_idx = np.argmin(X_digits_dist, axis=0)\n",
        "X_representative_digits = X_train[representative_digit_idx]"
      ],
      "metadata": {
        "id": "OQn6cbP5wXo9"
      },
      "execution_count": null,
      "outputs": []
    },
    {
      "cell_type": "code",
      "source": [
        "y_train[representative_digit_idx]"
      ],
      "metadata": {
        "colab": {
          "base_uri": "https://localhost:8080/"
        },
        "id": "Fsf3N5r9wXm_",
        "outputId": "a2383064-f7dc-47c5-fbc0-cf15609f76c1"
      },
      "execution_count": null,
      "outputs": [
        {
          "output_type": "execute_result",
          "data": {
            "text/plain": [
              "array([2, 9, 0, 9, 4, 7, 8, 5, 3, 6, 7, 0, 1, 4, 6, 2, 1, 3, 1, 3, 5, 8,\n",
              "       9, 0, 7, 5, 8, 6, 4, 4, 4, 6, 2, 1, 2, 2, 9, 1, 9, 2, 8, 8, 5, 7,\n",
              "       8, 6, 5, 2, 1, 7])"
            ]
          },
          "metadata": {},
          "execution_count": 44
        }
      ]
    },
    {
      "cell_type": "code",
      "source": [
        "#수동 레이블 할당\n",
        "y_representative_digits = np.array([3, 1, 0, 6, 4, 5, 7, 8, 9, 1, 2, 5, 9, 6, 6, 2, 8, 4, 7, 0, 1, 5,\n",
        "       2, 4, 3, 7, 6, 9, 8, 3, 9, 3, 3, 6, 4, 1, 1, 8, 7, 8, 2, 4, 9, 0,\n",
        "       2, 1, 2, 5, 7, 5])"
      ],
      "metadata": {
        "id": "ITl6rzhYwXk-"
      },
      "execution_count": null,
      "outputs": []
    },
    {
      "cell_type": "code",
      "source": [
        "#성능 확인\n",
        "log_reg = LogisticRegression()\n",
        "log_reg.fit(X_representative_digits, y_representative_digits)\n",
        "log_reg.score(X_test, y_test)"
      ],
      "metadata": {
        "colab": {
          "base_uri": "https://localhost:8080/"
        },
        "id": "hQTAvm7UwXjS",
        "outputId": "61f6e66a-ea86-4620-b0df-5f2c2adbf342"
      },
      "execution_count": null,
      "outputs": [
        {
          "output_type": "execute_result",
          "data": {
            "text/plain": [
              "0.1"
            ]
          },
          "metadata": {},
          "execution_count": 46
        }
      ]
    },
    {
      "cell_type": "code",
      "source": [
        "#레이블 전파\n",
        "y_train_propagated = np.empty(len(X_train), dtype=np.int32)\n",
        "for i in range(k):\n",
        "    y_train_propagated[kmeans.labels_==i] = y_representative_digits[i]"
      ],
      "metadata": {
        "id": "tn0CQFj-wXhZ"
      },
      "execution_count": null,
      "outputs": []
    },
    {
      "cell_type": "code",
      "source": [
        "#모델 훈련 후 성능 확인\n",
        "log_reg = LogisticRegression()\n",
        "log_reg.fit(X_train, y_train_propagated)\n",
        "log_reg.score(X_test, y_test)"
      ],
      "metadata": {
        "colab": {
          "base_uri": "https://localhost:8080/"
        },
        "id": "8713QZNjwXfm",
        "outputId": "b74716ec-676b-4385-f25c-68464169d589"
      },
      "execution_count": null,
      "outputs": [
        {
          "output_type": "execute_result",
          "data": {
            "text/plain": [
              "0.09555555555555556"
            ]
          },
          "metadata": {},
          "execution_count": 48
        }
      ]
    },
    {
      "cell_type": "code",
      "source": [
        "#센트로이드와 가까운 샘플의 20%에만 레이블을 전파\n",
        "percentile_closest = 20\n",
        "\n",
        "X_cluster_dist = X_digits_dist[np.arange(len(X_train)), kmeans.labels_]\n",
        "for i in range(k):\n",
        "    in_cluster = (kmeans.labels_ == i)\n",
        "    cluster_dist = X_cluster_dist[in_cluster]\n",
        "    cutoff_distance = np.percentile(cluster_dist, percentile_closest)\n",
        "    above_cutoff = (X_cluster_dist > cutoff_distance)\n",
        "    X_cluster_dist[in_cluster & above_cutoff] = -1\n",
        "\n",
        "partially_propagated = (X_cluster_dist != -1)\n",
        "X_train_partially_propagated = X_train[partially_propagated]\n",
        "y_train_partially_propagated = y_train_propagated[partially_propagated]"
      ],
      "metadata": {
        "id": "yPk9B5XRwXd2"
      },
      "execution_count": null,
      "outputs": []
    },
    {
      "cell_type": "code",
      "source": [
        "#모델 훈련\n",
        "log_reg = LogisticRegression()\n",
        "log_reg.fit(X_train_partially_propagated, y_train_partially_propagated)\n",
        "log_reg.score(X_test, y_test)"
      ],
      "metadata": {
        "colab": {
          "base_uri": "https://localhost:8080/"
        },
        "id": "kJcO3U0XwXbb",
        "outputId": "59d2e46f-7c08-4cc9-e754-a74593373466"
      },
      "execution_count": null,
      "outputs": [
        {
          "output_type": "execute_result",
          "data": {
            "text/plain": [
              "0.08444444444444445"
            ]
          },
          "metadata": {},
          "execution_count": 50
        }
      ]
    },
    {
      "cell_type": "markdown",
      "source": [
        "레이블이 있는 전체 데이터셋에서 훈련한 로지스틱 회귀 성능에 매우 가까움"
      ],
      "metadata": {
        "id": "8i56g2iJMXmO"
      }
    },
    {
      "cell_type": "code",
      "source": [
        "np.mean(y_train_partially_propagated == y_train[partially_propagated])"
      ],
      "metadata": {
        "colab": {
          "base_uri": "https://localhost:8080/"
        },
        "id": "xbpPbzUawXZ2",
        "outputId": "a6312939-4501-4f39-f98e-c00be4b493c0"
      },
      "execution_count": null,
      "outputs": [
        {
          "output_type": "execute_result",
          "data": {
            "text/plain": [
              "0.0859106529209622"
            ]
          },
          "metadata": {},
          "execution_count": 51
        }
      ]
    },
    {
      "cell_type": "markdown",
      "source": [
        "###9.1.6. DBSCAN"
      ],
      "metadata": {
        "id": "QIKWyz8fMsEh"
      }
    },
    {
      "cell_type": "code",
      "source": [
        "from sklearn.cluster import DBSCAN\n",
        "from sklearn.datasets import make_moons\n",
        "\n",
        "X, y=make_moons(n_samples=1000, noise=0.05)\n",
        "dbscan=DBSCAN(eps=0.05, min_samples=5)\n",
        "dbscan.fit(X)"
      ],
      "metadata": {
        "colab": {
          "base_uri": "https://localhost:8080/",
          "height": 74
        },
        "id": "FFd_4tZCwXX4",
        "outputId": "34b9a1a9-98dc-43dc-ce89-882c91e9483c"
      },
      "execution_count": null,
      "outputs": [
        {
          "output_type": "execute_result",
          "data": {
            "text/plain": [
              "DBSCAN(eps=0.05)"
            ],
            "text/html": [
              "<style>#sk-container-id-6 {color: black;background-color: white;}#sk-container-id-6 pre{padding: 0;}#sk-container-id-6 div.sk-toggleable {background-color: white;}#sk-container-id-6 label.sk-toggleable__label {cursor: pointer;display: block;width: 100%;margin-bottom: 0;padding: 0.3em;box-sizing: border-box;text-align: center;}#sk-container-id-6 label.sk-toggleable__label-arrow:before {content: \"▸\";float: left;margin-right: 0.25em;color: #696969;}#sk-container-id-6 label.sk-toggleable__label-arrow:hover:before {color: black;}#sk-container-id-6 div.sk-estimator:hover label.sk-toggleable__label-arrow:before {color: black;}#sk-container-id-6 div.sk-toggleable__content {max-height: 0;max-width: 0;overflow: hidden;text-align: left;background-color: #f0f8ff;}#sk-container-id-6 div.sk-toggleable__content pre {margin: 0.2em;color: black;border-radius: 0.25em;background-color: #f0f8ff;}#sk-container-id-6 input.sk-toggleable__control:checked~div.sk-toggleable__content {max-height: 200px;max-width: 100%;overflow: auto;}#sk-container-id-6 input.sk-toggleable__control:checked~label.sk-toggleable__label-arrow:before {content: \"▾\";}#sk-container-id-6 div.sk-estimator input.sk-toggleable__control:checked~label.sk-toggleable__label {background-color: #d4ebff;}#sk-container-id-6 div.sk-label input.sk-toggleable__control:checked~label.sk-toggleable__label {background-color: #d4ebff;}#sk-container-id-6 input.sk-hidden--visually {border: 0;clip: rect(1px 1px 1px 1px);clip: rect(1px, 1px, 1px, 1px);height: 1px;margin: -1px;overflow: hidden;padding: 0;position: absolute;width: 1px;}#sk-container-id-6 div.sk-estimator {font-family: monospace;background-color: #f0f8ff;border: 1px dotted black;border-radius: 0.25em;box-sizing: border-box;margin-bottom: 0.5em;}#sk-container-id-6 div.sk-estimator:hover {background-color: #d4ebff;}#sk-container-id-6 div.sk-parallel-item::after {content: \"\";width: 100%;border-bottom: 1px solid gray;flex-grow: 1;}#sk-container-id-6 div.sk-label:hover label.sk-toggleable__label {background-color: #d4ebff;}#sk-container-id-6 div.sk-serial::before {content: \"\";position: absolute;border-left: 1px solid gray;box-sizing: border-box;top: 0;bottom: 0;left: 50%;z-index: 0;}#sk-container-id-6 div.sk-serial {display: flex;flex-direction: column;align-items: center;background-color: white;padding-right: 0.2em;padding-left: 0.2em;position: relative;}#sk-container-id-6 div.sk-item {position: relative;z-index: 1;}#sk-container-id-6 div.sk-parallel {display: flex;align-items: stretch;justify-content: center;background-color: white;position: relative;}#sk-container-id-6 div.sk-item::before, #sk-container-id-6 div.sk-parallel-item::before {content: \"\";position: absolute;border-left: 1px solid gray;box-sizing: border-box;top: 0;bottom: 0;left: 50%;z-index: -1;}#sk-container-id-6 div.sk-parallel-item {display: flex;flex-direction: column;z-index: 1;position: relative;background-color: white;}#sk-container-id-6 div.sk-parallel-item:first-child::after {align-self: flex-end;width: 50%;}#sk-container-id-6 div.sk-parallel-item:last-child::after {align-self: flex-start;width: 50%;}#sk-container-id-6 div.sk-parallel-item:only-child::after {width: 0;}#sk-container-id-6 div.sk-dashed-wrapped {border: 1px dashed gray;margin: 0 0.4em 0.5em 0.4em;box-sizing: border-box;padding-bottom: 0.4em;background-color: white;}#sk-container-id-6 div.sk-label label {font-family: monospace;font-weight: bold;display: inline-block;line-height: 1.2em;}#sk-container-id-6 div.sk-label-container {text-align: center;}#sk-container-id-6 div.sk-container {/* jupyter's `normalize.less` sets `[hidden] { display: none; }` but bootstrap.min.css set `[hidden] { display: none !important; }` so we also need the `!important` here to be able to override the default hidden behavior on the sphinx rendered scikit-learn.org. See: https://github.com/scikit-learn/scikit-learn/issues/21755 */display: inline-block !important;position: relative;}#sk-container-id-6 div.sk-text-repr-fallback {display: none;}</style><div id=\"sk-container-id-6\" class=\"sk-top-container\"><div class=\"sk-text-repr-fallback\"><pre>DBSCAN(eps=0.05)</pre><b>In a Jupyter environment, please rerun this cell to show the HTML representation or trust the notebook. <br />On GitHub, the HTML representation is unable to render, please try loading this page with nbviewer.org.</b></div><div class=\"sk-container\" hidden><div class=\"sk-item\"><div class=\"sk-estimator sk-toggleable\"><input class=\"sk-toggleable__control sk-hidden--visually\" id=\"sk-estimator-id-11\" type=\"checkbox\" checked><label for=\"sk-estimator-id-11\" class=\"sk-toggleable__label sk-toggleable__label-arrow\">DBSCAN</label><div class=\"sk-toggleable__content\"><pre>DBSCAN(eps=0.05)</pre></div></div></div></div></div>"
            ]
          },
          "metadata": {},
          "execution_count": 52
        }
      ]
    },
    {
      "cell_type": "code",
      "source": [
        "#모든 샘플의 레이블은 labels_에 저장되어있음\n",
        "dbscan.labels_"
      ],
      "metadata": {
        "colab": {
          "base_uri": "https://localhost:8080/"
        },
        "id": "R3Ojb6ivwXR8",
        "outputId": "6119c24e-8d42-4db2-f1cc-03033920db52"
      },
      "execution_count": null,
      "outputs": [
        {
          "output_type": "execute_result",
          "data": {
            "text/plain": [
              "array([ 0,  1,  2,  3,  4,  2,  2,  5,  6,  5,  1,  2,  1,  6, -1,  0,  1,\n",
              "        6,  1,  2,  3,  3,  1,  7,  5,  5,  4,  1,  1, -1,  3,  0,  5,  1,\n",
              "        0,  5,  1,  1,  7,  7,  1, -1,  0, -1,  7, -1,  5,  7,  8, -1,  3,\n",
              "        7,  0,  2,  9,  1,  9,  6,  1,  5,  9, 10,  2, -1,  0,  5, -1,  2,\n",
              "        0,  1,  5,  1,  1,  5, -1,  9, 10,  3,  2,  8,  7,  3,  2,  1,  5,\n",
              "        7, -1,  7,  0,  2,  1,  1,  9,  6,  1,  1,  9,  7, -1,  5,  2,  8,\n",
              "        0,  0,  1,  5,  1,  9,  5,  5,  1,  9,  2, -1,  0,  7,  2,  2,  2,\n",
              "        0,  1,  2, -1,  0,  5,  7,  0, 10,  8,  2,  7,  1, 11,  2,  1,  5,\n",
              "        2,  7, -1,  1,  1,  9,  1,  5,  1,  5,  1,  1,  1,  5,  2,  1,  1,\n",
              "        9,  8,  5, -1, 10, -1,  2,  2,  5,  2,  5,  2,  2,  9,  1,  1,  9,\n",
              "        1,  1,  8,  3,  2,  4, -1,  2,  1,  5,  5,  5,  2,  1,  2,  2,  6,\n",
              "        1,  2,  2,  0,  2, -1,  0,  0,  1,  1,  5,  1,  3,  8,  0,  1,  9,\n",
              "        1,  2,  2,  1,  9,  5,  2,  2,  5,  2,  2,  2,  7,  1,  1,  2,  1,\n",
              "        6,  6,  5, -1,  5,  5,  5,  5,  2,  8, 10,  1,  1,  7,  1,  9,  9,\n",
              "        5,  6,  1,  1,  1, 11,  5,  2,  2,  2,  9,  0,  5,  2, 11,  5,  9,\n",
              "       -1,  2,  2, -1,  1,  3,  1,  5,  1,  2,  9,  2,  2,  0,  7,  2,  6,\n",
              "        1,  2,  9,  1,  1,  7,  8,  1,  2,  1,  1,  5,  9,  9,  5,  5,  9,\n",
              "       -1,  7,  2,  2, -1,  1,  1,  1,  2,  2, -1,  1,  6, -1,  6,  7,  7,\n",
              "        1, -1,  9,  1, -1,  2, -1,  5,  5,  9,  1,  1, -1,  8,  7,  6,  9,\n",
              "        5,  2,  0,  1,  2,  7,  7,  4,  1,  2,  1,  6,  5,  2,  5,  3, 11,\n",
              "        8,  1, -1,  1, -1,  0,  2,  7,  7,  1,  9,  7,  5,  5,  7,  1,  0,\n",
              "        5,  1,  3,  1,  2,  4,  5,  2,  5,  2,  3,  2,  2,  2,  9,  6, -1,\n",
              "       -1,  2,  7,  6,  1, -1,  1, -1,  0,  2,  1,  1,  1,  1,  1,  1,  1,\n",
              "        6,  2,  7,  1,  2,  4,  2,  5,  0,  2,  0, -1,  1,  2,  1,  5,  9,\n",
              "        0,  1,  5,  9,  5, -1,  9,  3,  7,  1,  0,  1,  6,  9,  5,  1,  1,\n",
              "        1,  5,  8,  1,  2,  2,  1,  5,  7,  1,  9, -1,  7,  2,  1, -1,  9,\n",
              "        2,  2,  9,  5,  2,  1,  4,  4,  2,  7,  3,  3,  2, -1,  5,  0,  1,\n",
              "        2,  7, -1,  0,  7,  1,  5,  7, -1,  3,  2,  0,  2,  2,  2,  0, -1,\n",
              "        5,  0,  9,  1,  7,  9,  2,  0,  5,  7,  5,  1,  5,  9,  2, -1,  7,\n",
              "        1,  2,  9,  6,  2, -1,  2,  0,  2,  2,  0,  1,  5,  6,  7,  1,  2,\n",
              "        7,  6, -1,  5, -1,  1,  2,  6,  2,  7,  7,  9,  1,  2,  1,  7,  3,\n",
              "        1,  3,  1,  9,  0,  1,  5,  6,  8,  5,  5,  7,  1,  9,  7,  2,  2,\n",
              "       -1,  6,  9,  5,  5,  2,  6,  5,  5,  6,  2,  7,  1,  5,  2,  9,  2,\n",
              "        2,  2,  1,  5,  2,  2,  2,  2, -1,  2,  6,  9,  5,  3,  2,  9,  2,\n",
              "        1,  1,  7,  1,  7,  5,  7,  1,  9,  1,  5,  5,  2,  2,  9, -1,  2,\n",
              "        9, -1,  1,  2,  2,  1,  2,  0,  1,  7,  8,  8,  0,  1, -1, -1, -1,\n",
              "        5,  2,  1,  2, -1,  1,  5,  1,  4,  7,  5,  1,  2,  5,  5,  0,  0,\n",
              "        1, -1,  2,  2,  5,  2,  2,  9,  1,  6,  2,  7,  6,  5,  1,  5,  5,\n",
              "        1,  1,  1,  2,  1,  2,  2, -1,  9,  5,  9,  1,  2,  1,  0, -1,  1,\n",
              "        5,  1,  7,  1,  3,  1,  9,  2,  1,  1, -1,  9,  7,  6,  2,  7,  5,\n",
              "        1,  5, -1,  7,  9,  1,  1,  7,  5,  2,  5, -1,  5,  2,  1,  0,  9,\n",
              "        2,  1,  9,  9,  1,  2,  9,  9,  7,  1,  7,  1,  1,  2,  1,  7,  5,\n",
              "       -1,  2,  6,  7,  5, 11,  5,  0,  2,  8,  2,  2,  1,  7,  9,  1,  0,\n",
              "        5,  1,  1, -1,  5,  1, -1, -1,  5,  2,  1,  5,  2,  5,  1,  7,  5,\n",
              "        0,  2,  1,  1,  7,  7,  0,  2,  1,  9,  5,  1,  2,  0,  0,  7,  2,\n",
              "        7,  2,  7,  1,  3,  6,  1,  7,  5,  5,  1,  1,  1,  5,  1,  3,  2,\n",
              "        1,  5,  1,  1,  2, -1,  1,  9, -1,  1,  3, -1,  2,  3,  2,  2,  1,\n",
              "        9,  5,  1, -1, -1,  2,  2,  2,  0,  2,  7,  2,  0,  2,  2,  5,  1,\n",
              "        1,  5,  9, -1, -1,  1,  2,  1,  1,  9,  1,  5,  7,  0, -1,  2,  9,\n",
              "        2,  0,  5,  2,  5,  6,  7,  5,  2,  9,  2,  1,  5,  2,  1,  1,  0,\n",
              "        6,  0,  4, 11,  7,  1,  5,  1,  0,  5,  5,  6,  2,  2,  5,  2,  2,\n",
              "       -1,  9,  6,  2,  9,  1,  5,  9,  6,  2, -1,  1,  0,  5, -1,  1,  2,\n",
              "        5,  5,  2,  1,  1,  9,  7,  1,  1,  3,  1,  1,  2, -1,  1,  2,  1,\n",
              "        5,  5, -1, -1,  1,  3,  7,  5,  5,  7,  2,  7,  1,  5,  2,  0, -1,\n",
              "        9,  1,  2,  1,  7,  1,  9,  2,  0,  2,  2,  2,  1,  1,  9,  2, -1,\n",
              "        1,  5,  8,  5,  5,  1,  0,  2,  2,  1,  2,  7,  2,  1,  1,  1,  1,\n",
              "        7,  2, -1,  2,  6,  5,  5, -1,  1,  3,  5,  2, 11,  2,  7, -1,  1,\n",
              "        1, -1,  2,  5,  2,  5,  5,  0,  7,  1,  0,  1,  7,  0,  2,  7,  9,\n",
              "        2,  5,  1,  5,  1,  1,  2,  5,  2,  1, -1,  0,  0,  5])"
            ]
          },
          "metadata": {},
          "execution_count": 53
        }
      ]
    },
    {
      "cell_type": "markdown",
      "source": [
        "일부 샘플의 클러스터 인덱스는 -1인데, 이는 알고리즘이 이 샘플을 이상치로 판단했다는 의미"
      ],
      "metadata": {
        "id": "5wlYRO3oM-71"
      }
    },
    {
      "cell_type": "code",
      "source": [
        "len(dbscan.core_sample_indices_)"
      ],
      "metadata": {
        "colab": {
          "base_uri": "https://localhost:8080/"
        },
        "id": "yPaAx6dkwXQb",
        "outputId": "68331023-5d82-4861-b956-a284b00b5db1"
      },
      "execution_count": null,
      "outputs": [
        {
          "output_type": "execute_result",
          "data": {
            "text/plain": [
              "755"
            ]
          },
          "metadata": {},
          "execution_count": 54
        }
      ]
    },
    {
      "cell_type": "code",
      "source": [
        "# 핵심 샘플의 인덱스\n",
        "dbscan.core_sample_indices_"
      ],
      "metadata": {
        "colab": {
          "base_uri": "https://localhost:8080/"
        },
        "id": "ItlHVJKDwXOY",
        "outputId": "7991f171-a8c9-4aba-8b5a-f34d548195a5"
      },
      "execution_count": null,
      "outputs": [
        {
          "output_type": "execute_result",
          "data": {
            "text/plain": [
              "array([  0,   1,   2,   3,   4,   7,   8,  10,  11,  12,  13,  15,  17,\n",
              "        18,  19,  20,  21,  22,  23,  24,  25,  26,  27,  28,  30,  31,\n",
              "        32,  34,  35,  36,  37,  38,  40,  42,  44,  47,  48,  50,  51,\n",
              "        52,  53,  55,  56,  57,  58,  59,  60,  62,  65,  68,  70,  71,\n",
              "        72,  73,  75,  77,  78,  79,  80,  81,  82,  83,  84,  85,  87,\n",
              "        88,  89,  90,  91,  92,  93,  94,  95,  96,  97, 100, 102, 103,\n",
              "       104, 105, 107, 109, 110, 111, 112, 114, 115, 116, 117, 118, 119,\n",
              "       120, 121, 123, 124, 125, 127, 130, 131, 132, 133, 134, 135, 136,\n",
              "       137, 139, 140, 141, 142, 144, 145, 146, 147, 148, 151, 152, 153,\n",
              "       154, 155, 159, 160, 161, 162, 163, 164, 165, 166, 167, 168, 169,\n",
              "       171, 173, 174, 175, 177, 178, 179, 182, 183, 184, 185, 186, 187,\n",
              "       188, 189, 191, 193, 195, 196, 197, 198, 199, 201, 203, 206, 207,\n",
              "       208, 209, 210, 211, 212, 213, 214, 215, 216, 217, 218, 219, 220,\n",
              "       221, 223, 225, 226, 227, 228, 229, 230, 232, 233, 234, 236, 237,\n",
              "       238, 240, 241, 242, 243, 245, 246, 249, 251, 252, 253, 254, 256,\n",
              "       257, 259, 260, 261, 263, 264, 265, 266, 267, 268, 269, 270, 271,\n",
              "       272, 273, 274, 275, 276, 278, 279, 280, 281, 282, 283, 284, 285,\n",
              "       287, 288, 290, 292, 294, 295, 296, 297, 298, 300, 301, 304, 306,\n",
              "       308, 309, 311, 313, 314, 315, 316, 317, 319, 320, 321, 322, 324,\n",
              "       325, 326, 327, 328, 329, 331, 332, 333, 334, 335, 336, 337, 338,\n",
              "       339, 340, 341, 343, 345, 347, 348, 349, 350, 352, 353, 354, 355,\n",
              "       356, 357, 358, 359, 361, 362, 363, 364, 365, 366, 367, 368, 369,\n",
              "       370, 371, 375, 376, 378, 380, 383, 384, 385, 386, 388, 389, 390,\n",
              "       391, 392, 393, 394, 395, 397, 398, 399, 400, 401, 405, 406, 407,\n",
              "       408, 410, 412, 414, 415, 417, 418, 419, 420, 421, 422, 423, 424,\n",
              "       425, 426, 427, 428, 429, 430, 431, 432, 434, 435, 437, 438, 439,\n",
              "       443, 444, 446, 447, 449, 450, 452, 454, 456, 457, 460, 464, 465,\n",
              "       466, 468, 469, 471, 472, 473, 474, 476, 477, 478, 479, 480, 481,\n",
              "       482, 483, 484, 485, 486, 487, 489, 490, 492, 493, 495, 497, 499,\n",
              "       501, 503, 504, 505, 507, 508, 509, 510, 511, 513, 516, 517, 518,\n",
              "       519, 520, 521, 522, 523, 524, 525, 527, 528, 530, 531, 532, 534,\n",
              "       535, 536, 538, 539, 540, 541, 542, 543, 545, 547, 548, 549, 551,\n",
              "       552, 553, 554, 555, 556, 557, 558, 560, 562, 563, 564, 565, 566,\n",
              "       567, 570, 571, 572, 574, 575, 576, 578, 579, 581, 582, 583, 584,\n",
              "       585, 586, 587, 588, 589, 590, 591, 594, 595, 597, 598, 599, 600,\n",
              "       601, 602, 603, 604, 607, 608, 612, 613, 614, 615, 617, 618, 619,\n",
              "       620, 621, 622, 625, 626, 627, 628, 629, 631, 632, 634, 635, 636,\n",
              "       637, 638, 639, 640, 641, 642, 643, 644, 645, 646, 647, 649, 650,\n",
              "       651, 652, 654, 655, 657, 658, 659, 660, 662, 663, 665, 666, 667,\n",
              "       668, 669, 670, 672, 674, 675, 676, 679, 681, 683, 684, 685, 686,\n",
              "       687, 688, 689, 690, 692, 693, 694, 695, 696, 697, 699, 700, 703,\n",
              "       704, 705, 706, 707, 708, 709, 710, 711, 712, 713, 715, 716, 717,\n",
              "       718, 719, 720, 722, 723, 724, 728, 729, 730, 732, 733, 735, 736,\n",
              "       739, 740, 741, 742, 744, 745, 746, 747, 749, 750, 751, 753, 754,\n",
              "       755, 756, 757, 759, 762, 763, 766, 767, 768, 769, 770, 771, 773,\n",
              "       774, 775, 776, 777, 778, 779, 780, 781, 783, 784, 785, 786, 788,\n",
              "       789, 791, 792, 794, 795, 796, 797, 798, 799, 801, 804, 805, 806,\n",
              "       807, 808, 809, 810, 811, 812, 813, 814, 815, 818, 821, 825, 826,\n",
              "       827, 828, 829, 831, 832, 833, 834, 835, 836, 837, 838, 839, 840,\n",
              "       843, 844, 845, 846, 847, 848, 849, 850, 851, 852, 854, 855, 856,\n",
              "       857, 859, 860, 861, 862, 863, 864, 865, 866, 868, 869, 870, 871,\n",
              "       873, 874, 875, 876, 878, 879, 880, 882, 884, 885, 886, 887, 889,\n",
              "       890, 891, 893, 894, 896, 898, 899, 900, 901, 905, 906, 907, 908,\n",
              "       909, 910, 911, 912, 913, 914, 915, 918, 919, 920, 921, 922, 923,\n",
              "       924, 925, 926, 927, 928, 929, 930, 931, 932, 933, 935, 939, 941,\n",
              "       942, 943, 944, 946, 948, 949, 950, 951, 952, 953, 955, 956, 957,\n",
              "       958, 963, 964, 965, 966, 968, 971, 973, 975, 977, 978, 979, 980,\n",
              "       981, 982, 986, 987, 988, 989, 990, 991, 992, 993, 994, 997, 998,\n",
              "       999])"
            ]
          },
          "metadata": {},
          "execution_count": 55
        }
      ]
    },
    {
      "cell_type": "code",
      "source": [
        "dbscan.components_"
      ],
      "metadata": {
        "colab": {
          "base_uri": "https://localhost:8080/"
        },
        "id": "Jtvro7-3wXMd",
        "outputId": "d7cffd62-825e-44ff-bfc8-c95434629ac6"
      },
      "execution_count": null,
      "outputs": [
        {
          "output_type": "execute_result",
          "data": {
            "text/plain": [
              "array([[ 0.07394844,  0.10392376],\n",
              "       [ 1.33858367, -0.35769407],\n",
              "       [ 0.57570692,  0.78736038],\n",
              "       ...,\n",
              "       [ 0.04786216,  0.40253932],\n",
              "       [ 0.14413933,  0.11846152],\n",
              "       [ 1.8049536 , -0.03260393]])"
            ]
          },
          "metadata": {},
          "execution_count": 56
        }
      ]
    },
    {
      "cell_type": "code",
      "source": [
        "from sklearn.neighbors import KNeighborsClassifier\n",
        "\n",
        "knn=KNeighborsClassifier(n_neighbors=50)\n",
        "knn.fit(dbscan.components_, dbscan.labels_[dbscan.core_sample_indices_])"
      ],
      "metadata": {
        "colab": {
          "base_uri": "https://localhost:8080/",
          "height": 74
        },
        "id": "xJpqkoexyF6U",
        "outputId": "67473b62-8aab-4f5c-b802-ad7c14994ed9"
      },
      "execution_count": null,
      "outputs": [
        {
          "output_type": "execute_result",
          "data": {
            "text/plain": [
              "KNeighborsClassifier(n_neighbors=50)"
            ],
            "text/html": [
              "<style>#sk-container-id-9 {color: black;background-color: white;}#sk-container-id-9 pre{padding: 0;}#sk-container-id-9 div.sk-toggleable {background-color: white;}#sk-container-id-9 label.sk-toggleable__label {cursor: pointer;display: block;width: 100%;margin-bottom: 0;padding: 0.3em;box-sizing: border-box;text-align: center;}#sk-container-id-9 label.sk-toggleable__label-arrow:before {content: \"▸\";float: left;margin-right: 0.25em;color: #696969;}#sk-container-id-9 label.sk-toggleable__label-arrow:hover:before {color: black;}#sk-container-id-9 div.sk-estimator:hover label.sk-toggleable__label-arrow:before {color: black;}#sk-container-id-9 div.sk-toggleable__content {max-height: 0;max-width: 0;overflow: hidden;text-align: left;background-color: #f0f8ff;}#sk-container-id-9 div.sk-toggleable__content pre {margin: 0.2em;color: black;border-radius: 0.25em;background-color: #f0f8ff;}#sk-container-id-9 input.sk-toggleable__control:checked~div.sk-toggleable__content {max-height: 200px;max-width: 100%;overflow: auto;}#sk-container-id-9 input.sk-toggleable__control:checked~label.sk-toggleable__label-arrow:before {content: \"▾\";}#sk-container-id-9 div.sk-estimator input.sk-toggleable__control:checked~label.sk-toggleable__label {background-color: #d4ebff;}#sk-container-id-9 div.sk-label input.sk-toggleable__control:checked~label.sk-toggleable__label {background-color: #d4ebff;}#sk-container-id-9 input.sk-hidden--visually {border: 0;clip: rect(1px 1px 1px 1px);clip: rect(1px, 1px, 1px, 1px);height: 1px;margin: -1px;overflow: hidden;padding: 0;position: absolute;width: 1px;}#sk-container-id-9 div.sk-estimator {font-family: monospace;background-color: #f0f8ff;border: 1px dotted black;border-radius: 0.25em;box-sizing: border-box;margin-bottom: 0.5em;}#sk-container-id-9 div.sk-estimator:hover {background-color: #d4ebff;}#sk-container-id-9 div.sk-parallel-item::after {content: \"\";width: 100%;border-bottom: 1px solid gray;flex-grow: 1;}#sk-container-id-9 div.sk-label:hover label.sk-toggleable__label {background-color: #d4ebff;}#sk-container-id-9 div.sk-serial::before {content: \"\";position: absolute;border-left: 1px solid gray;box-sizing: border-box;top: 0;bottom: 0;left: 50%;z-index: 0;}#sk-container-id-9 div.sk-serial {display: flex;flex-direction: column;align-items: center;background-color: white;padding-right: 0.2em;padding-left: 0.2em;position: relative;}#sk-container-id-9 div.sk-item {position: relative;z-index: 1;}#sk-container-id-9 div.sk-parallel {display: flex;align-items: stretch;justify-content: center;background-color: white;position: relative;}#sk-container-id-9 div.sk-item::before, #sk-container-id-9 div.sk-parallel-item::before {content: \"\";position: absolute;border-left: 1px solid gray;box-sizing: border-box;top: 0;bottom: 0;left: 50%;z-index: -1;}#sk-container-id-9 div.sk-parallel-item {display: flex;flex-direction: column;z-index: 1;position: relative;background-color: white;}#sk-container-id-9 div.sk-parallel-item:first-child::after {align-self: flex-end;width: 50%;}#sk-container-id-9 div.sk-parallel-item:last-child::after {align-self: flex-start;width: 50%;}#sk-container-id-9 div.sk-parallel-item:only-child::after {width: 0;}#sk-container-id-9 div.sk-dashed-wrapped {border: 1px dashed gray;margin: 0 0.4em 0.5em 0.4em;box-sizing: border-box;padding-bottom: 0.4em;background-color: white;}#sk-container-id-9 div.sk-label label {font-family: monospace;font-weight: bold;display: inline-block;line-height: 1.2em;}#sk-container-id-9 div.sk-label-container {text-align: center;}#sk-container-id-9 div.sk-container {/* jupyter's `normalize.less` sets `[hidden] { display: none; }` but bootstrap.min.css set `[hidden] { display: none !important; }` so we also need the `!important` here to be able to override the default hidden behavior on the sphinx rendered scikit-learn.org. See: https://github.com/scikit-learn/scikit-learn/issues/21755 */display: inline-block !important;position: relative;}#sk-container-id-9 div.sk-text-repr-fallback {display: none;}</style><div id=\"sk-container-id-9\" class=\"sk-top-container\"><div class=\"sk-text-repr-fallback\"><pre>KNeighborsClassifier(n_neighbors=50)</pre><b>In a Jupyter environment, please rerun this cell to show the HTML representation or trust the notebook. <br />On GitHub, the HTML representation is unable to render, please try loading this page with nbviewer.org.</b></div><div class=\"sk-container\" hidden><div class=\"sk-item\"><div class=\"sk-estimator sk-toggleable\"><input class=\"sk-toggleable__control sk-hidden--visually\" id=\"sk-estimator-id-14\" type=\"checkbox\" checked><label for=\"sk-estimator-id-14\" class=\"sk-toggleable__label sk-toggleable__label-arrow\">KNeighborsClassifier</label><div class=\"sk-toggleable__content\"><pre>KNeighborsClassifier(n_neighbors=50)</pre></div></div></div></div></div>"
            ]
          },
          "metadata": {},
          "execution_count": 75
        }
      ]
    },
    {
      "cell_type": "code",
      "source": [
        "X_new=np.array([[-0.5, 0], [0, 0.5], [1, -0.1], [2,1]])\n",
        "knn.predict(X_new)"
      ],
      "metadata": {
        "colab": {
          "base_uri": "https://localhost:8080/"
        },
        "id": "ul_kBKWQyF4q",
        "outputId": "79dcf26a-3e82-4088-dedb-e22e462e5275"
      },
      "execution_count": null,
      "outputs": [
        {
          "output_type": "execute_result",
          "data": {
            "text/plain": [
              "array([6, 0, 3, 5])"
            ]
          },
          "metadata": {},
          "execution_count": 58
        }
      ]
    },
    {
      "cell_type": "code",
      "source": [
        "y_dist, y_pred_idx=knn.kneighbors(X_new, n_neighbors=1)\n",
        "y_pred=dbscan.labels_[dbscan.core_sample_indices_][y_pred_idx]\n",
        "y_pred[y_dist>0.2]=-1\n",
        "y_pred.ravel()"
      ],
      "metadata": {
        "colab": {
          "base_uri": "https://localhost:8080/"
        },
        "id": "owS2iF_syF27",
        "outputId": "3ce0a148-6503-4f8d-8ec5-6e3d7e38c697"
      },
      "execution_count": null,
      "outputs": [
        {
          "output_type": "execute_result",
          "data": {
            "text/plain": [
              "array([-1,  0,  3, -1])"
            ]
          },
          "metadata": {},
          "execution_count": 59
        }
      ]
    },
    {
      "cell_type": "markdown",
      "source": [
        "DBSCAN은 매우 간단하지만 강력한 알고리즘임.\n",
        "\n",
        "클러스터의 모양과 개수에 상관없이 감지할 수 있는 능력이 있음.\n",
        "\n",
        "이상치에 안정적이고 하이퍼파라미터가 두개뿐임"
      ],
      "metadata": {
        "id": "3sAv9uQ8NUxv"
      }
    },
    {
      "cell_type": "markdown",
      "source": [
        "###9.1.7. 다른 군집 알고리즘"
      ],
      "metadata": {
        "id": "iypT5KihNcgx"
      }
    },
    {
      "cell_type": "markdown",
      "source": [
        "1. 병합 군집\n",
        "2. BIRCH\n",
        "3. 평균-이동\n",
        "4. 유사도 전파\n",
        "5. 스펙트럼 군집"
      ],
      "metadata": {
        "id": "N6W-I15DNeSU"
      }
    },
    {
      "cell_type": "markdown",
      "source": [
        "##9.2. 가우시안 혼합"
      ],
      "metadata": {
        "id": "xZc3DsZ9Ns__"
      }
    },
    {
      "cell_type": "code",
      "source": [
        "from sklearn.mixture import GaussianMixture\n",
        "\n",
        "gm = GaussianMixture(n_components=3, n_init=10)\n",
        "gm.fit(X)"
      ],
      "metadata": {
        "colab": {
          "base_uri": "https://localhost:8080/",
          "height": 74
        },
        "id": "VGeCPZGZyF0g",
        "outputId": "f245979b-9437-49ab-aa30-0e41b5d87881"
      },
      "execution_count": null,
      "outputs": [
        {
          "output_type": "execute_result",
          "data": {
            "text/plain": [
              "GaussianMixture(n_components=3, n_init=10)"
            ],
            "text/html": [
              "<style>#sk-container-id-8 {color: black;background-color: white;}#sk-container-id-8 pre{padding: 0;}#sk-container-id-8 div.sk-toggleable {background-color: white;}#sk-container-id-8 label.sk-toggleable__label {cursor: pointer;display: block;width: 100%;margin-bottom: 0;padding: 0.3em;box-sizing: border-box;text-align: center;}#sk-container-id-8 label.sk-toggleable__label-arrow:before {content: \"▸\";float: left;margin-right: 0.25em;color: #696969;}#sk-container-id-8 label.sk-toggleable__label-arrow:hover:before {color: black;}#sk-container-id-8 div.sk-estimator:hover label.sk-toggleable__label-arrow:before {color: black;}#sk-container-id-8 div.sk-toggleable__content {max-height: 0;max-width: 0;overflow: hidden;text-align: left;background-color: #f0f8ff;}#sk-container-id-8 div.sk-toggleable__content pre {margin: 0.2em;color: black;border-radius: 0.25em;background-color: #f0f8ff;}#sk-container-id-8 input.sk-toggleable__control:checked~div.sk-toggleable__content {max-height: 200px;max-width: 100%;overflow: auto;}#sk-container-id-8 input.sk-toggleable__control:checked~label.sk-toggleable__label-arrow:before {content: \"▾\";}#sk-container-id-8 div.sk-estimator input.sk-toggleable__control:checked~label.sk-toggleable__label {background-color: #d4ebff;}#sk-container-id-8 div.sk-label input.sk-toggleable__control:checked~label.sk-toggleable__label {background-color: #d4ebff;}#sk-container-id-8 input.sk-hidden--visually {border: 0;clip: rect(1px 1px 1px 1px);clip: rect(1px, 1px, 1px, 1px);height: 1px;margin: -1px;overflow: hidden;padding: 0;position: absolute;width: 1px;}#sk-container-id-8 div.sk-estimator {font-family: monospace;background-color: #f0f8ff;border: 1px dotted black;border-radius: 0.25em;box-sizing: border-box;margin-bottom: 0.5em;}#sk-container-id-8 div.sk-estimator:hover {background-color: #d4ebff;}#sk-container-id-8 div.sk-parallel-item::after {content: \"\";width: 100%;border-bottom: 1px solid gray;flex-grow: 1;}#sk-container-id-8 div.sk-label:hover label.sk-toggleable__label {background-color: #d4ebff;}#sk-container-id-8 div.sk-serial::before {content: \"\";position: absolute;border-left: 1px solid gray;box-sizing: border-box;top: 0;bottom: 0;left: 50%;z-index: 0;}#sk-container-id-8 div.sk-serial {display: flex;flex-direction: column;align-items: center;background-color: white;padding-right: 0.2em;padding-left: 0.2em;position: relative;}#sk-container-id-8 div.sk-item {position: relative;z-index: 1;}#sk-container-id-8 div.sk-parallel {display: flex;align-items: stretch;justify-content: center;background-color: white;position: relative;}#sk-container-id-8 div.sk-item::before, #sk-container-id-8 div.sk-parallel-item::before {content: \"\";position: absolute;border-left: 1px solid gray;box-sizing: border-box;top: 0;bottom: 0;left: 50%;z-index: -1;}#sk-container-id-8 div.sk-parallel-item {display: flex;flex-direction: column;z-index: 1;position: relative;background-color: white;}#sk-container-id-8 div.sk-parallel-item:first-child::after {align-self: flex-end;width: 50%;}#sk-container-id-8 div.sk-parallel-item:last-child::after {align-self: flex-start;width: 50%;}#sk-container-id-8 div.sk-parallel-item:only-child::after {width: 0;}#sk-container-id-8 div.sk-dashed-wrapped {border: 1px dashed gray;margin: 0 0.4em 0.5em 0.4em;box-sizing: border-box;padding-bottom: 0.4em;background-color: white;}#sk-container-id-8 div.sk-label label {font-family: monospace;font-weight: bold;display: inline-block;line-height: 1.2em;}#sk-container-id-8 div.sk-label-container {text-align: center;}#sk-container-id-8 div.sk-container {/* jupyter's `normalize.less` sets `[hidden] { display: none; }` but bootstrap.min.css set `[hidden] { display: none !important; }` so we also need the `!important` here to be able to override the default hidden behavior on the sphinx rendered scikit-learn.org. See: https://github.com/scikit-learn/scikit-learn/issues/21755 */display: inline-block !important;position: relative;}#sk-container-id-8 div.sk-text-repr-fallback {display: none;}</style><div id=\"sk-container-id-8\" class=\"sk-top-container\"><div class=\"sk-text-repr-fallback\"><pre>GaussianMixture(n_components=3, n_init=10)</pre><b>In a Jupyter environment, please rerun this cell to show the HTML representation or trust the notebook. <br />On GitHub, the HTML representation is unable to render, please try loading this page with nbviewer.org.</b></div><div class=\"sk-container\" hidden><div class=\"sk-item\"><div class=\"sk-estimator sk-toggleable\"><input class=\"sk-toggleable__control sk-hidden--visually\" id=\"sk-estimator-id-13\" type=\"checkbox\" checked><label for=\"sk-estimator-id-13\" class=\"sk-toggleable__label sk-toggleable__label-arrow\">GaussianMixture</label><div class=\"sk-toggleable__content\"><pre>GaussianMixture(n_components=3, n_init=10)</pre></div></div></div></div></div>"
            ]
          },
          "metadata": {},
          "execution_count": 60
        }
      ]
    },
    {
      "cell_type": "markdown",
      "source": [
        "알고리즘이 추정한 파라미터 확인"
      ],
      "metadata": {
        "id": "QpQmuIAwOJGI"
      }
    },
    {
      "cell_type": "code",
      "source": [
        "gm.weights_"
      ],
      "metadata": {
        "colab": {
          "base_uri": "https://localhost:8080/"
        },
        "id": "R6F1wXcqyFye",
        "outputId": "ffccf4d6-d360-4d1d-d622-7e2e77b9bc80"
      },
      "execution_count": null,
      "outputs": [
        {
          "output_type": "execute_result",
          "data": {
            "text/plain": [
              "array([0.57951547, 0.20312117, 0.21736335])"
            ]
          },
          "metadata": {},
          "execution_count": 61
        }
      ]
    },
    {
      "cell_type": "code",
      "source": [
        "gm.means_"
      ],
      "metadata": {
        "colab": {
          "base_uri": "https://localhost:8080/"
        },
        "id": "BA1bCRHKyFwv",
        "outputId": "116b8704-e479-425a-a380-1e373a0ff0bd"
      },
      "execution_count": null,
      "outputs": [
        {
          "output_type": "execute_result",
          "data": {
            "text/plain": [
              "array([[ 0.51868096,  0.23223134],\n",
              "       [ 1.74725283, -0.0626098 ],\n",
              "       [-0.70711848,  0.58622107]])"
            ]
          },
          "metadata": {},
          "execution_count": 62
        }
      ]
    },
    {
      "cell_type": "code",
      "source": [
        "gm.covariances_"
      ],
      "metadata": {
        "colab": {
          "base_uri": "https://localhost:8080/"
        },
        "id": "IIIA9Fh5yFvT",
        "outputId": "f327aa92-4c2f-4d75-f472-4b339065199b"
      },
      "execution_count": null,
      "outputs": [
        {
          "output_type": "execute_result",
          "data": {
            "text/plain": [
              "array([[[ 0.16294112, -0.09170818],\n",
              "        [-0.09170818,  0.28322458]],\n",
              "\n",
              "       [[ 0.05155359,  0.05984538],\n",
              "        [ 0.05984538,  0.08469237]],\n",
              "\n",
              "       [[ 0.06815812,  0.07158866],\n",
              "        [ 0.07158866,  0.09292307]]])"
            ]
          },
          "metadata": {},
          "execution_count": 63
        }
      ]
    },
    {
      "cell_type": "code",
      "source": [
        "gm.converged_"
      ],
      "metadata": {
        "colab": {
          "base_uri": "https://localhost:8080/"
        },
        "id": "L2u0GQYKyFtN",
        "outputId": "61e77957-3c84-4e1b-a9e5-66b0cf639c21"
      },
      "execution_count": null,
      "outputs": [
        {
          "output_type": "execute_result",
          "data": {
            "text/plain": [
              "True"
            ]
          },
          "metadata": {},
          "execution_count": 64
        }
      ]
    },
    {
      "cell_type": "code",
      "source": [
        "gm.n_iter_"
      ],
      "metadata": {
        "colab": {
          "base_uri": "https://localhost:8080/"
        },
        "id": "skrvoGPjyFrP",
        "outputId": "315e5894-7ecc-4062-8ef2-07af41a9c620"
      },
      "execution_count": null,
      "outputs": [
        {
          "output_type": "execute_result",
          "data": {
            "text/plain": [
              "19"
            ]
          },
          "metadata": {},
          "execution_count": 65
        }
      ]
    },
    {
      "cell_type": "code",
      "source": [
        "gm.predict(X)"
      ],
      "metadata": {
        "colab": {
          "base_uri": "https://localhost:8080/"
        },
        "id": "J8h4M0pAyFpN",
        "outputId": "25b5ca78-18a7-48c1-d7da-9d13bd999093"
      },
      "execution_count": null,
      "outputs": [
        {
          "output_type": "execute_result",
          "data": {
            "text/plain": [
              "array([0, 1, 0, 0, 2, 0, 0, 1, 2, 1, 0, 0, 1, 2, 2, 0, 0, 2, 0, 0, 0, 0,\n",
              "       0, 2, 1, 1, 2, 0, 0, 1, 0, 0, 1, 0, 0, 1, 0, 0, 2, 2, 0, 0, 0, 2,\n",
              "       2, 1, 1, 2, 0, 0, 0, 2, 0, 0, 2, 0, 2, 2, 0, 1, 2, 1, 0, 1, 0, 1,\n",
              "       2, 0, 0, 0, 1, 0, 0, 1, 0, 2, 0, 0, 0, 0, 2, 0, 0, 0, 1, 2, 0, 0,\n",
              "       0, 0, 0, 0, 2, 2, 0, 0, 2, 2, 0, 1, 0, 0, 0, 0, 0, 1, 1, 2, 1, 1,\n",
              "       0, 2, 0, 0, 0, 0, 0, 0, 0, 0, 0, 0, 1, 0, 1, 2, 0, 1, 0, 0, 2, 0,\n",
              "       0, 0, 0, 1, 0, 2, 1, 1, 1, 2, 0, 1, 0, 1, 0, 0, 0, 1, 0, 0, 0, 2,\n",
              "       0, 1, 0, 1, 0, 0, 0, 1, 0, 1, 0, 0, 2, 0, 1, 2, 0, 0, 0, 0, 0, 2,\n",
              "       2, 0, 0, 1, 1, 1, 0, 0, 0, 0, 2, 0, 0, 0, 0, 0, 1, 0, 0, 0, 0, 1,\n",
              "       0, 0, 0, 0, 0, 2, 0, 0, 0, 1, 2, 1, 0, 0, 1, 0, 0, 0, 2, 0, 1, 0,\n",
              "       1, 2, 2, 1, 1, 1, 1, 1, 1, 0, 0, 1, 1, 0, 2, 1, 2, 2, 1, 2, 0, 0,\n",
              "       0, 0, 1, 0, 0, 0, 2, 0, 1, 0, 0, 1, 2, 2, 0, 0, 1, 0, 0, 0, 1, 0,\n",
              "       0, 2, 0, 0, 0, 2, 0, 2, 0, 0, 2, 0, 0, 2, 0, 0, 0, 0, 0, 1, 2, 2,\n",
              "       1, 1, 2, 1, 2, 0, 0, 1, 0, 0, 0, 0, 0, 2, 1, 2, 1, 2, 2, 2, 0, 2,\n",
              "       2, 1, 0, 0, 0, 1, 1, 2, 0, 0, 1, 0, 2, 2, 2, 1, 0, 0, 1, 0, 2, 2,\n",
              "       2, 0, 0, 0, 2, 1, 0, 1, 0, 0, 0, 0, 0, 0, 2, 0, 0, 2, 2, 0, 2, 0,\n",
              "       1, 1, 2, 1, 0, 1, 0, 0, 1, 0, 2, 1, 0, 1, 0, 0, 0, 0, 0, 2, 2, 1,\n",
              "       0, 0, 2, 2, 0, 0, 0, 2, 0, 0, 0, 0, 0, 1, 0, 0, 0, 2, 0, 2, 0, 0,\n",
              "       2, 0, 1, 0, 0, 0, 1, 0, 0, 0, 1, 2, 0, 0, 1, 2, 1, 0, 2, 0, 2, 0,\n",
              "       0, 0, 2, 2, 1, 0, 0, 0, 1, 0, 1, 0, 0, 0, 1, 2, 1, 2, 0, 2, 0, 0,\n",
              "       2, 2, 0, 0, 2, 1, 0, 0, 2, 2, 0, 2, 0, 0, 0, 0, 1, 0, 0, 0, 2, 0,\n",
              "       0, 2, 0, 1, 2, 2, 0, 0, 0, 0, 0, 0, 0, 0, 1, 0, 2, 0, 2, 2, 0, 0,\n",
              "       1, 2, 1, 0, 1, 2, 0, 0, 2, 0, 0, 2, 2, 0, 2, 0, 0, 0, 0, 0, 0, 1,\n",
              "       2, 2, 0, 0, 2, 2, 0, 1, 2, 0, 0, 2, 0, 2, 2, 2, 0, 0, 0, 2, 0, 0,\n",
              "       0, 0, 2, 0, 0, 1, 2, 0, 1, 1, 2, 0, 2, 2, 0, 0, 0, 2, 2, 1, 1, 0,\n",
              "       2, 1, 1, 2, 0, 2, 0, 1, 0, 2, 0, 0, 0, 0, 1, 0, 0, 0, 0, 2, 0, 2,\n",
              "       2, 1, 0, 0, 2, 0, 0, 1, 2, 0, 2, 1, 2, 0, 2, 0, 1, 1, 0, 0, 2, 0,\n",
              "       0, 2, 0, 0, 0, 0, 0, 0, 0, 0, 2, 0, 0, 0, 0, 2, 1, 0, 1, 0, 0, 0,\n",
              "       0, 0, 1, 0, 2, 0, 1, 0, 0, 1, 1, 0, 0, 0, 0, 0, 0, 1, 0, 0, 2, 0,\n",
              "       2, 0, 2, 2, 1, 0, 1, 1, 0, 1, 1, 0, 0, 0, 0, 1, 2, 1, 2, 0, 0, 0,\n",
              "       0, 0, 0, 1, 0, 2, 1, 0, 0, 2, 0, 0, 0, 2, 2, 2, 2, 0, 2, 1, 0, 1,\n",
              "       0, 2, 2, 0, 0, 2, 1, 0, 1, 0, 1, 0, 0, 0, 2, 0, 0, 2, 2, 0, 0, 2,\n",
              "       2, 2, 0, 2, 0, 0, 0, 0, 2, 1, 0, 0, 2, 2, 1, 0, 1, 0, 0, 0, 0, 0,\n",
              "       0, 2, 2, 0, 0, 1, 0, 0, 0, 1, 0, 2, 0, 1, 0, 0, 1, 0, 1, 0, 2, 1,\n",
              "       0, 0, 0, 0, 2, 2, 0, 0, 0, 2, 1, 0, 0, 0, 0, 2, 0, 2, 0, 2, 0, 0,\n",
              "       2, 1, 2, 1, 1, 1, 0, 0, 1, 0, 0, 0, 0, 1, 0, 1, 0, 2, 0, 2, 0, 0,\n",
              "       0, 1, 0, 0, 0, 0, 0, 2, 1, 0, 1, 0, 0, 0, 0, 0, 0, 2, 0, 0, 0, 0,\n",
              "       1, 0, 0, 1, 2, 2, 1, 0, 0, 0, 0, 2, 0, 1, 2, 0, 0, 0, 2, 0, 0, 1,\n",
              "       0, 1, 2, 2, 1, 0, 2, 0, 0, 1, 0, 1, 0, 0, 2, 0, 2, 0, 0, 0, 1, 0,\n",
              "       0, 1, 1, 2, 0, 0, 1, 0, 0, 0, 2, 2, 0, 2, 1, 1, 2, 2, 0, 0, 0, 0,\n",
              "       1, 0, 0, 0, 1, 1, 0, 0, 0, 2, 2, 0, 0, 0, 1, 0, 0, 2, 0, 0, 0, 1,\n",
              "       1, 2, 0, 0, 0, 0, 1, 1, 2, 0, 2, 1, 1, 0, 0, 0, 2, 0, 0, 0, 2, 0,\n",
              "       2, 0, 0, 0, 0, 0, 0, 0, 2, 0, 1, 1, 1, 0, 1, 1, 0, 0, 0, 0, 0, 0,\n",
              "       2, 0, 0, 1, 1, 1, 2, 0, 0, 0, 2, 1, 1, 0, 0, 0, 1, 0, 0, 0, 2, 0,\n",
              "       0, 0, 0, 0, 1, 0, 1, 1, 0, 2, 1, 0, 0, 2, 0, 0, 2, 2, 0, 1, 0, 1,\n",
              "       0, 0, 0, 1, 0, 0, 1, 0, 0, 1])"
            ]
          },
          "metadata": {},
          "execution_count": 66
        }
      ]
    },
    {
      "cell_type": "code",
      "source": [
        "gm.predict_proba(X)"
      ],
      "metadata": {
        "colab": {
          "base_uri": "https://localhost:8080/"
        },
        "id": "VjhEDcy1yFnu",
        "outputId": "758e1645-34ca-44db-a06f-cd5259bad3ba"
      },
      "execution_count": null,
      "outputs": [
        {
          "output_type": "execute_result",
          "data": {
            "text/plain": [
              "array([[1.00000000e+000, 3.46341030e-075, 9.85459595e-023],\n",
              "       [4.22955466e-001, 5.77044534e-001, 2.50521130e-130],\n",
              "       [1.00000000e+000, 1.82041062e-075, 2.06695861e-021],\n",
              "       ...,\n",
              "       [1.00000000e+000, 5.50932278e-097, 1.34144048e-013],\n",
              "       [1.00000000e+000, 2.29115435e-070, 3.84603868e-025],\n",
              "       [1.75593549e-003, 9.98244065e-001, 8.39782697e-151]])"
            ]
          },
          "metadata": {},
          "execution_count": 67
        }
      ]
    },
    {
      "cell_type": "code",
      "source": [
        "X_new, y_new = gm.sample(6)\n",
        "X_new"
      ],
      "metadata": {
        "colab": {
          "base_uri": "https://localhost:8080/"
        },
        "id": "1NmU7qiayFlQ",
        "outputId": "0266d812-6baa-4c53-c7ee-6d84571a765a"
      },
      "execution_count": null,
      "outputs": [
        {
          "output_type": "execute_result",
          "data": {
            "text/plain": [
              "array([[ 0.35069517, -0.1645142 ],\n",
              "       [ 0.04652443,  0.68059876],\n",
              "       [ 0.91902302,  0.51460023],\n",
              "       [ 0.48522285,  0.49385297],\n",
              "       [-0.39711196,  0.9709224 ],\n",
              "       [-0.76113825,  0.54171032]])"
            ]
          },
          "metadata": {},
          "execution_count": 68
        }
      ]
    },
    {
      "cell_type": "code",
      "source": [
        "y_new"
      ],
      "metadata": {
        "colab": {
          "base_uri": "https://localhost:8080/"
        },
        "id": "zIKtfwqhwXLB",
        "outputId": "f1d4bc56-1298-406e-a4ae-13f5fb1214af"
      },
      "execution_count": null,
      "outputs": [
        {
          "output_type": "execute_result",
          "data": {
            "text/plain": [
              "array([0, 0, 0, 0, 2, 2])"
            ]
          },
          "metadata": {},
          "execution_count": 69
        }
      ]
    },
    {
      "cell_type": "code",
      "source": [
        "#확률 밀도 함수의 로그 예측\n",
        "gm.score_samples(X)"
      ],
      "metadata": {
        "colab": {
          "base_uri": "https://localhost:8080/"
        },
        "id": "zrwWcms_wXJL",
        "outputId": "921b4138-4bd0-430d-cb42-c13be40845c0"
      },
      "execution_count": null,
      "outputs": [
        {
          "output_type": "execute_result",
          "data": {
            "text/plain": [
              "array([-1.66129832e+00, -1.98287168e+00, -1.49931351e+00, -1.33423192e+00,\n",
              "       -5.13588870e-01, -1.99917619e+00, -1.45061350e+00, -7.90289570e-02,\n",
              "       -7.57959443e-01, -1.29401348e+00, -2.24649433e+00, -1.75216213e+00,\n",
              "       -9.98076582e-01, -6.95712984e-01, -3.37117630e-01, -1.66783111e+00,\n",
              "       -2.21489035e+00, -8.02441580e-01, -1.82528633e+00, -1.51010960e+00,\n",
              "       -1.39183478e+00, -1.43345919e+00, -1.83383736e+00, -3.88663659e-01,\n",
              "        5.82199879e-02, -1.82702752e-01, -6.54919757e-01, -1.82341626e+00,\n",
              "       -1.37760028e+00, -5.83313832e-01, -1.42153582e+00, -1.45927575e+00,\n",
              "       -3.16538269e-02, -1.70159258e+00, -1.68221906e+00, -2.44754421e+00,\n",
              "       -1.47225226e+00, -2.24225890e+00, -3.68732445e-01, -1.15607586e+00,\n",
              "       -1.70422913e+00, -2.20021122e+00, -1.54215102e+00, -1.32202657e+00,\n",
              "       -7.41992691e-01, -1.58815954e+00,  2.89077396e-02, -1.34564764e+00,\n",
              "       -1.77420850e+00, -1.64695208e+00, -1.61244728e+00, -1.04380841e+00,\n",
              "       -1.68234469e+00, -1.55232559e+00, -2.44326387e-01, -1.54639552e+00,\n",
              "       -1.03265993e+00, -8.43564850e-01, -1.90589875e+00, -1.12706228e-01,\n",
              "       -6.82066767e-01, -1.96114250e+00, -2.01646684e+00, -3.02924785e+00,\n",
              "       -1.24972681e+00, -1.62751988e-01, -1.38113069e+00, -1.88391289e+00,\n",
              "       -1.95155377e+00, -1.36707386e+00, -7.54742239e-01, -1.61097395e+00,\n",
              "       -1.51569992e+00, -9.32067090e-02, -1.94931768e+00, -1.69181576e-01,\n",
              "       -1.97097794e+00, -1.71336376e+00, -1.96232479e+00, -1.57579660e+00,\n",
              "       -3.87996407e-01, -1.65642664e+00, -1.42421439e+00, -2.25636239e+00,\n",
              "       -4.42495548e-01, -1.46031507e+00, -2.04548678e+00, -1.92559094e+00,\n",
              "       -1.48978028e+00, -1.50075348e+00, -1.53876309e+00, -1.61396501e+00,\n",
              "       -3.79063146e-01, -2.76526218e+00, -2.13942188e+00, -1.69916691e+00,\n",
              "       -6.63221976e-01, -6.01004942e-01, -1.41237209e+00, -1.06098133e+00,\n",
              "       -1.58304837e+00, -1.53227694e+00, -1.80410552e+00, -1.56056747e+00,\n",
              "       -1.42486706e+00, -2.53614197e-01, -1.29548474e+00, -3.45309208e-01,\n",
              "       -3.03091190e+00, -1.08225767e+00, -1.43975310e+00, -3.71715222e-01,\n",
              "       -1.38059437e+00, -2.10094120e+00, -1.69491884e+00, -1.97458337e+00,\n",
              "       -1.82927160e+00, -1.87079101e+00, -1.68424259e+00, -1.70474366e+00,\n",
              "       -2.12045936e+00, -1.61221056e+00, -9.67297478e-01, -1.66517746e+00,\n",
              "       -1.83535584e-01, -8.84058788e-01, -1.97708742e+00, -1.72447330e+00,\n",
              "       -1.80711760e+00, -1.90197663e+00, -3.44930541e-01, -1.49188267e+00,\n",
              "       -1.84777137e+00, -1.80030775e+00, -1.65315590e+00, -1.12940067e-01,\n",
              "       -1.84316581e+00, -6.57285584e-01,  1.18305981e-01, -6.35585585e-01,\n",
              "       -1.85368352e+00, -3.48371638e-01, -1.57949961e+00, -2.68671945e-01,\n",
              "       -1.73226384e+00, -1.73808573e+00, -1.81401775e+00, -1.67737173e+00,\n",
              "       -1.64952082e+00,  9.89700100e-02, -1.79800135e+00, -2.20745612e+00,\n",
              "       -1.40065866e+00, -1.48779525e-01, -1.70677495e+00, -8.54154458e-01,\n",
              "       -1.32421986e+00, -1.60110036e+00, -1.28103866e+00, -1.46199396e+00,\n",
              "       -1.60375096e+00, -4.66774413e-01, -1.77069990e+00, -4.71464647e-01,\n",
              "       -1.72320991e+00, -2.16121247e+00, -1.62731693e-01, -1.60802942e+00,\n",
              "       -7.82463549e-01, -3.85214926e-01, -2.18207780e+00, -2.10141477e+00,\n",
              "       -1.76578594e+00, -1.37259657e+00, -1.76995478e+00, -5.59697486e-01,\n",
              "       -2.88806671e+00, -1.69436730e+00, -1.42975249e+00, -9.53698834e-01,\n",
              "       -2.09792981e+00, -7.48019115e-01, -2.12267702e+00, -1.43379022e+00,\n",
              "       -1.62506711e+00, -1.87712063e+00, -1.24971707e+00, -2.14102793e+00,\n",
              "       -1.57544999e+00, -1.75864291e+00, -1.77531745e+00, -1.45424095e+00,\n",
              "       -1.64794533e+00, -1.74470875e+00, -1.51115711e+00, -1.45667518e+00,\n",
              "       -1.67222866e+00,  5.44876055e-02, -1.45624003e+00, -1.40437598e+00,\n",
              "       -1.75109458e+00, -1.59880028e+00, -1.82707091e+00, -4.07438252e-01,\n",
              "       -2.34600060e+00, -1.80948935e+00, -1.64114445e+00, -6.80161628e-01,\n",
              "       -2.75472384e-01, -2.74378209e-01, -1.48139200e+00, -2.08964136e+00,\n",
              "       -9.85560392e-01, -1.65143293e+00, -1.57408656e+00, -1.67011247e+00,\n",
              "       -1.28483592e+00, -1.45389189e+00, -6.85436389e-01, -1.65419849e+00,\n",
              "       -9.14614249e-01, -1.12062722e+00, -1.30776038e+00, -8.86818213e-01,\n",
              "       -3.45696042e-01, -3.13188842e-01, -3.72052872e-01, -5.31663325e-01,\n",
              "       -2.58704607e-01, -1.53497904e+00, -1.71565318e+00, -1.79855524e+00,\n",
              "       -8.03193370e-01, -1.53745929e+00, -1.31988673e+00, -5.04550855e-01,\n",
              "       -3.27351091e-01, -9.70769684e-01, -7.48293105e-01, -2.85580697e+00,\n",
              "       -1.71995421e+00, -1.47131197e+00, -2.08190086e+00, -1.86396503e+00,\n",
              "       -1.36857995e+00, -1.83729006e+00, -1.52536618e+00, -1.19285065e+00,\n",
              "       -1.82927173e-02, -1.77661049e+00, -4.27947676e-02, -2.00451418e+00,\n",
              "       -1.86747809e+00, -1.99002524e-01, -1.95796564e-01, -1.76092602e+00,\n",
              "       -2.06053757e+00, -2.08964807e+00, -1.33344215e+00, -1.82179507e+00,\n",
              "       -1.39214385e+00, -1.60096442e+00, -3.55384611e+00, -1.67399884e+00,\n",
              "       -1.78697844e+00, -5.16768892e-01, -1.76427826e+00, -1.51604295e+00,\n",
              "       -1.64140949e+00, -4.96630901e-01, -2.14379621e+00, -1.19703339e+00,\n",
              "       -1.59029135e+00, -2.12950527e+00, -4.05973400e-01, -1.30275018e+00,\n",
              "       -1.52330803e+00, -1.85074939e+00, -1.46142027e+00, -1.71996404e+00,\n",
              "       -1.99872007e+00, -1.57105303e+00, -1.50350360e+00, -1.25753853e-01,\n",
              "       -3.12229514e-01, -7.93277562e-02, -5.37682707e-02, -2.16281178e-01,\n",
              "       -5.27925236e-01, -5.28290168e-01, -1.60285938e+00, -1.71595106e+00,\n",
              "       -2.15088949e+00,  1.04571944e-01, -2.07866854e+00, -1.62925443e+00,\n",
              "       -1.74300370e+00, -1.83462094e+00, -1.88397677e+00, -1.67754584e+00,\n",
              "       -9.11145100e-01, -1.42836162e+00, -1.13209317e+00, -3.57320887e+00,\n",
              "       -1.17153900e+00, -3.76120231e-01, -1.46110268e+00, -1.28215456e+00,\n",
              "       -4.49310661e-01, -1.58053634e+00, -1.15694387e+00, -1.62149709e+00,\n",
              "       -1.81322483e+00, -1.91387259e+00, -6.35214774e-01, -3.10531008e-01,\n",
              "       -1.55398784e+00, -1.42070960e+00, -1.04024745e+00, -1.79656344e+00,\n",
              "       -1.68740994e+00, -1.91259455e+00, -1.03712963e-01,  1.36662488e-01,\n",
              "       -1.67782738e+00, -1.81196244e+00, -6.89629019e-01, -2.05495231e+00,\n",
              "       -1.14835676e+00, -1.64109077e+00, -4.71499059e-01, -1.89523855e+00,\n",
              "       -1.56948178e+00, -1.79595079e+00, -1.78830832e+00, -1.64825400e+00,\n",
              "       -1.43846893e+00, -4.23758349e-01, -1.64980738e+00, -1.89262320e+00,\n",
              "       -1.48638520e+00, -1.82862907e+00, -1.22989032e+00, -2.16250435e+00,\n",
              "       -2.21877339e+00, -1.70180856e+00, -1.82287970e+00, -1.49113836e+00,\n",
              "       -1.84571857e+00, -1.63990886e+00, -1.62241917e-01, -2.11183017e+00,\n",
              "       -4.73604201e-01, -1.08233837e+00, -1.43375270e+00, -1.56744173e+00,\n",
              "       -1.40678652e+00, -3.86519441e-01, -1.59608258e+00, -1.31554203e+00,\n",
              "       -8.99667185e-01, -1.44559992e+00, -4.89490308e-01, -7.21920840e-01,\n",
              "       -1.56915473e+00, -1.26746558e+00, -2.03448805e+00, -1.36198608e+00,\n",
              "       -1.44800189e+00, -1.52728876e+00, -2.03333610e+00, -8.12179486e-01,\n",
              "       -8.07360181e-01, -7.18957766e-01, -1.41065825e+00, -1.50292483e+00,\n",
              "       -7.87606466e-01, -1.94268012e+00, -1.81629879e+00, -1.38322697e+00,\n",
              "       -1.75790764e+00, -5.15350944e-01, -1.53172146e+00, -1.51841710e+00,\n",
              "       -1.70825479e+00, -1.64893720e+00, -1.83006849e+00, -1.15808504e+00,\n",
              "       -1.49372417e+00, -1.62170061e+00, -1.74601533e+00, -1.23760087e+00,\n",
              "       -1.59944394e+00, -2.68345929e-01, -1.59431127e+00, -1.55346143e+00,\n",
              "       -8.32452891e-01, -2.14174600e+00, -7.41169261e-03, -1.61395448e+00,\n",
              "       -1.83472255e+00, -1.42358360e+00, -1.25404699e+00, -1.21125306e+00,\n",
              "       -1.36565511e+00, -1.96923291e+00, -1.96380850e+00, -1.73174364e-01,\n",
              "       -1.62186173e+00, -1.33616133e+00, -6.20470987e-01, -1.17560435e+00,\n",
              "       -9.35386264e-01, -1.23393309e+00, -7.37203974e-01, -1.25024718e+00,\n",
              "       -8.69433812e-01, -1.42240496e+00, -1.38325942e+00, -1.84720676e+00,\n",
              "       -8.03346347e-01, -7.92116271e-02, -2.79728465e-01, -1.81194113e+00,\n",
              "       -1.96646460e+00, -1.66129261e+00,  7.83631611e-02, -1.49328107e+00,\n",
              "       -9.16279920e-01, -1.52596097e+00, -1.27317532e+00, -2.29781476e+00,\n",
              "        8.74743596e-02, -1.49918500e+00, -9.46602493e-01, -5.16724990e-01,\n",
              "       -2.09881101e+00, -1.62913751e+00, -1.73504483e+00, -1.49338248e+00,\n",
              "       -2.10723327e+00, -1.80556881e-01, -2.16183191e+00, -1.89359449e+00,\n",
              "       -4.58940979e-01, -7.78475963e-01, -1.44617014e+00, -1.95328045e+00,\n",
              "       -7.14982932e-01, -5.40978730e-01, -1.73611484e+00, -7.17573390e-01,\n",
              "       -1.25598285e+00, -1.61841684e+00, -1.64824429e+00, -2.10285591e+00,\n",
              "       -1.28560254e-01, -1.53808627e+00, -1.86957567e+00, -1.31382553e+00,\n",
              "       -1.77333189e+00, -1.22978229e+00, -1.91007903e+00, -9.53546097e-01,\n",
              "       -1.74418334e+00, -1.26779642e+00, -2.78235858e-01, -1.64103736e-01,\n",
              "       -1.64724576e+00, -1.83061674e+00, -1.38205411e+00, -2.07210366e+00,\n",
              "       -1.69372059e+00, -2.01802532e+00, -1.59215504e+00, -1.44943648e+00,\n",
              "       -3.79929241e-01, -1.53210814e+00, -4.65343866e-01, -1.90201004e+00,\n",
              "       -6.38629185e-01, -9.12600685e-01, -1.46757311e+00, -1.64146767e+00,\n",
              "       -3.67381115e-01, -1.65396716e+00, -2.64015421e+00, -1.64703978e+00,\n",
              "       -8.96815627e-01, -1.81612486e-01, -1.67082559e+00, -1.61524052e+00,\n",
              "       -2.82384305e-01, -1.54043027e+00, -1.38714531e+00, -3.69669085e-01,\n",
              "       -1.23052502e+00, -1.49896964e+00, -1.86618377e+00, -1.61171798e+00,\n",
              "       -1.33108895e+00, -1.79469350e+00, -1.36126398e+00, -1.64450315e+00,\n",
              "       -1.85204221e+00, -5.63999457e-01, -3.11511777e+00, -8.50925073e-01,\n",
              "       -1.53129442e+00, -1.51068879e+00, -5.33077042e-01, -1.58410873e+00,\n",
              "       -2.25602021e+00,  3.01853291e-02, -2.52582594e+00, -2.23719672e+00,\n",
              "       -1.93630096e+00, -1.93028356e+00, -2.09847157e+00, -7.59325267e-01,\n",
              "       -1.13331917e+00, -9.61467943e-01, -1.86509323e+00, -1.79590135e+00,\n",
              "       -1.56063287e+00, -1.51755291e+00, -1.34928938e+00, -1.72221632e+00,\n",
              "       -1.49738116e+00, -1.85330220e+00, -1.36160774e+00, -1.48013933e+00,\n",
              "       -2.19584720e+00, -7.10300724e-01, -7.70459281e-01, -1.39063504e+00,\n",
              "       -2.16788778e-01, -8.62383215e-01, -6.46001911e-01, -1.75241841e+00,\n",
              "       -5.50136245e-02, -3.45621546e-01, -1.52591608e+00, -2.15766342e+00,\n",
              "       -2.22462492e+00, -2.94000632e+00, -7.71696389e-02, -7.20322744e-01,\n",
              "       -2.23426510e+00, -1.57481123e+00, -1.88023740e+00,  1.01050346e-01,\n",
              "       -7.76143908e-01, -1.05734347e+00, -1.51996297e+00, -5.00196498e-01,\n",
              "       -1.73164129e+00, -2.07221021e-01, -2.13309950e+00, -2.70999256e-02,\n",
              "       -1.93814930e+00, -1.32630762e+00, -1.45145457e+00, -1.48414352e+00,\n",
              "       -9.64404360e-01, -1.99543483e+00, -1.65469590e+00, -1.65991169e+00,\n",
              "       -2.16417625e+00, -1.70970824e-02, -1.91355117e+00, -1.52166004e+00,\n",
              "       -3.22477191e-01, -3.62167826e-02, -1.57169094e+00, -1.71274227e+00,\n",
              "       -1.01295157e-01, -1.80656630e+00, -1.44461822e+00, -1.05145753e+00,\n",
              "       -1.05694000e+00, -1.52719438e+00, -3.94060410e-01, -5.99210448e-01,\n",
              "       -3.41781966e-01, -1.73495931e+00, -1.57805210e-01, -1.81203925e+00,\n",
              "       -5.38272111e-01, -3.26654144e-01, -1.78863566e+00, -1.50808179e+00,\n",
              "       -7.68590123e-01, -2.06902508e+00, -1.69082326e+00, -1.45699386e+00,\n",
              "       -2.26200540e+00, -1.47884239e+00, -1.70478016e+00, -1.80326749e+00,\n",
              "       -1.58235305e+00, -1.59632341e+00, -1.52879365e+00, -1.63796685e+00,\n",
              "       -6.09426338e-01, -1.52298988e+00, -1.80133752e+00, -1.59421627e+00,\n",
              "       -2.28215624e+00, -5.43084626e+00, -1.22552213e+00, -1.25554591e+00,\n",
              "       -3.51013889e-02, -1.81469453e+00, -1.84658453e+00, -1.63171407e+00,\n",
              "       -1.96767101e+00, -1.56913751e+00, -1.05248299e+00, -1.85720459e+00,\n",
              "       -6.97535936e-01, -1.96016454e+00, -2.55308392e-01, -1.68223029e+00,\n",
              "       -1.40919773e+00, -1.63955507e-01, -7.06811372e-02, -1.49226649e+00,\n",
              "       -1.85796926e+00, -1.76985940e+00, -1.24364086e+00, -1.88268337e+00,\n",
              "       -1.41144373e+00, -1.49231823e+00, -1.57025932e+00, -1.37252645e+00,\n",
              "       -2.96581837e-01, -2.17313204e+00, -7.73075115e-01, -2.12397283e+00,\n",
              "       -6.52714879e-01, -1.35974041e+00, -3.27690008e+00, -1.74355206e+00,\n",
              "       -7.94615394e-01, -8.96634182e-02, -1.55327349e+00, -7.86824394e-01,\n",
              "       -1.29481655e+00, -1.97269457e+00, -2.25808579e+00, -1.50016960e+00,\n",
              "       -1.52509824e+00, -1.65748325e+00, -1.16475092e+00, -1.82743113e-04,\n",
              "       -1.18610240e+00, -1.65186772e+00, -1.58012677e+00, -2.30877331e+00,\n",
              "       -1.49871164e+00, -1.34717230e+00, -1.71202616e+00, -3.53772520e-01,\n",
              "       -2.25346088e+00, -1.60151747e+00, -6.55258938e-01, -1.40920176e+00,\n",
              "       -1.73884735e+00, -8.78260740e-01, -1.73557330e+00, -1.77053531e+00,\n",
              "       -1.47102866e+00, -1.09718515e+00, -3.82547494e-01, -4.16862002e-01,\n",
              "       -1.21649514e+00, -1.29351972e+00, -7.96733008e-01, -8.94118622e-02,\n",
              "       -1.80177385e+00, -7.09394585e-01, -1.32953527e+00, -1.37826177e+00,\n",
              "       -1.08133041e+00, -2.26288766e+00, -1.46707343e+00, -1.02391994e+00,\n",
              "       -3.30307593e+00, -1.51362710e+00, -1.22777835e+00, -1.55153845e+00,\n",
              "       -6.67956484e-01, -1.67367187e+00, -1.70544664e+00, -1.66449816e+00,\n",
              "       -1.33403304e+00, -1.57866516e+00, -1.84255731e+00, -6.81478631e-01,\n",
              "       -2.98904280e-01, -2.09968303e+00, -1.50263992e+00, -7.82637484e-01,\n",
              "       -2.52520948e-01, -4.25789073e-01, -1.72162443e+00, -1.41463284e+00,\n",
              "       -1.59558443e+00, -1.48623425e+00, -1.55900221e+00, -1.84113315e+00,\n",
              "       -6.63496216e-01, -3.69816940e-01, -1.49396699e+00, -1.49885709e+00,\n",
              "       -8.12304283e-01, -3.38851309e-01, -1.05017952e-01, -1.78022597e+00,\n",
              "       -2.96827229e-01, -1.96228914e+00, -2.15358879e+00, -1.32488668e+00,\n",
              "       -1.86509172e+00, -1.92778871e+00, -2.18460938e+00, -1.42893129e-01,\n",
              "       -2.87655715e-01, -1.64570155e+00, -1.46814049e+00, -8.26968309e-01,\n",
              "       -1.55486030e+00, -1.90665760e+00, -2.17626956e+00, -3.27827809e-01,\n",
              "       -1.52982428e+00, -1.00276892e+00, -1.31338353e+00,  1.29246155e-01,\n",
              "       -1.55010726e+00, -1.73061545e+00, -3.04358553e-01, -2.01545169e+00,\n",
              "       -1.30931543e+00, -1.40775357e+00, -1.73996525e+00, -1.69023674e-01,\n",
              "       -1.39386209e+00, -1.72994671e+00, -1.59537246e+00, -1.72046512e+00,\n",
              "       -1.86578649e+00, -8.92853812e-01, -1.74617649e+00, -1.80539251e+00,\n",
              "       -1.77411978e+00, -7.69232964e-01, -1.15968678e-01, -1.81400699e+00,\n",
              "       -1.81486658e+00, -2.12348640e+00, -1.61303087e+00, -5.65480261e-01,\n",
              "       -1.70310318e+00, -2.75069248e-01, -1.70365673e+00, -7.99402957e-01,\n",
              "       -1.49449320e+00, -1.71015003e+00, -1.16989973e+00, -6.39690515e-01,\n",
              "       -2.17141970e-01, -2.01453855e-01, -8.24040857e-02, -1.18965669e+00,\n",
              "       -2.24811868e+00, -1.76744493e+00, -2.43392695e-01, -1.63234261e+00,\n",
              "       -1.45323637e+00, -1.50359738e+00, -1.20125408e+00, -1.37838837e+00,\n",
              "       -1.55274240e+00, -1.16949874e+00, -1.64014631e+00, -1.37138509e+00,\n",
              "       -1.76140426e+00, -9.66986234e-02, -1.37894769e+00, -2.17436551e+00,\n",
              "       -1.35584856e+00, -1.94019164e+00, -1.75172951e+00, -1.28470729e+00,\n",
              "       -1.50968352e+00, -1.54359996e+00, -2.23791248e+00, -1.13392923e+00,\n",
              "        1.22126482e-01, -1.67715184e+00, -6.92287217e-01, -1.37942550e+00,\n",
              "       -1.65099025e+00, -1.43682445e+00, -1.73213088e+00, -1.49247069e+00,\n",
              "       -1.83722399e+00, -2.90539642e-01, -1.69091033e+00, -1.67936725e+00,\n",
              "       -1.41936997e+00, -1.60534024e+00, -3.21059770e-01, -1.50074336e+00,\n",
              "       -1.79629344e+00, -1.31936762e+00, -9.20029538e-02, -2.17377063e+00,\n",
              "       -6.33840182e-01, -1.62142662e+00, -1.79319003e+00, -1.68872154e+00,\n",
              "       -1.90794231e+00, -2.71535930e-01, -1.92692326e+00, -3.35196198e-02,\n",
              "       -7.39999366e-01, -1.51403749e+00, -2.04417328e+00, -1.70669355e+00,\n",
              "       -5.45055537e-01, -1.42448879e+00, -1.65917128e+00, -9.10430878e-01,\n",
              "       -1.56662868e+00, -2.43649509e-01, -1.45898514e+00, -4.97955203e-01,\n",
              "        5.10364743e-02, -1.82586398e+00, -1.74725668e+00, -1.74484655e+00,\n",
              "       -1.58761535e+00, -1.53411298e+00, -1.67426284e+00, -1.76739799e+00,\n",
              "       -2.04577841e+00, -1.61059234e+00, -8.12282797e-01, -1.44720782e+00,\n",
              "       -7.38131679e-01, -1.79007232e+00, -2.01820630e+00, -2.34761990e+00,\n",
              "        3.42513564e-02, -2.05432200e+00, -1.94155066e+00, -8.31424648e-01,\n",
              "       -4.70822807e-01, -7.70311877e-01, -1.82752541e+00, -1.58414460e+00,\n",
              "       -2.42543128e-01, -1.50827873e+00, -1.83005225e+00, -2.03802442e+00,\n",
              "       -5.87382448e-01, -1.37361049e+00, -1.73855661e+00, -6.83249098e-01,\n",
              "       -8.45375612e-01, -1.31164759e+00, -3.42172433e-01, -9.74321314e-01,\n",
              "       -1.44182287e+00, -2.01536777e+00, -1.53894849e+00, -1.64923521e+00,\n",
              "       -4.61381483e-02, -1.69535680e+00, -1.61577911e+00, -1.39009608e+00,\n",
              "       -2.11671881e-01, -7.93044539e-01, -1.71678252e+00, -1.59914353e+00,\n",
              "       -2.04245207e+00, -3.11982039e-01, -9.87362743e-01, -1.41834389e+00,\n",
              "       -2.33874363e+00, -1.33728863e+00, -1.24205165e+00, -1.89810054e+00,\n",
              "       -1.82796627e+00, -4.24219481e+00, -2.18348785e+00, -1.42133754e+00,\n",
              "       -1.73073982e+00, -3.83034130e-01, -7.60075230e-01, -1.80868053e+00,\n",
              "       -1.88763131e+00, -1.43897600e+00, -1.33235167e+00, -1.95061972e+00,\n",
              "       -5.63615938e-01, -3.18646629e-01, -7.65667804e-01, -1.53577074e+00,\n",
              "       -1.02227469e+00, -9.11334448e-01, -5.14856303e-01, -1.88624256e+00,\n",
              "       -1.28808272e+00, -1.51236132e+00, -7.93793469e-01, -1.39633248e+00,\n",
              "       -1.56693841e+00, -1.71527751e+00, -5.30340986e-01, -1.84533132e+00,\n",
              "       -4.35482222e-01, -1.57823259e+00, -1.56249840e+00, -1.40038068e+00,\n",
              "       -1.50585546e+00, -1.74624139e+00, -1.71934883e+00, -1.66579961e+00,\n",
              "       -3.45422903e-01, -1.71476070e+00, -1.35463282e+00, -7.30228726e-01,\n",
              "       -1.55017500e+00, -1.21010447e+00, -4.62298280e-01, -2.63517683e-01,\n",
              "       -1.34658066e+00, -1.31570617e+00, -1.77370793e+00, -1.84399726e+00,\n",
              "       -1.69159777e+00, -2.14685915e+00, -1.47166104e+00, -1.64571544e+00,\n",
              "       -1.60665329e+00, -1.61736890e+00, -1.11303884e+00, -9.51059444e-01,\n",
              "       -5.11793440e-01, -2.05730601e+00, -1.54134547e+00, -1.68174253e+00,\n",
              "       -9.17048225e-01,  1.02331067e-01, -2.71064420e-01, -1.30750009e+00,\n",
              "       -1.40192726e+00, -1.29871009e+00, -1.74641382e+00, -1.68634210e+00,\n",
              "       -1.76562165e+00, -1.57320547e+00, -8.77892413e-01, -2.14331364e+00,\n",
              "       -1.57542677e+00, -1.66922526e+00, -2.30845014e+00, -1.43677848e+00,\n",
              "       -5.82726228e-01, -1.63310059e+00, -3.06707401e-01, -2.74659773e-01,\n",
              "       -1.82207757e+00, -1.42892641e+00, -1.10809491e+00, -1.34663850e+00,\n",
              "       -1.70820912e+00, -1.05005922e+00, -1.68863762e+00, -1.87142172e+00,\n",
              "       -8.41559735e-01, -9.03477305e-01, -1.74194905e+00, -8.58214393e-02,\n",
              "       -2.05254730e+00, -1.16690718e+00, -2.03097866e+00, -1.95266373e+00,\n",
              "       -1.85329790e+00, -1.95326623e-01, -1.49134794e+00, -2.02911402e+00,\n",
              "       -2.42969935e+00, -1.44447290e+00, -1.40279628e+00,  6.78162665e-02])"
            ]
          },
          "metadata": {},
          "execution_count": 70
        }
      ]
    },
    {
      "cell_type": "markdown",
      "source": [
        "###9.2.1. 가우시안 혼합을 사용한 이상치 탐지"
      ],
      "metadata": {
        "id": "Ff_K8TO8OWXp"
      }
    },
    {
      "cell_type": "markdown",
      "source": [
        "이상치 탐지 : 보통과 많이 다른 샘플을 감지하는 작업"
      ],
      "metadata": {
        "id": "0v6JTtSDOZZh"
      }
    },
    {
      "cell_type": "code",
      "source": [
        "#4%를 밀도 임곗값으로 사용하여 이상치 구분\n",
        "densities=gm.score_samples(X)\n",
        "density_threshold=np.percentile(densities, 4)\n",
        "anomalies=X[densities < density_threshold]"
      ],
      "metadata": {
        "id": "BcPVC0hvyTCW"
      },
      "execution_count": null,
      "outputs": []
    },
    {
      "cell_type": "markdown",
      "source": [
        "###9.2.2. 클러스터 개수 선택하기"
      ],
      "metadata": {
        "id": "zLWZraLWOmON"
      }
    },
    {
      "cell_type": "code",
      "source": [
        "#BIC 계산\n",
        "gm.bic(X)"
      ],
      "metadata": {
        "colab": {
          "base_uri": "https://localhost:8080/"
        },
        "id": "E7aaSpsqyTAY",
        "outputId": "f14662ca-2a48-44ae-c179-78859f008b86"
      },
      "execution_count": null,
      "outputs": [
        {
          "output_type": "execute_result",
          "data": {
            "text/plain": [
              "2787.2679309070677"
            ]
          },
          "metadata": {},
          "execution_count": 72
        }
      ]
    },
    {
      "cell_type": "code",
      "source": [
        "#AIC 계산\n",
        "gm.aic(X)"
      ],
      "metadata": {
        "colab": {
          "base_uri": "https://localhost:8080/"
        },
        "id": "Y8lcSCfIyS-h",
        "outputId": "2648991a-c0f0-433a-df7c-aa1e1e09ff21"
      },
      "execution_count": null,
      "outputs": [
        {
          "output_type": "execute_result",
          "data": {
            "text/plain": [
              "2703.8360911643713"
            ]
          },
          "metadata": {},
          "execution_count": 73
        }
      ]
    },
    {
      "cell_type": "markdown",
      "source": [
        "###9.2.3. 베이즈 가우시안 혼합 모델"
      ],
      "metadata": {
        "id": "P0xur8b5O6qS"
      }
    },
    {
      "cell_type": "code",
      "source": [
        "#클러스터 개수를 10으로 설정하고 결과 확인\n",
        "from sklearn.mixture import BayesianGaussianMixture\n",
        "bgm=BayesianGaussianMixture(n_components=10, n_init=10)\n",
        "bgm.fit(X)\n",
        "np.round(bgm.weights_, 2)"
      ],
      "metadata": {
        "colab": {
          "base_uri": "https://localhost:8080/"
        },
        "id": "NU5g5QgsyS8s",
        "outputId": "d6cdbde9-0c3f-49bd-d5dd-c39f8eea5401"
      },
      "execution_count": null,
      "outputs": [
        {
          "output_type": "execute_result",
          "data": {
            "text/plain": [
              "array([0.16, 0.19, 0.1 , 0.13, 0.13, 0.15, 0.  , 0.  , 0.13, 0.  ])"
            ]
          },
          "metadata": {},
          "execution_count": 74
        }
      ]
    },
    {
      "cell_type": "markdown",
      "source": [
        "###9.2.4. 이상치 탐지와 특이치 탐지를 위한 다른 알고리즘"
      ],
      "metadata": {
        "id": "JzeYoBaYPkDN"
      }
    }
  ]
}